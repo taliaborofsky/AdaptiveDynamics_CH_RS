{
 "cells": [
  {
   "cell_type": "code",
   "execution_count": 1,
   "id": "05263b4e",
   "metadata": {},
   "outputs": [],
   "source": [
    "import numpy as np\n",
    "import matplotlib.pyplot as plt\n",
    "from scipy.integrate import odeint"
   ]
  },
  {
   "cell_type": "code",
   "execution_count": 2,
   "id": "47bdf461",
   "metadata": {},
   "outputs": [],
   "source": [
    "# Population Dynamics functions\n",
    "\n",
    "import numpy as np\n",
    "import matplotlib.pyplot as plt\n",
    "from scipy.integrate import odeint\n",
    "\n",
    "'''\n",
    "rungekutta method\n",
    "for solving diffeq system\n",
    "\n",
    "I don't think this should work\n",
    "'''\n",
    "\n",
    "def rungeKutta(func, pos,Δt, params):\n",
    "    #pos = [q,N,n,x]\n",
    "    pos = np.array(pos)  \n",
    "    # rest of rungekutta\n",
    "    k1 = func(pos, params)\n",
    "    k2 = func(pos + (Δt/2)*k1, params )\n",
    "    k3 = func(pos + (Δt/2)*k2, params )\n",
    "    k4 = func(pos + Δt * k3, params )\n",
    "    pos_final = pos + (Δt/6) * (k1 + 2*k2 + 2*k3 + k4)\n",
    "    return pos_final\n",
    "'''\n",
    "Model functions\n",
    "calles the differential equations\n",
    "pos = m,M,x,p\n",
    "params = a dictionary of parameters non-dimensionalized\n",
    "    dict(η1, η2, κ1, κ2, preygrowth,\n",
    "    A_0, a_0,  θ1, θ2, fun_response_type,\n",
    "    c_1, c_2, \n",
    "    v, r, γ, δ, joining_rule, x_timescale) \n",
    "    where prey growth == \"linear\" or \"logistic\"\n",
    "    fun_response_type = 1 (linear) or 2 (Holling's type II)\n",
    "    joining_rule = \"free\" or \"groups_decide\"\n",
    "    x_timescale = \"fast\" or \"slow\"\n",
    "    δ is death-rate, which is from the full parameter set. need it to calculate p = δq, \n",
    "        the predator population size, which is the upper limit on group size\n",
    "'''\n",
    "def model(pos, x_timescale, params):\n",
    "    dqdτ = fun_dpdt(*pos,**params)\n",
    "    dNdτ = fun_dMdt(*pos,**params)\n",
    "    dndτ = fun_dmdt(*pos,**params)\n",
    "    if x_timescale == \"slow\":\n",
    "        dxdτ = fun_dxdt(*pos,**params)\n",
    "    elif x_timescale == \"fast\":\n",
    "        dxdτ = 0\n",
    "    return np.array([dqdτ, dndτ, dNdτ, dxdτ])\n",
    "    \n",
    "'''\n",
    "fun_dNdτ: dynamics of big prey, non-dimensionalized\n",
    "'''\n",
    "def fun_dNdτ(q,N,n,x,**params):\n",
    "    \n",
    "    def fun_growth_big(N,η1,κ1, preygrowth, **params):\n",
    "        if preygrowth == \"logistic\":\n",
    "            return η1*N*(1 - N/κ1)\n",
    "        elif preygrowth == \"linear\":\n",
    "            return η1*N\n",
    "        \n",
    "    return fun_growth_big(n,**params) - q*fun_response_big(N,n,x,**params)/x\n",
    "'''\n",
    "fun_dndτ: dynamics of small prey, non-dimensionalized\n",
    "'''\n",
    "def fun_dndτ(q,N,n,x,**params):\n",
    "    \n",
    "    def fun_growth_small(n,η2,κ2, preygrowth, **params):\n",
    "        if preygrowth == \"logistic\":\n",
    "            return η2*n*(1 - n/κ2)\n",
    "        elif preygrowth == \"linear\":\n",
    "            return η2*n\n",
    "        \n",
    "    return fun_growth_small(n,**params) - q*fun_response_small(N,n,x,**params)/x\n",
    "\n",
    "\n",
    "\n",
    "'''\n",
    "fun_dpdt: dynamics of predator population, non-dimensionalized\n",
    "requires parameters c1, c2 (benefit conversions of big prey and small prey) and, \n",
    "    for the functional responses, a_0, A_0, θ1, θ2, and fun_response_type\n",
    "'''\n",
    "def fun_dqdτ(q, N, n, x, c1, c2, **params):\n",
    "    \n",
    "    return q*((c1/x)*fun_response_big(N,n,x,**params)\\\n",
    "              + (c2/x)*fun_response_small(N,n,x,**params) - 1)\n",
    "\n",
    "\n",
    "'''\n",
    "fun_dxdt: dynamics of cooperation\n",
    "\n",
    "this works for $x \\geq 2$\n",
    "\n",
    "\n",
    "parameter v is the rate of evolution\n",
    "joining_rule = \"free\" (can freely leave or join) or \"group_decide\" (subordinates allow an individual \n",
    "to join if it increases subordinates' fitness)\n",
    "'''\n",
    "def fun_dxdt(q,N,n,x,v, joining_rule, **params):\n",
    "    if joining_rule == \"free\":\n",
    "        return v*(fitness_group_sub(n, N, x,**params) \\\n",
    "                  - per_capita_fitness(n,N,1,**params)) \n",
    "    elif joining_rule == \"group_decides\":\n",
    "        return v*diff_fitness_group(n,N,x,**params)\n",
    "    return 1\n",
    "    \n",
    "                \n",
    "'''\n",
    "Iterate from x= 1 until the equilibrium group size\n",
    "Need predator population size p for this, where q = p/δ\n",
    "'''                \n",
    "def fun_iterate_x(q,N,n,joining_rule,δ, **params):\n",
    "    \n",
    "    W_of_1 = per_capita_fitness(n, N, x, **params)\n",
    "    p = q*δ # the upper limit on group size\n",
    "    \n",
    "    # no groups if no predators, only group size is 1 if 1 predator\n",
    "    if p == 0:\n",
    "        return 0\n",
    "    elif p == 1:\n",
    "        return 1\n",
    "    \n",
    "    x = 1\n",
    "    \n",
    "    # growth of groups\n",
    "    if joining_rule == \"free\":\n",
    "        for i in range(2,p):\n",
    "            W_of_i = fitness_group_sub(n,N,i,**params)\n",
    "            if W_of_i > W_of_1:\n",
    "                x = i\n",
    "            else:\n",
    "                return i\n",
    "    elif joining_rule == \"group_decides\":\n",
    "        W_of_x = W_of_1\n",
    "        for i in range(2,p):\n",
    "            W_of_i = fitness_group_sub(n,N,i,**params)\n",
    "            if W_of_i > W_of_x:\n",
    "                x = i\n",
    "                W_of_x = W_of_i\n",
    "            else:\n",
    "                return x\n",
    "    # if you get out of the previous for loops without \n",
    "    # reaching a point where W_of_i < W_of_x or W_of_1, then x^* = p\n",
    "    \n",
    "    return p\n",
    "    "
   ]
  },
  {
   "cell_type": "code",
   "execution_count": 8,
   "id": "dfb9152f",
   "metadata": {},
   "outputs": [],
   "source": [
    "# Equilibrium Functions\n",
    "\n",
    "def fun_get_x_equilibrium(n,N,x,**params):\n",
    "    return 1"
   ]
  },
  {
   "cell_type": "code",
   "execution_count": 7,
   "id": "c586d6aa",
   "metadata": {},
   "outputs": [],
   "source": [
    "# Population Dynamics helper functions\n",
    "\n",
    "'''\n",
    "predator functional response to big prey\n",
    "using non-dimensionalized parameters\n",
    "fun_response_type indicates whether type I or type II functional response\n",
    "'''\n",
    "def fun_response_big(n,N,x,A_0, a_0,θ1, θ2, fun_response_type, **params):\n",
    "    a = a_0*x**θ2\n",
    "    A = A_0*x**θ1\n",
    "    if fun_response_type == 1:\n",
    "        return A*N\n",
    "    elif fun_response_type == 2:\n",
    "        return A*N / (1 + a*n + A*N)\n",
    "    \n",
    "'''\n",
    "predator functional response to small prey\n",
    "using non-dimensionalized parameters\n",
    "fun_response_type indicates whether type I or type II functional response\n",
    "'''\n",
    "def fun_response_small(n, N, x, A_0, a_0, θ1, θ2, fun_response_type, **params):\n",
    "    a = a_0*x**θ2\n",
    "    A = A_0*x**θ1\n",
    "    if fun_response_type == 1:\n",
    "        return a*n\n",
    "    elif fun_response_type == 2:\n",
    "        return a*n / (1 + a*n + A*N)\n",
    "\n",
    "    \n",
    "'''\n",
    "The non-dimensionalized per-capita-fitness of a predator\n",
    "this is equal to δ*\\bar{w}\n",
    "'''\n",
    "def per_capita_fitness(n, N, x, c1, c2, **params):\n",
    "    f = fun_response_small(n,N,x,**params)\n",
    "    F = fun_response_big(n,N,x,**params)\n",
    "    return (c1/x)*F + (c2/x)*F\n",
    "\n",
    "'''\n",
    "The non-dimensionalized fitness of a subordinate predator in a group\n",
    "'''\n",
    "def fitness_group_sub(n, N, x, r, γ,**params):\n",
    "    return per_capita_fitness(n, N, x, **params)*((1-γ)*(1-r) + r*x)\n",
    "\n",
    "'''\n",
    "The non-dimensionalized derivative of the fitness of a subordinate predator in a group \n",
    "wrt group size, x\n",
    "'''\n",
    "def diff_fitness_group(n, N, x, A_0, a_0, θ1, θ2, \n",
    "                       fun_response_type, c1, c2, r, γ, **params):\n",
    "    R = (1-r)*(1-γ)\n",
    "    α1 = N*A_0*x**θ1\n",
    "    α2 = n*a_0*x**θ2\n",
    "    ω1 = c1*α1\n",
    "    ω2 = c2*α2\n",
    "    \n",
    "    if fun_response_type ==2:\n",
    "        G_of_x = (ω1*x**θ1 + ω2*x**θ2)(rx*(1+α1*x**θ1 + α2*x**θ2) - \\\n",
    "                                       (R + r*x)*(α1*θ1*x**θ1 + α2*θ2*x**θ2)) \\\n",
    "        + (R+r*x)*(1 + α1*x**θ1 + α2*x**θ2)*(θ1*ω1*x**θ1 + θ2*ω2*x**θ2 \\\n",
    "                                             - ω1*x**θ1 - ω2*x**θ2)\n",
    "        denom = (1+α1*x**θ1 + α2*x**θ2)*x**2\n",
    "        return G_of_x/denom\n",
    "        \n",
    "    if fun_response_type ==1:\n",
    "        print(\"not calculated yet\")\n",
    "        return 1\n",
    "    return 1"
   ]
  },
  {
   "cell_type": "code",
   "execution_count": 7,
   "id": "197e28ae",
   "metadata": {},
   "outputs": [
    {
     "data": {
      "text/plain": [
       "7.1580369891750095"
      ]
     },
     "execution_count": 7,
     "metadata": {},
     "output_type": "execute_result"
    }
   ],
   "source": [
    "params = dict(B = 1, b = 0.1, δ = 0.5, \n",
    "              A0 = 0.1, a0 = 1, Th = 2, th = 1, θ1 = -0.2, θ2 = 0.2, \n",
    "              v = 2, r = 0, γ = 0, ϵ=0.01, g0 = 2,\n",
    "             preygrowth = \"linear\",k = 10, G0 = 1.5, K = 8,\n",
    "             funresponsetype = 1)\n",
    "m = 10; M = 8; p = 4; x = 1;\n",
    "fun_dpdt(m,M,x,p,**params)\n",
    "#fun_dxdt(m,M,x,p,**params)"
   ]
  },
  {
   "cell_type": "code",
   "execution_count": 8,
   "id": "c6564e85",
   "metadata": {},
   "outputs": [
    {
     "data": {
      "text/plain": [
       "{'B': 1,\n",
       " 'b': 0.1,\n",
       " 'δ': 0.5,\n",
       " 'A0': 0.1,\n",
       " 'a0': 1,\n",
       " 'Th': 2,\n",
       " 'th': 1,\n",
       " 'θ1': -0.2,\n",
       " 'θ2': 0.2,\n",
       " 'v': 2,\n",
       " 'r': 0,\n",
       " 'γ': 0,\n",
       " 'ε': 0.01,\n",
       " 'g0': 2,\n",
       " 'preygrowth': 'linear',\n",
       " 'k': 10,\n",
       " 'G0': 1.5,\n",
       " 'K': 8,\n",
       " 'funresponsetype': 1}"
      ]
     },
     "execution_count": 8,
     "metadata": {},
     "output_type": "execute_result"
    }
   ],
   "source": [
    "params"
   ]
  },
  {
   "cell_type": "code",
   "execution_count": 3,
   "id": "8a3c57c9",
   "metadata": {},
   "outputs": [],
   "source": [
    "r = 2; R = 1\n",
    "q = 1; Q = 1\n",
    "D = 1;\n",
    "pop_params= [r,R,q,Q,D]\n",
    "\n",
    "λM = 0.05; λm = 1\n",
    "β = 1\n",
    "w1 = -2; w2 = 0\n",
    "B = 1\n",
    "fun_response_params = [1, λM, β, w1, λm, w2, 1, 1]\n",
    "M = 50\n",
    "x = 0.5"
   ]
  },
  {
   "cell_type": "markdown",
   "id": "fbac6b6d",
   "metadata": {},
   "source": [
    "Type I functional responses"
   ]
  },
  {
   "cell_type": "code",
   "execution_count": 5,
   "id": "a6a991f8",
   "metadata": {},
   "outputs": [
    {
     "name": "stdout",
     "output_type": "stream",
     "text": [
      "Object `attackrate_big_coop` not found.\n"
     ]
    },
    {
     "data": {
      "text/plain": [
       "-3"
      ]
     },
     "execution_count": 5,
     "metadata": {},
     "output_type": "execute_result"
    }
   ],
   "source": []
  },
  {
   "cell_type": "code",
   "execution_count": 11,
   "id": "13985407",
   "metadata": {},
   "outputs": [
    {
     "data": {
      "image/png": "[encoded data removed]",
      "text/plain": [
       "<Figure size 432x432 with 1 Axes>"
      ]
     },
     "metadata": {
      "needs_background": "light"
     },
     "output_type": "display_data"
    }
   ],
   "source": [
    "β = 1\n",
    "w1vals = [-0.5, -1, -1.5, -2]\n",
    "\n",
    "\n",
    "plim = 10\n",
    "p = np.arange(0,plim,0.2)\n",
    "plt.figure(figsize=(6,6))\n",
    "colors = ['purple', 'c','g', 'k']\n",
    "for i in range(0, len(w1vals)):\n",
    "    w1 = w1vals[i]\n",
    "    c = colors[i]\n",
    "    fun_response_params = [1,λM, β, w1, λm, w2,0,0]\n",
    "    #attackrate = attackrate_big_coop(x, p, fun_response_params)\n",
    "    #y = typeI_fun_response(M, attackrate)\n",
    "    y = fun_response_bigprey_cooperate(0,M,x,p,fun_response_params)\n",
    "    plt.plot(p,y,color = c, label =r'$H_C; w_1 = $%.1f'%w1)\n",
    "\n",
    "plt.axhline(functional_response(M, λM,1),linestyle='--', xmin = 0, xmax = plim, label = r'$H_S$')\n",
    "plt.xlim([0,plim])\n",
    "plt.ylim([0,15])\n",
    "\n",
    "plt.xlabel('p')\n",
    "plt.legend(fontsize = 14)\n",
    "plt.gcf().savefig('funresponsesI.png')"
   ]
  },
  {
   "cell_type": "markdown",
   "id": "473e9c3a",
   "metadata": {},
   "source": [
    "# Type II functional Responses"
   ]
  },
  {
   "cell_type": "code",
   "execution_count": 12,
   "id": "553dee76",
   "metadata": {},
   "outputs": [
    {
     "data": {
      "image/png": "[encoded data removed]",
      "text/plain": [
       "<Figure size 432x432 with 1 Axes>"
      ]
     },
     "metadata": {
      "needs_background": "light"
     },
     "output_type": "display_data"
    }
   ],
   "source": [
    "β = 1\n",
    "w1vals = [-0.5, -1, -1.5, -2]\n",
    "\n",
    "\n",
    "plim = 20\n",
    "p = np.arange(0,plim,0.2)\n",
    "plt.figure(figsize=(6,6))\n",
    "colors = ['purple', 'c','g', 'k']\n",
    "handlingtime = 1\n",
    "for i in range(0, len(w1vals)):\n",
    "    w1 = w1vals[i]\n",
    "    c = colors[i]\n",
    "    fun_response_params = [2, λM, β, w1, λm, w2, 0, 0]\n",
    "    #attackrate = attackrate_big_coop(x, p, fun_response_params)\n",
    "    y = y = fun_response_bigprey_cooperate(0,M,x,p,fun_response_params) #typeII_fun_response(M, attackrate, handlingtime)\n",
    "    plt.plot(p,y,color = c, label =r'$H_C; w_1 = $%.1f'%w1)\n",
    "\n",
    "plt.axhline(functional_response(M, λM,2),linestyle='--', xmin = 0, xmax = plim, label = r'$H_S$')\n",
    "plt.xlim([0,plim])\n",
    "#plt.ylim([0,1.5])\n",
    "\n",
    "plt.xlabel('p')\n",
    "plt.legend(fontsize = 14)\n",
    "plt.gcf().savefig('funresponsesII.png')"
   ]
  },
  {
   "cell_type": "code",
   "execution_count": 54,
   "id": "322616fb",
   "metadata": {},
   "outputs": [],
   "source": [
    "r = 5; R = 4.5 # growth rate of small prey is double\n",
    "q = 0.1; Q = 0.1 # predation depletion rates of preys\n",
    "D = 4; # predator death rates\n",
    "pop_params= [r,R,q,Q,D]\n",
    "\n",
    "λM = 0.05; λm = 0.5\n",
    "b = 0.1\n",
    "B = 0.5\n",
    "\n",
    "β = 1\n",
    "w1 = -0.5; w2 = 2\n",
    "fun_response_params = [1, λM, β, w1, λm, w2, B, b]\n",
    "\n",
    "\n",
    "# initial point\n",
    "m0 = 100\n",
    "M0 = 50\n",
    "x0 = 0.2\n",
    "p0 = 20"
   ]
  },
  {
   "cell_type": "code",
   "execution_count": 55,
   "id": "8b429789",
   "metadata": {},
   "outputs": [
    {
     "data": {
      "text/plain": [
       "5.5990169943749475"
      ]
     },
     "execution_count": 55,
     "metadata": {},
     "output_type": "execute_result"
    }
   ],
   "source": [
    "average_fitness_predators(m0,M0,x0,p0,fun_response_params)"
   ]
  },
  {
   "cell_type": "code",
   "execution_count": 56,
   "id": "99d60300",
   "metadata": {},
   "outputs": [],
   "source": [
    "pos = [m0,M0,x0,p0]\n",
    "Δt = 0.01\n",
    "args = [pop_params,fun_response_params]\n"
   ]
  },
  {
   "cell_type": "code",
   "execution_count": 57,
   "id": "751c6306",
   "metadata": {},
   "outputs": [],
   "source": [
    "for t in range(0,100):\n",
    "    pos = rungeKutta(model, pos, Δt, args)"
   ]
  },
  {
   "cell_type": "code",
   "execution_count": 58,
   "id": "004af215",
   "metadata": {},
   "outputs": [
    {
     "data": {
      "text/plain": [
       "array([2.40146124e+00, 5.29484342e-12, 6.92409938e-01, 1.96074720e+02])"
      ]
     },
     "execution_count": 58,
     "metadata": {},
     "output_type": "execute_result"
    }
   ],
   "source": [
    "pos"
   ]
  },
  {
   "cell_type": "code",
   "execution_count": 59,
   "id": "47678559",
   "metadata": {},
   "outputs": [
    {
     "ename": "TypeError",
     "evalue": "model() takes 3 positional arguments but 4 were given",
     "output_type": "error",
     "traceback": [
      "\u001b[0;31m---------------------------------------------------------------------------\u001b[0m",
      "\u001b[0;31mTypeError\u001b[0m                                 Traceback (most recent call last)",
      "Input \u001b[0;32mIn [59]\u001b[0m, in \u001b[0;36m<cell line: 2>\u001b[0;34m()\u001b[0m\n\u001b[1;32m      1\u001b[0m t \u001b[38;5;241m=\u001b[39m np\u001b[38;5;241m.\u001b[39marange(\u001b[38;5;241m0\u001b[39m,\u001b[38;5;241m2\u001b[39m,\u001b[38;5;241m1\u001b[39m)\n\u001b[0;32m----> 2\u001b[0m out \u001b[38;5;241m=\u001b[39m \u001b[43modeint\u001b[49m\u001b[43m(\u001b[49m\u001b[43mmodel\u001b[49m\u001b[43m,\u001b[49m\u001b[43m[\u001b[49m\u001b[43mm0\u001b[49m\u001b[43m,\u001b[49m\u001b[43mM0\u001b[49m\u001b[43m,\u001b[49m\u001b[43mx0\u001b[49m\u001b[43m,\u001b[49m\u001b[43mp0\u001b[49m\u001b[43m]\u001b[49m\u001b[43m,\u001b[49m\u001b[43mt\u001b[49m\u001b[43m,\u001b[49m\u001b[43margs\u001b[49m\u001b[38;5;241;43m=\u001b[39;49m\u001b[43m(\u001b[49m\u001b[43mpop_params\u001b[49m\u001b[43m,\u001b[49m\u001b[43m \u001b[49m\u001b[43mfun_response_params\u001b[49m\u001b[43m)\u001b[49m\u001b[43m)\u001b[49m\n",
      "File \u001b[0;32m/opt/homebrew/lib/python3.9/site-packages/scipy/integrate/_odepack_py.py:241\u001b[0m, in \u001b[0;36modeint\u001b[0;34m(func, y0, t, args, Dfun, col_deriv, full_output, ml, mu, rtol, atol, tcrit, h0, hmax, hmin, ixpr, mxstep, mxhnil, mxordn, mxords, printmessg, tfirst)\u001b[0m\n\u001b[1;32m    239\u001b[0m t \u001b[38;5;241m=\u001b[39m copy(t)\n\u001b[1;32m    240\u001b[0m y0 \u001b[38;5;241m=\u001b[39m copy(y0)\n\u001b[0;32m--> 241\u001b[0m output \u001b[38;5;241m=\u001b[39m \u001b[43m_odepack\u001b[49m\u001b[38;5;241;43m.\u001b[39;49m\u001b[43modeint\u001b[49m\u001b[43m(\u001b[49m\u001b[43mfunc\u001b[49m\u001b[43m,\u001b[49m\u001b[43m \u001b[49m\u001b[43my0\u001b[49m\u001b[43m,\u001b[49m\u001b[43m \u001b[49m\u001b[43mt\u001b[49m\u001b[43m,\u001b[49m\u001b[43m \u001b[49m\u001b[43margs\u001b[49m\u001b[43m,\u001b[49m\u001b[43m \u001b[49m\u001b[43mDfun\u001b[49m\u001b[43m,\u001b[49m\u001b[43m \u001b[49m\u001b[43mcol_deriv\u001b[49m\u001b[43m,\u001b[49m\u001b[43m \u001b[49m\u001b[43mml\u001b[49m\u001b[43m,\u001b[49m\u001b[43m \u001b[49m\u001b[43mmu\u001b[49m\u001b[43m,\u001b[49m\n\u001b[1;32m    242\u001b[0m \u001b[43m                         \u001b[49m\u001b[43mfull_output\u001b[49m\u001b[43m,\u001b[49m\u001b[43m \u001b[49m\u001b[43mrtol\u001b[49m\u001b[43m,\u001b[49m\u001b[43m \u001b[49m\u001b[43matol\u001b[49m\u001b[43m,\u001b[49m\u001b[43m \u001b[49m\u001b[43mtcrit\u001b[49m\u001b[43m,\u001b[49m\u001b[43m \u001b[49m\u001b[43mh0\u001b[49m\u001b[43m,\u001b[49m\u001b[43m \u001b[49m\u001b[43mhmax\u001b[49m\u001b[43m,\u001b[49m\u001b[43m \u001b[49m\u001b[43mhmin\u001b[49m\u001b[43m,\u001b[49m\n\u001b[1;32m    243\u001b[0m \u001b[43m                         \u001b[49m\u001b[43mixpr\u001b[49m\u001b[43m,\u001b[49m\u001b[43m \u001b[49m\u001b[43mmxstep\u001b[49m\u001b[43m,\u001b[49m\u001b[43m \u001b[49m\u001b[43mmxhnil\u001b[49m\u001b[43m,\u001b[49m\u001b[43m \u001b[49m\u001b[43mmxordn\u001b[49m\u001b[43m,\u001b[49m\u001b[43m \u001b[49m\u001b[43mmxords\u001b[49m\u001b[43m,\u001b[49m\n\u001b[1;32m    244\u001b[0m \u001b[43m                         \u001b[49m\u001b[38;5;28;43mint\u001b[39;49m\u001b[43m(\u001b[49m\u001b[38;5;28;43mbool\u001b[39;49m\u001b[43m(\u001b[49m\u001b[43mtfirst\u001b[49m\u001b[43m)\u001b[49m\u001b[43m)\u001b[49m\u001b[43m)\u001b[49m\n\u001b[1;32m    245\u001b[0m \u001b[38;5;28;01mif\u001b[39;00m output[\u001b[38;5;241m-\u001b[39m\u001b[38;5;241m1\u001b[39m] \u001b[38;5;241m<\u001b[39m \u001b[38;5;241m0\u001b[39m:\n\u001b[1;32m    246\u001b[0m     warning_msg \u001b[38;5;241m=\u001b[39m _msgs[output[\u001b[38;5;241m-\u001b[39m\u001b[38;5;241m1\u001b[39m]] \u001b[38;5;241m+\u001b[39m \u001b[38;5;124m\"\u001b[39m\u001b[38;5;124m Run with full_output = 1 to get quantitative information.\u001b[39m\u001b[38;5;124m\"\u001b[39m\n",
      "\u001b[0;31mTypeError\u001b[0m: model() takes 3 positional arguments but 4 were given"
     ]
    }
   ],
   "source": [
    "t = np.arange(0,2,1)\n",
    "out = odeint(model,[m0,M0,x0,p0],t,args=(pop_params, fun_response_params))"
   ]
  },
  {
   "cell_type": "code",
   "execution_count": 222,
   "id": "ef296ec2",
   "metadata": {},
   "outputs": [
    {
     "data": {
      "text/plain": [
       "array([[ 1.00000000e+02,  5.00000000e+01,  2.00000000e-01,\n",
       "         2.00000000e+01],\n",
       "       [ 1.45509039e-09, -1.39572084e-11,  9.00170448e-01,\n",
       "         4.82265955e+02]])"
      ]
     },
     "execution_count": 222,
     "metadata": {},
     "output_type": "execute_result"
    }
   ],
   "source": [
    "out"
   ]
  },
  {
   "cell_type": "code",
   "execution_count": 200,
   "id": "0c73a2a5",
   "metadata": {},
   "outputs": [
    {
     "data": {
      "text/plain": [
       "142.3606797749979"
      ]
     },
     "execution_count": 200,
     "metadata": {},
     "output_type": "execute_result"
    }
   ],
   "source": [
    "fun_dpdt(m0,M0,x0,p0,pop_params, fun_response_params)"
   ]
  },
  {
   "cell_type": "code",
   "execution_count": 207,
   "id": "feccbce1",
   "metadata": {},
   "outputs": [
    {
     "data": {
      "text/plain": [
       "array([ 1.45509039e-09, -1.39572084e-11,  9.00170448e-01,  4.82265955e+02])"
      ]
     },
     "execution_count": 207,
     "metadata": {},
     "output_type": "execute_result"
    }
   ],
   "source": [
    "out[0][1]"
   ]
  },
  {
   "cell_type": "code",
   "execution_count": 196,
   "id": "baca3ecf",
   "metadata": {},
   "outputs": [],
   "source": [
    "outarray = out[0]"
   ]
  },
  {
   "cell_type": "code",
   "execution_count": 195,
   "id": "9062b906",
   "metadata": {},
   "outputs": [
    {
     "data": {
      "text/plain": [
       "142.4"
      ]
     },
     "execution_count": 195,
     "metadata": {},
     "output_type": "execute_result"
    }
   ],
   "source": [
    "7.12*20"
   ]
  },
  {
   "cell_type": "code",
   "execution_count": 197,
   "id": "9e2dde3c",
   "metadata": {},
   "outputs": [],
   "source": [
    "m,M,x,p = outarray.T"
   ]
  },
  {
   "cell_type": "code",
   "execution_count": 198,
   "id": "2a526110",
   "metadata": {},
   "outputs": [
    {
     "data": {
      "text/plain": [
       "array([ 2.00000000e+01,  4.82265955e+02,  1.77415733e+02,  6.52675988e+01,\n",
       "        2.40106076e+01,  8.83300902e+00,  3.24948245e+00,  1.19541701e+00,\n",
       "        4.39728261e-01,  1.59579459e-01,  7.87341921e-03, -5.75644177e-10,\n",
       "        3.53716091e-12, -1.21054461e-11, -5.78777380e-11, -3.22142196e-13,\n",
       "        1.30933421e-25,             nan,             nan,             nan])"
      ]
     },
     "execution_count": 198,
     "metadata": {},
     "output_type": "execute_result"
    }
   ],
   "source": [
    "p"
   ]
  },
  {
   "cell_type": "code",
   "execution_count": 184,
   "id": "01852536",
   "metadata": {},
   "outputs": [
    {
     "data": {
      "text/plain": [
       "array([ 2.00000000e+01,  4.82265955e+02,  1.77415733e+02,  6.52675988e+01,\n",
       "        2.40106076e+01,  8.83300902e+00,  3.24948245e+00,  1.19541701e+00,\n",
       "        4.39728261e-01,  1.59579459e-01,  7.87341921e-03, -5.75644177e-10,\n",
       "        3.53716091e-12, -1.21054461e-11, -5.78777380e-11, -3.22142196e-13,\n",
       "        1.30933421e-25,             nan,             nan,             nan])"
      ]
     },
     "execution_count": 184,
     "metadata": {},
     "output_type": "execute_result"
    }
   ],
   "source": [
    "p"
   ]
  },
  {
   "cell_type": "code",
   "execution_count": 185,
   "id": "3dd34c88",
   "metadata": {},
   "outputs": [
    {
     "data": {
      "text/plain": [
       "1"
      ]
     },
     "execution_count": 185,
     "metadata": {},
     "output_type": "execute_result"
    }
   ],
   "source": [
    "β"
   ]
  },
  {
   "cell_type": "code",
   "execution_count": 188,
   "id": "35bdf9f5",
   "metadata": {},
   "outputs": [
    {
     "data": {
      "text/plain": [
       "0.05"
      ]
     },
     "execution_count": 188,
     "metadata": {},
     "output_type": "execute_result"
    }
   ],
   "source": [
    "λM/(β + 0.90017309*1.30933421e-25)**w1"
   ]
  },
  {
   "cell_type": "code",
   "execution_count": 132,
   "id": "53b343ed",
   "metadata": {},
   "outputs": [
    {
     "data": {
      "text/plain": [
       "array([ 20.        ,  22.10341836,  24.42805516,  26.99717615,\n",
       "        29.83649395,  32.97442542,  36.44237601,  40.27505415,\n",
       "        44.51081858,  49.19206224,  54.36563646,  60.08332012,\n",
       "        66.40233782,  73.38593299,  81.10399889,  89.6337811 ,\n",
       "        99.06065032, 109.47894936, 120.9929518 , 133.71789317])"
      ]
     },
     "execution_count": 132,
     "metadata": {},
     "output_type": "execute_result"
    }
   ],
   "source": [
    "p"
   ]
  },
  {
   "cell_type": "code",
   "execution_count": 140,
   "id": "04aa5fff",
   "metadata": {},
   "outputs": [
    {
     "data": {
      "text/plain": [
       "array([2.00000000e-01, 2.84781828e+00, 1.56343484e+00, 8.58031343e-01,\n",
       "       4.70897577e-01, 2.58434068e-01, 1.41831628e-01, 7.78388434e-02,\n",
       "       4.27188672e-02, 2.34446086e-02, 1.28666842e-02, 7.06140036e-03,\n",
       "       3.87538706e-03, 2.12686711e-03, 1.16723120e-03, 6.40574090e-04,\n",
       "       3.51563457e-04, 1.92932422e-04, 1.05874768e-04, 5.80981311e-05])"
      ]
     },
     "execution_count": 140,
     "metadata": {},
     "output_type": "execute_result"
    }
   ],
   "source": [
    "x"
   ]
  },
  {
   "cell_type": "code",
   "execution_count": 146,
   "id": "f3ac1172",
   "metadata": {},
   "outputs": [
    {
     "data": {
      "text/plain": [
       "0.1"
      ]
     },
     "execution_count": 146,
     "metadata": {},
     "output_type": "execute_result"
    }
   ],
   "source": [
    "b"
   ]
  },
  {
   "cell_type": "code",
   "execution_count": 144,
   "id": "92087d37",
   "metadata": {},
   "outputs": [
    {
     "data": {
      "text/plain": [
       "[array([ 1.00000000e+02,  5.43712138e-02,  9.79217216e-06,  5.97838384e-10,\n",
       "         6.00793964e-15, -1.50068198e-15,  6.24929057e-13, -3.66281077e-10,\n",
       "         1.08421454e-10,  4.60456205e-11,  1.07172282e-09,  1.80722682e-08,\n",
       "         7.50940397e-10,  2.08564247e-10, -1.38717597e-10,  1.56085655e-09,\n",
       "         3.43259047e-11,  3.35609006e-11,  4.71234422e-09,  4.54522203e-10]),\n",
       " array([ 5.00000000e+01, -2.72100552e-10, -2.68923167e-10, -2.57141482e-11,\n",
       "        -5.96119360e-09, -1.62389053e-09, -2.39214362e-09, -5.10663215e-10,\n",
       "        -3.74051048e-10, -3.49726384e-10, -2.97139701e-10, -2.02169195e-10,\n",
       "        -1.03581150e-10, -3.82924602e-11, -9.82893661e-12, -1.68386984e-12,\n",
       "        -1.84339845e-13, -1.15656578e-14,  1.23765106e-16,  3.67266981e-17]),\n",
       " array([2.00000000e-01, 2.84781828e+00, 1.56343484e+00, 8.58031343e-01,\n",
       "        4.70897577e-01, 2.58434068e-01, 1.41831628e-01, 7.78388434e-02,\n",
       "        4.27188672e-02, 2.34446086e-02, 1.28666842e-02, 7.06140036e-03,\n",
       "        3.87538706e-03, 2.12686711e-03, 1.16723120e-03, 6.40574090e-04,\n",
       "        3.51563457e-04, 1.92932422e-04, 1.05874768e-04, 5.80981311e-05]),\n",
       " array([ 20.        ,  22.10341836,  24.42805516,  26.99717615,\n",
       "         29.83649395,  32.97442542,  36.44237601,  40.27505415,\n",
       "         44.51081858,  49.19206224,  54.36563646,  60.08332012,\n",
       "         66.40233782,  73.38593299,  81.10399889,  89.6337811 ,\n",
       "         99.06065032, 109.47894936, 120.9929518 , 133.71789317]),\n",
       " [1, 0.05, 1, -1.5, 0.5, 0, 1, 0.1]]"
      ]
     },
     "execution_count": 144,
     "metadata": {},
     "output_type": "execute_result"
    }
   ],
   "source": [
    "inputs = m,M,x,p,fun_response_params\n",
    "B,b = fun_response_params[-2:]\n",
    "[*inputs]"
   ]
  },
  {
   "cell_type": "code",
   "execution_count": 136,
   "id": "3b2571ce",
   "metadata": {},
   "outputs": [
    {
     "data": {
      "text/plain": [
       "0.6"
      ]
     },
     "execution_count": 136,
     "metadata": {},
     "output_type": "execute_result"
    }
   ],
   "source": [
    "average_fitness_predators(m, M, x, p, fun_response_params)"
   ]
  },
  {
   "cell_type": "code",
   "execution_count": 125,
   "id": "3798583e",
   "metadata": {},
   "outputs": [
    {
     "data": {
      "text/plain": [
       "[<matplotlib.lines.Line2D at 0x1381b2760>]"
      ]
     },
     "execution_count": 125,
     "metadata": {},
     "output_type": "execute_result"
    },
    {
     "data": {
      "image/png": "[encoded data removed]",
      "text/plain": [
       "<Figure size 432x288 with 1 Axes>"
      ]
     },
     "metadata": {
      "needs_background": "light"
     },
     "output_type": "display_data"
    }
   ],
   "source": [
    "plt.plot(m)"
   ]
  },
  {
   "cell_type": "code",
   "execution_count": 115,
   "id": "1c80e99d",
   "metadata": {},
   "outputs": [
    {
     "data": {
      "text/plain": [
       "0.7142857142857143"
      ]
     },
     "execution_count": 115,
     "metadata": {},
     "output_type": "execute_result"
    }
   ],
   "source": [
    "typeII_fun_response(M, λM,1)"
   ]
  },
  {
   "cell_type": "code",
   "execution_count": null,
   "id": "a2e2485c",
   "metadata": {},
   "outputs": [],
   "source": []
  }
 ],
 "metadata": {
  "kernelspec": {
   "display_name": "Python 3 (ipykernel)",
   "language": "python",
   "name": "python3"
  },
  "language_info": {
   "codemirror_mode": {
    "name": "ipython",
    "version": 3
   },
   "file_extension": ".py",
   "mimetype": "text/x-python",
   "name": "python",
   "nbconvert_exporter": "python",
   "pygments_lexer": "ipython3",
   "version": "3.9.13"
  }
 },
 "nbformat": 4,
 "nbformat_minor": 5
}
