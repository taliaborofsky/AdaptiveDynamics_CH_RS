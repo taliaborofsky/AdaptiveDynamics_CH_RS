{
 "cells": [
  {
   "cell_type": "markdown",
   "id": "6d54ca42-ff6c-466a-a6e6-a2ac35741151",
   "metadata": {},
   "source": [
    "Local Stability"
   ]
  },
  {
   "cell_type": "code",
   "execution_count": 1,
   "id": "2f929e8b-5f3f-44ad-9698-50dd741c7e05",
   "metadata": {},
   "outputs": [],
   "source": [
    "from sympy import *"
   ]
  },
  {
   "cell_type": "code",
   "execution_count": 15,
   "id": "aa164925-5aa1-4e0d-8873-14cb0a9100a6",
   "metadata": {},
   "outputs": [],
   "source": [
    "a, b, c, d, e, f, g = symbols('a, b, c, d, e, f, g')\n",
    "P, td, x, β1, β2 = symbols('P, \\\\tilde{\\\\delta}, x, \\\\beta_1, \\\\beta_2')\n",
    "α1, α2, N1, N2 = symbols('\\\\alpha_1, \\\\alpha_2, N_1, N_2')\n",
    "η1, η2, A1, A2 = symbols('\\\\eta_1, \\\\eta_2, A1, A2')"
   ]
  },
  {
   "cell_type": "code",
   "execution_count": 10,
   "id": "49c90750-cf0d-4612-9cad-ca8211e97732",
   "metadata": {},
   "outputs": [
    {
     "data": {
      "text/latex": [
       "$\\displaystyle \\tilde{\\delta}$"
      ],
      "text/plain": [
       "\\tilde{\\delta}"
      ]
     },
     "execution_count": 10,
     "metadata": {},
     "output_type": "execute_result"
    }
   ],
   "source": [
    "td"
   ]
  },
  {
   "cell_type": "code",
   "execution_count": 21,
   "id": "bd77c69d-84ba-4640-9c9f-88c302637e8a",
   "metadata": {},
   "outputs": [
    {
     "data": {
      "text/latex": [
       "$\\displaystyle \\operatorname{PurePoly}{\\left( \\lambda^{3} + \\left(- a - e - g\\right) \\lambda^{2} + \\left(a e + a g - b d - c f + e g\\right) \\lambda -  a e g + b d g + c e f, \\lambda, domain=\\mathbb{Z}\\left[a, b, c, d, e, f, g\\right] \\right)}$"
      ],
      "text/plain": [
       "PurePoly(lambda**3 + (-a - e - g)*lambda**2 + (a*e + a*g - b*d - c*f + e*g)*lambda - a*e*g + b*d*g + c*e*f, lambda, domain='ZZ[a,b,c,d,e,f,g]')"
      ]
     },
     "metadata": {},
     "output_type": "display_data"
    }
   ],
   "source": [
    "J = Matrix([[a,b,c],[d,e,0],[f,0,g]])\n",
    "display(J.charpoly())\n"
   ]
  },
  {
   "cell_type": "code",
   "execution_count": 19,
   "id": "eabbb4c3-18e6-48d9-a65a-dd68a13ffa11",
   "metadata": {},
   "outputs": [
    {
     "data": {
      "text/latex": [
       "$\\displaystyle \\frac{P \\alpha_{1} \\beta_{1} d g}{x} + c e f - e g \\left(- \\tilde{\\delta} + \\frac{N_{1} \\alpha_{1} \\beta_{1} + N_{2} \\alpha_{2} \\beta_{2}}{x}\\right) + \\lambda^{3} + \\lambda^{2} \\left(\\tilde{\\delta} - e - g - \\frac{N_{1} \\alpha_{1} \\beta_{1} + N_{2} \\alpha_{2} \\beta_{2}}{x}\\right) + \\lambda \\left(- \\frac{P \\alpha_{1} \\beta_{1} d}{x} - c f + e g + e \\left(- \\tilde{\\delta} + \\frac{N_{1} \\alpha_{1} \\beta_{1} + N_{2} \\alpha_{2} \\beta_{2}}{x}\\right) + g \\left(- \\tilde{\\delta} + \\frac{N_{1} \\alpha_{1} \\beta_{1} + N_{2} \\alpha_{2} \\beta_{2}}{x}\\right)\\right)$"
      ],
      "text/plain": [
       "P*\\alpha_1*\\beta_1*d*g/x + c*e*f - e*g*(-\\tilde{\\delta} + (N_1*\\alpha_1*\\beta_1 + N_2*\\alpha_2*\\beta_2)/x) + lambda**3 + lambda**2*(\\tilde{\\delta} - e - g - (N_1*\\alpha_1*\\beta_1 + N_2*\\alpha_2*\\beta_2)/x) + lambda*(-P*\\alpha_1*\\beta_1*d/x - c*f + e*g + e*(-\\tilde{\\delta} + (N_1*\\alpha_1*\\beta_1 + N_2*\\alpha_2*\\beta_2)/x) + g*(-\\tilde{\\delta} + (N_1*\\alpha_1*\\beta_1 + N_2*\\alpha_2*\\beta_2)/x))"
      ]
     },
     "execution_count": 19,
     "metadata": {},
     "output_type": "execute_result"
    }
   ],
   "source": [
    "charpoly"
   ]
  },
  {
   "cell_type": "code",
   "execution_count": null,
   "id": "a9dfe29f-10de-44c1-98e4-d67cf86b47f1",
   "metadata": {},
   "outputs": [],
   "source": []
  }
 ],
 "metadata": {
  "kernelspec": {
   "display_name": "Python 3 (ipykernel)",
   "language": "python",
   "name": "python3"
  },
  "language_info": {
   "codemirror_mode": {
    "name": "ipython",
    "version": 3
   },
   "file_extension": ".py",
   "mimetype": "text/x-python",
   "name": "python",
   "nbconvert_exporter": "python",
   "pygments_lexer": "ipython3",
   "version": "3.12.2"
  }
 },
 "nbformat": 4,
 "nbformat_minor": 5
}
