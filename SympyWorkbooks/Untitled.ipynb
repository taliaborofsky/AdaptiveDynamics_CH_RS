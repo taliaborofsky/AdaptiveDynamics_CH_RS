{
 "cells": [
  {
   "cell_type": "code",
   "execution_count": 26,
   "id": "3eed4d16-afe8-4240-a126-2c9dd6c84aaa",
   "metadata": {},
   "outputs": [],
   "source": [
    "from sympy import *\n",
    "from sympy.plotting import plot"
   ]
  },
  {
   "cell_type": "code",
   "execution_count": null,
   "id": "d96875d2-e76b-414a-bb87-ee8d47adfa4c",
   "metadata": {},
   "outputs": [],
   "source": []
  },
  {
   "cell_type": "code",
   "execution_count": 2,
   "id": "a8dbe9fb-2a8a-427f-9874-98b185c1a6cc",
   "metadata": {},
   "outputs": [],
   "source": [
    "tf, π, x, rd, rs = symbols('t_f, \\\\pi, x, r_d, r_s')"
   ]
  },
  {
   "cell_type": "code",
   "execution_count": 8,
   "id": "5181a955-9706-4ccf-82a5-ba6fbbd01699",
   "metadata": {},
   "outputs": [
    {
     "data": {
      "text/latex": [
       "$\\displaystyle \\frac{\\pi}{x}$"
      ],
      "text/plain": [
       "\\pi/x"
      ]
     },
     "execution_count": 8,
     "metadata": {},
     "output_type": "execute_result"
    }
   ],
   "source": [
    "# direct fitnesses\n",
    "ws = π*(1-tf)/x\n",
    "wd = π * (1 + tf*(x-1))/x\n",
    "\n",
    "# expected direct fitness\n",
    "simplify((x-1)*ws/x + wd/x)"
   ]
  },
  {
   "cell_type": "code",
   "execution_count": 11,
   "id": "705997f9-7631-48b6-8a07-e1a1b970e022",
   "metadata": {},
   "outputs": [
    {
     "data": {
      "text/latex": [
       "$\\displaystyle \\frac{\\pi \\left(r_{d} t_{f} - r_{d} - r_{s} t_{f} + r_{s} + x^{2} \\left(r_{d} t_{f} - r_{s} t_{f} + r_{s}\\right) + x \\left(- 2 r_{d} t_{f} + r_{d} + 2 r_{s} t_{f} - 2 r_{s} + 1\\right)\\right)}{x^{2}}$"
      ],
      "text/plain": [
       "\\pi*(r_d*t_f - r_d - r_s*t_f + r_s + x**2*(r_d*t_f - r_s*t_f + r_s) + x*(-2*r_d*t_f + r_d + 2*r_s*t_f - 2*r_s + 1))/x**2"
      ]
     },
     "execution_count": 11,
     "metadata": {},
     "output_type": "execute_result"
    }
   ],
   "source": [
    "# inclusive fitnesses\n",
    "Ws = ws*(1 + (x-2)*rs) + rd*wd\n",
    "Wd = wd + rs*ws*(x-1)\n",
    "\n",
    "# expected inclusive fitness\n",
    "simplify(expand((x-1)*Ws/x + Wd/x))"
   ]
  },
  {
   "cell_type": "code",
   "execution_count": 22,
   "id": "64a120f8-fabe-420b-9fda-bab008d130cc",
   "metadata": {},
   "outputs": [],
   "source": [
    "γ, q = symbols('\\\\gamma, q')"
   ]
  },
  {
   "cell_type": "code",
   "execution_count": 14,
   "id": "53a3b627-950a-442e-bc89-48212e9b10f7",
   "metadata": {},
   "outputs": [
    {
     "data": {
      "text/latex": [
       "$\\displaystyle - \\gamma t_{f} + \\gamma + t_{f}$"
      ],
      "text/plain": [
       "-\\gamma*t_f + \\gamma + t_f"
      ]
     },
     "execution_count": 14,
     "metadata": {},
     "output_type": "execute_result"
    }
   ],
   "source": [
    "simplify(1 - (1 - tf)*(1-γ))"
   ]
  },
  {
   "cell_type": "code",
   "execution_count": 16,
   "id": "396bab97-4eab-466c-aa7d-ba6aef443a69",
   "metadata": {},
   "outputs": [
    {
     "data": {
      "text/latex": [
       "$\\displaystyle \\left(1 - t_{f}\\right) \\left(\\gamma + 1\\right)^{3}$"
      ],
      "text/plain": [
       "(1 - t_f)*(\\gamma + 1)**3"
      ]
     },
     "execution_count": 16,
     "metadata": {},
     "output_type": "execute_result"
    }
   ],
   "source": [
    "(1-tf)*(1+γ)**3"
   ]
  },
  {
   "cell_type": "code",
   "execution_count": 20,
   "id": "0c159085-d658-4258-a02e-66f9f62be600",
   "metadata": {},
   "outputs": [
    {
     "data": {
      "text/latex": [
       "$\\displaystyle 1 - 0.343 t_{f}$"
      ],
      "text/plain": [
       "1 - 0.343*t_f"
      ]
     },
     "execution_count": 20,
     "metadata": {},
     "output_type": "execute_result"
    }
   ],
   "source": [
    "1 - tf*(1-0.3)**3"
   ]
  },
  {
   "cell_type": "code",
   "execution_count": 29,
   "id": "b5fa903e-6520-44a4-bce2-92e58114c6f3",
   "metadata": {},
   "outputs": [],
   "source": [
    "q_s = q + γ*(1-q)\n",
    "q_d = q*(1-γ)**(x-1)\n",
    "expected_group_size = q_s*(x-1) + q_d"
   ]
  },
  {
   "cell_type": "code",
   "execution_count": 34,
   "id": "91707eae-cc92-4520-997a-924c1268f40e",
   "metadata": {},
   "outputs": [
    {
     "data": {
      "text/latex": [
       "$\\displaystyle q \\left(1 - \\gamma\\right)^{x - 1} + \\left(x - 1\\right) \\left(\\gamma \\left(1 - q\\right) + q\\right)$"
      ],
      "text/plain": [
       "q*(1 - \\gamma)**(x - 1) + (x - 1)*(\\gamma*(1 - q) + q)"
      ]
     },
     "execution_count": 34,
     "metadata": {},
     "output_type": "execute_result"
    }
   ],
   "source": [
    "expected_group_size"
   ]
  },
  {
   "cell_type": "code",
   "execution_count": null,
   "id": "f71182fb-1268-4560-8811-5de606a4be30",
   "metadata": {},
   "outputs": [],
   "source": []
  },
  {
   "cell_type": "code",
   "execution_count": null,
   "id": "005a018a-b698-4839-b187-fa481c7171ed",
   "metadata": {},
   "outputs": [],
   "source": []
  },
  {
   "cell_type": "code",
   "execution_count": 45,
   "id": "eacf1527-c03e-402e-a1a1-f5772ecddbec",
   "metadata": {},
   "outputs": [
    {
     "data": {
      "image/png": "[encoded data removed]",
      "text/plain": [
       "<Figure size 640x480 with 1 Axes>"
      ]
     },
     "metadata": {},
     "output_type": "display_data"
    },
    {
     "data": {
      "text/plain": [
       "<sympy.plotting.plot.Plot at 0x10df1b670>"
      ]
     },
     "execution_count": 45,
     "metadata": {},
     "output_type": "execute_result"
    }
   ],
   "source": [
    "xval = 3\n",
    "expected_group_size_2 = expected_group_size.subs([(q,0.57),(x,xval)])\n",
    "plot(expected_group_size_2, xlim = [0,1], ylim = [0,xval])"
   ]
  },
  {
   "cell_type": "code",
   "execution_count": 28,
   "id": "eb152123-e574-4a9f-8b7a-ecc40a3da7b6",
   "metadata": {},
   "outputs": [
    {
     "data": {
      "text/latex": [
       "$\\displaystyle 1.0$"
      ],
      "text/plain": [
       "1.00000000000000"
      ]
     },
     "execution_count": 28,
     "metadata": {},
     "output_type": "execute_result"
    }
   ],
   "source": [
    "expected_group_size_2"
   ]
  },
  {
   "cell_type": "code",
   "execution_count": null,
   "id": "90f65cd6-38b9-47af-8f3e-646ed5c1ea7e",
   "metadata": {},
   "outputs": [],
   "source": []
  }
 ],
 "metadata": {
  "kernelspec": {
   "display_name": "Python 3 (ipykernel)",
   "language": "python",
   "name": "python3"
  },
  "language_info": {
   "codemirror_mode": {
    "name": "ipython",
    "version": 3
   },
   "file_extension": ".py",
   "mimetype": "text/x-python",
   "name": "python",
   "nbconvert_exporter": "python",
   "pygments_lexer": "ipython3",
   "version": "3.9.6"
  }
 },
 "nbformat": 4,
 "nbformat_minor": 5
}
