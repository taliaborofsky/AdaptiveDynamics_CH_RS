{
 "cells": [
  {
   "cell_type": "code",
   "execution_count": 60,
   "id": "3bce790e",
   "metadata": {},
   "outputs": [],
   "source": [
    "from sympy import *"
   ]
  },
  {
   "cell_type": "code",
   "execution_count": 61,
   "id": "bc0610f1",
   "metadata": {},
   "outputs": [],
   "source": [
    "f2, S12, f3, p, S31 = symbols('f(2), S(12), f(3), p, S(31)')\n",
    "D2, S21, S13, D23, D3 = symbols('D(2), S(21), S(13), D(23), D(3)')\n",
    "L2, L3, δ3 = symbols('L_2, L_3, \\\\delta_3')"
   ]
  },
  {
   "cell_type": "code",
   "execution_count": 81,
   "id": "e5590e89",
   "metadata": {},
   "outputs": [
    {
     "data": {
      "text/latex": [
       "$\\displaystyle 4 f(2)^{2} + 12 f(2) f(3) - 4 f(2) p + 9 f(3)^{2} - 6 f(3) p + p^{2}$"
      ],
      "text/plain": [
       "4*f(2)**2 + 12*f(2)*f(3) - 4*f(2)*p + 9*f(3)**2 - 6*f(3)*p + p**2"
      ]
     },
     "execution_count": 81,
     "metadata": {},
     "output_type": "execute_result"
    }
   ],
   "source": [
    "expand(f1**2)"
   ]
  },
  {
   "cell_type": "code",
   "execution_count": 62,
   "id": "cdca2d52",
   "metadata": {},
   "outputs": [],
   "source": [
    "f1 = p - 2*f2 - 3*f3\n",
    "eqn_f3 = f2*S31*(p - 2*f2)/(L3 + 3*f2*S31) \n",
    "eqn2 = f3*δ3 - f2*L2 + f1**2*S21"
   ]
  },
  {
   "cell_type": "code",
   "execution_count": 63,
   "id": "f2faf790",
   "metadata": {},
   "outputs": [
    {
     "data": {
      "text/latex": [
       "$\\displaystyle \\frac{S(31) f(2) \\left(- 2 f(2) + p\\right)}{L_{3} + 3 S(31) f(2)}$"
      ],
      "text/plain": [
       "S(31)*f(2)*(-2*f(2) + p)/(L_3 + 3*S(31)*f(2))"
      ]
     },
     "execution_count": 63,
     "metadata": {},
     "output_type": "execute_result"
    }
   ],
   "source": [
    "eqn_f3"
   ]
  },
  {
   "cell_type": "code",
   "execution_count": 64,
   "id": "dca0b5e5",
   "metadata": {},
   "outputs": [],
   "source": [
    "df2_expanded = simplify(expand(eqn2.subs([(f3,eqn_f3)])))\n",
    "num_df2, d = fraction(df2_expanded)"
   ]
  },
  {
   "cell_type": "code",
   "execution_count": 71,
   "id": "54b221ad",
   "metadata": {},
   "outputs": [
    {
     "name": "stdout",
     "output_type": "stream",
     "text": [
      "- 9 L_{2} S(31)^{2} f(2)^{3} + L_{3}^{2} \\left(S(21) p^{2} + f(2) \\left(- L_{2} - 4 S(21) p\\right)\\right) + f(2)^{2} \\left(- 6 L_{2} L_{3} S(31) + 4 L_{3}^{2} S(21)\\right)\n"
     ]
    }
   ],
   "source": [
    "print(latex(num_df2.collect(f2).subs([(δ3,0)]).collect(L3)))"
   ]
  },
  {
   "cell_type": "code",
   "execution_count": 77,
   "id": "62cbd4fa",
   "metadata": {},
   "outputs": [
    {
     "name": "stdout",
     "output_type": "stream",
     "text": [
      "- L_{2} L_{3}^{2} - 27 L_{2} S(31)^{2} f(2)^{2} - 4 L_{3}^{2} S(21) p + 2 f(2) \\left(- 6 L_{2} L_{3} S(31) + 4 L_{3}^{2} S(21)\\right)\n"
     ]
    }
   ],
   "source": [
    "first_deriv = diff(num_df2.collect(f2).subs([(δ3,0)]),f2)\n",
    "print(latex(first_deriv))"
   ]
  },
  {
   "cell_type": "code",
   "execution_count": 76,
   "id": "4187603f",
   "metadata": {},
   "outputs": [
    {
     "name": "stdout",
     "output_type": "stream",
     "text": [
      "\\frac{2 L_{3} \\left(- 3 L_{2} S(31) + 2 L_{3} S(21)\\right)}{27 L_{2} S(31)^{2}}\n"
     ]
    }
   ],
   "source": [
    "ans = solve(second_deriv,f2)[0]\n",
    "print(latex(ans))"
   ]
  },
  {
   "cell_type": "code",
   "execution_count": 41,
   "id": "f5243519",
   "metadata": {},
   "outputs": [
    {
     "data": {
      "text/latex": [
       "$\\displaystyle L_{3}^{2} S(21) p^{2} + f(2)^{3} \\left(- 9 L_{2} S(31)^{2} - 6 S(31)^{2} \\delta_{3}\\right) + f(2)^{2} \\left(- 6 L_{2} L_{3} S(31) + 4 L_{3}^{2} S(21) - 2 L_{3} S(31) \\delta_{3} + 3 S(31)^{2} \\delta_{3} p\\right) + f(2) \\left(- L_{2} L_{3}^{2} - 4 L_{3}^{2} S(21) p + L_{3} S(31) \\delta_{3} p\\right)$"
      ],
      "text/plain": [
       "L_3**2*S(21)*p**2 + f(2)**3*(-9*L_2*S(31)**2 - 6*S(31)**2*\\delta_3) + f(2)**2*(-6*L_2*L_3*S(31) + 4*L_3**2*S(21) - 2*L_3*S(31)*\\delta_3 + 3*S(31)**2*\\delta_3*p) + f(2)*(-L_2*L_3**2 - 4*L_3**2*S(21)*p + L_3*S(31)*\\delta_3*p)"
      ]
     },
     "execution_count": 41,
     "metadata": {},
     "output_type": "execute_result"
    }
   ],
   "source": [
    "second_deriv_at_0 = "
   ]
  },
  {
   "cell_type": "code",
   "execution_count": 31,
   "id": "f6b5067d",
   "metadata": {},
   "outputs": [
    {
     "data": {
      "text/latex": [
       "$\\displaystyle 4 f(2)^{2} + 12 f(2) f(3) - 4 f(2) p + 9 f(3)^{2} - 6 f(3) p + p^{2}$"
      ],
      "text/plain": [
       "4*f(2)**2 + 12*f(2)*f(3) - 4*f(2)*p + 9*f(3)**2 - 6*f(3)*p + p**2"
      ]
     },
     "execution_count": 31,
     "metadata": {},
     "output_type": "execute_result"
    }
   ],
   "source": [
    "expand((f1)**2)"
   ]
  },
  {
   "cell_type": "code",
   "execution_count": 51,
   "id": "3a856e4d",
   "metadata": {},
   "outputs": [],
   "source": [
    " expr = 2*L3*S21 - 3*S31*L2"
   ]
  },
  {
   "cell_type": "code",
   "execution_count": 56,
   "id": "69b24b91",
   "metadata": {},
   "outputs": [
    {
     "name": "stdout",
     "output_type": "stream",
     "text": [
      "3 D(2) S(13) - 3 D(2) - 2 D(3) S(12) + 2 D(3) - 6 S(12) + 6 S(13)\n"
     ]
    }
   ],
   "source": [
    "expr = expr.subs([(L2, 2*S12 + D2),(L3,3*S13 + D3),(S21,1-S12), (S31,1-S13)])\n",
    "expand(expr).collect(S13).collect(S12)\n",
    "print(latex(expand(expr)))"
   ]
  },
  {
   "cell_type": "code",
   "execution_count": 59,
   "id": "892eba8a",
   "metadata": {},
   "outputs": [
    {
     "data": {
      "text/latex": [
       "$\\displaystyle - 3 D(2) + 2 D(3) + S(12) \\left(- 2 D(3) - 6\\right) + S(13) \\left(3 D(2) + 6\\right)$"
      ],
      "text/plain": [
       "-3*D(2) + 2*D(3) + S(12)*(-2*D(3) - 6) + S(13)*(3*D(2) + 6)"
      ]
     },
     "execution_count": 59,
     "metadata": {},
     "output_type": "execute_result"
    }
   ],
   "source": [
    "expand(expr).collect(S13).collect(S12)\n"
   ]
  },
  {
   "cell_type": "code",
   "execution_count": null,
   "id": "f3e7fd18",
   "metadata": {},
   "outputs": [],
   "source": []
  }
 ],
 "metadata": {
  "kernelspec": {
   "display_name": "Python 3 (ipykernel)",
   "language": "python",
   "name": "python3"
  },
  "language_info": {
   "codemirror_mode": {
    "name": "ipython",
    "version": 3
   },
   "file_extension": ".py",
   "mimetype": "text/x-python",
   "name": "python",
   "nbconvert_exporter": "python",
   "pygments_lexer": "ipython3",
   "version": "3.12.2"
  }
 },
 "nbformat": 4,
 "nbformat_minor": 5
}
