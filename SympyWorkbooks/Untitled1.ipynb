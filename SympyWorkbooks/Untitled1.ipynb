{
 "cells": [
  {
   "cell_type": "code",
   "execution_count": 1,
   "id": "517f6d4d-1b95-487e-94b8-4f334179843d",
   "metadata": {},
   "outputs": [],
   "source": [
    "from sympy import *"
   ]
  },
  {
   "cell_type": "code",
   "execution_count": 40,
   "id": "6ad2d65e-5505-46a2-a279-44b8b2cabf55",
   "metadata": {},
   "outputs": [],
   "source": [
    "δ, q, f1, f2, f3, τx, x, y = symbols('\\\\delta, q, f_1, f_2, f_3, \\\\tau_x, x, y')"
   ]
  },
  {
   "cell_type": "code",
   "execution_count": 136,
   "id": "d88a6e5d-2288-4a45-af6f-22f1a32a95e7",
   "metadata": {},
   "outputs": [],
   "source": [
    "def DD(a,b):\n",
    "    return binomial(b,b-a) * q**(b-a) *(1-q)**b\n",
    "    # if b == a + 1:\n",
    "    #     return b*δ*τx#binomial(b,b-a) * q**(b-a) *(1-q)**b\n",
    "    # else:\n",
    "    #     return 0\n",
    "def D(a):\n",
    "    return a*δ*τx#return (1 - (1 - q)**a)"
   ]
  },
  {
   "cell_type": "code",
   "execution_count": 137,
   "id": "c20a9a10-2d0a-46c9-80d4-756bc9602b12",
   "metadata": {},
   "outputs": [],
   "source": [
    "df1dt = (1/τx)*(f2*DD(1,2) - f1*D(1)) #+ f3*DD(1,3) \n",
    "df2dt = (1/τx) * (f3*DD(2,3) - f2*D(2))\n",
    "df3dt = (1/τx)*(-f3*D(3))"
   ]
  },
  {
   "cell_type": "code",
   "execution_count": 135,
   "id": "573dbd4a-3aad-40fb-a93f-707e5a2ae158",
   "metadata": {},
   "outputs": [
    {
     "data": {
      "text/latex": [
       "$\\displaystyle \\delta \\left(- f_{1} + 4 f_{2} q \\left(q - 1\\right)^{2} - 4 f_{2} - 18 f_{3} q \\left(q - 1\\right)^{3} - 9 f_{3}\\right)$"
      ],
      "text/plain": [
       "\\delta*(-f_1 + 4*f_2*q*(q - 1)**2 - 4*f_2 - 18*f_3*q*(q - 1)**3 - 9*f_3)"
      ]
     },
     "execution_count": 135,
     "metadata": {},
     "output_type": "execute_result"
    }
   ],
   "source": [
    "simplify(df1dt + 2*df2dt + 3*df3dt)"
   ]
  },
  {
   "cell_type": "code",
   "execution_count": 57,
   "id": "70c36efe-e8a0-4049-9524-20e620595d17",
   "metadata": {},
   "outputs": [],
   "source": [
    "D1, D2, D3, D12, D13, D23 = symbols('D_1, D_2, D_3, D_{12}, D_{13}, D_{23}')"
   ]
  },
  {
   "cell_type": "code",
   "execution_count": 59,
   "id": "0d8eb2e2-4141-4f3c-972d-cf70515e75d4",
   "metadata": {},
   "outputs": [
    {
     "data": {
      "text/latex": [
       "$\\displaystyle D_{1}$"
      ],
      "text/plain": [
       "D_1"
      ]
     },
     "execution_count": 59,
     "metadata": {},
     "output_type": "execute_result"
    }
   ],
   "source": [
    "df1dt = (1/τx)*(f1*Sum(DD(1,y),(y,2,3)) - f1*D(1))\n"
   ]
  },
  {
   "cell_type": "code",
   "execution_count": 58,
   "id": "c6f9a7a4-5592-4115-8eba-43d3e5bf9474",
   "metadata": {},
   "outputs": [
    {
     "data": {
      "text/latex": [
       "$\\displaystyle - \\frac{f_{2} \\cdot \\left(1 - \\left(1 - q\\right)^{2}\\right)}{\\tau_{x}}$"
      ],
      "text/plain": [
       "-f_2*(1 - (1 - q)**2)/\\tau_x"
      ]
     },
     "execution_count": 58,
     "metadata": {},
     "output_type": "execute_result"
    }
   ],
   "source": [
    "df2dt"
   ]
  },
  {
   "cell_type": "markdown",
   "id": "d1cb4f5b-2748-4950-9970-ee093f4f372f",
   "metadata": {},
   "source": [
    "So $q = \\delta \\tau_x$"
   ]
  },
  {
   "cell_type": "code",
   "execution_count": null,
   "id": "9bda0114-1e97-45ab-8549-74fb7d3d7cd3",
   "metadata": {},
   "outputs": [],
   "source": []
  }
 ],
 "metadata": {
  "kernelspec": {
   "display_name": "Python 3 (ipykernel)",
   "language": "python",
   "name": "python3"
  },
  "language_info": {
   "codemirror_mode": {
    "name": "ipython",
    "version": 3
   },
   "file_extension": ".py",
   "mimetype": "text/x-python",
   "name": "python",
   "nbconvert_exporter": "python",
   "pygments_lexer": "ipython3",
   "version": "3.12.2"
  }
 },
 "nbformat": 4,
 "nbformat_minor": 5
}
