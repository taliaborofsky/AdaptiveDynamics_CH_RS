{
 "cells": [
  {
   "cell_type": "code",
   "execution_count": 1,
   "id": "a1c7961f-1dc5-4a80-9532-5ce79a69b712",
   "metadata": {},
   "outputs": [],
   "source": [
    "from sympy import *\n",
    "#from sympy.abc import alpha"
   ]
  },
  {
   "cell_type": "code",
   "execution_count": 2,
   "id": "765e43f4-b77b-4547-8cab-b8291decfdf0",
   "metadata": {},
   "outputs": [],
   "source": [
    "N1, N2 = symbols('N_1, N_2')\n",
    "B, H1, H2 = symbols('B, H1, H_2')\n",
    "α11, α12, α21, α22 = symbols('\\\\alpha_{11}, \\\\alpha_{12}, \\\\alpha_{21}, \\\\alpha_{22}')"
   ]
  },
  {
   "cell_type": "markdown",
   "id": "bff8cca3-872d-4e60-9e26-056459af6040",
   "metadata": {},
   "source": [
    "# Normal H1, H2 (H1a = H2a = 0)"
   ]
  },
  {
   "cell_type": "code",
   "execution_count": 3,
   "id": "d66bc177-e6f5-4aec-892b-03da0954aab9",
   "metadata": {},
   "outputs": [],
   "source": [
    "denom1 = 1 + α11*H1*N1 + α21*H2*N2\n",
    "denom2 = 1 + α12*H1*N1/2 + α22*H2*N2/2\n",
    "expr = B*N1 *((α12/2)*denom1 - α11*denom2 ) \\\n",
    "- N2*(α21*denom2 - (α22/2)*denom1)"
   ]
  },
  {
   "cell_type": "code",
   "execution_count": 4,
   "id": "5becac09-57af-4850-be2c-3ed43887e931",
   "metadata": {},
   "outputs": [
    {
     "data": {
      "text/latex": [
       "$\\displaystyle B \\left(- \\frac{H_{2} N_{1} N_{2} \\alpha_{11} \\alpha_{22}}{2} + \\frac{H_{2} N_{1} N_{2} \\alpha_{12} \\alpha_{21}}{2} - N_{1} \\alpha_{11} + \\frac{N_{1} \\alpha_{12}}{2}\\right) + \\frac{H_{1} N_{1} N_{2} \\alpha_{11} \\alpha_{22}}{2} - \\frac{H_{1} N_{1} N_{2} \\alpha_{12} \\alpha_{21}}{2} - N_{2} \\alpha_{21} + \\frac{N_{2} \\alpha_{22}}{2}$"
      ],
      "text/plain": [
       "B*(-H_2*N_1*N_2*\\alpha_{11}*\\alpha_{22}/2 + H_2*N_1*N_2*\\alpha_{12}*\\alpha_{21}/2 - N_1*\\alpha_{11} + N_1*\\alpha_{12}/2) + H1*N_1*N_2*\\alpha_{11}*\\alpha_{22}/2 - H1*N_1*N_2*\\alpha_{12}*\\alpha_{21}/2 - N_2*\\alpha_{21} + N_2*\\alpha_{22}/2"
      ]
     },
     "execution_count": 4,
     "metadata": {},
     "output_type": "execute_result"
    }
   ],
   "source": [
    "expand(expr).collect(B)"
   ]
  },
  {
   "cell_type": "markdown",
   "id": "ea0f88f8-858a-4030-ba0a-217c176e8948",
   "metadata": {},
   "source": [
    "# If H1 is scaled by relative mass of big prey to small prey and (H1a=H2a=0)"
   ]
  },
  {
   "cell_type": "code",
   "execution_count": 5,
   "id": "7579e37d-d3dd-421b-8f07-6bbb45e0ddac",
   "metadata": {},
   "outputs": [],
   "source": [
    "denom1 = 1 + α11*B*H2*N1 + α21*H2*N2\n",
    "denom2 = 1 + α12*B*H2*N1/2 + α22*H2*N2/2\n",
    "expr_2 = B*N1 *((α12/2)*denom1 - α11*denom2 ) \\\n",
    "- N2*(α21*denom2 - (α22/2)*denom1)"
   ]
  },
  {
   "cell_type": "code",
   "execution_count": 6,
   "id": "21b6da1e-d4de-4476-b879-14b73eac850a",
   "metadata": {},
   "outputs": [],
   "source": [
    "expr_2 = expand(expr_2).collect(B).collect(N1)"
   ]
  },
  {
   "cell_type": "markdown",
   "id": "f9c7057d-8d28-4b98-8e1f-e6d9cc1794a8",
   "metadata": {},
   "source": [
    "## Condition to form groups of size $x$"
   ]
  },
  {
   "cell_type": "code",
   "execution_count": 7,
   "id": "817186e6-f156-4ad7-a419-52117017f061",
   "metadata": {},
   "outputs": [],
   "source": [
    "x, α1x, α2x = symbols('x,\\\\alpha_{1x}, \\\\alpha_{2x}')"
   ]
  },
  {
   "cell_type": "code",
   "execution_count": 8,
   "id": "938c8bf4-915e-4ad7-8342-c5bda5de3f8b",
   "metadata": {},
   "outputs": [],
   "source": [
    "denom1 = 1 + α11*B*H2*N1 + α21*H2*N2\n",
    "denomx = 1 + α1x*B*H2*N1/x + α2x*H2*N2/x\n",
    "expr_x = B*N1 *((α1x/x)*denom1 - α11*denomx ) \\\n",
    "- N2*(α21*denomx - (α2x/x)*denom1)"
   ]
  },
  {
   "cell_type": "code",
   "execution_count": 9,
   "id": "dd30b1c8-d08e-4dfe-b850-ce52d251c348",
   "metadata": {},
   "outputs": [],
   "source": [
    "expr_x = expand(expr_x).collect(B).collect(N1).collect(N2)"
   ]
  },
  {
   "cell_type": "code",
   "execution_count": 10,
   "id": "10d466a3-3cb4-40e3-9127-acc395846956",
   "metadata": {},
   "outputs": [],
   "source": [
    "difference_cond3_cond2 = solve(expr_2,B)[0] - solve(expr_x.subs([(x,3)]),B)[0]"
   ]
  },
  {
   "cell_type": "code",
   "execution_count": 11,
   "id": "3548b884-010d-4367-ac8e-0639d4b582c2",
   "metadata": {},
   "outputs": [
    {
     "data": {
      "text/latex": [
       "$\\displaystyle 0$"
      ],
      "text/plain": [
       "0"
      ]
     },
     "metadata": {},
     "output_type": "display_data"
    }
   ],
   "source": [
    "result = simplify(difference_cond3_cond2.subs([ (α12,1/2),(α22,1/2),(α1x,1-α11),(α2x,1-α21)]))\n",
    "display(result)\n",
    "n,d = fraction(result)"
   ]
  },
  {
   "cell_type": "markdown",
   "id": "91f06fb9-bbad-4c1c-90cb-02ebf562ab3b",
   "metadata": {},
   "source": [
    "If not sigmoidal"
   ]
  },
  {
   "cell_type": "code",
   "execution_count": 12,
   "id": "9871c9a0-e14b-4e6e-9543-97fe6708cf5a",
   "metadata": {},
   "outputs": [],
   "source": [
    "result_constant = simplify(difference_cond3_cond2.subs([ (α22,α21),(α2x,α21)]))#(α1x,1-α11),"
   ]
  },
  {
   "cell_type": "code",
   "execution_count": 13,
   "id": "4149f156-9e66-4371-b8c1-807389ccad56",
   "metadata": {},
   "outputs": [
    {
     "data": {
      "text/latex": [
       "$\\displaystyle \\frac{N_{2} \\alpha_{21} \\left(\\alpha_{11} - 2 \\alpha_{12} + \\alpha_{1x}\\right)}{N_{1} \\left(2 \\alpha_{11} - \\alpha_{12}\\right) \\left(3 \\alpha_{11} - \\alpha_{1x}\\right)}$"
      ],
      "text/plain": [
       "N_2*\\alpha_{21}*(\\alpha_{11} - 2*\\alpha_{12} + \\alpha_{1x})/(N_1*(2*\\alpha_{11} - \\alpha_{12})*(3*\\alpha_{11} - \\alpha_{1x}))"
      ]
     },
     "execution_count": 13,
     "metadata": {},
     "output_type": "execute_result"
    }
   ],
   "source": [
    "result_constant"
   ]
  },
  {
   "cell_type": "markdown",
   "id": "8cdac0c1-d84f-4f6f-b6e7-d71448d08e70",
   "metadata": {},
   "source": [
    "# Now for general H1, H2, with scaling"
   ]
  },
  {
   "cell_type": "code",
   "execution_count": 67,
   "id": "1a5bcf0f-cf7b-44ff-8b96-7173e73ce7c2",
   "metadata": {},
   "outputs": [],
   "source": [
    "N1, N2, x = symbols('N_1, N_2, x')\n",
    "A, B, H2a, H2b = symbols('A, B, H_{2a}, H_{2b}')\n"
   ]
  },
  {
   "cell_type": "code",
   "execution_count": 68,
   "id": "c07dbfa8-9159-4e03-b829-2d9c9066bfff",
   "metadata": {},
   "outputs": [],
   "source": [
    "alpha1 = lambda x: Function('\\\\alpha_1')(x)\n",
    "alpha2 = lambda x: Function('\\\\alpha_2')(x)\n",
    "H2 = lambda x: H2a + H2b/x\n",
    "H1 = lambda x: A*B*H2(x)\n",
    "denom = lambda x: 1 + alpha1(x)*H1(x)*N1 + alpha2(x)*H2(x)*N2\n",
    "f1 = lambda x: alpha1(x) * N1/denom(x) # this is actually divided by A1\n",
    "f2 = lambda x: alpha2(x) * N2/denom(x) # this is actually divided by A2"
   ]
  },
  {
   "cell_type": "code",
   "execution_count": 69,
   "id": "f1b8290d-ce61-4db5-baba-447c67b75b30",
   "metadata": {},
   "outputs": [],
   "source": [
    "expr_greater_than_0 = A*B*(f1(x)/x - f1(1)) - f2(1) + f2(x)/x"
   ]
  },
  {
   "cell_type": "code",
   "execution_count": 70,
   "id": "64166fd7-322b-412c-a329-a083def4ecba",
   "metadata": {},
   "outputs": [],
   "source": [
    "n,d = fraction(expr_greater_than_0.simplify())"
   ]
  },
  {
   "cell_type": "code",
   "execution_count": 71,
   "id": "906c12da-f86c-409b-810d-b1a189da422e",
   "metadata": {},
   "outputs": [],
   "source": [
    "expr = n.expand().simplify().collect(A*B)\n",
    "expr = expr.collect(H2a*N1**2*alpha1(1)*alpha1(x)).collect(H2a*N1*N2)\\\n",
    ".collect(alpha1(1)*alpha2(x)).collect(alpha1(x)*alpha2(1)).collect(H2a*N2**2*alpha2(1)*alpha2(x))"
   ]
  },
  {
   "cell_type": "code",
   "execution_count": 61,
   "id": "e685146b-5c7c-4771-885b-0fd2c3c98d5b",
   "metadata": {},
   "outputs": [
    {
     "data": {
      "text/latex": [
       "$\\displaystyle H_{2a} N_{1}^{2} \\left(1 - x\\right) \\alpha_{1}{\\left(1 \\right)} \\alpha_{1}{\\left(x \\right)}$"
      ],
      "text/plain": [
       "H_{2a}*N_1**2*(1 - x)*\\alpha_1(1)*\\alpha_1(x)"
      ]
     },
     "metadata": {},
     "output_type": "display_data"
    },
    {
     "name": "stdout",
     "output_type": "stream",
     "text": [
      "H_{2a} N_{1}^{2} \\left(1 - x\\right) \\alpha_{1}{\\left(1 \\right)} \\alpha_{1}{\\left(x \\right)}\n"
     ]
    }
   ],
   "source": [
    "expr_lead = expr.coeff(A**2*B**2)\n",
    "display(expr_lead)\n",
    "print(latex(expr_lead))"
   ]
  },
  {
   "cell_type": "code",
   "execution_count": 66,
   "id": "1aecb75a-6560-40f1-ab48-475dc6f1992d",
   "metadata": {},
   "outputs": [
    {
     "data": {
      "text/latex": [
       "$\\displaystyle H_{2a} N_{1} N_{2} \\left(1 - x\\right) \\left(\\alpha_{1}{\\left(1 \\right)} \\alpha_{2}{\\left(x \\right)} + \\alpha_{1}{\\left(x \\right)} \\alpha_{2}{\\left(1 \\right)}\\right) - N_{1} x \\alpha_{1}{\\left(1 \\right)} + N_{1} \\alpha_{1}{\\left(x \\right)}$"
      ],
      "text/plain": [
       "H_{2a}*N_1*N_2*(1 - x)*(\\alpha_1(1)*\\alpha_2(x) + \\alpha_1(x)*\\alpha_2(1)) - N_1*x*\\alpha_1(1) + N_1*\\alpha_1(x)"
      ]
     },
     "metadata": {},
     "output_type": "display_data"
    },
    {
     "name": "stdout",
     "output_type": "stream",
     "text": [
      "H_{2a} N_{1} N_{2} \\left(1 - x\\right) \\left(\\alpha_{1}{\\left(1 \\right)} \\alpha_{2}{\\left(x \\right)} + \\alpha_{1}{\\left(x \\right)} \\alpha_{2}{\\left(1 \\right)}\\right) - N_{1} x \\alpha_{1}{\\left(1 \\right)} + N_{1} \\alpha_{1}{\\left(x \\right)}\n"
     ]
    }
   ],
   "source": [
    "expr_middle = expr.coeff(A*B).collect(1-x).collect(N1*alpha1(1))\n",
    "display(expr_middle)\n",
    "print(latex(expr_middle))"
   ]
  },
  {
   "cell_type": "code",
   "execution_count": 65,
   "id": "f1b3316a-dd50-4aa6-8409-70aa03c280ef",
   "metadata": {},
   "outputs": [
    {
     "data": {
      "text/latex": [
       "$\\displaystyle H_{2a} N_{2}^{2} \\left(1 - x\\right) \\alpha_{2}{\\left(1 \\right)} \\alpha_{2}{\\left(x \\right)} - N_{2} x \\alpha_{2}{\\left(1 \\right)} + N_{2} \\alpha_{2}{\\left(x \\right)}$"
      ],
      "text/plain": [
       "H_{2a}*N_2**2*(1 - x)*\\alpha_2(1)*\\alpha_2(x) - N_2*x*\\alpha_2(1) + N_2*\\alpha_2(x)"
      ]
     },
     "metadata": {},
     "output_type": "display_data"
    },
    {
     "name": "stdout",
     "output_type": "stream",
     "text": [
      "H_{2a} N_{2}^{2} \\left(1 - x\\right) \\alpha_{2}{\\left(1 \\right)} \\alpha_{2}{\\left(x \\right)} - N_{2} x \\alpha_{2}{\\left(1 \\right)} + N_{2} \\alpha_{2}{\\left(x \\right)}\n"
     ]
    }
   ],
   "source": [
    "expr_constant = expr - A**2*B**2*expr.coeff(A**2*B**2) - A*B*expr.coeff(A*B)\n",
    "\n",
    "display(expr_constant)\n",
    "print(latex(expr_constant))"
   ]
  },
  {
   "cell_type": "code",
   "execution_count": 21,
   "id": "023c029d-1c3a-4fa6-b79d-2a54a726a174",
   "metadata": {},
   "outputs": [
    {
     "data": {
      "text/latex": [
       "$\\displaystyle \\alpha{\\left(x \\right)}$"
      ],
      "text/plain": [
       "\\alpha(x)"
      ]
     },
     "execution_count": 21,
     "metadata": {},
     "output_type": "execute_result"
    }
   ],
   "source": [
    "alpha(x)"
   ]
  },
  {
   "cell_type": "code",
   "execution_count": 17,
   "id": "9de3f607-896a-4b3b-aee0-8d77bd53fc69",
   "metadata": {},
   "outputs": [
    {
     "data": {
      "text/latex": [
       "$\\displaystyle f{\\left(x - 1 \\right)}$"
      ],
      "text/plain": [
       "f(x - 1)"
      ]
     },
     "execution_count": 17,
     "metadata": {},
     "output_type": "execute_result"
    }
   ],
   "source": [
    "f(x-1)"
   ]
  },
  {
   "cell_type": "code",
   "execution_count": 87,
   "id": "6b5b6a22-6714-4721-aace-c99fdc733a05",
   "metadata": {},
   "outputs": [
    {
     "data": {
      "text/latex": [
       "$\\displaystyle A B \\left(- N_{1} x \\alpha_{1}{\\left(1 \\right)} + N_{1} \\alpha_{1}{\\left(x \\right)}\\right) + H_{2a} \\left(A^{2} B^{2} N_{1}^{2} \\left(1 - x\\right) \\alpha_{1}{\\left(1 \\right)} \\alpha_{1}{\\left(x \\right)} + A B N_{1} N_{2} \\left(\\left(1 - x\\right) \\alpha_{1}{\\left(1 \\right)} \\alpha_{2}{\\left(x \\right)} + \\left(1 - x\\right) \\alpha_{1}{\\left(x \\right)} \\alpha_{2}{\\left(1 \\right)}\\right) + N_{2}^{2} \\left(1 - x\\right) \\alpha_{2}{\\left(1 \\right)} \\alpha_{2}{\\left(x \\right)}\\right) - N_{2} x \\alpha_{2}{\\left(1 \\right)} + N_{2} \\alpha_{2}{\\left(x \\right)}$"
      ],
      "text/plain": [
       "A*B*(-N_1*x*\\alpha_1(1) + N_1*\\alpha_1(x)) + H_{2a}*(A**2*B**2*N_1**2*(1 - x)*\\alpha_1(1)*\\alpha_1(x) + A*B*N_1*N_2*((1 - x)*\\alpha_1(1)*\\alpha_2(x) + (1 - x)*\\alpha_1(x)*\\alpha_2(1)) + N_2**2*(1 - x)*\\alpha_2(1)*\\alpha_2(x)) - N_2*x*\\alpha_2(1) + N_2*\\alpha_2(x)"
      ]
     },
     "execution_count": 87,
     "metadata": {},
     "output_type": "execute_result"
    }
   ],
   "source": [
    "expr.expand().collect(H2a).collect(A*B).collect(N1*N2)\\\n",
    ".collect(N1**2*alpha1(1)*alpha1(x)).collect(alpha1(1)*alpha2(x))\\\n",
    ".collect(alpha1(x)*alpha2(1)).collect(N2**2*alpha2(1)*alpha2(x))"
   ]
  },
  {
   "cell_type": "code",
   "execution_count": 74,
   "id": "9560e448-a4ba-4ca9-bfcd-50e6b046f527",
   "metadata": {},
   "outputs": [],
   "source": [
    "soln = solve(expr, H2a)"
   ]
  },
  {
   "cell_type": "code",
   "execution_count": 92,
   "id": "725a598f-7aeb-46ec-a066-61a4615a6557",
   "metadata": {},
   "outputs": [],
   "source": [
    "ans = soln[0].collect(A*B).collect(N1*N2)\\\n",
    ".collect(N1**2*alpha1(1)*alpha1(x)).collect(alpha1(1)*alpha2(x))\\\n",
    ".collect(alpha1(x)*alpha2(1)).collect(N2**2*alpha2(1)*alpha2(x)).collect(x-1)"
   ]
  },
  {
   "cell_type": "code",
   "execution_count": 93,
   "id": "bb8f1be7-aadc-4d25-81fa-0d17c613cd1d",
   "metadata": {},
   "outputs": [
    {
     "data": {
      "text/latex": [
       "$\\displaystyle \\frac{A B \\left(- N_{1} x \\alpha_{1}{\\left(1 \\right)} + N_{1} \\alpha_{1}{\\left(x \\right)}\\right) - N_{2} x \\alpha_{2}{\\left(1 \\right)} + N_{2} \\alpha_{2}{\\left(x \\right)}}{\\left(x - 1\\right) \\left(A^{2} B^{2} N_{1}^{2} \\alpha_{1}{\\left(1 \\right)} \\alpha_{1}{\\left(x \\right)} + A B N_{1} N_{2} \\left(\\alpha_{1}{\\left(1 \\right)} \\alpha_{2}{\\left(x \\right)} + \\alpha_{1}{\\left(x \\right)} \\alpha_{2}{\\left(1 \\right)}\\right) + N_{2}^{2} \\alpha_{2}{\\left(1 \\right)} \\alpha_{2}{\\left(x \\right)}\\right)}$"
      ],
      "text/plain": [
       "(A*B*(-N_1*x*\\alpha_1(1) + N_1*\\alpha_1(x)) - N_2*x*\\alpha_2(1) + N_2*\\alpha_2(x))/((x - 1)*(A**2*B**2*N_1**2*\\alpha_1(1)*\\alpha_1(x) + A*B*N_1*N_2*(\\alpha_1(1)*\\alpha_2(x) + \\alpha_1(x)*\\alpha_2(1)) + N_2**2*\\alpha_2(1)*\\alpha_2(x)))"
      ]
     },
     "execution_count": 93,
     "metadata": {},
     "output_type": "execute_result"
    }
   ],
   "source": [
    "ans"
   ]
  },
  {
   "cell_type": "code",
   "execution_count": 94,
   "id": "2a02dac4-6ba0-4f1b-9c83-5d0ae3763828",
   "metadata": {},
   "outputs": [],
   "source": [
    "n,d = fraction(ans)"
   ]
  },
  {
   "cell_type": "code",
   "execution_count": 96,
   "id": "a6073097-51c3-45d6-8ef0-1e2ab9edc42f",
   "metadata": {},
   "outputs": [
    {
     "data": {
      "text/latex": [
       "$\\displaystyle - A B N_{1} x \\alpha_{1}{\\left(1 \\right)} + A B N_{1} \\alpha_{1}{\\left(x \\right)} - N_{2} x \\alpha_{2}{\\left(1 \\right)} + N_{2} \\alpha_{2}{\\left(x \\right)}$"
      ],
      "text/plain": [
       "-A*B*N_1*x*\\alpha_1(1) + A*B*N_1*\\alpha_1(x) - N_2*x*\\alpha_2(1) + N_2*\\alpha_2(x)"
      ]
     },
     "execution_count": 96,
     "metadata": {},
     "output_type": "execute_result"
    }
   ],
   "source": [
    "factor(n)"
   ]
  },
  {
   "cell_type": "code",
   "execution_count": 95,
   "id": "d5a13e32-8ddd-4341-9aad-758c7a391400",
   "metadata": {},
   "outputs": [
    {
     "data": {
      "text/latex": [
       "$\\displaystyle \\left(x - 1\\right) \\left(A B N_{1} \\alpha_{1}{\\left(1 \\right)} + N_{2} \\alpha_{2}{\\left(1 \\right)}\\right) \\left(A B N_{1} \\alpha_{1}{\\left(x \\right)} + N_{2} \\alpha_{2}{\\left(x \\right)}\\right)$"
      ],
      "text/plain": [
       "(x - 1)*(A*B*N_1*\\alpha_1(1) + N_2*\\alpha_2(1))*(A*B*N_1*\\alpha_1(x) + N_2*\\alpha_2(x))"
      ]
     },
     "execution_count": 95,
     "metadata": {},
     "output_type": "execute_result"
    }
   ],
   "source": [
    "factor(d)"
   ]
  }
 ],
 "metadata": {
  "kernelspec": {
   "display_name": "Python 3 (ipykernel)",
   "language": "python",
   "name": "python3"
  },
  "language_info": {
   "codemirror_mode": {
    "name": "ipython",
    "version": 3
   },
   "file_extension": ".py",
   "mimetype": "text/x-python",
   "name": "python",
   "nbconvert_exporter": "python",
   "pygments_lexer": "ipython3",
   "version": "3.13.1"
  }
 },
 "nbformat": 4,
 "nbformat_minor": 5
}
