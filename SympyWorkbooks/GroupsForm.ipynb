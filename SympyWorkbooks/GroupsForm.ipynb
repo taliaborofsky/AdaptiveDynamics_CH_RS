{
 "cells": [
  {
   "cell_type": "code",
   "execution_count": 1,
   "id": "a1c7961f-1dc5-4a80-9532-5ce79a69b712",
   "metadata": {},
   "outputs": [],
   "source": [
    "from sympy import *\n",
    "#from sympy.abc import alpha"
   ]
  },
  {
   "cell_type": "code",
   "execution_count": 2,
   "id": "765e43f4-b77b-4547-8cab-b8291decfdf0",
   "metadata": {},
   "outputs": [],
   "source": [
    "N1, N2 = symbols('N_1, N_2')\n",
    "B, H1, H2 = symbols('B, H1, H_2')\n",
    "α11, α12, α21, α22 = symbols('\\\\alpha_{11}, \\\\alpha_{12}, \\\\alpha_{21}, \\\\alpha_{22}')"
   ]
  },
  {
   "cell_type": "markdown",
   "id": "bff8cca3-872d-4e60-9e26-056459af6040",
   "metadata": {},
   "source": [
    "# Normal H1, H2"
   ]
  },
  {
   "cell_type": "code",
   "execution_count": 3,
   "id": "d66bc177-e6f5-4aec-892b-03da0954aab9",
   "metadata": {},
   "outputs": [],
   "source": [
    "denom1 = 1 + α11*H1*N1 + α21*H2*N2\n",
    "denom2 = 1 + α12*H1*N1/2 + α22*H2*N2/2\n",
    "expr = B*N1 *((α12/2)*denom1 - α11*denom2 ) \\\n",
    "- N2*(α21*denom2 - (α22/2)*denom1)"
   ]
  },
  {
   "cell_type": "code",
   "execution_count": 4,
   "id": "5becac09-57af-4850-be2c-3ed43887e931",
   "metadata": {},
   "outputs": [
    {
     "data": {
      "text/latex": [
       "$\\displaystyle B \\left(- \\frac{H_{2} N_{1} N_{2} \\alpha_{11} \\alpha_{22}}{2} + \\frac{H_{2} N_{1} N_{2} \\alpha_{12} \\alpha_{21}}{2} - N_{1} \\alpha_{11} + \\frac{N_{1} \\alpha_{12}}{2}\\right) + \\frac{H_{1} N_{1} N_{2} \\alpha_{11} \\alpha_{22}}{2} - \\frac{H_{1} N_{1} N_{2} \\alpha_{12} \\alpha_{21}}{2} - N_{2} \\alpha_{21} + \\frac{N_{2} \\alpha_{22}}{2}$"
      ],
      "text/plain": [
       "B*(-H_2*N_1*N_2*\\alpha_{11}*\\alpha_{22}/2 + H_2*N_1*N_2*\\alpha_{12}*\\alpha_{21}/2 - N_1*\\alpha_{11} + N_1*\\alpha_{12}/2) + H1*N_1*N_2*\\alpha_{11}*\\alpha_{22}/2 - H1*N_1*N_2*\\alpha_{12}*\\alpha_{21}/2 - N_2*\\alpha_{21} + N_2*\\alpha_{22}/2"
      ]
     },
     "execution_count": 4,
     "metadata": {},
     "output_type": "execute_result"
    }
   ],
   "source": [
    "expand(expr).collect(B)"
   ]
  },
  {
   "cell_type": "markdown",
   "id": "ea0f88f8-858a-4030-ba0a-217c176e8948",
   "metadata": {},
   "source": [
    "# If H1 is scaled by relative mass of big prey to small prey"
   ]
  },
  {
   "cell_type": "code",
   "execution_count": 5,
   "id": "7579e37d-d3dd-421b-8f07-6bbb45e0ddac",
   "metadata": {},
   "outputs": [],
   "source": [
    "denom1 = 1 + α11*B*H2*N1 + α21*H2*N2\n",
    "denom2 = 1 + α12*B*H2*N1/2 + α22*H2*N2/2\n",
    "expr_2 = B*N1 *((α12/2)*denom1 - α11*denom2 ) \\\n",
    "- N2*(α21*denom2 - (α22/2)*denom1)"
   ]
  },
  {
   "cell_type": "code",
   "execution_count": 10,
   "id": "21b6da1e-d4de-4476-b879-14b73eac850a",
   "metadata": {},
   "outputs": [],
   "source": [
    "expr_2 = expand(expr_2).collect(B).collect(N1)"
   ]
  },
  {
   "cell_type": "markdown",
   "id": "f9c7057d-8d28-4b98-8e1f-e6d9cc1794a8",
   "metadata": {},
   "source": [
    "## Condition to form groups of size $x$"
   ]
  },
  {
   "cell_type": "code",
   "execution_count": 30,
   "id": "817186e6-f156-4ad7-a419-52117017f061",
   "metadata": {},
   "outputs": [],
   "source": [
    "x, α1x, α2x = symbols('x,\\\\alpha_{1x}, \\\\alpha_{2x}')"
   ]
  },
  {
   "cell_type": "code",
   "execution_count": 31,
   "id": "938c8bf4-915e-4ad7-8342-c5bda5de3f8b",
   "metadata": {},
   "outputs": [],
   "source": [
    "denom1 = 1 + α11*B*H2*N1 + α21*H2*N2\n",
    "denomx = 1 + α1x*B*H2*N1/x + α2x*H2*N2/x\n",
    "expr_x = B*N1 *((α1x/x)*denom1 - α11*denomx ) \\\n",
    "- N2*(α21*denomx - (α2x/x)*denom1)"
   ]
  },
  {
   "cell_type": "code",
   "execution_count": 32,
   "id": "dd30b1c8-d08e-4dfe-b850-ce52d251c348",
   "metadata": {},
   "outputs": [],
   "source": [
    "expr_x = expand(expr_x).collect(B).collect(N1).collect(N2)"
   ]
  },
  {
   "cell_type": "code",
   "execution_count": 33,
   "id": "10d466a3-3cb4-40e3-9127-acc395846956",
   "metadata": {},
   "outputs": [],
   "source": [
    "difference_cond3_cond2 = solve(expr_2,B)[0] - solve(expr_x.subs([(x,3)]),B)[0]"
   ]
  },
  {
   "cell_type": "code",
   "execution_count": 37,
   "id": "3548b884-010d-4367-ac8e-0639d4b582c2",
   "metadata": {},
   "outputs": [
    {
     "data": {
      "text/latex": [
       "$\\displaystyle 0$"
      ],
      "text/plain": [
       "0"
      ]
     },
     "metadata": {},
     "output_type": "display_data"
    }
   ],
   "source": [
    "result = simplify(difference_cond3_cond2.subs([ (α12,1/2),(α22,1/2),(α1x,1-α11),(α2x,1-α21)]))\n",
    "display(result)\n",
    "n,d = fraction(result)"
   ]
  },
  {
   "cell_type": "markdown",
   "id": "91f06fb9-bbad-4c1c-90cb-02ebf562ab3b",
   "metadata": {},
   "source": [
    "If not sigmoidal"
   ]
  },
  {
   "cell_type": "code",
   "execution_count": 42,
   "id": "9871c9a0-e14b-4e6e-9543-97fe6708cf5a",
   "metadata": {},
   "outputs": [],
   "source": [
    "result_constant = simplify(difference_cond3_cond2.subs([ (α22,α21),(α2x,α21)]))#(α1x,1-α11),"
   ]
  },
  {
   "cell_type": "code",
   "execution_count": 43,
   "id": "4149f156-9e66-4371-b8c1-807389ccad56",
   "metadata": {},
   "outputs": [
    {
     "data": {
      "text/latex": [
       "$\\displaystyle \\frac{N_{2} \\alpha_{21} \\left(\\alpha_{11} - 2 \\alpha_{12} + \\alpha_{1x}\\right)}{N_{1} \\left(2 \\alpha_{11} - \\alpha_{12}\\right) \\left(3 \\alpha_{11} - \\alpha_{1x}\\right)}$"
      ],
      "text/plain": [
       "N_2*\\alpha_{21}*(\\alpha_{11} - 2*\\alpha_{12} + \\alpha_{1x})/(N_1*(2*\\alpha_{11} - \\alpha_{12})*(3*\\alpha_{11} - \\alpha_{1x}))"
      ]
     },
     "execution_count": 43,
     "metadata": {},
     "output_type": "execute_result"
    }
   ],
   "source": [
    "result_constant"
   ]
  },
  {
   "cell_type": "code",
   "execution_count": null,
   "id": "60a48368-c19a-4ba5-b2e4-eaed21e6cda9",
   "metadata": {},
   "outputs": [],
   "source": []
  }
 ],
 "metadata": {
  "kernelspec": {
   "display_name": "Python 3 (ipykernel)",
   "language": "python",
   "name": "python3"
  },
  "language_info": {
   "codemirror_mode": {
    "name": "ipython",
    "version": 3
   },
   "file_extension": ".py",
   "mimetype": "text/x-python",
   "name": "python",
   "nbconvert_exporter": "python",
   "pygments_lexer": "ipython3",
   "version": "3.13.1"
  }
 },
 "nbformat": 4,
 "nbformat_minor": 5
}
