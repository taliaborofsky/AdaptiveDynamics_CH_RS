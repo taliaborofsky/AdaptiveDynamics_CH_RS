{
 "cells": [
  {
   "cell_type": "markdown",
   "id": "ca015b2b",
   "metadata": {},
   "source": [
    "# Finding the equilibrium group size if the group decides whether to allow individuals to leave or join"
   ]
  },
  {
   "cell_type": "code",
   "execution_count": 2,
   "id": "0f47f0eb",
   "metadata": {},
   "outputs": [],
   "source": [
    "from sympy import *\n",
    "from sympy.abc import gamma"
   ]
  },
  {
   "cell_type": "code",
   "execution_count": 3,
   "id": "39f3ab61",
   "metadata": {},
   "outputs": [],
   "source": [
    "γ = gamma\n",
    "w1, w2, α1, α2, r, R, x, θ1, θ2 = symbols('w_1, w_2, \\\\alpha_1, \\\\alpha_2, r, R, x, \\\\theta_1, \\\\theta_2')\n"
   ]
  },
  {
   "cell_type": "code",
   "execution_count": 4,
   "id": "b5f806f1",
   "metadata": {},
   "outputs": [],
   "source": [
    "W = (w1*x**θ1 + w2*x**θ2)/(x*(1+α1*x**θ1 + α2*x**θ2))*(R+r*x)"
   ]
  },
  {
   "cell_type": "code",
   "execution_count": 5,
   "id": "6472e10b",
   "metadata": {},
   "outputs": [
    {
     "data": {
      "text/latex": [
       "$\\displaystyle \\frac{\\left(R + r x\\right) \\left(w_{1} x^{\\theta_{1}} + w_{2} x^{\\theta_{2}}\\right)}{x \\left(\\alpha_{1} x^{\\theta_{1}} + \\alpha_{2} x^{\\theta_{2}} + 1\\right)}$"
      ],
      "text/plain": [
       "(R + r*x)*(w_1*x**\\theta_1 + w_2*x**\\theta_2)/(x*(\\alpha_1*x**\\theta_1 + \\alpha_2*x**\\theta_2 + 1))"
      ]
     },
     "execution_count": 5,
     "metadata": {},
     "output_type": "execute_result"
    }
   ],
   "source": [
    "W"
   ]
  },
  {
   "cell_type": "code",
   "execution_count": 6,
   "id": "c1e64b6d",
   "metadata": {},
   "outputs": [
    {
     "data": {
      "text/latex": [
       "$\\displaystyle \\frac{r \\left(w_{1} x^{\\theta_{1}} + w_{2} x^{\\theta_{2}}\\right)}{x \\left(\\alpha_{1} x^{\\theta_{1}} + \\alpha_{2} x^{\\theta_{2}} + 1\\right)} + \\frac{\\left(R + r x\\right) \\left(w_{1} x^{\\theta_{1}} + w_{2} x^{\\theta_{2}}\\right) \\left(- \\frac{\\alpha_{1} \\theta_{1} x^{\\theta_{1}}}{x} - \\frac{\\alpha_{2} \\theta_{2} x^{\\theta_{2}}}{x}\\right)}{x \\left(\\alpha_{1} x^{\\theta_{1}} + \\alpha_{2} x^{\\theta_{2}} + 1\\right)^{2}} + \\frac{\\left(R + r x\\right) \\left(\\frac{\\theta_{1} w_{1} x^{\\theta_{1}}}{x} + \\frac{\\theta_{2} w_{2} x^{\\theta_{2}}}{x}\\right)}{x \\left(\\alpha_{1} x^{\\theta_{1}} + \\alpha_{2} x^{\\theta_{2}} + 1\\right)} - \\frac{\\left(R + r x\\right) \\left(w_{1} x^{\\theta_{1}} + w_{2} x^{\\theta_{2}}\\right)}{x^{2} \\left(\\alpha_{1} x^{\\theta_{1}} + \\alpha_{2} x^{\\theta_{2}} + 1\\right)}$"
      ],
      "text/plain": [
       "r*(w_1*x**\\theta_1 + w_2*x**\\theta_2)/(x*(\\alpha_1*x**\\theta_1 + \\alpha_2*x**\\theta_2 + 1)) + (R + r*x)*(w_1*x**\\theta_1 + w_2*x**\\theta_2)*(-\\alpha_1*\\theta_1*x**\\theta_1/x - \\alpha_2*\\theta_2*x**\\theta_2/x)/(x*(\\alpha_1*x**\\theta_1 + \\alpha_2*x**\\theta_2 + 1)**2) + (R + r*x)*(\\theta_1*w_1*x**\\theta_1/x + \\theta_2*w_2*x**\\theta_2/x)/(x*(\\alpha_1*x**\\theta_1 + \\alpha_2*x**\\theta_2 + 1)) - (R + r*x)*(w_1*x**\\theta_1 + w_2*x**\\theta_2)/(x**2*(\\alpha_1*x**\\theta_1 + \\alpha_2*x**\\theta_2 + 1))"
      ]
     },
     "execution_count": 6,
     "metadata": {},
     "output_type": "execute_result"
    }
   ],
   "source": [
    "diff(W,x)"
   ]
  },
  {
   "cell_type": "code",
   "execution_count": 7,
   "id": "09416f48",
   "metadata": {},
   "outputs": [
    {
     "data": {
      "text/latex": [
       "$\\displaystyle \\frac{r x \\left(w_{1} x^{\\theta_{1}} + w_{2} x^{\\theta_{2}}\\right) \\left(\\alpha_{1} x^{\\theta_{1}} + \\alpha_{2} x^{\\theta_{2}} + 1\\right) - \\left(R + r x\\right) \\left(w_{1} x^{\\theta_{1}} + w_{2} x^{\\theta_{2}}\\right) \\left(\\alpha_{1} \\theta_{1} x^{\\theta_{1}} + \\alpha_{2} \\theta_{2} x^{\\theta_{2}}\\right) + \\left(R + r x\\right) \\left(\\alpha_{1} x^{\\theta_{1}} + \\alpha_{2} x^{\\theta_{2}} + 1\\right) \\left(\\theta_{1} w_{1} x^{\\theta_{1}} + \\theta_{2} w_{2} x^{\\theta_{2}} - w_{1} x^{\\theta_{1}} - w_{2} x^{\\theta_{2}}\\right)}{x^{2} \\left(\\alpha_{1} x^{\\theta_{1}} + \\alpha_{2} x^{\\theta_{2}} + 1\\right)^{2}}$"
      ],
      "text/plain": [
       "(r*x*(w_1*x**\\theta_1 + w_2*x**\\theta_2)*(\\alpha_1*x**\\theta_1 + \\alpha_2*x**\\theta_2 + 1) - (R + r*x)*(w_1*x**\\theta_1 + w_2*x**\\theta_2)*(\\alpha_1*\\theta_1*x**\\theta_1 + \\alpha_2*\\theta_2*x**\\theta_2) + (R + r*x)*(\\alpha_1*x**\\theta_1 + \\alpha_2*x**\\theta_2 + 1)*(\\theta_1*w_1*x**\\theta_1 + \\theta_2*w_2*x**\\theta_2 - w_1*x**\\theta_1 - w_2*x**\\theta_2))/(x**2*(\\alpha_1*x**\\theta_1 + \\alpha_2*x**\\theta_2 + 1)**2)"
      ]
     },
     "execution_count": 7,
     "metadata": {},
     "output_type": "execute_result"
    }
   ],
   "source": [
    "dWdx = simplify(diff(W,x))\n",
    "dWdx"
   ]
  },
  {
   "cell_type": "code",
   "execution_count": 8,
   "id": "b1ea0eab",
   "metadata": {},
   "outputs": [],
   "source": [
    "n,d = fraction(dWdx)"
   ]
  },
  {
   "cell_type": "code",
   "execution_count": 9,
   "id": "34088ac9",
   "metadata": {},
   "outputs": [
    {
     "data": {
      "text/latex": [
       "$\\displaystyle r x \\left(w_{1} x^{\\theta_{1}} + w_{2} x^{\\theta_{2}}\\right) \\left(\\alpha_{1} x^{\\theta_{1}} + \\alpha_{2} x^{\\theta_{2}} + 1\\right) - \\left(R + r x\\right) \\left(w_{1} x^{\\theta_{1}} + w_{2} x^{\\theta_{2}}\\right) \\left(\\alpha_{1} \\theta_{1} x^{\\theta_{1}} + \\alpha_{2} \\theta_{2} x^{\\theta_{2}}\\right) + \\left(R + r x\\right) \\left(\\alpha_{1} x^{\\theta_{1}} + \\alpha_{2} x^{\\theta_{2}} + 1\\right) \\left(\\theta_{1} w_{1} x^{\\theta_{1}} + \\theta_{2} w_{2} x^{\\theta_{2}} - w_{1} x^{\\theta_{1}} - w_{2} x^{\\theta_{2}}\\right)$"
      ],
      "text/plain": [
       "r*x*(w_1*x**\\theta_1 + w_2*x**\\theta_2)*(\\alpha_1*x**\\theta_1 + \\alpha_2*x**\\theta_2 + 1) - (R + r*x)*(w_1*x**\\theta_1 + w_2*x**\\theta_2)*(\\alpha_1*\\theta_1*x**\\theta_1 + \\alpha_2*\\theta_2*x**\\theta_2) + (R + r*x)*(\\alpha_1*x**\\theta_1 + \\alpha_2*x**\\theta_2 + 1)*(\\theta_1*w_1*x**\\theta_1 + \\theta_2*w_2*x**\\theta_2 - w_1*x**\\theta_1 - w_2*x**\\theta_2)"
      ]
     },
     "execution_count": 9,
     "metadata": {},
     "output_type": "execute_result"
    }
   ],
   "source": [
    "n"
   ]
  },
  {
   "cell_type": "code",
   "execution_count": 250,
   "id": "1df7d68b",
   "metadata": {},
   "outputs": [
    {
     "data": {
      "text/latex": [
       "$\\displaystyle r x \\left(w_{1} x^{\\theta_{1}} + w_{2} x^{\\theta_{2}}\\right) \\left(\\alpha_{1} x^{\\theta_{1}} + \\alpha_{2} x^{\\theta_{2}} + 1\\right) - \\left(R + r x\\right) \\left(w_{1} x^{\\theta_{1}} + w_{2} x^{\\theta_{2}}\\right) \\left(\\alpha_{1} \\theta_{1} x^{\\theta_{1}} + \\alpha_{2} \\theta_{2} x^{\\theta_{2}}\\right) + \\left(R + r x\\right) \\left(\\alpha_{1} x^{\\theta_{1}} + \\alpha_{2} x^{\\theta_{2}} + 1\\right) \\left(\\theta_{1} w_{1} x^{\\theta_{1}} + \\theta_{2} w_{2} x^{\\theta_{2}} - w_{1} x^{\\theta_{1}} - w_{2} x^{\\theta_{2}}\\right)$"
      ],
      "text/plain": [
       "r*x*(w_1*x**\\theta_1 + w_2*x**\\theta_2)*(\\alpha_1*x**\\theta_1 + \\alpha_2*x**\\theta_2 + 1) - (R + r*x)*(w_1*x**\\theta_1 + w_2*x**\\theta_2)*(\\alpha_1*\\theta_1*x**\\theta_1 + \\alpha_2*\\theta_2*x**\\theta_2) + (R + r*x)*(\\alpha_1*x**\\theta_1 + \\alpha_2*x**\\theta_2 + 1)*(\\theta_1*w_1*x**\\theta_1 + \\theta_2*w_2*x**\\theta_2 - w_1*x**\\theta_1 - w_2*x**\\theta_2)"
      ]
     },
     "metadata": {},
     "output_type": "display_data"
    },
    {
     "data": {
      "text/latex": [
       "$\\displaystyle R \\left(- \\alpha_{1} w_{1} x^{2 \\theta_{1}} - \\alpha_{2} w_{2} x^{2 \\theta_{2}} + \\theta_{1} w_{1} x^{\\theta_{1}} + \\theta_{2} w_{2} x^{\\theta_{2}} - w_{1} x^{\\theta_{1}} - w_{2} x^{\\theta_{2}} + x^{\\theta_{1}} x^{\\theta_{2}} \\left(- \\alpha_{1} w_{2} - \\alpha_{2} w_{1} + \\theta_{1} \\left(- \\alpha_{1} w_{2} + \\alpha_{2} w_{1}\\right) + \\theta_{2} \\left(\\alpha_{1} w_{2} - \\alpha_{2} w_{1}\\right)\\right)\\right) + r x \\left(\\theta_{1} w_{1} x^{\\theta_{1}} + \\theta_{2} w_{2} x^{\\theta_{2}} + x^{\\theta_{1}} x^{\\theta_{2}} \\left(\\theta_{1} \\left(- \\alpha_{1} w_{2} + \\alpha_{2} w_{1}\\right) + \\theta_{2} \\left(\\alpha_{1} w_{2} - \\alpha_{2} w_{1}\\right)\\right)\\right)$"
      ],
      "text/plain": [
       "R*(-\\alpha_1*w_1*x**(2*\\theta_1) - \\alpha_2*w_2*x**(2*\\theta_2) + \\theta_1*w_1*x**\\theta_1 + \\theta_2*w_2*x**\\theta_2 - w_1*x**\\theta_1 - w_2*x**\\theta_2 + x**\\theta_1*x**\\theta_2*(-\\alpha_1*w_2 - \\alpha_2*w_1 + \\theta_1*(-\\alpha_1*w_2 + \\alpha_2*w_1) + \\theta_2*(\\alpha_1*w_2 - \\alpha_2*w_1))) + r*x*(\\theta_1*w_1*x**\\theta_1 + \\theta_2*w_2*x**\\theta_2 + x**\\theta_1*x**\\theta_2*(\\theta_1*(-\\alpha_1*w_2 + \\alpha_2*w_1) + \\theta_2*(\\alpha_1*w_2 - \\alpha_2*w_1)))"
      ]
     },
     "execution_count": 250,
     "metadata": {},
     "output_type": "execute_result"
    }
   ],
   "source": [
    "to_solve = n\n",
    "display(to_solve) \n",
    "expand(to_solve).collect(r*x).collect(R).collect(x**θ1*x**θ2).collect(θ1).collect(θ2)"
   ]
  },
  {
   "cell_type": "code",
   "execution_count": 252,
   "id": "2d223348",
   "metadata": {},
   "outputs": [
    {
     "data": {
      "text/latex": [
       "$\\displaystyle - R \\alpha_{1} w_{1} x^{2 \\theta_{1}} - R \\alpha_{2} w_{2} x^{2 \\theta_{2}} + R w_{1} x^{\\theta_{1}} \\left(\\theta_{1} - 1\\right) + R w_{2} x^{\\theta_{2}} \\left(\\theta_{2} - 1\\right) + R x^{\\theta_{1} + \\theta_{2}} \\left(- \\alpha_{1} w_{2} - \\alpha_{2} w_{1} + \\left(- \\theta_{1} + \\theta_{2}\\right) \\left(\\alpha_{1} w_{2} - \\alpha_{2} w_{1}\\right)\\right) + \\theta_{1} r w_{1} x^{\\theta_{1} + 1} + \\theta_{2} r w_{2} x^{\\theta_{2} + 1} + r x x^{\\theta_{1} + \\theta_{2}} \\left(- \\theta_{1} + \\theta_{2}\\right) \\left(\\alpha_{1} w_{2} - \\alpha_{2} w_{1}\\right)$"
      ],
      "text/plain": [
       "-R*\\alpha_1*w_1*x**(2*\\theta_1) - R*\\alpha_2*w_2*x**(2*\\theta_2) + R*w_1*x**\\theta_1*(\\theta_1 - 1) + R*w_2*x**\\theta_2*(\\theta_2 - 1) + R*x**(\\theta_1 + \\theta_2)*(-\\alpha_1*w_2 - \\alpha_2*w_1 + (-\\theta_1 + \\theta_2)*(\\alpha_1*w_2 - \\alpha_2*w_1)) + \\theta_1*r*w_1*x**(\\theta_1 + 1) + \\theta_2*r*w_2*x**(\\theta_2 + 1) + r*x*x**(\\theta_1 + \\theta_2)*(-\\theta_1 + \\theta_2)*(\\alpha_1*w_2 - \\alpha_2*w_1)"
      ]
     },
     "execution_count": 252,
     "metadata": {},
     "output_type": "execute_result"
    }
   ],
   "source": [
    "tocheck = x*x**(θ1 + θ2)*r*(θ2 - θ1)*(α1*w2 - α2*w1) + r*θ1*w1*x**(1+θ1) + r*θ2*w2*x**(1+θ2)\\\n",
    "- R*α1*w1*x**(2*θ1) - R*α2*w2*x**(2*θ2) + x**(θ1)*R*w1*(θ1 - 1) + x**(θ2)*R*w2*(θ2 - 1)\\\n",
    "+ R*x**(θ1+θ2)*((θ2-θ1)*(α1*w2 - α2*w1) - α1*w2 - α2*w1)\n",
    "tocheck"
   ]
  },
  {
   "cell_type": "code",
   "execution_count": 253,
   "id": "70858fcb",
   "metadata": {},
   "outputs": [
    {
     "data": {
      "text/latex": [
       "$\\displaystyle 0$"
      ],
      "text/plain": [
       "0"
      ]
     },
     "execution_count": 253,
     "metadata": {},
     "output_type": "execute_result"
    }
   ],
   "source": [
    "expand(to_solve - tocheck)"
   ]
  },
  {
   "cell_type": "markdown",
   "id": "a54cc39a",
   "metadata": {},
   "source": [
    "# Special Case $\\theta_2 = 0$"
   ]
  },
  {
   "cell_type": "code",
   "execution_count": 257,
   "id": "d416b957",
   "metadata": {},
   "outputs": [
    {
     "data": {
      "text/latex": [
       "$\\displaystyle - R \\alpha_{1} w_{1} x^{2 \\theta_{1}} - R \\alpha_{2} w_{2} + R w_{1} x^{\\theta_{1}} \\left(\\theta_{1} - 1\\right) - R w_{2} + R x^{\\theta_{1}} \\left(- \\alpha_{1} w_{2} - \\alpha_{2} w_{1} - \\theta_{1} \\left(\\alpha_{1} w_{2} - \\alpha_{2} w_{1}\\right)\\right) + \\theta_{1} r w_{1} x^{\\theta_{1} + 1} - \\theta_{1} r x x^{\\theta_{1}} \\left(\\alpha_{1} w_{2} - \\alpha_{2} w_{1}\\right)$"
      ],
      "text/plain": [
       "-R*\\alpha_1*w_1*x**(2*\\theta_1) - R*\\alpha_2*w_2 + R*w_1*x**\\theta_1*(\\theta_1 - 1) - R*w_2 + R*x**\\theta_1*(-\\alpha_1*w_2 - \\alpha_2*w_1 - \\theta_1*(\\alpha_1*w_2 - \\alpha_2*w_1)) + \\theta_1*r*w_1*x**(\\theta_1 + 1) - \\theta_1*r*x*x**\\theta_1*(\\alpha_1*w_2 - \\alpha_2*w_1)"
      ]
     },
     "metadata": {},
     "output_type": "display_data"
    },
    {
     "data": {
      "text/latex": [
       "$\\displaystyle 0$"
      ],
      "text/plain": [
       "0"
      ]
     },
     "execution_count": 257,
     "metadata": {},
     "output_type": "execute_result"
    }
   ],
   "source": [
    "G_of_x_θ2_0 = tocheck.subs([(θ2,0)])\n",
    "display(G_of_x_θ2_0)\n",
    "to_check2 = -R*α1*w1*x**(2*θ1) + R*x**θ1*(θ1*(w1 - α1*w2 + α2*w1) - w1 - α1*w2 - α2*w1)\\\n",
    "+ x**(1+θ1)*θ1*r*(w1-α1*w2 + α2*w1) - R*α2*w2 - R*w2\n",
    "expand(tocheck.subs([(θ2,0)])- to_check2)"
   ]
  },
  {
   "cell_type": "code",
   "execution_count": 263,
   "id": "894648a6",
   "metadata": {},
   "outputs": [
    {
     "data": {
      "text/latex": [
       "$\\displaystyle R \\left(- \\theta_{1} \\left(\\alpha_{1} w_{2} - \\alpha_{2} w_{1}\\right) + w_{1} \\left(\\theta_{1} - 1\\right) - w_{2} + \\left(- \\alpha_{1} - \\alpha_{2}\\right) \\left(w_{1} + w_{2}\\right)\\right) + \\theta_{1} r w_{1} - \\theta_{1} r \\left(\\alpha_{1} w_{2} - \\alpha_{2} w_{1}\\right)$"
      ],
      "text/plain": [
       "R*(-\\theta_1*(\\alpha_1*w_2 - \\alpha_2*w_1) + w_1*(\\theta_1 - 1) - w_2 + (-\\alpha_1 - \\alpha_2)*(w_1 + w_2)) + \\theta_1*r*w_1 - \\theta_1*r*(\\alpha_1*w_2 - \\alpha_2*w_1)"
      ]
     },
     "execution_count": 263,
     "metadata": {},
     "output_type": "execute_result"
    }
   ],
   "source": [
    "G_of_x_θ2_0.subs([(x,1)]).collect(R).collect(α1).collect(α2).collect(w1+w2)"
   ]
  },
  {
   "cell_type": "markdown",
   "id": "15c43809",
   "metadata": {},
   "source": [
    "# Special Case $\\theta_1 = 1, \\theta_2 = 0$\n"
   ]
  },
  {
   "cell_type": "code",
   "execution_count": 181,
   "id": "41708772",
   "metadata": {},
   "outputs": [],
   "source": [
    "G_of_x_1_0 = to_solve.subs([(θ1,1),(θ2,0)])"
   ]
  },
  {
   "cell_type": "code",
   "execution_count": 190,
   "id": "934bee76",
   "metadata": {},
   "outputs": [],
   "source": [
    "leading_term = simplify(diff(diff(G_of_x_1_0,x),x)/2)"
   ]
  },
  {
   "cell_type": "code",
   "execution_count": 192,
   "id": "4164faa6",
   "metadata": {},
   "outputs": [
    {
     "data": {
      "text/latex": [
       "$\\displaystyle - R w_{2} \\left(\\alpha_{2} + 1\\right)$"
      ],
      "text/plain": [
       "-R*w_2*(\\alpha_2 + 1)"
      ]
     },
     "execution_count": 192,
     "metadata": {},
     "output_type": "execute_result"
    }
   ],
   "source": [
    "G_of_x_1_0.subs([(x,0)])"
   ]
  },
  {
   "cell_type": "code",
   "execution_count": 193,
   "id": "e3d14625",
   "metadata": {},
   "outputs": [
    {
     "data": {
      "text/latex": [
       "$\\displaystyle - 2 R \\alpha_{1} w_{2}$"
      ],
      "text/plain": [
       "-2*R*\\alpha_1*w_2"
      ]
     },
     "execution_count": 193,
     "metadata": {},
     "output_type": "execute_result"
    }
   ],
   "source": [
    "diff(G_of_x_1_0,x).subs([(x,0)])"
   ]
  },
  {
   "cell_type": "code",
   "execution_count": 219,
   "id": "e71e410f",
   "metadata": {},
   "outputs": [
    {
     "data": {
      "text/latex": [
       "$\\displaystyle - \\alpha_{1} \\left(R + r\\right) \\left(w_{1} + w_{2}\\right) + \\left(r \\left(w_{1} + w_{2}\\right) - w_{2} \\left(R + r\\right)\\right) \\left(\\alpha_{1} + \\alpha_{2} + 1\\right)$"
      ],
      "text/plain": [
       "-\\alpha_1*(R + r)*(w_1 + w_2) + (r*(w_1 + w_2) - w_2*(R + r))*(\\alpha_1 + \\alpha_2 + 1)"
      ]
     },
     "execution_count": 219,
     "metadata": {},
     "output_type": "execute_result"
    }
   ],
   "source": [
    "G_of_x_1_0_at1 = G_of_x_1_0.subs([(x,1)])\n",
    "G_of_x_1_0_at1.collect(1 + α1+α2).collect(R+r)"
   ]
  },
  {
   "cell_type": "code",
   "execution_count": 221,
   "id": "37dfdc88",
   "metadata": {},
   "outputs": [
    {
     "data": {
      "text/latex": [
       "$\\displaystyle - W(1) \\alpha_{1} + r w_{1} + \\left(1 - r\\right) \\left(\\gamma \\left(W(1) \\alpha_{1} + w_{2}\\right) - w_{2}\\right)$"
      ],
      "text/plain": [
       "-W(1)*\\alpha_1 + r*w_1 + (1 - r)*(gamma*(W(1)*\\alpha_1 + w_2) - w_2)"
      ]
     },
     "metadata": {},
     "output_type": "display_data"
    },
    {
     "data": {
      "text/latex": [
       "$\\displaystyle \\frac{- W(1) \\alpha_{1} + r w_{1} + r w_{2} - w_{2}}{W(1) \\alpha_{1} r - W(1) \\alpha_{1} + r w_{2} - w_{2}}$"
      ],
      "text/plain": [
       "(-W(1)*\\alpha_1 + r*w_1 + r*w_2 - w_2)/(W(1)*\\alpha_1*r - W(1)*\\alpha_1 + r*w_2 - w_2)"
      ]
     },
     "execution_count": 221,
     "metadata": {},
     "output_type": "execute_result"
    }
   ],
   "source": [
    "# divide this by 1 + α1 + α2\n",
    "expr = -α1*(R+r)*W1 + r*(w1+w2) - w2*(R+r)\n",
    "expr = expr.subs([(R,(1-r)*(1-γ))])\n",
    "display(expand(expr).collect(γ).collect(W1).collect(α1).collect(w2).collect(1-r))\n",
    "\n",
    "solve(expr,γ)[0]"
   ]
  },
  {
   "cell_type": "markdown",
   "id": "d73df318",
   "metadata": {},
   "source": [
    "# Special Case $\\theta_1 = 1/2, \\theta_2 = 0$"
   ]
  },
  {
   "cell_type": "code",
   "execution_count": 269,
   "id": "67b48dd9",
   "metadata": {},
   "outputs": [],
   "source": [
    "z = symbols('z')"
   ]
  },
  {
   "cell_type": "code",
   "execution_count": 264,
   "id": "9149b293",
   "metadata": {},
   "outputs": [
    {
     "data": {
      "text/latex": [
       "$\\displaystyle r x \\left(w_{1} x^{\\theta_{1}} + w_{2} x^{\\theta_{2}}\\right) \\left(\\alpha_{1} x^{\\theta_{1}} + \\alpha_{2} x^{\\theta_{2}} + 1\\right) - \\left(R + r x\\right) \\left(w_{1} x^{\\theta_{1}} + w_{2} x^{\\theta_{2}}\\right) \\left(\\alpha_{1} \\theta_{1} x^{\\theta_{1}} + \\alpha_{2} \\theta_{2} x^{\\theta_{2}}\\right) + \\left(R + r x\\right) \\left(\\alpha_{1} x^{\\theta_{1}} + \\alpha_{2} x^{\\theta_{2}} + 1\\right) \\left(\\theta_{1} w_{1} x^{\\theta_{1}} + \\theta_{2} w_{2} x^{\\theta_{2}} - w_{1} x^{\\theta_{1}} - w_{2} x^{\\theta_{2}}\\right)$"
      ],
      "text/plain": [
       "r*x*(w_1*x**\\theta_1 + w_2*x**\\theta_2)*(\\alpha_1*x**\\theta_1 + \\alpha_2*x**\\theta_2 + 1) - (R + r*x)*(w_1*x**\\theta_1 + w_2*x**\\theta_2)*(\\alpha_1*\\theta_1*x**\\theta_1 + \\alpha_2*\\theta_2*x**\\theta_2) + (R + r*x)*(\\alpha_1*x**\\theta_1 + \\alpha_2*x**\\theta_2 + 1)*(\\theta_1*w_1*x**\\theta_1 + \\theta_2*w_2*x**\\theta_2 - w_1*x**\\theta_1 - w_2*x**\\theta_2)"
      ]
     },
     "execution_count": 264,
     "metadata": {},
     "output_type": "execute_result"
    }
   ],
   "source": [
    "to_solve"
   ]
  },
  {
   "cell_type": "code",
   "execution_count": null,
   "id": "c0e9cbdd",
   "metadata": {},
   "outputs": [],
   "source": []
  },
  {
   "cell_type": "code",
   "execution_count": 276,
   "id": "67427eb7",
   "metadata": {},
   "outputs": [],
   "source": [
    "G_of_x_half_0 = to_solve.subs([(θ1,Rational(1,2)),(θ2,0)])"
   ]
  },
  {
   "cell_type": "code",
   "execution_count": 277,
   "id": "da07a8f8",
   "metadata": {},
   "outputs": [],
   "source": [
    "G_of_z = G_of_x_half_0.subs([(x**(Rational(1,2)),z)])"
   ]
  },
  {
   "cell_type": "code",
   "execution_count": 281,
   "id": "c43d204e",
   "metadata": {},
   "outputs": [
    {
     "data": {
      "text/latex": [
       "$\\displaystyle - R \\alpha_{1} w_{1} z^{2} - R \\alpha_{2} w_{2} - R w_{2} + r z^{3} \\left(- \\frac{\\alpha_{1} w_{2}}{2} + \\frac{\\alpha_{2} w_{1}}{2} + \\frac{w_{1}}{2}\\right) + z \\left(- \\frac{3 R \\alpha_{1} w_{2}}{2} - \\frac{R \\alpha_{2} w_{1}}{2} - \\frac{R w_{1}}{2}\\right)$"
      ],
      "text/plain": [
       "-R*\\alpha_1*w_1*z**2 - R*\\alpha_2*w_2 - R*w_2 + r*z**3*(-\\alpha_1*w_2/2 + \\alpha_2*w_1/2 + w_1/2) + z*(-3*R*\\alpha_1*w_2/2 - R*\\alpha_2*w_1/2 - R*w_1/2)"
      ]
     },
     "execution_count": 281,
     "metadata": {},
     "output_type": "execute_result"
    }
   ],
   "source": [
    "G_of_z = expand(G_of_z).collect(z).collect(r)"
   ]
  },
  {
   "cell_type": "code",
   "execution_count": 284,
   "id": "611958f8",
   "metadata": {},
   "outputs": [
    {
     "data": {
      "text/latex": [
       "$\\displaystyle - \\frac{3 R \\alpha_{1} w_{2}}{2} - \\frac{R w_{1} \\left(\\alpha_{2} + 1\\right)}{2}$"
      ],
      "text/plain": [
       "-3*R*\\alpha_1*w_2/2 - R*w_1*(\\alpha_2 + 1)/2"
      ]
     },
     "execution_count": 284,
     "metadata": {},
     "output_type": "execute_result"
    }
   ],
   "source": [
    "diff(G_of_z,z).subs([(z,0)])"
   ]
  },
  {
   "cell_type": "code",
   "execution_count": null,
   "id": "1bf92986",
   "metadata": {},
   "outputs": [],
   "source": []
  }
 ],
 "metadata": {
  "kernelspec": {
   "display_name": "Python 3 (ipykernel)",
   "language": "python",
   "name": "python3"
  },
  "language_info": {
   "codemirror_mode": {
    "name": "ipython",
    "version": 3
   },
   "file_extension": ".py",
   "mimetype": "text/x-python",
   "name": "python",
   "nbconvert_exporter": "python",
   "pygments_lexer": "ipython3",
   "version": "3.9.13"
  }
 },
 "nbformat": 4,
 "nbformat_minor": 5
}
