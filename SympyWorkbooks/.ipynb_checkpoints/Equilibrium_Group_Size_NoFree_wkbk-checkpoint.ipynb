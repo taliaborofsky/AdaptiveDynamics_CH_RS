{
 "cells": [
  {
   "cell_type": "markdown",
   "id": "ca015b2b",
   "metadata": {},
   "source": [
    "# Finding the equilibrium group size if the group decides whether to allow individuals to leave or join"
   ]
  },
  {
   "cell_type": "code",
   "execution_count": 165,
   "id": "0f47f0eb",
   "metadata": {},
   "outputs": [],
   "source": [
    "from sympy import *\n",
    "from sympy.abc import gamma"
   ]
  },
  {
   "cell_type": "code",
   "execution_count": 166,
   "id": "39f3ab61",
   "metadata": {},
   "outputs": [],
   "source": [
    "γ = gamma\n",
    "w1, w2, α1, α2, r, R, x, θ1, θ2 = symbols('w_1, w_2, \\\\alpha_1, \\\\alpha_2, r, R, x, \\\\theta_1, \\\\theta_2')\n"
   ]
  },
  {
   "cell_type": "code",
   "execution_count": 167,
   "id": "b5f806f1",
   "metadata": {},
   "outputs": [],
   "source": [
    "W = (w1*x**θ1 + w2*x**θ2)/(x*(1+α1*x**θ1 + α2*x**θ2))*(R+r*x)"
   ]
  },
  {
   "cell_type": "code",
   "execution_count": 168,
   "id": "6472e10b",
   "metadata": {},
   "outputs": [
    {
     "data": {
      "text/latex": [
       "$\\displaystyle \\frac{\\left(R + r x\\right) \\left(w_{1} x^{\\theta_{1}} + w_{2} x^{\\theta_{2}}\\right)}{x \\left(\\alpha_{1} x^{\\theta_{1}} + \\alpha_{2} x^{\\theta_{2}} + 1\\right)}$"
      ],
      "text/plain": [
       "(R + r*x)*(w_1*x**\\theta_1 + w_2*x**\\theta_2)/(x*(\\alpha_1*x**\\theta_1 + \\alpha_2*x**\\theta_2 + 1))"
      ]
     },
     "execution_count": 168,
     "metadata": {},
     "output_type": "execute_result"
    }
   ],
   "source": [
    "W"
   ]
  },
  {
   "cell_type": "code",
   "execution_count": 169,
   "id": "c1e64b6d",
   "metadata": {},
   "outputs": [
    {
     "data": {
      "text/latex": [
       "$\\displaystyle \\frac{r \\left(w_{1} x^{\\theta_{1}} + w_{2} x^{\\theta_{2}}\\right)}{x \\left(\\alpha_{1} x^{\\theta_{1}} + \\alpha_{2} x^{\\theta_{2}} + 1\\right)} + \\frac{\\left(R + r x\\right) \\left(w_{1} x^{\\theta_{1}} + w_{2} x^{\\theta_{2}}\\right) \\left(- \\frac{\\alpha_{1} \\theta_{1} x^{\\theta_{1}}}{x} - \\frac{\\alpha_{2} \\theta_{2} x^{\\theta_{2}}}{x}\\right)}{x \\left(\\alpha_{1} x^{\\theta_{1}} + \\alpha_{2} x^{\\theta_{2}} + 1\\right)^{2}} + \\frac{\\left(R + r x\\right) \\left(\\frac{\\theta_{1} w_{1} x^{\\theta_{1}}}{x} + \\frac{\\theta_{2} w_{2} x^{\\theta_{2}}}{x}\\right)}{x \\left(\\alpha_{1} x^{\\theta_{1}} + \\alpha_{2} x^{\\theta_{2}} + 1\\right)} - \\frac{\\left(R + r x\\right) \\left(w_{1} x^{\\theta_{1}} + w_{2} x^{\\theta_{2}}\\right)}{x^{2} \\left(\\alpha_{1} x^{\\theta_{1}} + \\alpha_{2} x^{\\theta_{2}} + 1\\right)}$"
      ],
      "text/plain": [
       "r*(w_1*x**\\theta_1 + w_2*x**\\theta_2)/(x*(\\alpha_1*x**\\theta_1 + \\alpha_2*x**\\theta_2 + 1)) + (R + r*x)*(w_1*x**\\theta_1 + w_2*x**\\theta_2)*(-\\alpha_1*\\theta_1*x**\\theta_1/x - \\alpha_2*\\theta_2*x**\\theta_2/x)/(x*(\\alpha_1*x**\\theta_1 + \\alpha_2*x**\\theta_2 + 1)**2) + (R + r*x)*(\\theta_1*w_1*x**\\theta_1/x + \\theta_2*w_2*x**\\theta_2/x)/(x*(\\alpha_1*x**\\theta_1 + \\alpha_2*x**\\theta_2 + 1)) - (R + r*x)*(w_1*x**\\theta_1 + w_2*x**\\theta_2)/(x**2*(\\alpha_1*x**\\theta_1 + \\alpha_2*x**\\theta_2 + 1))"
      ]
     },
     "execution_count": 169,
     "metadata": {},
     "output_type": "execute_result"
    }
   ],
   "source": [
    "diff(W,x)"
   ]
  },
  {
   "cell_type": "code",
   "execution_count": 170,
   "id": "09416f48",
   "metadata": {},
   "outputs": [
    {
     "data": {
      "text/latex": [
       "$\\displaystyle \\frac{r x \\left(w_{1} x^{\\theta_{1}} + w_{2} x^{\\theta_{2}}\\right) \\left(\\alpha_{1} x^{\\theta_{1}} + \\alpha_{2} x^{\\theta_{2}} + 1\\right) - \\left(R + r x\\right) \\left(w_{1} x^{\\theta_{1}} + w_{2} x^{\\theta_{2}}\\right) \\left(\\alpha_{1} \\theta_{1} x^{\\theta_{1}} + \\alpha_{2} \\theta_{2} x^{\\theta_{2}}\\right) + \\left(R + r x\\right) \\left(\\alpha_{1} x^{\\theta_{1}} + \\alpha_{2} x^{\\theta_{2}} + 1\\right) \\left(\\theta_{1} w_{1} x^{\\theta_{1}} + \\theta_{2} w_{2} x^{\\theta_{2}} - w_{1} x^{\\theta_{1}} - w_{2} x^{\\theta_{2}}\\right)}{x^{2} \\left(\\alpha_{1} x^{\\theta_{1}} + \\alpha_{2} x^{\\theta_{2}} + 1\\right)^{2}}$"
      ],
      "text/plain": [
       "(r*x*(w_1*x**\\theta_1 + w_2*x**\\theta_2)*(\\alpha_1*x**\\theta_1 + \\alpha_2*x**\\theta_2 + 1) - (R + r*x)*(w_1*x**\\theta_1 + w_2*x**\\theta_2)*(\\alpha_1*\\theta_1*x**\\theta_1 + \\alpha_2*\\theta_2*x**\\theta_2) + (R + r*x)*(\\alpha_1*x**\\theta_1 + \\alpha_2*x**\\theta_2 + 1)*(\\theta_1*w_1*x**\\theta_1 + \\theta_2*w_2*x**\\theta_2 - w_1*x**\\theta_1 - w_2*x**\\theta_2))/(x**2*(\\alpha_1*x**\\theta_1 + \\alpha_2*x**\\theta_2 + 1)**2)"
      ]
     },
     "execution_count": 170,
     "metadata": {},
     "output_type": "execute_result"
    }
   ],
   "source": [
    "dWdx = simplify(diff(W,x))\n",
    "dWdx"
   ]
  },
  {
   "cell_type": "code",
   "execution_count": 171,
   "id": "b1ea0eab",
   "metadata": {},
   "outputs": [],
   "source": [
    "n,d = fraction(dWdx)"
   ]
  },
  {
   "cell_type": "code",
   "execution_count": 156,
   "id": "1df7d68b",
   "metadata": {},
   "outputs": [
    {
     "data": {
      "text/latex": [
       "$\\displaystyle r x \\left(w_{1} x^{\\theta_{1}} + w_{2} x^{\\theta_{2}}\\right) \\left(\\alpha_{1} x^{\\theta_{1}} + \\alpha_{2} x^{\\theta_{2}} + 1\\right) - \\left(R + r x\\right) \\left(w_{1} x^{\\theta_{1}} + w_{2} x^{\\theta_{2}}\\right) \\left(\\alpha_{1} \\theta_{1} x^{\\theta_{1}} + \\alpha_{2} \\theta_{2} x^{\\theta_{2}}\\right) + \\left(R + r x\\right) \\left(\\alpha_{1} x^{\\theta_{1}} + \\alpha_{2} x^{\\theta_{2}} + 1\\right) \\left(\\theta_{1} w_{1} x^{\\theta_{1}} + \\theta_{2} w_{2} x^{\\theta_{2}} - w_{1} x^{\\theta_{1}} - w_{2} x^{\\theta_{2}}\\right)$"
      ],
      "text/plain": [
       "r*x*(w_1*x**\\theta_1 + w_2*x**\\theta_2)*(\\alpha_1*x**\\theta_1 + \\alpha_2*x**\\theta_2 + 1) - (R + r*x)*(w_1*x**\\theta_1 + w_2*x**\\theta_2)*(\\alpha_1*\\theta_1*x**\\theta_1 + \\alpha_2*\\theta_2*x**\\theta_2) + (R + r*x)*(\\alpha_1*x**\\theta_1 + \\alpha_2*x**\\theta_2 + 1)*(\\theta_1*w_1*x**\\theta_1 + \\theta_2*w_2*x**\\theta_2 - w_1*x**\\theta_1 - w_2*x**\\theta_2)"
      ]
     },
     "execution_count": 156,
     "metadata": {},
     "output_type": "execute_result"
    }
   ],
   "source": [
    "to_solve = n\n",
    "to_solve"
   ]
  },
  {
   "cell_type": "code",
   "execution_count": 172,
   "id": "6dc5f1ec",
   "metadata": {},
   "outputs": [
    {
     "data": {
      "text/latex": [
       "$\\displaystyle R \\left(- \\alpha_{1} w_{1} x^{2 \\theta_{1}} - \\alpha_{2} w_{2} x^{2 \\theta_{2}} + \\theta_{1} w_{1} x^{\\theta_{1}} + \\theta_{2} w_{2} x^{\\theta_{2}} - w_{1} x^{\\theta_{1}} - w_{2} x^{\\theta_{2}}\\right) + r \\left(\\theta_{1} w_{1} x x^{\\theta_{1}} + \\theta_{2} w_{2} x x^{\\theta_{2}}\\right) + x^{\\theta_{1}} x^{\\theta_{2}} \\left(R \\left(\\alpha_{1} w_{2} \\left(- \\theta_{1} + \\theta_{2} - 1\\right) + \\alpha_{2} w_{1} \\left(\\theta_{1} - \\theta_{2} - 1\\right)\\right) + r x \\left(\\alpha_{1} w_{2} \\left(- \\theta_{1} + \\theta_{2}\\right) + \\alpha_{2} w_{1} \\left(\\theta_{1} - \\theta_{2}\\right)\\right)\\right)$"
      ],
      "text/plain": [
       "R*(-\\alpha_1*w_1*x**(2*\\theta_1) - \\alpha_2*w_2*x**(2*\\theta_2) + \\theta_1*w_1*x**\\theta_1 + \\theta_2*w_2*x**\\theta_2 - w_1*x**\\theta_1 - w_2*x**\\theta_2) + r*(\\theta_1*w_1*x*x**\\theta_1 + \\theta_2*w_2*x*x**\\theta_2) + x**\\theta_1*x**\\theta_2*(R*(\\alpha_1*w_2*(-\\theta_1 + \\theta_2 - 1) + \\alpha_2*w_1*(\\theta_1 - \\theta_2 - 1)) + r*x*(\\alpha_1*w_2*(-\\theta_1 + \\theta_2) + \\alpha_2*w_1*(\\theta_1 - \\theta_2)))"
      ]
     },
     "metadata": {},
     "output_type": "display_data"
    }
   ],
   "source": [
    "G_of_x = expand(n).collect(x**(2*θ1)).collect(x**(2*θ2)).collect(x*x**θ1*x**θ2).collect(x**θ1*x**θ2)\\\n",
    ".collect(R).collect(α1*w2).collect(α2*w1).collect(r)\n",
    "display(G_of_x)"
   ]
  },
  {
   "cell_type": "code",
   "execution_count": 173,
   "id": "702937dd",
   "metadata": {},
   "outputs": [
    {
     "data": {
      "text/latex": [
       "$\\displaystyle - R \\alpha_{1} \\theta_{1} w_{2} x^{\\theta_{1}} - R \\alpha_{1} w_{1} x^{2 \\theta_{1}} - R \\alpha_{1} w_{2} x^{\\theta_{1}} + R \\alpha_{2} \\theta_{1} w_{1} x^{\\theta_{1}} - R \\alpha_{2} w_{1} x^{\\theta_{1}} - R \\alpha_{2} w_{2} + R \\theta_{1} w_{1} x^{\\theta_{1}} - R w_{1} x^{\\theta_{1}} - R w_{2} - \\alpha_{1} \\theta_{1} r w_{2} x x^{\\theta_{1}} + \\alpha_{2} \\theta_{1} r w_{1} x x^{\\theta_{1}} + \\theta_{1} r w_{1} x x^{\\theta_{1}}$"
      ],
      "text/plain": [
       "-R*\\alpha_1*\\theta_1*w_2*x**\\theta_1 - R*\\alpha_1*w_1*x**(2*\\theta_1) - R*\\alpha_1*w_2*x**\\theta_1 + R*\\alpha_2*\\theta_1*w_1*x**\\theta_1 - R*\\alpha_2*w_1*x**\\theta_1 - R*\\alpha_2*w_2 + R*\\theta_1*w_1*x**\\theta_1 - R*w_1*x**\\theta_1 - R*w_2 - \\alpha_1*\\theta_1*r*w_2*x*x**\\theta_1 + \\alpha_2*\\theta_1*r*w_1*x*x**\\theta_1 + \\theta_1*r*w_1*x*x**\\theta_1"
      ]
     },
     "metadata": {},
     "output_type": "display_data"
    }
   ],
   "source": [
    "G_of_x_theta2_0 = expand(G_of_x.subs([(θ2,0)]))\n",
    "display(G_of_x_theta2_0)"
   ]
  },
  {
   "cell_type": "code",
   "execution_count": 179,
   "id": "80bdf28f",
   "metadata": {},
   "outputs": [
    {
     "data": {
      "text/latex": [
       "$\\displaystyle R \\left(- \\alpha_{1} w_{1} x^{2 \\theta_{1}} - \\alpha_{2} w_{2} - w_{2}\\right) + x^{\\theta_{1}} \\left(R \\left(- \\alpha_{1} \\theta_{1} w_{2} - \\alpha_{1} w_{2} + \\alpha_{2} \\theta_{1} w_{1} - \\alpha_{2} w_{1} + \\theta_{1} w_{1} - w_{1}\\right) + x \\left(- \\alpha_{1} \\theta_{1} r w_{2} + \\alpha_{2} \\theta_{1} r w_{1} + \\theta_{1} r w_{1}\\right)\\right)$"
      ],
      "text/plain": [
       "R*(-\\alpha_1*w_1*x**(2*\\theta_1) - \\alpha_2*w_2 - w_2) + x**\\theta_1*(R*(-\\alpha_1*\\theta_1*w_2 - \\alpha_1*w_2 + \\alpha_2*\\theta_1*w_1 - \\alpha_2*w_1 + \\theta_1*w_1 - w_1) + x*(-\\alpha_1*\\theta_1*r*w_2 + \\alpha_2*\\theta_1*r*w_1 + \\theta_1*r*w_1))"
      ]
     },
     "metadata": {},
     "output_type": "display_data"
    }
   ],
   "source": [
    "display(G_of_x_theta2_0.collect(x).collect(x**θ1).collect(R))"
   ]
  },
  {
   "cell_type": "code",
   "execution_count": 152,
   "id": "42f5ee1d",
   "metadata": {},
   "outputs": [
    {
     "data": {
      "text/latex": [
       "$\\displaystyle R \\left(w_{1} + w_{2}\\right) \\left(- \\alpha_{1} - \\alpha_{2} - 1\\right) + \\theta_{1} \\left(R + r\\right) \\left(- \\alpha_{1} w_{2} + w_{1} \\left(\\alpha_{2} + 1\\right)\\right)$"
      ],
      "text/plain": [
       "R*(w_1 + w_2)*(-\\alpha_1 - \\alpha_2 - 1) + \\theta_1*(R + r)*(-\\alpha_1*w_2 + w_1*(\\alpha_2 + 1))"
      ]
     },
     "execution_count": 152,
     "metadata": {},
     "output_type": "execute_result"
    }
   ],
   "source": [
    "G_of_x_theta2_0_at_1 = G_of_x_theta2_0.subs([(x,1)]).collect(θ1).collect(R).collect(r).\\\n",
    "collect(w1).collect(w2).collect(-α1-α2-1).collect(-α1*w2+w1*(α2+1))\n",
    "G_of_x_theta2_0_at_1"
   ]
  },
  {
   "cell_type": "code",
   "execution_count": 146,
   "id": "3a4c83c4",
   "metadata": {},
   "outputs": [
    {
     "data": {
      "text/latex": [
       "$\\displaystyle - \\left(R + r\\right) \\left(\\alpha_{1} w_{2} - \\alpha_{2} w_{1} - w_{1}\\right)$"
      ],
      "text/plain": [
       "-(R + r)*(\\alpha_1*w_2 - \\alpha_2*w_1 - w_1)"
      ]
     },
     "execution_count": 146,
     "metadata": {},
     "output_type": "execute_result"
    }
   ],
   "source": [
    "factor(G_of_x_theta2_0_at_1.coeff(θ1))"
   ]
  },
  {
   "cell_type": "code",
   "execution_count": 46,
   "id": "5fe2ff7d",
   "metadata": {},
   "outputs": [
    {
     "data": {
      "text/latex": [
       "$\\displaystyle - \\frac{\\left(w_{1} + w_{2}\\right) \\left(\\alpha_{1} + \\alpha_{2} + 1\\right)}{\\alpha_{1} w_{2} - \\alpha_{2} w_{1} - w_{1}}$"
      ],
      "text/plain": [
       "-(w_1 + w_2)*(\\alpha_1 + \\alpha_2 + 1)/(\\alpha_1*w_2 - \\alpha_2*w_1 - w_1)"
      ]
     },
     "execution_count": 46,
     "metadata": {},
     "output_type": "execute_result"
    }
   ],
   "source": [
    "ans = solve(G_of_x_theta2_0.subs([(x,1)]), θ1)\n",
    "factor(ans[0])"
   ]
  },
  {
   "cell_type": "code",
   "execution_count": 38,
   "id": "60a4d629",
   "metadata": {},
   "outputs": [],
   "source": [
    "discrim = G_of_x_theta2_0.coeff(x**θ1)**2 + 4*G_of_x_theta2_0.coeff(x**(2*θ1))*w2*(1+α2)"
   ]
  },
  {
   "cell_type": "code",
   "execution_count": 41,
   "id": "39d00999",
   "metadata": {},
   "outputs": [
    {
     "data": {
      "text/latex": [
       "$\\displaystyle - 4 \\alpha_{1} w_{1} w_{2} \\left(\\alpha_{2} + 1\\right) + \\left(\\alpha_{1} w_{2} \\left(- \\theta_{1} - 1\\right) + w_{1} \\left(\\alpha_{2} + 1\\right) \\left(\\theta_{1} - 1\\right)\\right)^{2}$"
      ],
      "text/plain": [
       "-4*\\alpha_1*w_1*w_2*(\\alpha_2 + 1) + (\\alpha_1*w_2*(-\\theta_1 - 1) + w_1*(\\alpha_2 + 1)*(\\theta_1 - 1))**2"
      ]
     },
     "execution_count": 41,
     "metadata": {},
     "output_type": "execute_result"
    }
   ],
   "source": [
    "discrim"
   ]
  },
  {
   "cell_type": "markdown",
   "id": "e976cf00",
   "metadata": {},
   "source": [
    "## Special case $\\theta_1 = 1, \\theta_2 = 0$"
   ]
  },
  {
   "cell_type": "code",
   "execution_count": 164,
   "id": "d5389157",
   "metadata": {},
   "outputs": [
    {
     "data": {
      "text/latex": [
       "$\\displaystyle - 2 R \\alpha_{1} w_{2} x - R \\alpha_{2} w_{2} - R w_{2} + x^{2} \\left(- R \\alpha_{1} w_{1} + r \\left(- \\alpha_{1} w_{2} + \\alpha_{2} w_{1} + w_{1}\\right)\\right)$"
      ],
      "text/plain": [
       "-2*R*\\alpha_1*w_2*x - R*\\alpha_2*w_2 - R*w_2 + x**2*(-R*\\alpha_1*w_1 + r*(-\\alpha_1*w_2 + \\alpha_2*w_1 + w_1))"
      ]
     },
     "execution_count": 164,
     "metadata": {},
     "output_type": "execute_result"
    }
   ],
   "source": [
    "G10 = G_of_x_theta2_0.subs([(θ1,1)])\n",
    "G10.collect(x).collect(r)"
   ]
  },
  {
   "cell_type": "code",
   "execution_count": null,
   "id": "e5843b95",
   "metadata": {},
   "outputs": [],
   "source": []
  }
 ],
 "metadata": {
  "kernelspec": {
   "display_name": "Python 3 (ipykernel)",
   "language": "python",
   "name": "python3"
  },
  "language_info": {
   "codemirror_mode": {
    "name": "ipython",
    "version": 3
   },
   "file_extension": ".py",
   "mimetype": "text/x-python",
   "name": "python",
   "nbconvert_exporter": "python",
   "pygments_lexer": "ipython3",
   "version": "3.9.13"
  }
 },
 "nbformat": 4,
 "nbformat_minor": 5
}
