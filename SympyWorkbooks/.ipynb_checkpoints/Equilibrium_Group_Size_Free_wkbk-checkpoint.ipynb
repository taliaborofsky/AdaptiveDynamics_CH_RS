{
 "cells": [
  {
   "cell_type": "code",
   "execution_count": 2,
   "id": "b66aac79",
   "metadata": {},
   "outputs": [],
   "source": [
    "from sympy import *\n",
    "from sympy.abc import gamma"
   ]
  },
  {
   "cell_type": "code",
   "execution_count": 7,
   "id": "bdc83cd3",
   "metadata": {},
   "outputs": [],
   "source": [
    "γ = gamma\n",
    "w1, w2, α1, α2, r, R, x, W1 = symbols('w_1, w_2, \\\\alpha_1, \\\\alpha_2, r, R, x, \\\\tilde{W}(1)')\n"
   ]
  },
  {
   "cell_type": "code",
   "execution_count": 44,
   "id": "d5c6005a",
   "metadata": {},
   "outputs": [],
   "source": [
    "eqn_to_solve = (w1*x**2 + w2)*(R + r*x) - (w1 + w2)*(x**2 + α1*x**3 + α2*x)/(1+α1 + α2)\n",
    "eqn_to_solve = simplify(eqn_to_solve*(1+α1 + α2))"
   ]
  },
  {
   "cell_type": "code",
   "execution_count": 45,
   "id": "9e204c60",
   "metadata": {},
   "outputs": [],
   "source": [
    "expanded_eqn_to_solve = expand(eqn_to_solve).collect(x)\n",
    "term1 = expanded_eqn_to_solve.coeff(x**3)"
   ]
  },
  {
   "cell_type": "code",
   "execution_count": 46,
   "id": "b7a85291",
   "metadata": {},
   "outputs": [
    {
     "data": {
      "text/latex": [
       "$\\displaystyle R \\alpha_{1} w_{2} + R \\alpha_{2} w_{2} + R w_{2} + x^{3} \\left(\\alpha_{1} r w_{1} - \\alpha_{1} w_{1} - \\alpha_{1} w_{2} + \\alpha_{2} r w_{1} + r w_{1}\\right) + x^{2} \\left(R \\alpha_{1} w_{1} + R \\alpha_{2} w_{1} + R w_{1} - w_{1} - w_{2}\\right) + x \\left(\\alpha_{1} r w_{2} + \\alpha_{2} r w_{2} - \\alpha_{2} w_{1} - \\alpha_{2} w_{2} + r w_{2}\\right)$"
      ],
      "text/plain": [
       "R*\\alpha_1*w_2 + R*\\alpha_2*w_2 + R*w_2 + x**3*(\\alpha_1*r*w_1 - \\alpha_1*w_1 - \\alpha_1*w_2 + \\alpha_2*r*w_1 + r*w_1) + x**2*(R*\\alpha_1*w_1 + R*\\alpha_2*w_1 + R*w_1 - w_1 - w_2) + x*(\\alpha_1*r*w_2 + \\alpha_2*r*w_2 - \\alpha_2*w_1 - \\alpha_2*w_2 + r*w_2)"
      ]
     },
     "execution_count": 46,
     "metadata": {},
     "output_type": "execute_result"
    }
   ],
   "source": [
    "expanded_eqn_to_solve"
   ]
  },
  {
   "cell_type": "code",
   "execution_count": 47,
   "id": "50f5a782",
   "metadata": {},
   "outputs": [
    {
     "data": {
      "text/latex": [
       "$\\displaystyle \\alpha_{1} r w_{1} - \\alpha_{1} w_{1} - \\alpha_{1} w_{2} + \\alpha_{2} r w_{1} + r w_{1}$"
      ],
      "text/plain": [
       "\\alpha_1*r*w_1 - \\alpha_1*w_1 - \\alpha_1*w_2 + \\alpha_2*r*w_1 + r*w_1"
      ]
     },
     "execution_count": 47,
     "metadata": {},
     "output_type": "execute_result"
    }
   ],
   "source": [
    "factor(term1)"
   ]
  },
  {
   "cell_type": "code",
   "execution_count": 48,
   "id": "6e558707",
   "metadata": {},
   "outputs": [
    {
     "data": {
      "text/latex": [
       "$\\displaystyle R \\alpha_{1} w_{1} + R \\alpha_{2} w_{1} + R w_{1} - w_{1} - w_{2}$"
      ],
      "text/plain": [
       "R*\\alpha_1*w_1 + R*\\alpha_2*w_1 + R*w_1 - w_1 - w_2"
      ]
     },
     "execution_count": 48,
     "metadata": {},
     "output_type": "execute_result"
    }
   ],
   "source": [
    "term2 = expanded_eqn_to_solve.coeff(x**2)\n",
    "simplify(term2)"
   ]
  },
  {
   "cell_type": "code",
   "execution_count": 51,
   "id": "de2d45eb",
   "metadata": {},
   "outputs": [
    {
     "data": {
      "text/latex": [
       "$\\displaystyle \\alpha_{1} r w_{2} + \\alpha_{2} r w_{2} - \\alpha_{2} w_{1} - \\alpha_{2} w_{2} + r w_{2}$"
      ],
      "text/plain": [
       "\\alpha_1*r*w_2 + \\alpha_2*r*w_2 - \\alpha_2*w_1 - \\alpha_2*w_2 + r*w_2"
      ]
     },
     "execution_count": 51,
     "metadata": {},
     "output_type": "execute_result"
    }
   ],
   "source": [
    "term3 = expanded_eqn_to_solve.coeff(x)\n",
    "simplify(term3)"
   ]
  },
  {
   "cell_type": "code",
   "execution_count": 52,
   "id": "abb2be8a",
   "metadata": {},
   "outputs": [
    {
     "data": {
      "text/latex": [
       "$\\displaystyle R \\alpha_{1} w_{2} + R \\alpha_{2} w_{2} + R w_{2} + x^{3} \\left(\\alpha_{1} r w_{1} - \\alpha_{1} w_{1} - \\alpha_{1} w_{2} + \\alpha_{2} r w_{1} + r w_{1}\\right) + x^{2} \\left(R \\alpha_{1} w_{1} + R \\alpha_{2} w_{1} + R w_{1} - w_{1} - w_{2}\\right) + x \\left(\\alpha_{1} r w_{2} + \\alpha_{2} r w_{2} - \\alpha_{2} w_{1} - \\alpha_{2} w_{2} + r w_{2}\\right)$"
      ],
      "text/plain": [
       "R*\\alpha_1*w_2 + R*\\alpha_2*w_2 + R*w_2 + x**3*(\\alpha_1*r*w_1 - \\alpha_1*w_1 - \\alpha_1*w_2 + \\alpha_2*r*w_1 + r*w_1) + x**2*(R*\\alpha_1*w_1 + R*\\alpha_2*w_1 + R*w_1 - w_1 - w_2) + x*(\\alpha_1*r*w_2 + \\alpha_2*r*w_2 - \\alpha_2*w_1 - \\alpha_2*w_2 + r*w_2)"
      ]
     },
     "execution_count": 52,
     "metadata": {},
     "output_type": "execute_result"
    }
   ],
   "source": [
    "term4 = expanded_eqn_to_solve.coeff(x**0)\n",
    "simplify(term4)"
   ]
  },
  {
   "cell_type": "code",
   "execution_count": 54,
   "id": "0b25f7b2",
   "metadata": {},
   "outputs": [],
   "source": [
    "Q_at_2 = expanded_eqn_to_solve.subs([(x,2)])"
   ]
  },
  {
   "cell_type": "code",
   "execution_count": 61,
   "id": "12ab8e4f",
   "metadata": {},
   "outputs": [
    {
     "data": {
      "text/latex": [
       "$\\displaystyle w_{1} \\left(R \\left(4 \\alpha_{1} + 4 \\alpha_{2} + 4\\right) - 8 \\alpha_{1} - 2 \\alpha_{2} + r \\left(8 \\alpha_{1} + 8 \\alpha_{2} + 8\\right) - 4\\right) + w_{2} \\left(R \\left(\\alpha_{1} + \\alpha_{2} + 1\\right) - 8 \\alpha_{1} - 2 \\alpha_{2} + r \\left(2 \\alpha_{1} + 2 \\alpha_{2} + 2\\right) - 4\\right)$"
      ],
      "text/plain": [
       "w_1*(R*(4*\\alpha_1 + 4*\\alpha_2 + 4) - 8*\\alpha_1 - 2*\\alpha_2 + r*(8*\\alpha_1 + 8*\\alpha_2 + 8) - 4) + w_2*(R*(\\alpha_1 + \\alpha_2 + 1) - 8*\\alpha_1 - 2*\\alpha_2 + r*(2*\\alpha_1 + 2*\\alpha_2 + 2) - 4)"
      ]
     },
     "execution_count": 61,
     "metadata": {},
     "output_type": "execute_result"
    }
   ],
   "source": [
    "Q_at_2.collect(w1).collect(w2).collect(R).collect(r)"
   ]
  },
  {
   "cell_type": "markdown",
   "id": "cfeb1e34",
   "metadata": {},
   "source": [
    "# Special Case $\\theta_1 = 1/2, \\theta_2 = 0$"
   ]
  },
  {
   "cell_type": "code",
   "execution_count": null,
   "id": "5ba5b45e",
   "metadata": {},
   "outputs": [],
   "source": [
    "gamma"
   ]
  },
  {
   "cell_type": "code",
   "execution_count": null,
   "id": "76514a4d",
   "metadata": {},
   "outputs": [],
   "source": [
    "z, w1, w2, r"
   ]
  },
  {
   "cell_type": "markdown",
   "id": "58a5732e",
   "metadata": {},
   "source": [
    "# Special Case $\\theta_1 = 1, \\theta_2 = 0$"
   ]
  },
  {
   "cell_type": "code",
   "execution_count": 24,
   "id": "7857e1d8",
   "metadata": {},
   "outputs": [],
   "source": [
    "Wx_minus_W1 = (w1*x + w2)*(R + r*x)/(x*(1+α1*x + α2)) - W1"
   ]
  },
  {
   "cell_type": "code",
   "execution_count": 25,
   "id": "c9140cdd",
   "metadata": {},
   "outputs": [],
   "source": [
    "n,d = fraction(simplify(Wx_minus_W1))"
   ]
  },
  {
   "cell_type": "code",
   "execution_count": 26,
   "id": "83d82d23",
   "metadata": {},
   "outputs": [],
   "source": [
    "Q_of_x = n\n",
    "Q_of_x = expand(Q_of_x).collect(x)"
   ]
  },
  {
   "cell_type": "code",
   "execution_count": 27,
   "id": "80c435dc",
   "metadata": {},
   "outputs": [
    {
     "data": {
      "text/latex": [
       "$\\displaystyle R w_{2} + x^{2} \\left(- \\alpha_{1} \\tilde{W}(1) + r w_{1}\\right) + x \\left(R w_{1} - \\alpha_{2} \\tilde{W}(1) - \\tilde{W}(1) + r w_{2}\\right)$"
      ],
      "text/plain": [
       "R*w_2 + x**2*(-\\alpha_1*\\tilde{W}(1) + r*w_1) + x*(R*w_1 - \\alpha_2*\\tilde{W}(1) - \\tilde{W}(1) + r*w_2)"
      ]
     },
     "execution_count": 27,
     "metadata": {},
     "output_type": "execute_result"
    }
   ],
   "source": [
    "Q_of_x"
   ]
  },
  {
   "cell_type": "code",
   "execution_count": 28,
   "id": "3721a3fb",
   "metadata": {},
   "outputs": [
    {
     "data": {
      "text/latex": [
       "$\\displaystyle R w_{1} + R w_{2} - \\alpha_{1} \\tilde{W}(1) - \\alpha_{2} \\tilde{W}(1) - \\tilde{W}(1) + r w_{1} + r w_{2}$"
      ],
      "text/plain": [
       "R*w_1 + R*w_2 - \\alpha_1*\\tilde{W}(1) - \\alpha_2*\\tilde{W}(1) - \\tilde{W}(1) + r*w_1 + r*w_2"
      ]
     },
     "execution_count": 28,
     "metadata": {},
     "output_type": "execute_result"
    }
   ],
   "source": [
    "Q_of_x.subs([(x,1)])"
   ]
  },
  {
   "cell_type": "code",
   "execution_count": 50,
   "id": "6d9da7e0",
   "metadata": {},
   "outputs": [],
   "source": [
    "term_a = Q_of_x.coeff(x**2)\n",
    "term_b = Q_of_x.coeff(x)\n",
    "term_c = R*w2"
   ]
  },
  {
   "cell_type": "code",
   "execution_count": 51,
   "id": "6da1ed66",
   "metadata": {},
   "outputs": [
    {
     "data": {
      "text/latex": [
       "$\\displaystyle R^{2} w_{1}^{2} - 2 R r w_{1} w_{2} + \\tilde{W}(1)^{2} \\left(\\alpha_{2}^{2} + 2 \\alpha_{2} + 1\\right) + \\tilde{W}(1) \\left(R \\left(4 \\alpha_{1} w_{2} - 2 \\alpha_{2} w_{1} - 2 w_{1}\\right) - 2 \\alpha_{2} r w_{2} - 2 r w_{2}\\right) + r^{2} w_{2}^{2}$"
      ],
      "text/plain": [
       "R**2*w_1**2 - 2*R*r*w_1*w_2 + \\tilde{W}(1)**2*(\\alpha_2**2 + 2*\\alpha_2 + 1) + \\tilde{W}(1)*(R*(4*\\alpha_1*w_2 - 2*\\alpha_2*w_1 - 2*w_1) - 2*\\alpha_2*r*w_2 - 2*r*w_2) + r**2*w_2**2"
      ]
     },
     "execution_count": 51,
     "metadata": {},
     "output_type": "execute_result"
    }
   ],
   "source": [
    "discrim = term_b**2 - 4*term_a*term_c\n",
    "expand(discrim).collect(W1).collect(R)"
   ]
  },
  {
   "cell_type": "code",
   "execution_count": 52,
   "id": "1fd52ee7",
   "metadata": {},
   "outputs": [
    {
     "data": {
      "text/latex": [
       "$\\displaystyle - R w_{2} \\left(- 4 \\alpha_{1} \\tilde{W}(1) + 4 r w_{1}\\right) + \\left(R w_{1} - \\alpha_{2} \\tilde{W}(1) - \\tilde{W}(1) + r w_{2}\\right)^{2}$"
      ],
      "text/plain": [
       "-R*w_2*(-4*\\alpha_1*\\tilde{W}(1) + 4*r*w_1) + (R*w_1 - \\alpha_2*\\tilde{W}(1) - \\tilde{W}(1) + r*w_2)**2"
      ]
     },
     "execution_count": 52,
     "metadata": {},
     "output_type": "execute_result"
    }
   ],
   "source": [
    "discrim "
   ]
  },
  {
   "cell_type": "code",
   "execution_count": 53,
   "id": "3e4ed191",
   "metadata": {},
   "outputs": [
    {
     "data": {
      "text/latex": [
       "$\\displaystyle 4 R r w_{1} w_{2}$"
      ],
      "text/plain": [
       "4*R*r*w_1*w_2"
      ]
     },
     "execution_count": 53,
     "metadata": {},
     "output_type": "execute_result"
    }
   ],
   "source": [
    "expand((W1*(1+α2) - (R*w1 + r*w2))**2 + 4*W1*R*α1*w2 - discrim)"
   ]
  },
  {
   "cell_type": "code",
   "execution_count": 55,
   "id": "97cf0f9c",
   "metadata": {},
   "outputs": [],
   "source": [
    "J11, J12, J13, J21, J22, J23, J31, J32, J33 = symbols('J_{11}, J_{12}, J_{13}, J_{21}, J_{22}, J_{23}, J_{31}, J_{32}, J_{33}')"
   ]
  },
  {
   "cell_type": "code",
   "execution_count": 94,
   "id": "78715dd5",
   "metadata": {},
   "outputs": [],
   "source": [
    "from sympy.abc import xi, lamda"
   ]
  },
  {
   "cell_type": "code",
   "execution_count": 73,
   "id": "0ff17a6a",
   "metadata": {},
   "outputs": [],
   "source": [
    "q,x,a,A,n,N,Gp,gp, c1, c2 = symbols('q, x, a, A, n, N, \\\\frac{dG}{dN}, \\\\frac{dg}{dn}, c_1, c_2')"
   ]
  },
  {
   "cell_type": "code",
   "execution_count": 72,
   "id": "d9651acf",
   "metadata": {},
   "outputs": [
    {
     "data": {
      "text/latex": [
       "$\\displaystyle \\frac{dG}{dN}$"
      ],
      "text/plain": [
       "\\frac{dG}{dN}"
      ]
     },
     "execution_count": 72,
     "metadata": {},
     "output_type": "execute_result"
    }
   ],
   "source": [
    "Gp"
   ]
  },
  {
   "cell_type": "code",
   "execution_count": 68,
   "id": "f2f01c8d",
   "metadata": {},
   "outputs": [
    {
     "data": {
      "text/latex": [
       "$\\displaystyle \\xi$"
      ],
      "text/plain": [
       "xi"
      ]
     },
     "execution_count": 68,
     "metadata": {},
     "output_type": "execute_result"
    }
   ],
   "source": [
    "xi"
   ]
  },
  {
   "cell_type": "code",
   "execution_count": 95,
   "id": "c814a2ce",
   "metadata": {},
   "outputs": [],
   "source": [
    "Jac = Matrix([[0,J12,J13],[J21, J22, J23], [J31, J32, J33]])\n",
    "poly = Jac.charpoly(lamda)\n",
    "poly = poly.as_expr()"
   ]
  },
  {
   "cell_type": "code",
   "execution_count": 130,
   "id": "278bf2aa",
   "metadata": {},
   "outputs": [],
   "source": [
    "q,x,a,A,n,N,Gp,gp, c1, c2 = symbols('q, x, a, A, n, N, \\\\frac{dG}{dN}, \\\\frac{dg}{dn}, c_1, c_2')"
   ]
  },
  {
   "cell_type": "code",
   "execution_count": 96,
   "id": "8263346b",
   "metadata": {},
   "outputs": [
    {
     "data": {
      "text/latex": [
       "$\\displaystyle - \\frac{A^{2} N a q^{2} \\left(- c_{1} + c_{2} \\left(A N + 1\\right)\\right)}{x^{3} \\xi^{5}} - \\frac{A^{2} N q \\left(\\frac{dg}{dn} + \\frac{a q \\left(A N + 1\\right)}{x \\xi^{2}}\\right) \\left(c_{1} \\left(a n + 1\\right) - c_{2}\\right)}{x^{2} \\xi^{3}} - \\frac{A a^{2} n q^{2} \\left(c_{1} \\left(a n + 1\\right) - c_{2}\\right)}{x^{3} \\xi^{5}} - \\frac{a^{2} n q \\left(- c_{1} + c_{2} \\left(A N + 1\\right)\\right) \\left(\\frac{A q \\left(a n + 1\\right)}{x \\xi^{2}} + \\frac{dG}{dN}\\right)}{x^{2} \\xi^{3}} + \\lambda^{3} + \\lambda^{2} \\left(- \\frac{A q \\left(a n + 1\\right)}{x \\xi^{2}} - \\frac{dG}{dN} - \\frac{dg}{dn} - \\frac{a q \\left(A N + 1\\right)}{x \\xi^{2}}\\right) + \\lambda \\left(\\frac{A^{2} N q \\left(c_{1} \\left(a n + 1\\right) - c_{2}\\right)}{x^{2} \\xi^{3}} - \\frac{A a q^{2}}{x^{2} \\xi^{4}} + \\frac{a^{2} n q \\left(- c_{1} + c_{2} \\left(A N + 1\\right)\\right)}{x^{2} \\xi^{3}} + \\left(\\frac{dg}{dn} + \\frac{a q \\left(A N + 1\\right)}{x \\xi^{2}}\\right) \\left(\\frac{A q \\left(a n + 1\\right)}{x \\xi^{2}} + \\frac{dG}{dN}\\right)\\right)$"
      ],
      "text/plain": [
       "-A**2*N*a*q**2*(-c_1 + c_2*(A*N + 1))/(x**3*xi**5) - A**2*N*q*(\\frac{dg}{dn} + a*q*(A*N + 1)/(x*xi**2))*(c_1*(a*n + 1) - c_2)/(x**2*xi**3) - A*a**2*n*q**2*(c_1*(a*n + 1) - c_2)/(x**3*xi**5) - a**2*n*q*(-c_1 + c_2*(A*N + 1))*(A*q*(a*n + 1)/(x*xi**2) + \\frac{dG}{dN})/(x**2*xi**3) + lamda**3 + lamda**2*(-A*q*(a*n + 1)/(x*xi**2) - \\frac{dG}{dN} - \\frac{dg}{dn} - a*q*(A*N + 1)/(x*xi**2)) + lamda*(A**2*N*q*(c_1*(a*n + 1) - c_2)/(x**2*xi**3) - A*a*q**2/(x**2*xi**4) + a**2*n*q*(-c_1 + c_2*(A*N + 1))/(x**2*xi**3) + (\\frac{dg}{dn} + a*q*(A*N + 1)/(x*xi**2))*(A*q*(a*n + 1)/(x*xi**2) + \\frac{dG}{dN}))"
      ]
     },
     "metadata": {},
     "output_type": "display_data"
    }
   ],
   "source": [
    "poly_full = poly.subs([(J12,(q*A/x)*(c1*(1+a*n) - c2)/xi**2 ), (J13, (q*a/x)*(c2*(1+A*N) - c1)/xi**2),\n",
    "          (J21, -A*N/(x*xi)), (J22, Gp + (q/x)*(A*(1+a*n))/xi**2), (J23, -(q/x)* (a/xi**2)),\n",
    "                      (J31,-a*n/(x*xi)), (J32, -(q/x)*(A/xi**2)), (J33, gp +(a*q/x)*(1+A*N)/xi**2)])\n",
    "display(poly_full)"
   ]
  },
  {
   "cell_type": "code",
   "execution_count": 99,
   "id": "b285da43",
   "metadata": {},
   "outputs": [
    {
     "data": {
      "text/latex": [
       "$\\displaystyle - \\frac{A^{2} N a q^{2} \\left(- c_{1} + c_{2} \\left(A N + 1\\right)\\right)}{x^{3} \\xi^{5}} - \\frac{A^{2} N q \\left(\\frac{dg}{dn} + \\frac{a q \\left(A N + 1\\right)}{x \\xi^{2}}\\right) \\left(c_{1} \\left(a n + 1\\right) - c_{2}\\right)}{x^{2} \\xi^{3}} - \\frac{A a^{2} n q^{2} \\left(c_{1} \\left(a n + 1\\right) - c_{2}\\right)}{x^{3} \\xi^{5}} - \\frac{a^{2} n q \\left(- c_{1} + c_{2} \\left(A N + 1\\right)\\right) \\left(\\frac{A q \\left(a n + 1\\right)}{x \\xi^{2}} + \\frac{dG}{dN}\\right)}{x^{2} \\xi^{3}} + \\lambda^{3} + \\lambda^{2} \\left(- \\frac{A q \\left(a n + 1\\right)}{x \\xi^{2}} - \\frac{dG}{dN} - \\frac{dg}{dn} - \\frac{a q \\left(A N + 1\\right)}{x \\xi^{2}}\\right) + \\lambda \\left(\\frac{A^{2} N q \\left(c_{1} \\left(a n + 1\\right) - c_{2}\\right)}{x^{2} \\xi^{3}} - \\frac{A a q^{2}}{x^{2} \\xi^{4}} + \\frac{a^{2} n q \\left(- c_{1} + c_{2} \\left(A N + 1\\right)\\right)}{x^{2} \\xi^{3}} + \\left(\\frac{dg}{dn} + \\frac{a q \\left(A N + 1\\right)}{x \\xi^{2}}\\right) \\left(\\frac{A q \\left(a n + 1\\right)}{x \\xi^{2}} + \\frac{dG}{dN}\\right)\\right)$"
      ],
      "text/plain": [
       "-A**2*N*a*q**2*(-c_1 + c_2*(A*N + 1))/(x**3*xi**5) - A**2*N*q*(\\frac{dg}{dn} + a*q*(A*N + 1)/(x*xi**2))*(c_1*(a*n + 1) - c_2)/(x**2*xi**3) - A*a**2*n*q**2*(c_1*(a*n + 1) - c_2)/(x**3*xi**5) - a**2*n*q*(-c_1 + c_2*(A*N + 1))*(A*q*(a*n + 1)/(x*xi**2) + \\frac{dG}{dN})/(x**2*xi**3) + lamda**3 + lamda**2*(-A*q*(a*n + 1)/(x*xi**2) - \\frac{dG}{dN} - \\frac{dg}{dn} - a*q*(A*N + 1)/(x*xi**2)) + lamda*(A**2*N*q*(c_1*(a*n + 1) - c_2)/(x**2*xi**3) - A*a*q**2/(x**2*xi**4) + a**2*n*q*(-c_1 + c_2*(A*N + 1))/(x**2*xi**3) + (\\frac{dg}{dn} + a*q*(A*N + 1)/(x*xi**2))*(A*q*(a*n + 1)/(x*xi**2) + \\frac{dG}{dN}))"
      ]
     },
     "execution_count": 99,
     "metadata": {},
     "output_type": "execute_result"
    }
   ],
   "source": [
    "poly_full.collect(lamda)"
   ]
  },
  {
   "cell_type": "code",
   "execution_count": 110,
   "id": "2e2ccb13",
   "metadata": {},
   "outputs": [
    {
     "data": {
      "text/latex": [
       "$\\displaystyle \\frac{A^{2} N q \\left(c_{1} \\left(a n + 1\\right) - c_{2}\\right)}{x^{2} \\xi^{3}} - \\frac{A a q^{2}}{x^{2} \\xi^{4}} + \\frac{a^{2} n q \\left(- c_{1} + c_{2} \\left(A N + 1\\right)\\right)}{x^{2} \\xi^{3}} + \\left(\\frac{dg}{dn} + \\frac{a q \\left(A N + 1\\right)}{x \\xi^{2}}\\right) \\left(\\frac{A q \\left(a n + 1\\right)}{x \\xi^{2}} + \\frac{dG}{dN}\\right)$"
      ],
      "text/plain": [
       "A**2*N*q*(c_1*(a*n + 1) - c_2)/(x**2*xi**3) - A*a*q**2/(x**2*xi**4) + a**2*n*q*(-c_1 + c_2*(A*N + 1))/(x**2*xi**3) + (\\frac{dg}{dn} + a*q*(A*N + 1)/(x*xi**2))*(A*q*(a*n + 1)/(x*xi**2) + \\frac{dG}{dN})"
      ]
     },
     "execution_count": 110,
     "metadata": {},
     "output_type": "execute_result"
    }
   ],
   "source": [
    "poly_full.collect(lamda).coeff(lamda)"
   ]
  },
  {
   "cell_type": "markdown",
   "id": "dda44576",
   "metadata": {},
   "source": []
  }
 ],
 "metadata": {
  "kernelspec": {
   "display_name": "Python 3 (ipykernel)",
   "language": "python",
   "name": "python3"
  },
  "language_info": {
   "codemirror_mode": {
    "name": "ipython",
    "version": 3
   },
   "file_extension": ".py",
   "mimetype": "text/x-python",
   "name": "python",
   "nbconvert_exporter": "python",
   "pygments_lexer": "ipython3",
   "version": "3.9.13"
  }
 },
 "nbformat": 4,
 "nbformat_minor": 5
}
