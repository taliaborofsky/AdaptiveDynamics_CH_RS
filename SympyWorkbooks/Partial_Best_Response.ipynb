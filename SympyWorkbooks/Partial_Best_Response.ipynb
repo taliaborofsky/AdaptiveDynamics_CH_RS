{
 "cells": [
  {
   "cell_type": "markdown",
   "id": "0b935726-508a-41a5-909c-d0fab428fda6",
   "metadata": {},
   "source": [
    "Find the partial derivatives of the best response functions"
   ]
  },
  {
   "cell_type": "code",
   "execution_count": 3,
   "id": "e72b47fb-9ae4-4d38-bed8-6a9ec7d03749",
   "metadata": {},
   "outputs": [],
   "source": [
    "import sympy as sp"
   ]
  },
  {
   "cell_type": "code",
   "execution_count": 6,
   "id": "32435ecd-8046-4b65-b721-6d68d5a373d1",
   "metadata": {},
   "outputs": [
    {
     "name": "stdout",
     "output_type": "stream",
     "text": [
      "                                                                   ⎛          \n",
      "                                                                   ⎜    ⎛π(x, \n",
      "                      d                                          d ⎜  d⋅⎜─────\n",
      "        ⎛π(x, N₁, N₂)⎞   ∂                         ⎛π(x, N₁, N₂)⎞  ⎜    ⎝     \n",
      "      d⋅⎜────────────⎟ ⋅───(π(x, N₁, N₂))          ⎜────────────⎟ ⋅⎜- ────────\n",
      "        ⎝     x      ⎠  ∂N₁                        ⎝     x      ⎠  ⎝          \n",
      "──────────────────────────────────────────────── + ───────────────────────────\n",
      "⎛              d                 d⎞                                           \n",
      "⎜⎛π(x, N₁, N₂)⎞    ⎛π(y, N₁, N₂)⎞ ⎟                                           \n",
      "⎜⎜────────────⎟  + ⎜────────────⎟ ⎟⋅π(x, N₁, N₂)                              \n",
      "⎝⎝     x      ⎠    ⎝     y      ⎠ ⎠                                           \n",
      "                                                                              \n",
      "\n",
      "        d                                     d                  ⎞\n",
      "N₁, N₂)⎞   ∂                    ⎛π(y, N₁, N₂)⎞   ∂               ⎟\n",
      "───────⎟ ⋅───(π(x, N₁, N₂))   d⋅⎜────────────⎟ ⋅───(π(y, N₁, N₂))⎟\n",
      "x      ⎠  ∂N₁                   ⎝     y      ⎠  ∂N₁              ⎟\n",
      "─────────────────────────── - ───────────────────────────────────⎟\n",
      "    π(x, N₁, N₂)                          π(y, N₁, N₂)           ⎠\n",
      "──────────────────────────────────────────────────────────────────\n",
      "                                     2                            \n",
      "  ⎛              d                 d⎞                             \n",
      "  ⎜⎛π(x, N₁, N₂)⎞    ⎛π(y, N₁, N₂)⎞ ⎟                             \n",
      "  ⎜⎜────────────⎟  + ⎜────────────⎟ ⎟                             \n",
      "  ⎝⎝     x      ⎠    ⎝     y      ⎠ ⎠                             \n",
      "\n",
      "hi\n",
      "                                                                   ⎛          \n",
      "                                                                   ⎜    ⎛π(x, \n",
      "                      d                                          d ⎜  d⋅⎜─────\n",
      "        ⎛π(x, N₁, N₂)⎞   ∂                         ⎛π(x, N₁, N₂)⎞  ⎜    ⎝     \n",
      "      d⋅⎜────────────⎟ ⋅───(π(x, N₁, N₂))          ⎜────────────⎟ ⋅⎜- ────────\n",
      "        ⎝     x      ⎠  ∂N₂                        ⎝     x      ⎠  ⎝          \n",
      "──────────────────────────────────────────────── + ───────────────────────────\n",
      "⎛              d                 d⎞                                           \n",
      "⎜⎛π(x, N₁, N₂)⎞    ⎛π(y, N₁, N₂)⎞ ⎟                                           \n",
      "⎜⎜────────────⎟  + ⎜────────────⎟ ⎟⋅π(x, N₁, N₂)                              \n",
      "⎝⎝     x      ⎠    ⎝     y      ⎠ ⎠                                           \n",
      "                                                                              \n",
      "\n",
      "        d                                     d                  ⎞\n",
      "N₁, N₂)⎞   ∂                    ⎛π(y, N₁, N₂)⎞   ∂               ⎟\n",
      "───────⎟ ⋅───(π(x, N₁, N₂))   d⋅⎜────────────⎟ ⋅───(π(y, N₁, N₂))⎟\n",
      "x      ⎠  ∂N₂                   ⎝     y      ⎠  ∂N₂              ⎟\n",
      "─────────────────────────── - ───────────────────────────────────⎟\n",
      "    π(x, N₁, N₂)                          π(y, N₁, N₂)           ⎠\n",
      "──────────────────────────────────────────────────────────────────\n",
      "                                     2                            \n",
      "  ⎛              d                 d⎞                             \n",
      "  ⎜⎛π(x, N₁, N₂)⎞    ⎛π(y, N₁, N₂)⎞ ⎟                             \n",
      "  ⎜⎜────────────⎟  + ⎜────────────⎟ ⎟                             \n",
      "  ⎝⎝     x      ⎠    ⎝     y      ⎠ ⎠                             \n"
     ]
    }
   ],
   "source": [
    "# Define symbolic variables\n",
    "x, y, N_1, N_2, d = sp.symbols('x y N_1 N_2 d')\n",
    "\n",
    "# Define the symbolic function pi(x, N_1, N_2)\n",
    "pi_x = sp.Function('pi')(x, N_1, N_2)\n",
    "pi_y = sp.Function('pi')(y, N_1, N_2)\n",
    "\n",
    "# Define the function S(x, y, N_1, N_2)\n",
    "S = (pi_x/x)**d / ((pi_x/x)**d + (pi_y/y)**d)\n",
    "\n",
    "# Compute the partial derivative of S with respect to N_1\n",
    "partial_N1 = sp.diff(S, N_1)\n",
    "\n",
    "# Compute the partial derivative of S with respect to N_2\n",
    "partial_N2 = sp.diff(S, N_2)\n",
    "\n",
    "# Display the results\n",
    "sp.pprint(partial_N1)\n",
    "print('')\n",
    "print('hi')\n",
    "sp.pprint(partial_N2)\n"
   ]
  },
  {
   "cell_type": "code",
   "execution_count": 8,
   "id": "be001931-2d13-4270-89a5-911b97172799",
   "metadata": {},
   "outputs": [
    {
     "data": {
      "text/latex": [
       "$\\displaystyle \\frac{d \\left(\\frac{\\pi{\\left(x,N_{1},N_{2} \\right)}}{x}\\right)^{d} \\left(\\frac{\\pi{\\left(y,N_{1},N_{2} \\right)}}{y}\\right)^{d} \\left(- \\pi{\\left(x,N_{1},N_{2} \\right)} \\frac{\\partial}{\\partial N_{1}} \\pi{\\left(y,N_{1},N_{2} \\right)} + \\pi{\\left(y,N_{1},N_{2} \\right)} \\frac{\\partial}{\\partial N_{1}} \\pi{\\left(x,N_{1},N_{2} \\right)}\\right)}{\\left(\\left(\\frac{\\pi{\\left(x,N_{1},N_{2} \\right)}}{x}\\right)^{d} + \\left(\\frac{\\pi{\\left(y,N_{1},N_{2} \\right)}}{y}\\right)^{d}\\right)^{2} \\pi{\\left(x,N_{1},N_{2} \\right)} \\pi{\\left(y,N_{1},N_{2} \\right)}}$"
      ],
      "text/plain": [
       "d*(pi(x, N_1, N_2)/x)**d*(pi(y, N_1, N_2)/y)**d*(-pi(x, N_1, N_2)*Derivative(pi(y, N_1, N_2), N_1) + pi(y, N_1, N_2)*Derivative(pi(x, N_1, N_2), N_1))/(((pi(x, N_1, N_2)/x)**d + (pi(y, N_1, N_2)/y)**d)**2*pi(x, N_1, N_2)*pi(y, N_1, N_2))"
      ]
     },
     "execution_count": 8,
     "metadata": {},
     "output_type": "execute_result"
    }
   ],
   "source": [
    "sp.factor(partial_N1)"
   ]
  },
  {
   "cell_type": "code",
   "execution_count": null,
   "id": "3b474821-6e03-4b05-998f-38bfb8601747",
   "metadata": {},
   "outputs": [],
   "source": []
  }
 ],
 "metadata": {
  "kernelspec": {
   "display_name": "Python 3 (ipykernel)",
   "language": "python",
   "name": "python3"
  },
  "language_info": {
   "codemirror_mode": {
    "name": "ipython",
    "version": 3
   },
   "file_extension": ".py",
   "mimetype": "text/x-python",
   "name": "python",
   "nbconvert_exporter": "python",
   "pygments_lexer": "ipython3",
   "version": "3.9.6"
  }
 },
 "nbformat": 4,
 "nbformat_minor": 5
}
