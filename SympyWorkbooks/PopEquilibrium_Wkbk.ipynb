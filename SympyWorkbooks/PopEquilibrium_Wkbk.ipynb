{
 "cells": [
  {
   "cell_type": "code",
   "execution_count": 1,
   "id": "47dcade3",
   "metadata": {},
   "outputs": [],
   "source": [
    "from sympy import *\n",
    "from sympy.abc import gamma"
   ]
  },
  {
   "cell_type": "markdown",
   "id": "e7751a64",
   "metadata": {},
   "source": [
    "# No Handling Time"
   ]
  },
  {
   "cell_type": "code",
   "execution_count": 6,
   "id": "fb924e2b",
   "metadata": {},
   "outputs": [],
   "source": [
    "η1, η2, α1, α2 = symbols('\\\\eta_1, \\\\eta_2, \\\\alpha_1, \\\\alpha_2')\n",
    "c1, c2, Q1, Q2 = symbols('c_1, c_2, Q_1, Q_2')\n",
    "A1, A2 = symbols('A_1, A_2')\n",
    "N1, N2 = symbols('N_1, N_2')"
   ]
  },
  {
   "cell_type": "code",
   "execution_count": 11,
   "id": "ec0351aa-c1bc-468e-82fb-ebbdb743373d",
   "metadata": {},
   "outputs": [],
   "source": [
    "expr1 = η1*(1-N1)*(α1*c1*N1 - 1/A1) + α1*c2*N2*(1-N2) + Q1\n",
    "expr2 = α2*c1*N1*(1-N1) + η2*(1-N2)*(α2*c2*N2 - 1/A2) + Q2"
   ]
  },
  {
   "cell_type": "code",
   "execution_count": 24,
   "id": "c22a581c-e8b1-4718-b0a5-d5009dd23a17",
   "metadata": {},
   "outputs": [
    {
     "data": {
      "text/latex": [
       "$\\displaystyle N_{2} \\alpha_{1} c_{2} \\cdot \\left(1 - N_{2}\\right) + Q_{1} + \\eta_{1} \\cdot \\left(1 - N_{1}\\right) \\left(N_{1} \\alpha_{1} c_{1} - \\frac{1}{A_{1}}\\right)$"
      ],
      "text/plain": [
       "N_2*\\alpha_1*c_2*(1 - N_2) + Q_1 + \\eta_1*(1 - N_1)*(N_1*\\alpha_1*c_1 - 1/A_1)"
      ]
     },
     "execution_count": 24,
     "metadata": {},
     "output_type": "execute_result"
    }
   ],
   "source": [
    "expr1"
   ]
  },
  {
   "cell_type": "code",
   "execution_count": 25,
   "id": "06da7f61-d255-4dba-8886-967f2d60bf28",
   "metadata": {},
   "outputs": [
    {
     "data": {
      "text/latex": [
       "$\\displaystyle N_{1} \\alpha_{2} c_{1} \\cdot \\left(1 - N_{1}\\right) + Q_{2} + \\eta_{2} \\cdot \\left(1 - N_{2}\\right) \\left(N_{2} \\alpha_{2} c_{2} - \\frac{1}{A_{2}}\\right)$"
      ],
      "text/plain": [
       "N_1*\\alpha_2*c_1*(1 - N_1) + Q_2 + \\eta_2*(1 - N_2)*(N_2*\\alpha_2*c_2 - 1/A_2)"
      ]
     },
     "execution_count": 25,
     "metadata": {},
     "output_type": "execute_result"
    }
   ],
   "source": [
    "expr2"
   ]
  },
  {
   "cell_type": "code",
   "execution_count": 26,
   "id": "1e3fa33c-a461-4aab-8997-7d84ca0f55e1",
   "metadata": {},
   "outputs": [
    {
     "data": {
      "text/latex": [
       "$\\displaystyle N_{2}^{2} \\alpha_{1} \\alpha_{2} \\eta_{1} \\eta_{2} c_{2} - N_{2}^{2} \\alpha_{1} \\alpha_{2} c_{2} - N_{2} \\alpha_{1} \\alpha_{2} \\eta_{1} \\eta_{2} c_{2} + N_{2} \\alpha_{1} \\alpha_{2} c_{2} + Q_{1} \\alpha_{2} - Q_{2} \\alpha_{1} \\eta_{1} + \\frac{- N_{2} \\alpha_{1} \\eta_{1} \\eta_{2} + \\alpha_{1} \\eta_{1} \\eta_{2}}{A_{2}} + \\frac{N_{1} \\alpha_{2} \\eta_{1} - \\alpha_{2} \\eta_{1}}{A_{1}}$"
      ],
      "text/plain": [
       "N_2**2*\\alpha_1*\\alpha_2*\\eta_1*\\eta_2*c_2 - N_2**2*\\alpha_1*\\alpha_2*c_2 - N_2*\\alpha_1*\\alpha_2*\\eta_1*\\eta_2*c_2 + N_2*\\alpha_1*\\alpha_2*c_2 + Q_1*\\alpha_2 - Q_2*\\alpha_1*\\eta_1 + (-N_2*\\alpha_1*\\eta_1*\\eta_2 + \\alpha_1*\\eta_1*\\eta_2)/A_2 + (N_1*\\alpha_2*\\eta_1 - \\alpha_2*\\eta_1)/A_1"
      ]
     },
     "execution_count": 26,
     "metadata": {},
     "output_type": "execute_result"
    }
   ],
   "source": [
    "expand(expr1*α2 - expr2*α1*η1).collect(1/A2).collect(1/A1).collect(N1)"
   ]
  },
  {
   "cell_type": "code",
   "execution_count": 42,
   "id": "bbf65e7b",
   "metadata": {},
   "outputs": [
    {
     "data": {
      "text/latex": [
       "$\\displaystyle - A_{1} \\left(N_{2}^{2} \\alpha_{1} c_{2} \\left(\\eta_{2} - \\frac{1}{\\eta_{1}}\\right) + N_{2} \\left(\\alpha_{1} c_{2} \\left(- \\eta_{2} + \\frac{1}{\\eta_{1}}\\right) - \\frac{\\alpha_{1} \\eta_{2}}{A_{2} \\alpha_{2}}\\right) + \\frac{Q_{1}}{\\eta_{1}} - \\frac{Q_{2} \\alpha_{1}}{\\alpha_{2}} + \\frac{\\alpha_{1} \\eta_{2}}{A_{2} \\alpha_{2}}\\right) - N_{1} + 1$"
      ],
      "text/plain": [
       "-A_1*(N_2**2*\\alpha_1*c_2*(\\eta_2 - 1/\\eta_1) + N_2*(\\alpha_1*c_2*(-\\eta_2 + 1/\\eta_1) - \\alpha_1*\\eta_2/(A_2*\\alpha_2)) + Q_1/\\eta_1 - Q_2*\\alpha_1/\\alpha_2 + \\alpha_1*\\eta_2/(A_2*\\alpha_2)) - N_1 + 1"
      ]
     },
     "execution_count": 42,
     "metadata": {},
     "output_type": "execute_result"
    }
   ],
   "source": [
    "-expand((expr1*α2 - expr2*α1*η1)*A1/(α2*η1)).\\\n",
    "collect(N1).collect(N2).collect(α1*c2).collect(Q1).collect(A1)"
   ]
  },
  {
   "cell_type": "code",
   "execution_count": 45,
   "id": "9c35f901-424e-464a-9da4-e27e4a1eff5b",
   "metadata": {},
   "outputs": [],
   "source": [
    "N1_soln = solve(expr1*α2 - expr2*α1*η1,N1)[0]"
   ]
  },
  {
   "cell_type": "code",
   "execution_count": 48,
   "id": "81476f1d-6c61-4648-9c49-7e958c41da0d",
   "metadata": {},
   "outputs": [],
   "source": [
    "N1_soln = N1_soln.collect(N2)"
   ]
  },
  {
   "cell_type": "code",
   "execution_count": 57,
   "id": "158aa3ab-6143-451a-ac29-dbdd2c3fcfd8",
   "metadata": {},
   "outputs": [
    {
     "data": {
      "text/latex": [
       "$\\displaystyle A_{1} \\left(- \\frac{Q_{1}}{\\eta_{1}} + \\frac{Q_{2} \\alpha_{1}}{\\alpha_{2}} - \\frac{\\alpha_{1} \\eta_{2}}{A_{2} \\alpha_{2}}\\right) + 1$"
      ],
      "text/plain": [
       "A_1*(-Q_1/\\eta_1 + Q_2*\\alpha_1/\\alpha_2 - \\alpha_1*\\eta_2/(A_2*\\alpha_2)) + 1"
      ]
     },
     "execution_count": 57,
     "metadata": {},
     "output_type": "execute_result"
    }
   ],
   "source": [
    "(N1_soln - N1_soln.coeff(N2**2)*N2**2 - N1_soln.coeff(N2)*N2).collect(A1)"
   ]
  },
  {
   "cell_type": "code",
   "execution_count": 35,
   "id": "7d3a2115-69b9-4d83-8688-16e1b7295796",
   "metadata": {},
   "outputs": [
    {
     "data": {
      "text/latex": [
       "$\\displaystyle - \\frac{A_{1} N_{1}^{2} \\alpha_{1} \\eta_{1} c_{1}}{\\alpha_{2}} - \\frac{A_{1} N_{2}^{2} \\alpha_{1} c_{2}}{\\alpha_{2}} + \\frac{A_{1} N_{2} \\alpha_{1} c_{2}}{\\alpha_{2}} + \\frac{A_{1} Q_{1}}{\\alpha_{2}} + N_{1} \\left(\\frac{A_{1} \\alpha_{1} \\eta_{1} c_{1}}{\\alpha_{2}} + \\frac{\\eta_{1}}{\\alpha_{2}}\\right) - \\frac{\\eta_{1}}{\\alpha_{2}}$"
      ],
      "text/plain": [
       "-A_1*N_1**2*\\alpha_1*\\eta_1*c_1/\\alpha_2 - A_1*N_2**2*\\alpha_1*c_2/\\alpha_2 + A_1*N_2*\\alpha_1*c_2/\\alpha_2 + A_1*Q_1/\\alpha_2 + N_1*(A_1*\\alpha_1*\\eta_1*c_1/\\alpha_2 + \\eta_1/\\alpha_2) - \\eta_1/\\alpha_2"
      ]
     },
     "execution_count": 35,
     "metadata": {},
     "output_type": "execute_result"
    }
   ],
   "source": [
    "expand(expr1).collect(N1)"
   ]
  },
  {
   "cell_type": "code",
   "execution_count": 15,
   "id": "4d1d37b8-2a21-45fc-9ca4-833e8c7b9f26",
   "metadata": {},
   "outputs": [
    {
     "data": {
      "text/latex": [
       "$\\displaystyle - N_{1}^{2} \\alpha_{2} c_{1} + N_{1} \\alpha_{2} c_{1} - N_{2}^{2} \\alpha_{2} \\eta_{2} c_{2} + N_{2} \\alpha_{2} \\eta_{2} c_{2} + Q_{2} + \\frac{N_{2} \\eta_{2}}{A_{2}} - \\frac{\\eta_{2}}{A_{2}}$"
      ],
      "text/plain": [
       "-N_1**2*\\alpha_2*c_1 + N_1*\\alpha_2*c_1 - N_2**2*\\alpha_2*\\eta_2*c_2 + N_2*\\alpha_2*\\eta_2*c_2 + Q_2 + N_2*\\eta_2/A_2 - \\eta_2/A_2"
      ]
     },
     "execution_count": 15,
     "metadata": {},
     "output_type": "execute_result"
    }
   ],
   "source": [
    "expand(expr2).collect(N1)"
   ]
  },
  {
   "cell_type": "markdown",
   "id": "b50a89c7-7eb3-4f62-b9e2-4396b78964fc",
   "metadata": {},
   "source": [
    "# Groups up to size 3"
   ]
  },
  {
   "cell_type": "markdown",
   "id": "45a1152d-9f96-419b-8984-60afc51f6f24",
   "metadata": {},
   "source": [
    "I'll use \n",
    "* $\\alpha_{ix} = \\alpha_i(x)$\n",
    "* $H_{11} = H_1 \\alpha_1(1)$, $H_{12} = H_1 \\alpha_1(2)$, $H_{13} = H_1 \\alpha_1(3)$ $H_{21} = H_2 \\alpha_2(1)$, $H_{22} = H_2 \\alpha_2(2)$, $H_{23} = H_2 \\alpha_2(3)$, "
   ]
  },
  {
   "cell_type": "code",
   "execution_count": 2,
   "id": "8a8acc79",
   "metadata": {},
   "outputs": [],
   "source": [
    "N1, N2, P, F2, F3 = symbols('N_1, N_2, P, F_2, F_3')\n",
    "η1, η2, ξ= symbols('\\\\eta_1, \\\\eta_2, \\\\xi')\n",
    "a11, a12, a13 = symbols('\\\\alpha_{11}, \\\\alpha_{12}, \\\\alpha_{13}')\n",
    "#a21, a22, a23 = symbols('\\\\alpha_{21}, \\\\alpha_{22}, \\\\alpha_{23}')\n",
    "H11, H12, H13 = symbols('H_{11}, H_{12}, H_{13}')\n",
    "H21, H22, H23 = symbols('H_{21}, H_{22}, H_{23}')\n",
    "\n",
    "F_of_1 = ξ*P - 2*F2 - 3*F3"
   ]
  },
  {
   "cell_type": "code",
   "execution_count": 3,
   "id": "0339295a-83e5-488e-a6ac-2a6797899e3c",
   "metadata": {},
   "outputs": [],
   "source": [
    "c1_of_1 = a11/(1 + H11*N1 + H21*N2)\n",
    "c1_of_2 = a12/(1 + H12*N1 + H22*N2)\n",
    "c1_of_3 = a13/(1 + H13*N1 + H23*N2)\n"
   ]
  },
  {
   "cell_type": "code",
   "execution_count": 5,
   "id": "4476264b-a1e6-4ec3-8d08-395af0928b1e",
   "metadata": {},
   "outputs": [],
   "source": [
    "big_prey_null = η1*(1 - N1) - F_of_1*c1_of_1 - F2*c1_of_2 - F3*c1_of_3"
   ]
  },
  {
   "cell_type": "code",
   "execution_count": 11,
   "id": "16f7075a-34b9-41f6-ac4c-c05a70a09eb6",
   "metadata": {},
   "outputs": [],
   "source": [
    "to_solve,d = fraction(factor(big_prey_null))"
   ]
  },
  {
   "cell_type": "code",
   "execution_count": 20,
   "id": "8294b485-c5ff-4e13-88bb-114fd49e29da",
   "metadata": {},
   "outputs": [],
   "source": [
    "to_solve_collected = to_solve.collect(N2).collect(N1).collect(η1).collect(a11)"
   ]
  },
  {
   "cell_type": "code",
   "execution_count": 23,
   "id": "937e4dc4-2fe9-450b-b478-d616b04f1307",
   "metadata": {},
   "outputs": [
    {
     "data": {
      "text/latex": [
       "$\\displaystyle - F_{2} H_{21} \\alpha_{12} - F_{2} H_{23} \\alpha_{12} - F_{3} H_{21} \\alpha_{13} - F_{3} H_{22} \\alpha_{13} + N_{1} \\left(- F_{2} H_{11} H_{23} \\alpha_{12} - F_{2} H_{13} H_{21} \\alpha_{12} - F_{3} H_{11} H_{22} \\alpha_{13} - F_{3} H_{12} H_{21} \\alpha_{13} + \\alpha_{11} \\cdot \\left(2 F_{2} H_{12} H_{23} + 2 F_{2} H_{13} H_{22} + 3 F_{3} H_{12} H_{23} + 3 F_{3} H_{13} H_{22} - H_{12} H_{23} P \\xi - H_{13} H_{22} P \\xi\\right) + \\eta_{1} \\left(H_{11} H_{22} + H_{11} H_{23} + H_{12} H_{21} + H_{12} H_{23} + H_{13} H_{21} + H_{13} H_{22} - H_{21} - H_{22} - H_{23}\\right)\\right) + \\alpha_{11} \\cdot \\left(2 F_{2} H_{22} + 2 F_{2} H_{23} + 3 F_{3} H_{22} + 3 F_{3} H_{23} - H_{22} P \\xi - H_{23} P \\xi\\right) + \\eta_{1} \\left(H_{21} + H_{22} + H_{23} + N_{1}^{3} \\left(- H_{11} H_{12} H_{23} - H_{11} H_{13} H_{22} - H_{12} H_{13} H_{21}\\right) + N_{1}^{2} \\left(H_{11} H_{12} H_{23} + H_{11} H_{13} H_{22} - H_{11} H_{22} - H_{11} H_{23} + H_{12} H_{13} H_{21} - H_{12} H_{21} - H_{12} H_{23} - H_{13} H_{21} - H_{13} H_{22}\\right)\\right)$"
      ],
      "text/plain": [
       "-F_2*H_{21}*\\alpha_{12} - F_2*H_{23}*\\alpha_{12} - F_3*H_{21}*\\alpha_{13} - F_3*H_{22}*\\alpha_{13} + N_1*(-F_2*H_{11}*H_{23}*\\alpha_{12} - F_2*H_{13}*H_{21}*\\alpha_{12} - F_3*H_{11}*H_{22}*\\alpha_{13} - F_3*H_{12}*H_{21}*\\alpha_{13} + \\alpha_{11}*(2*F_2*H_{12}*H_{23} + 2*F_2*H_{13}*H_{22} + 3*F_3*H_{12}*H_{23} + 3*F_3*H_{13}*H_{22} - H_{12}*H_{23}*P*\\xi - H_{13}*H_{22}*P*\\xi) + \\eta_1*(H_{11}*H_{22} + H_{11}*H_{23} + H_{12}*H_{21} + H_{12}*H_{23} + H_{13}*H_{21} + H_{13}*H_{22} - H_{21} - H_{22} - H_{23})) + \\alpha_{11}*(2*F_2*H_{22} + 2*F_2*H_{23} + 3*F_3*H_{22} + 3*F_3*H_{23} - H_{22}*P*\\xi - H_{23}*P*\\xi) + \\eta_1*(H_{21} + H_{22} + H_{23} + N_1**3*(-H_{11}*H_{12}*H_{23} - H_{11}*H_{13}*H_{22} - H_{12}*H_{13}*H_{21}) + N_1**2*(H_{11}*H_{12}*H_{23} + H_{11}*H_{13}*H_{22} - H_{11}*H_{22} - H_{11}*H_{23} + H_{12}*H_{13}*H_{21} - H_{12}*H_{21} - H_{12}*H_{23} - H_{13}*H_{21} - H_{13}*H_{22}))"
      ]
     },
     "execution_count": 23,
     "metadata": {},
     "output_type": "execute_result"
    }
   ],
   "source": [
    "to_solve_collected.coeff(N2)"
   ]
  },
  {
   "cell_type": "code",
   "execution_count": null,
   "id": "9c016b5e-7e8e-4f40-8e5c-112e9deca62a",
   "metadata": {},
   "outputs": [],
   "source": []
  }
 ],
 "metadata": {
  "kernelspec": {
   "display_name": "Python 3 (ipykernel)",
   "language": "python",
   "name": "python3"
  },
  "language_info": {
   "codemirror_mode": {
    "name": "ipython",
    "version": 3
   },
   "file_extension": ".py",
   "mimetype": "text/x-python",
   "name": "python",
   "nbconvert_exporter": "python",
   "pygments_lexer": "ipython3",
   "version": "3.12.2"
  }
 },
 "nbformat": 4,
 "nbformat_minor": 5
}
