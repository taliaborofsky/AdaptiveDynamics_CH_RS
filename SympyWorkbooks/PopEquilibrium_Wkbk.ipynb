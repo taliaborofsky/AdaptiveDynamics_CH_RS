{
 "cells": [
  {
   "cell_type": "code",
   "execution_count": 2,
   "id": "47dcade3",
   "metadata": {},
   "outputs": [],
   "source": [
    "from sympy import *\n",
    "from sympy.abc import gamma"
   ]
  },
  {
   "cell_type": "markdown",
   "id": "e7751a64",
   "metadata": {},
   "source": [
    "# All predators are solitary"
   ]
  },
  {
   "cell_type": "code",
   "execution_count": 21,
   "id": "fb924e2b",
   "metadata": {},
   "outputs": [],
   "source": [
    "η1, η2, ξ, α1, α2, a = symbols('\\\\eta_1, \\\\eta_2, \\\\xi, \\\\alpha_1, \\\\alpha_2, a')\n",
    "β, H1, H2 = symbols('\\\\beta, H_1, H_2')\n",
    "N1, N2, P = symbols('N_1, N_2, P')"
   ]
  },
  {
   "cell_type": "code",
   "execution_count": 32,
   "id": "a49a091e-049c-4c85-9722-874043b8a8a3",
   "metadata": {},
   "outputs": [],
   "source": [
    "denom_fun_response = 1 + H1*α1*N1 + H2*α2*N2"
   ]
  },
  {
   "cell_type": "code",
   "execution_count": 33,
   "id": "29cd8290-bc9a-45c4-956c-4c9905a66ea6",
   "metadata": {},
   "outputs": [],
   "source": [
    "pred_nullcline = ξ*(a*β*α1*N1 + α2*N2)-denom_fun_response\n"
   ]
  },
  {
   "cell_type": "code",
   "execution_count": 34,
   "id": "0d2ca13f-f992-446b-9297-817469d200a9",
   "metadata": {},
   "outputs": [
    {
     "data": {
      "text/latex": [
       "$\\displaystyle - H_{1} N_{1} \\alpha_{1} - H_{2} N_{2} \\alpha_{2} + \\xi \\left(N_{1} \\alpha_{1} \\beta a + N_{2} \\alpha_{2}\\right) - 1$"
      ],
      "text/plain": [
       "-H_1*N_1*\\alpha_1 - H_2*N_2*\\alpha_2 + \\xi*(N_1*\\alpha_1*\\beta*a + N_2*\\alpha_2) - 1"
      ]
     },
     "execution_count": 34,
     "metadata": {},
     "output_type": "execute_result"
    }
   ],
   "source": [
    "pred_nullcline"
   ]
  },
  {
   "cell_type": "code",
   "execution_count": 35,
   "id": "da680cf7-f910-4878-8ac6-c9811f27d191",
   "metadata": {},
   "outputs": [
    {
     "data": {
      "text/latex": [
       "$\\displaystyle \\frac{- H_{1} N_{1} \\alpha_{1} + N_{1} \\alpha_{1} \\beta \\xi a - 1}{\\alpha_{2} \\left(H_{2} - \\xi\\right)}$"
      ],
      "text/plain": [
       "(-H_1*N_1*\\alpha_1 + N_1*\\alpha_1*\\beta*\\xi*a - 1)/(\\alpha_2*(H_2 - \\xi))"
      ]
     },
     "metadata": {},
     "output_type": "display_data"
    }
   ],
   "source": [
    "N2_from_pred = solve(pred_nullcline,N2)[0]\n",
    "display(N2_from_pred)"
   ]
  },
  {
   "cell_type": "code",
   "execution_count": 43,
   "id": "2894d25e-b926-438f-974e-a26c5a4ab6e0",
   "metadata": {},
   "outputs": [],
   "source": [
    "big_prey_nullcline = ξ*P/denom_fun_response - η1*(1 - N1)/(a*α1)"
   ]
  },
  {
   "cell_type": "code",
   "execution_count": 44,
   "id": "0947dcad-ed9c-4a31-9320-4fb30d5c9fc5",
   "metadata": {},
   "outputs": [
    {
     "data": {
      "text/latex": [
       "$\\displaystyle \\frac{- P \\alpha_{1} \\xi a + \\eta_{1} \\left(- H_{1} N_{1}^{2} \\alpha_{1} + H_{1} N_{1} \\alpha_{1} - N_{1} + 1\\right)}{H_{2} \\alpha_{2} \\eta_{1} \\left(N_{1} - 1\\right)}$"
      ],
      "text/plain": [
       "(-P*\\alpha_1*\\xi*a + \\eta_1*(-H_1*N_1**2*\\alpha_1 + H_1*N_1*\\alpha_1 - N_1 + 1))/(H_2*\\alpha_2*\\eta_1*(N_1 - 1))"
      ]
     },
     "execution_count": 44,
     "metadata": {},
     "output_type": "execute_result"
    }
   ],
   "source": [
    "solve(big_prey_nullcline,N2)[0].collect(η1)"
   ]
  },
  {
   "cell_type": "code",
   "execution_count": 45,
   "id": "cccbde79-a13c-49e1-ac7a-1c8daa1478eb",
   "metadata": {},
   "outputs": [
    {
     "data": {
      "text/latex": [
       "$\\displaystyle \\frac{P \\xi}{H_{1} N_{1} \\alpha_{1} + H_{2} N_{2} \\alpha_{2} + 1} - \\frac{\\eta_{2} \\cdot \\left(1 - N_{2}\\right)}{\\alpha_{2}}$"
      ],
      "text/plain": [
       "P*\\xi/(H_1*N_1*\\alpha_1 + H_2*N_2*\\alpha_2 + 1) - \\eta_2*(1 - N_2)/\\alpha_2"
      ]
     },
     "metadata": {},
     "output_type": "display_data"
    }
   ],
   "source": [
    "small_prey_nullcline = ξ*P/denom_fun_response - (η2/α2)*(1-N2)\n",
    "display(small_prey_nullcline)"
   ]
  },
  {
   "cell_type": "code",
   "execution_count": 46,
   "id": "d46565c8-0968-4654-9fda-0afe2917f0c2",
   "metadata": {},
   "outputs": [
    {
     "data": {
      "text/latex": [
       "$\\displaystyle \\frac{\\eta_{2} \\cdot \\left(1 - N_{2}\\right)}{\\alpha_{2}} - \\frac{\\eta_{1} \\cdot \\left(1 - N_{1}\\right)}{\\alpha_{1} a}$"
      ],
      "text/plain": [
       "\\eta_2*(1 - N_2)/\\alpha_2 - \\eta_1*(1 - N_1)/(\\alpha_1*a)"
      ]
     },
     "execution_count": 46,
     "metadata": {},
     "output_type": "execute_result"
    }
   ],
   "source": [
    "big_prey_nullcline - small_prey_nullcline"
   ]
  },
  {
   "cell_type": "code",
   "execution_count": 48,
   "id": "6489438a-22f4-45f2-97ae-ccd62da2f478",
   "metadata": {},
   "outputs": [],
   "source": [
    "ans = solve([pred_nullcline,big_prey_nullcline - small_prey_nullcline],N1,N2)"
   ]
  },
  {
   "cell_type": "code",
   "execution_count": 74,
   "id": "ed5b10cf-e396-4b13-b7f3-ca1b04feaba1",
   "metadata": {},
   "outputs": [],
   "source": [
    "N1_soln, N2_soln = list(ans.values())"
   ]
  },
  {
   "cell_type": "code",
   "execution_count": 85,
   "id": "80767eca-e2da-4309-a320-91b151d1b67a",
   "metadata": {},
   "outputs": [
    {
     "data": {
      "text/latex": [
       "$\\displaystyle \\frac{\\alpha_{1} \\eta_{2} a \\left(\\alpha_{2} \\left(H_{2} - \\xi\\right) + 1\\right) + \\alpha_{2}^{2} \\eta_{1} \\left(- H_{2} + \\xi\\right)}{\\alpha_{1}^{2} \\eta_{2} a \\left(- H_{1} + \\beta \\xi a\\right) + \\alpha_{2}^{2} \\eta_{1} \\left(- H_{2} + \\xi\\right)}$"
      ],
      "text/plain": [
       "(\\alpha_1*\\eta_2*a*(\\alpha_2*(H_2 - \\xi) + 1) + \\alpha_2**2*\\eta_1*(-H_2 + \\xi))/(\\alpha_1**2*\\eta_2*a*(-H_1 + \\beta*\\xi*a) + \\alpha_2**2*\\eta_1*(-H_2 + \\xi))"
      ]
     },
     "execution_count": 85,
     "metadata": {},
     "output_type": "execute_result"
    }
   ],
   "source": [
    "N1_soln.collect(a*α1).collect(a*α1**2).collect(η2).collect(α2**2).collect(η1).collect(α2)"
   ]
  },
  {
   "cell_type": "code",
   "execution_count": 98,
   "id": "4ee53868-2876-4107-b461-27cc217df4f0",
   "metadata": {},
   "outputs": [
    {
     "data": {
      "text/latex": [
       "$\\displaystyle \\frac{\\alpha_{1}^{2} \\eta_{2} a \\left(- H_{1} + \\beta \\xi a\\right) + \\alpha_{2} \\eta_{1} \\left(\\alpha_{1} \\left(H_{1} - \\beta \\xi a\\right) + 1\\right)}{\\alpha_{1}^{2} \\eta_{2} a \\left(- H_{1} + \\beta \\xi a\\right) + \\alpha_{2}^{2} \\eta_{1} \\left(- H_{2} + \\xi\\right)}$"
      ],
      "text/plain": [
       "(\\alpha_1**2*\\eta_2*a*(-H_1 + \\beta*\\xi*a) + \\alpha_2*\\eta_1*(\\alpha_1*(H_1 - \\beta*\\xi*a) + 1))/(\\alpha_1**2*\\eta_2*a*(-H_1 + \\beta*\\xi*a) + \\alpha_2**2*\\eta_1*(-H_2 + \\xi))"
      ]
     },
     "execution_count": 98,
     "metadata": {},
     "output_type": "execute_result"
    }
   ],
   "source": [
    "N2_soln.collect(a*α1**2).collect(η2).\\\n",
    "collect(α2**2).collect(η1).collect(α2)\\\n",
    ".collect(α1)"
   ]
  },
  {
   "cell_type": "code",
   "execution_count": 73,
   "id": "1680a9e4-b1b8-4b33-a340-092a9c5fe3e1",
   "metadata": {},
   "outputs": [
    {
     "data": {
      "text/plain": [
       "[1, 2]"
      ]
     },
     "execution_count": 73,
     "metadata": {},
     "output_type": "execute_result"
    }
   ],
   "source": [
    "list(dict(a=1, b = 2).values())"
   ]
  },
  {
   "cell_type": "code",
   "execution_count": 67,
   "id": "ece4d725-259e-443e-9bd5-7f27feb3cafd",
   "metadata": {},
   "outputs": [
    {
     "ename": "NameError",
     "evalue": "name 'N_1' is not defined",
     "output_type": "error",
     "traceback": [
      "\u001b[0;31m---------------------------------------------------------------------------\u001b[0m",
      "\u001b[0;31mNameError\u001b[0m                                 Traceback (most recent call last)",
      "Cell \u001b[0;32mIn[67], line 1\u001b[0m\n\u001b[0;32m----> 1\u001b[0m ans[\u001b[43mN_1\u001b[49m]\n",
      "\u001b[0;31mNameError\u001b[0m: name 'N_1' is not defined"
     ]
    }
   ],
   "source": [
    "ans[N_1]"
   ]
  },
  {
   "cell_type": "code",
   "execution_count": 62,
   "id": "aa9f6681-7395-404e-8925-eea88956de2b",
   "metadata": {},
   "outputs": [
    {
     "data": {
      "text/plain": [
       "{N_1: (H_2*\\alpha_1*\\alpha_2*\\eta_2*a - H_2*\\alpha_2**2*\\eta_1 - \\alpha_1*\\alpha_2*\\eta_2*\\xi*a + \\alpha_1*\\eta_2*a + \\alpha_2**2*\\eta_1*\\xi)/(-H_1*\\alpha_1**2*\\eta_2*a - H_2*\\alpha_2**2*\\eta_1 + \\alpha_1**2*\\beta*\\eta_2*\\xi*a**2 + \\alpha_2**2*\\eta_1*\\xi),\n",
       " N_2: (-H_1*\\alpha_1**2*\\eta_2*a + H_1*\\alpha_1*\\alpha_2*\\eta_1 + \\alpha_1**2*\\beta*\\eta_2*\\xi*a**2 - \\alpha_1*\\alpha_2*\\beta*\\eta_1*\\xi*a + \\alpha_2*\\eta_1)/(-H_1*\\alpha_1**2*\\eta_2*a - H_2*\\alpha_2**2*\\eta_1 + \\alpha_1**2*\\beta*\\eta_2*\\xi*a**2 + \\alpha_2**2*\\eta_1*\\xi)}"
      ]
     },
     "execution_count": 62,
     "metadata": {},
     "output_type": "execute_result"
    }
   ],
   "source": [
    "ans"
   ]
  },
  {
   "cell_type": "code",
   "execution_count": 25,
   "id": "c8eceb61",
   "metadata": {},
   "outputs": [
    {
     "data": {
      "text/latex": [
       "$\\displaystyle - \\frac{H_{1} \\alpha_{1}^{2}}{\\alpha_{2}^{2} \\xi^{2} a^{2}} + \\frac{2 H_{1} \\alpha_{1}^{2}}{\\alpha_{2}^{3} \\beta \\xi^{3} a^{3}} - \\frac{H_{1} \\alpha_{1}^{2}}{\\alpha_{2}^{4} \\beta^{2} \\xi^{4} a^{4}} - \\frac{H_{1} \\alpha_{1}}{\\alpha_{2} \\xi a} + \\frac{2 H_{1} \\alpha_{1}}{\\alpha_{2} \\xi^{2} a} + \\frac{H_{1} \\alpha_{1}}{\\alpha_{2}^{2} \\beta \\xi^{2} a^{2}} - \\frac{2 H_{1} \\alpha_{1}}{\\alpha_{2}^{2} \\beta \\xi^{3} a^{2}} + \\frac{H_{1}}{\\xi} - \\frac{H_{1}}{\\xi^{2}} - \\frac{H_{2} \\alpha_{1}}{\\alpha_{2} \\beta \\xi a^{2}} + \\frac{H_{2} \\alpha_{1}}{\\alpha_{2}^{2} \\beta^{2} \\xi^{2} a^{3}} - \\frac{H_{2}}{\\beta a} + \\frac{H_{2}}{\\beta \\xi a} + \\frac{H_{2}}{\\alpha_{2} \\beta \\xi a^{2}} - \\frac{H_{2}}{\\alpha_{2}^{2} \\beta^{2} \\xi^{2} a^{3}} + \\frac{H_{2}}{\\alpha_{1} \\beta a} - \\frac{H_{2}}{\\alpha_{1} \\beta \\xi a} + \\frac{\\alpha_{1}}{\\alpha_{2} \\xi a} - \\frac{\\alpha_{1}}{\\alpha_{2}^{2} \\beta \\xi^{2} a^{2}} + 1 - \\frac{1}{\\xi}$"
      ],
      "text/plain": [
       "-H_1*\\alpha_1**2/(\\alpha_2**2*\\xi**2*a**2) + 2*H_1*\\alpha_1**2/(\\alpha_2**3*\\beta*\\xi**3*a**3) - H_1*\\alpha_1**2/(\\alpha_2**4*\\beta**2*\\xi**4*a**4) - H_1*\\alpha_1/(\\alpha_2*\\xi*a) + 2*H_1*\\alpha_1/(\\alpha_2*\\xi**2*a) + H_1*\\alpha_1/(\\alpha_2**2*\\beta*\\xi**2*a**2) - 2*H_1*\\alpha_1/(\\alpha_2**2*\\beta*\\xi**3*a**2) + H_1/\\xi - H_1/\\xi**2 - H_2*\\alpha_1/(\\alpha_2*\\beta*\\xi*a**2) + H_2*\\alpha_1/(\\alpha_2**2*\\beta**2*\\xi**2*a**3) - H_2/(\\beta*a) + H_2/(\\beta*\\xi*a) + H_2/(\\alpha_2*\\beta*\\xi*a**2) - H_2/(\\alpha_2**2*\\beta**2*\\xi**2*a**3) + H_2/(\\alpha_1*\\beta*a) - H_2/(\\alpha_1*\\beta*\\xi*a) + \\alpha_1/(\\alpha_2*\\xi*a) - \\alpha_1/(\\alpha_2**2*\\beta*\\xi**2*a**2) + 1 - 1/\\xi"
      ]
     },
     "execution_count": 25,
     "metadata": {},
     "output_type": "execute_result"
    }
   ],
   "source": [
    "N1 = (1 - (α1/(a*α2))*(1 - 1/(a*β*α2*ξ)))/ξ\n",
    "N2 = (1 - α1)/(α2*a*β)\n",
    "P = (η1/ξ)*(1-N1)*(1+H1*N1 + (α2/α1)*H2*N2)\n",
    "\n",
    "\n",
    "simplify((expand(P)/η1)*ξ)"
   ]
  },
  {
   "cell_type": "markdown",
   "id": "b50a89c7-7eb3-4f62-b9e2-4396b78964fc",
   "metadata": {},
   "source": [
    "# Groups up to size 3"
   ]
  },
  {
   "cell_type": "markdown",
   "id": "45a1152d-9f96-419b-8984-60afc51f6f24",
   "metadata": {},
   "source": [
    "I'll use \n",
    "* $\\alpha_{ix} = \\alpha_i(x)$\n",
    "* $H_{11} = H_1 \\alpha_1(1)$, $H_{12} = H_1 \\alpha_1(2)$, $H_{13} = H_1 \\alpha_1(3)$ $H_{21} = H_2 \\alpha_2(1)$, $H_{22} = H_2 \\alpha_2(2)$, $H_{23} = H_2 \\alpha_2(3)$, "
   ]
  },
  {
   "cell_type": "code",
   "execution_count": 2,
   "id": "8a8acc79",
   "metadata": {},
   "outputs": [],
   "source": [
    "N1, N2, P, F2, F3 = symbols('N_1, N_2, P, F_2, F_3')\n",
    "η1, η2, ξ= symbols('\\\\eta_1, \\\\eta_2, \\\\xi')\n",
    "a11, a12, a13 = symbols('\\\\alpha_{11}, \\\\alpha_{12}, \\\\alpha_{13}')\n",
    "#a21, a22, a23 = symbols('\\\\alpha_{21}, \\\\alpha_{22}, \\\\alpha_{23}')\n",
    "H11, H12, H13 = symbols('H_{11}, H_{12}, H_{13}')\n",
    "H21, H22, H23 = symbols('H_{21}, H_{22}, H_{23}')\n",
    "\n",
    "F_of_1 = ξ*P - 2*F2 - 3*F3"
   ]
  },
  {
   "cell_type": "code",
   "execution_count": 3,
   "id": "0339295a-83e5-488e-a6ac-2a6797899e3c",
   "metadata": {},
   "outputs": [],
   "source": [
    "c1_of_1 = a11/(1 + H11*N1 + H21*N2)\n",
    "c1_of_2 = a12/(1 + H12*N1 + H22*N2)\n",
    "c1_of_3 = a13/(1 + H13*N1 + H23*N2)\n"
   ]
  },
  {
   "cell_type": "code",
   "execution_count": 5,
   "id": "4476264b-a1e6-4ec3-8d08-395af0928b1e",
   "metadata": {},
   "outputs": [],
   "source": [
    "big_prey_null = η1*(1 - N1) - F_of_1*c1_of_1 - F2*c1_of_2 - F3*c1_of_3"
   ]
  },
  {
   "cell_type": "code",
   "execution_count": 11,
   "id": "16f7075a-34b9-41f6-ac4c-c05a70a09eb6",
   "metadata": {},
   "outputs": [],
   "source": [
    "to_solve,d = fraction(factor(big_prey_null))"
   ]
  },
  {
   "cell_type": "code",
   "execution_count": 20,
   "id": "8294b485-c5ff-4e13-88bb-114fd49e29da",
   "metadata": {},
   "outputs": [],
   "source": [
    "to_solve_collected = to_solve.collect(N2).collect(N1).collect(η1).collect(a11)"
   ]
  },
  {
   "cell_type": "code",
   "execution_count": 23,
   "id": "937e4dc4-2fe9-450b-b478-d616b04f1307",
   "metadata": {},
   "outputs": [
    {
     "data": {
      "text/latex": [
       "$\\displaystyle - F_{2} H_{21} \\alpha_{12} - F_{2} H_{23} \\alpha_{12} - F_{3} H_{21} \\alpha_{13} - F_{3} H_{22} \\alpha_{13} + N_{1} \\left(- F_{2} H_{11} H_{23} \\alpha_{12} - F_{2} H_{13} H_{21} \\alpha_{12} - F_{3} H_{11} H_{22} \\alpha_{13} - F_{3} H_{12} H_{21} \\alpha_{13} + \\alpha_{11} \\cdot \\left(2 F_{2} H_{12} H_{23} + 2 F_{2} H_{13} H_{22} + 3 F_{3} H_{12} H_{23} + 3 F_{3} H_{13} H_{22} - H_{12} H_{23} P \\xi - H_{13} H_{22} P \\xi\\right) + \\eta_{1} \\left(H_{11} H_{22} + H_{11} H_{23} + H_{12} H_{21} + H_{12} H_{23} + H_{13} H_{21} + H_{13} H_{22} - H_{21} - H_{22} - H_{23}\\right)\\right) + \\alpha_{11} \\cdot \\left(2 F_{2} H_{22} + 2 F_{2} H_{23} + 3 F_{3} H_{22} + 3 F_{3} H_{23} - H_{22} P \\xi - H_{23} P \\xi\\right) + \\eta_{1} \\left(H_{21} + H_{22} + H_{23} + N_{1}^{3} \\left(- H_{11} H_{12} H_{23} - H_{11} H_{13} H_{22} - H_{12} H_{13} H_{21}\\right) + N_{1}^{2} \\left(H_{11} H_{12} H_{23} + H_{11} H_{13} H_{22} - H_{11} H_{22} - H_{11} H_{23} + H_{12} H_{13} H_{21} - H_{12} H_{21} - H_{12} H_{23} - H_{13} H_{21} - H_{13} H_{22}\\right)\\right)$"
      ],
      "text/plain": [
       "-F_2*H_{21}*\\alpha_{12} - F_2*H_{23}*\\alpha_{12} - F_3*H_{21}*\\alpha_{13} - F_3*H_{22}*\\alpha_{13} + N_1*(-F_2*H_{11}*H_{23}*\\alpha_{12} - F_2*H_{13}*H_{21}*\\alpha_{12} - F_3*H_{11}*H_{22}*\\alpha_{13} - F_3*H_{12}*H_{21}*\\alpha_{13} + \\alpha_{11}*(2*F_2*H_{12}*H_{23} + 2*F_2*H_{13}*H_{22} + 3*F_3*H_{12}*H_{23} + 3*F_3*H_{13}*H_{22} - H_{12}*H_{23}*P*\\xi - H_{13}*H_{22}*P*\\xi) + \\eta_1*(H_{11}*H_{22} + H_{11}*H_{23} + H_{12}*H_{21} + H_{12}*H_{23} + H_{13}*H_{21} + H_{13}*H_{22} - H_{21} - H_{22} - H_{23})) + \\alpha_{11}*(2*F_2*H_{22} + 2*F_2*H_{23} + 3*F_3*H_{22} + 3*F_3*H_{23} - H_{22}*P*\\xi - H_{23}*P*\\xi) + \\eta_1*(H_{21} + H_{22} + H_{23} + N_1**3*(-H_{11}*H_{12}*H_{23} - H_{11}*H_{13}*H_{22} - H_{12}*H_{13}*H_{21}) + N_1**2*(H_{11}*H_{12}*H_{23} + H_{11}*H_{13}*H_{22} - H_{11}*H_{22} - H_{11}*H_{23} + H_{12}*H_{13}*H_{21} - H_{12}*H_{21} - H_{12}*H_{23} - H_{13}*H_{21} - H_{13}*H_{22}))"
      ]
     },
     "execution_count": 23,
     "metadata": {},
     "output_type": "execute_result"
    }
   ],
   "source": [
    "to_solve_collected.coeff(N2)"
   ]
  },
  {
   "cell_type": "code",
   "execution_count": null,
   "id": "9c016b5e-7e8e-4f40-8e5c-112e9deca62a",
   "metadata": {},
   "outputs": [],
   "source": []
  }
 ],
 "metadata": {
  "kernelspec": {
   "display_name": "Python 3 (ipykernel)",
   "language": "python",
   "name": "python3"
  },
  "language_info": {
   "codemirror_mode": {
    "name": "ipython",
    "version": 3
   },
   "file_extension": ".py",
   "mimetype": "text/x-python",
   "name": "python",
   "nbconvert_exporter": "python",
   "pygments_lexer": "ipython3",
   "version": "3.12.2"
  }
 },
 "nbformat": 4,
 "nbformat_minor": 5
}
