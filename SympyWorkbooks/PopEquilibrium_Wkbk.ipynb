{
 "cells": [
  {
   "cell_type": "code",
   "execution_count": 1,
   "id": "47dcade3",
   "metadata": {},
   "outputs": [],
   "source": [
    "from sympy import *\n",
    "from sympy.abc import gamma"
   ]
  },
  {
   "cell_type": "markdown",
   "id": "e7751a64",
   "metadata": {},
   "source": [
    "# All predators are solitary"
   ]
  },
  {
   "cell_type": "code",
   "execution_count": 4,
   "id": "fb924e2b",
   "metadata": {},
   "outputs": [],
   "source": [
    "η1, η2, ξ, α1, α2, a = symbols('\\\\eta_1, \\\\eta_2, \\\\xi, \\\\alpha_1, \\\\alpha_2, a')\n",
    "β, H1, H2 = symbols('\\\\beta, H_1, H_2')"
   ]
  },
  {
   "cell_type": "code",
   "execution_count": 25,
   "id": "c8eceb61",
   "metadata": {},
   "outputs": [
    {
     "data": {
      "text/latex": [
       "$\\displaystyle - \\frac{H_{1} \\alpha_{1}^{2}}{\\alpha_{2}^{2} \\xi^{2} a^{2}} + \\frac{2 H_{1} \\alpha_{1}^{2}}{\\alpha_{2}^{3} \\beta \\xi^{3} a^{3}} - \\frac{H_{1} \\alpha_{1}^{2}}{\\alpha_{2}^{4} \\beta^{2} \\xi^{4} a^{4}} - \\frac{H_{1} \\alpha_{1}}{\\alpha_{2} \\xi a} + \\frac{2 H_{1} \\alpha_{1}}{\\alpha_{2} \\xi^{2} a} + \\frac{H_{1} \\alpha_{1}}{\\alpha_{2}^{2} \\beta \\xi^{2} a^{2}} - \\frac{2 H_{1} \\alpha_{1}}{\\alpha_{2}^{2} \\beta \\xi^{3} a^{2}} + \\frac{H_{1}}{\\xi} - \\frac{H_{1}}{\\xi^{2}} - \\frac{H_{2} \\alpha_{1}}{\\alpha_{2} \\beta \\xi a^{2}} + \\frac{H_{2} \\alpha_{1}}{\\alpha_{2}^{2} \\beta^{2} \\xi^{2} a^{3}} - \\frac{H_{2}}{\\beta a} + \\frac{H_{2}}{\\beta \\xi a} + \\frac{H_{2}}{\\alpha_{2} \\beta \\xi a^{2}} - \\frac{H_{2}}{\\alpha_{2}^{2} \\beta^{2} \\xi^{2} a^{3}} + \\frac{H_{2}}{\\alpha_{1} \\beta a} - \\frac{H_{2}}{\\alpha_{1} \\beta \\xi a} + \\frac{\\alpha_{1}}{\\alpha_{2} \\xi a} - \\frac{\\alpha_{1}}{\\alpha_{2}^{2} \\beta \\xi^{2} a^{2}} + 1 - \\frac{1}{\\xi}$"
      ],
      "text/plain": [
       "-H_1*\\alpha_1**2/(\\alpha_2**2*\\xi**2*a**2) + 2*H_1*\\alpha_1**2/(\\alpha_2**3*\\beta*\\xi**3*a**3) - H_1*\\alpha_1**2/(\\alpha_2**4*\\beta**2*\\xi**4*a**4) - H_1*\\alpha_1/(\\alpha_2*\\xi*a) + 2*H_1*\\alpha_1/(\\alpha_2*\\xi**2*a) + H_1*\\alpha_1/(\\alpha_2**2*\\beta*\\xi**2*a**2) - 2*H_1*\\alpha_1/(\\alpha_2**2*\\beta*\\xi**3*a**2) + H_1/\\xi - H_1/\\xi**2 - H_2*\\alpha_1/(\\alpha_2*\\beta*\\xi*a**2) + H_2*\\alpha_1/(\\alpha_2**2*\\beta**2*\\xi**2*a**3) - H_2/(\\beta*a) + H_2/(\\beta*\\xi*a) + H_2/(\\alpha_2*\\beta*\\xi*a**2) - H_2/(\\alpha_2**2*\\beta**2*\\xi**2*a**3) + H_2/(\\alpha_1*\\beta*a) - H_2/(\\alpha_1*\\beta*\\xi*a) + \\alpha_1/(\\alpha_2*\\xi*a) - \\alpha_1/(\\alpha_2**2*\\beta*\\xi**2*a**2) + 1 - 1/\\xi"
      ]
     },
     "execution_count": 25,
     "metadata": {},
     "output_type": "execute_result"
    }
   ],
   "source": [
    "N1 = (1 - (α1/(a*α2))*(1 - 1/(a*β*α2*ξ)))/ξ\n",
    "N2 = (1 - α1)/(α2*a*β)\n",
    "P = (η1/ξ)*(1-N1)*(1+H1*N1 + (α2/α1)*H2*N2)\n",
    "\n",
    "\n",
    "simplify((expand(P)/η1)*ξ)"
   ]
  },
  {
   "cell_type": "code",
   "execution_count": null,
   "id": "8a8acc79",
   "metadata": {},
   "outputs": [],
   "source": []
  }
 ],
 "metadata": {
  "kernelspec": {
   "display_name": "Python 3 (ipykernel)",
   "language": "python",
   "name": "python3"
  },
  "language_info": {
   "codemirror_mode": {
    "name": "ipython",
    "version": 3
   },
   "file_extension": ".py",
   "mimetype": "text/x-python",
   "name": "python",
   "nbconvert_exporter": "python",
   "pygments_lexer": "ipython3",
   "version": "3.9.13"
  }
 },
 "nbformat": 4,
 "nbformat_minor": 5
}
