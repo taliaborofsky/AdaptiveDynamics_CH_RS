{
 "cells": [
  {
   "cell_type": "code",
   "execution_count": 3,
   "id": "0f0de4ea-2dbd-4ed7-bff4-b98e18d67b55",
   "metadata": {},
   "outputs": [
    {
     "name": "stdout",
     "output_type": "stream",
     "text": [
      "Collecting sympy\n",
      "  Using cached sympy-1.12-py3-none-any.whl.metadata (12 kB)\n",
      "Collecting mpmath>=0.19 (from sympy)\n",
      "  Using cached mpmath-1.3.0-py3-none-any.whl.metadata (8.6 kB)\n",
      "Using cached sympy-1.12-py3-none-any.whl (5.7 MB)\n",
      "Using cached mpmath-1.3.0-py3-none-any.whl (536 kB)\n",
      "Installing collected packages: mpmath, sympy\n",
      "Successfully installed mpmath-1.3.0 sympy-1.12\n",
      "Note: you may need to restart the kernel to use updated packages.\n"
     ]
    }
   ],
   "source": [
    "# %pip install sympy"
   ]
  },
  {
   "cell_type": "code",
   "execution_count": 2,
   "id": "b66aac79",
   "metadata": {},
   "outputs": [],
   "source": [
    "from sympy import *\n",
    "from sympy.abc import gamma"
   ]
  },
  {
   "cell_type": "markdown",
   "id": "5d221981-ccc9-4c89-bee0-195f37dbf202",
   "metadata": {},
   "source": [
    "# Equilibrium group size, $x_{max} = 3$"
   ]
  },
  {
   "cell_type": "code",
   "execution_count": 14,
   "id": "bef02544-3af6-4a4b-afa1-5648c2f7488d",
   "metadata": {},
   "outputs": [],
   "source": [
    "# L2 = S(1,2) - δ τx\n",
    "# L3 = S(1,3) + δ τx\n",
    "L2, L3, f2, S21, S31, p = symbols('L_2, L_3, f_2, S_{21}, S_{31},p')\n",
    "expr = 2*f2*L2 - \\\n",
    "    Rational(1,2)*S21 *(p - 2*f2)*(1 - (f2*S31)/(L3+f2*S31))*\\\n",
    "        ((p - 2*f2)*(1 - (f2*S31)/(L3+f2*S31)) - 1)"
   ]
  },
  {
   "cell_type": "code",
   "execution_count": 23,
   "id": "88c6381a-5a81-4d1d-85ea-d2f1f8c9e37d",
   "metadata": {},
   "outputs": [
    {
     "data": {
      "text/latex": [
       "$\\displaystyle 2 L_{2} f_{2} - \\frac{S_{21} \\left(- 2 f_{2} + p\\right) \\left(\\left(- 2 f_{2} + p\\right) \\left(- \\frac{S_{31} f_{2}}{L_{3} + S_{31} f_{2}} + 1\\right) - 1\\right) \\left(- \\frac{S_{31} f_{2}}{L_{3} + S_{31} f_{2}} + 1\\right)}{2}$"
      ],
      "text/plain": [
       "2*L_2*f_2 - S_{21}*(-2*f_2 + p)*((-2*f_2 + p)*(-S_{31}*f_2/(L_3 + S_{31}*f_2) + 1) - 1)*(-S_{31}*f_2/(L_3 + S_{31}*f_2) + 1)/2"
      ]
     },
     "execution_count": 23,
     "metadata": {},
     "output_type": "execute_result"
    }
   ],
   "source": [
    "expr"
   ]
  },
  {
   "cell_type": "code",
   "execution_count": 18,
   "id": "1913cf55-8f3a-4560-a80c-3cf6ea395c62",
   "metadata": {},
   "outputs": [],
   "source": [
    "n,d = fraction(simplify(expand(expr)))"
   ]
  },
  {
   "cell_type": "code",
   "execution_count": 27,
   "id": "6fc1160c-e96e-4d0f-967b-d0b55e29edb2",
   "metadata": {},
   "outputs": [],
   "source": [
    "new_expr = n.collect(f2).collect(L3)"
   ]
  },
  {
   "cell_type": "code",
   "execution_count": 31,
   "id": "11167dbb-21be-4c26-ac40-d01cbfddc3cc",
   "metadata": {},
   "outputs": [
    {
     "data": {
      "text/latex": [
       "$\\displaystyle - 2 L_{2} S_{31}^{2} + L_{3}^{2} \\left(- 2 L_{2} - \\frac{S_{21} p \\left(p - 1\\right)}{2} - 2 S_{21} p - S_{21}\\right) + L_{3} \\left(- \\frac{S_{21} S_{31} p}{2} + S_{31} \\cdot \\left(4 L_{2} - S_{21}\\right)\\right)$"
      ],
      "text/plain": [
       "-2*L_2*S_{31}**2 + L_3**2*(-2*L_2 - S_{21}*p*(p - 1)/2 - 2*S_{21}*p - S_{21}) + L_3*(-S_{21}*S_{31}*p/2 + S_{31}*(4*L_2 - S_{21}))"
      ]
     },
     "execution_count": 31,
     "metadata": {},
     "output_type": "execute_result"
    }
   ],
   "source": [
    "simplify(new_expr.subs([(f2,-1)])).collect(L3)"
   ]
  },
  {
   "cell_type": "code",
   "execution_count": 24,
   "id": "4dc1af10-5cd1-419e-846b-75865598c19c",
   "metadata": {},
   "outputs": [
    {
     "name": "stdout",
     "output_type": "stream",
     "text": [
      "2 L_{2} S_{31}^{2} f_{2}^{3} + L_{3}^{2} \\left(- \\frac{S_{21} p^{2}}{2} + \\frac{S_{21} p}{2}\\right) + f_{2}^{2} \\left(- 2 L_{3}^{2} S_{21} + L_{3} \\cdot \\left(4 L_{2} S_{31} - S_{21} S_{31}\\right)\\right) + f_{2} \\left(L_{3}^{2} \\cdot \\left(2 L_{2} + 2 S_{21} p - S_{21}\\right) + \\frac{L_{3} S_{21} S_{31} p}{2}\\right)\n"
     ]
    }
   ],
   "source": [
    "print(latex(n.collect(f2).collect(L3)))"
   ]
  },
  {
   "cell_type": "markdown",
   "id": "5388137c-ffdc-49da-9d6b-9d95ac2f1224",
   "metadata": {},
   "source": [
    "# Old Stuff:"
   ]
  },
  {
   "cell_type": "markdown",
   "id": "ddb7680c",
   "metadata": {},
   "source": [
    "## General $\\theta_1, \\theta_2$"
   ]
  },
  {
   "cell_type": "code",
   "execution_count": 5,
   "id": "eac15328",
   "metadata": {},
   "outputs": [],
   "source": [
    "γ = gamma\n",
    "x, w1, w2, α1, α2, r, R, x, W1, θ1, θ2 = symbols('x, w_1, w_2, \\\\alpha_1, \\\\alpha_2, r, R, x, \\\\tilde{W}(1), \\\\theta_1, \\\\theta_2')\n",
    "\n",
    "num_expr =(w1*x**θ1 + w2*x**θ2)*(R + r*x) - W1*x*(1+α1*x**θ1 + α2*x**θ2)"
   ]
  },
  {
   "cell_type": "code",
   "execution_count": 6,
   "id": "da2ecbc1",
   "metadata": {},
   "outputs": [],
   "source": [
    "num_expr =(w1*x**θ1 + w2*x**θ2)*(R + r*x) - W1*x*(1+α1*x**θ1 + α2*x**θ2)"
   ]
  },
  {
   "cell_type": "code",
   "execution_count": 7,
   "id": "160780e5",
   "metadata": {},
   "outputs": [
    {
     "data": {
      "text/latex": [
       "$\\displaystyle - \\tilde{W}(1) x \\left(\\alpha_{1} x^{\\theta_{1}} + \\alpha_{2} x^{\\theta_{2}} + 1\\right) + \\left(R + r x\\right) \\left(w_{1} x^{\\theta_{1}} + w_{2} x^{\\theta_{2}}\\right)$"
      ],
      "text/plain": [
       "-\\tilde{W}(1)*x*(\\alpha_1*x**\\theta_1 + \\alpha_2*x**\\theta_2 + 1) + (R + r*x)*(w_1*x**\\theta_1 + w_2*x**\\theta_2)"
      ]
     },
     "execution_count": 7,
     "metadata": {},
     "output_type": "execute_result"
    }
   ],
   "source": [
    "num_expr"
   ]
  },
  {
   "cell_type": "code",
   "execution_count": 8,
   "id": "dd450de3",
   "metadata": {},
   "outputs": [
    {
     "data": {
      "text/latex": [
       "$\\displaystyle R w_{1} x^{\\theta_{1}} + R w_{2} x^{\\theta_{2}} - \\alpha_{1} \\tilde{W}(1) x x^{\\theta_{1}} - \\alpha_{2} \\tilde{W}(1) x x^{\\theta_{2}} - \\tilde{W}(1) x + r w_{1} x x^{\\theta_{1}} + r w_{2} x x^{\\theta_{2}}$"
      ],
      "text/plain": [
       "R*w_1*x**\\theta_1 + R*w_2*x**\\theta_2 - \\alpha_1*\\tilde{W}(1)*x*x**\\theta_1 - \\alpha_2*\\tilde{W}(1)*x*x**\\theta_2 - \\tilde{W}(1)*x + r*w_1*x*x**\\theta_1 + r*w_2*x*x**\\theta_2"
      ]
     },
     "execution_count": 8,
     "metadata": {},
     "output_type": "execute_result"
    }
   ],
   "source": [
    "expand(num_expr)"
   ]
  },
  {
   "cell_type": "code",
   "execution_count": 30,
   "id": "921a4e4e",
   "metadata": {},
   "outputs": [
    {
     "data": {
      "text/latex": [
       "$\\displaystyle R w_{2} - \\alpha_{2} \\tilde{W}(1) x + r w_{2} x$"
      ],
      "text/plain": [
       "R*w_2 - \\alpha_2*\\tilde{W}(1)*x + r*w_2*x"
      ]
     },
     "execution_count": 30,
     "metadata": {},
     "output_type": "execute_result"
    }
   ],
   "source": [
    "expand(num_expr).coeff(x**θ2)"
   ]
  },
  {
   "cell_type": "code",
   "execution_count": 11,
   "id": "b0d6e60f",
   "metadata": {},
   "outputs": [
    {
     "data": {
      "text/latex": [
       "$\\displaystyle \\frac{2 \\cdot \\left(2^{\\theta_{1}} \\alpha_{1} \\tilde{W}(1) - 2^{\\theta_{1}} r w_{1} + 2^{\\theta_{2}} \\alpha_{2} \\tilde{W}(1) - 2^{\\theta_{2}} r w_{2} + \\tilde{W}(1)\\right)}{2^{\\theta_{1}} w_{1} + 2^{\\theta_{2}} w_{2}}$"
      ],
      "text/plain": [
       "2*(2**\\theta_1*\\alpha_1*\\tilde{W}(1) - 2**\\theta_1*r*w_1 + 2**\\theta_2*\\alpha_2*\\tilde{W}(1) - 2**\\theta_2*r*w_2 + \\tilde{W}(1))/(2**\\theta_1*w_1 + 2**\\theta_2*w_2)"
      ]
     },
     "execution_count": 11,
     "metadata": {},
     "output_type": "execute_result"
    }
   ],
   "source": [
    "solve(num_expr.subs([(x,2)]),R)[0]"
   ]
  },
  {
   "cell_type": "markdown",
   "id": "92ccea7f",
   "metadata": {},
   "source": [
    "### if $\\theta_2 = 0$"
   ]
  },
  {
   "cell_type": "code",
   "execution_count": 35,
   "id": "658542b5",
   "metadata": {},
   "outputs": [
    {
     "data": {
      "text/latex": [
       "$\\displaystyle R w_{1} x^{\\theta_{1}} + R w_{2} + x \\left(- \\alpha_{2} \\tilde{W}(1) - \\tilde{W}(1) + r w_{2} + x^{\\theta_{1}} \\left(- \\alpha_{1} \\tilde{W}(1) + r w_{1}\\right)\\right)$"
      ],
      "text/plain": [
       "R*w_1*x**\\theta_1 + R*w_2 + x*(-\\alpha_2*\\tilde{W}(1) - \\tilde{W}(1) + r*w_2 + x**\\theta_1*(-\\alpha_1*\\tilde{W}(1) + r*w_1))"
      ]
     },
     "execution_count": 35,
     "metadata": {},
     "output_type": "execute_result"
    }
   ],
   "source": [
    "expand(num_expr.subs([(θ2,0)])).collect(x).collect(x**θ1)"
   ]
  },
  {
   "cell_type": "markdown",
   "id": "cfeb1e34",
   "metadata": {},
   "source": [
    "### Special Case $\\theta_1 = 1/2, \\theta_2 = 0$"
   ]
  },
  {
   "cell_type": "code",
   "execution_count": 3,
   "id": "5ba5b45e",
   "metadata": {},
   "outputs": [],
   "source": [
    "γ = gamma\n",
    "z, w1, w2, α1, α2, r, R, x, W1 = symbols('z, w_1, w_2, \\\\alpha_1, \\\\alpha_2, r, R, x, \\\\tilde{W}(1)')"
   ]
  },
  {
   "cell_type": "code",
   "execution_count": 8,
   "id": "76514a4d",
   "metadata": {},
   "outputs": [],
   "source": [
    "num = (w1*z + w2)*((1-r)*(1-gamma) + r*z**2) - z**2*W1*(1+α1*z + α2)"
   ]
  },
  {
   "cell_type": "code",
   "execution_count": 10,
   "id": "98128cca",
   "metadata": {},
   "outputs": [
    {
     "data": {
      "text/latex": [
       "$\\displaystyle \\gamma r w_{2} - \\gamma w_{2} - r w_{2} + w_{2} + z^{3} \\left(- \\alpha_{1} \\tilde{W}(1) + r w_{1}\\right) + z^{2} \\left(- \\alpha_{2} \\tilde{W}(1) - \\tilde{W}(1) + r w_{2}\\right) + z \\left(\\gamma r w_{1} - \\gamma w_{1} - r w_{1} + w_{1}\\right)$"
      ],
      "text/plain": [
       "gamma*r*w_2 - gamma*w_2 - r*w_2 + w_2 + z**3*(-\\alpha_1*\\tilde{W}(1) + r*w_1) + z**2*(-\\alpha_2*\\tilde{W}(1) - \\tilde{W}(1) + r*w_2) + z*(gamma*r*w_1 - gamma*w_1 - r*w_1 + w_1)"
      ]
     },
     "execution_count": 10,
     "metadata": {},
     "output_type": "execute_result"
    }
   ],
   "source": [
    "expand(num).collect(z)"
   ]
  },
  {
   "cell_type": "code",
   "execution_count": 12,
   "id": "fade0744",
   "metadata": {},
   "outputs": [
    {
     "data": {
      "text/latex": [
       "$\\displaystyle \\gamma r w_{1} - \\gamma w_{1} - r w_{1} + w_{1}$"
      ],
      "text/plain": [
       "gamma*r*w_1 - gamma*w_1 - r*w_1 + w_1"
      ]
     },
     "execution_count": 12,
     "metadata": {},
     "output_type": "execute_result"
    }
   ],
   "source": [
    "expand(num).coeff(z)"
   ]
  },
  {
   "cell_type": "markdown",
   "id": "25c4b9b7",
   "metadata": {},
   "source": [
    "##\n",
    "If $\\theta_2 = -\\theta_1$"
   ]
  },
  {
   "cell_type": "code",
   "execution_count": 38,
   "id": "de60ccac",
   "metadata": {},
   "outputs": [],
   "source": [
    "γ = gamma\n",
    "x, w1, w2, α1, α2, r, R, x, W1, θ1, θ2 = symbols('x, w_1, w_2, \\\\alpha_1, \\\\alpha_2, r, R, x, \\\\tilde{W}(1), \\\\theta_1, \\\\theta_2')\n",
    "\n",
    "num_expr =(w1*x**θ1 + w2*x**θ2)*(R + r*x) - W1*x*(1+α1*x**θ1 + α2*x**θ2)"
   ]
  },
  {
   "cell_type": "code",
   "execution_count": 39,
   "id": "ec912640",
   "metadata": {},
   "outputs": [],
   "source": [
    "C_of_x = num_expr.subs([(θ2, -θ1)])"
   ]
  },
  {
   "cell_type": "code",
   "execution_count": 43,
   "id": "d3b826ce",
   "metadata": {},
   "outputs": [
    {
     "data": {
      "text/latex": [
       "$\\displaystyle R w_{1} x^{\\theta_{1}} + R w_{2} x^{- \\theta_{1}} - \\tilde{W}(1) x + x x^{\\theta_{1}} \\left(- \\alpha_{1} \\tilde{W}(1) + r w_{1}\\right) + x x^{- \\theta_{1}} \\left(- \\alpha_{2} \\tilde{W}(1) + r w_{2}\\right)$"
      ],
      "text/plain": [
       "R*w_1*x**\\theta_1 + R*w_2/x**\\theta_1 - \\tilde{W}(1)*x + x*x**\\theta_1*(-\\alpha_1*\\tilde{W}(1) + r*w_1) + x*(-\\alpha_2*\\tilde{W}(1) + r*w_2)/x**\\theta_1"
      ]
     },
     "execution_count": 43,
     "metadata": {},
     "output_type": "execute_result"
    }
   ],
   "source": [
    "expand(C_of_x).collect(x*x**θ1).collect(x*x**(-θ1))"
   ]
  },
  {
   "cell_type": "code",
   "execution_count": 51,
   "id": "b010ac5a",
   "metadata": {},
   "outputs": [
    {
     "data": {
      "text/latex": [
       "$\\displaystyle R w_{1} x^{2 \\theta_{1}} + R w_{2} - \\alpha_{1} \\tilde{W}(1) x x^{2 \\theta_{1}} - \\alpha_{2} \\tilde{W}(1) x - \\tilde{W}(1) x x^{\\theta_{1}} + r w_{1} x x^{2 \\theta_{1}} + r w_{2} x$"
      ],
      "text/plain": [
       "R*w_1*x**(2*\\theta_1) + R*w_2 - \\alpha_1*\\tilde{W}(1)*x*x**(2*\\theta_1) - \\alpha_2*\\tilde{W}(1)*x - \\tilde{W}(1)*x*x**\\theta_1 + r*w_1*x*x**(2*\\theta_1) + r*w_2*x"
      ]
     },
     "execution_count": 51,
     "metadata": {},
     "output_type": "execute_result"
    }
   ],
   "source": [
    "expand(C_of_x*x**θ1)"
   ]
  },
  {
   "cell_type": "markdown",
   "id": "58a5732e",
   "metadata": {},
   "source": [
    "## Special Case $\\theta_1 = 1, \\theta_2 = 0$"
   ]
  },
  {
   "cell_type": "code",
   "execution_count": 24,
   "id": "7857e1d8",
   "metadata": {},
   "outputs": [],
   "source": [
    "Wx_minus_W1 = (w1*x + w2)*(R + r*x)/(x*(1+α1*x + α2)) - W1"
   ]
  },
  {
   "cell_type": "code",
   "execution_count": 25,
   "id": "c9140cdd",
   "metadata": {},
   "outputs": [],
   "source": [
    "n,d = fraction(simplify(Wx_minus_W1))"
   ]
  },
  {
   "cell_type": "code",
   "execution_count": 26,
   "id": "83d82d23",
   "metadata": {},
   "outputs": [],
   "source": [
    "Q_of_x = n\n",
    "Q_of_x = expand(Q_of_x).collect(x)"
   ]
  },
  {
   "cell_type": "code",
   "execution_count": 27,
   "id": "80c435dc",
   "metadata": {},
   "outputs": [
    {
     "data": {
      "text/latex": [
       "$\\displaystyle R w_{2} + x^{2} \\left(- \\alpha_{1} \\tilde{W}(1) + r w_{1}\\right) + x \\left(R w_{1} - \\alpha_{2} \\tilde{W}(1) - \\tilde{W}(1) + r w_{2}\\right)$"
      ],
      "text/plain": [
       "R*w_2 + x**2*(-\\alpha_1*\\tilde{W}(1) + r*w_1) + x*(R*w_1 - \\alpha_2*\\tilde{W}(1) - \\tilde{W}(1) + r*w_2)"
      ]
     },
     "execution_count": 27,
     "metadata": {},
     "output_type": "execute_result"
    }
   ],
   "source": [
    "Q_of_x"
   ]
  },
  {
   "cell_type": "code",
   "execution_count": 28,
   "id": "3721a3fb",
   "metadata": {},
   "outputs": [
    {
     "data": {
      "text/latex": [
       "$\\displaystyle R w_{1} + R w_{2} - \\alpha_{1} \\tilde{W}(1) - \\alpha_{2} \\tilde{W}(1) - \\tilde{W}(1) + r w_{1} + r w_{2}$"
      ],
      "text/plain": [
       "R*w_1 + R*w_2 - \\alpha_1*\\tilde{W}(1) - \\alpha_2*\\tilde{W}(1) - \\tilde{W}(1) + r*w_1 + r*w_2"
      ]
     },
     "execution_count": 28,
     "metadata": {},
     "output_type": "execute_result"
    }
   ],
   "source": [
    "Q_of_x.subs([(x,1)])"
   ]
  },
  {
   "cell_type": "code",
   "execution_count": 50,
   "id": "6d9da7e0",
   "metadata": {},
   "outputs": [],
   "source": [
    "term_a = Q_of_x.coeff(x**2)\n",
    "term_b = Q_of_x.coeff(x)\n",
    "term_c = R*w2"
   ]
  },
  {
   "cell_type": "code",
   "execution_count": 51,
   "id": "6da1ed66",
   "metadata": {},
   "outputs": [
    {
     "data": {
      "text/latex": [
       "$\\displaystyle R^{2} w_{1}^{2} - 2 R r w_{1} w_{2} + \\tilde{W}(1)^{2} \\left(\\alpha_{2}^{2} + 2 \\alpha_{2} + 1\\right) + \\tilde{W}(1) \\left(R \\left(4 \\alpha_{1} w_{2} - 2 \\alpha_{2} w_{1} - 2 w_{1}\\right) - 2 \\alpha_{2} r w_{2} - 2 r w_{2}\\right) + r^{2} w_{2}^{2}$"
      ],
      "text/plain": [
       "R**2*w_1**2 - 2*R*r*w_1*w_2 + \\tilde{W}(1)**2*(\\alpha_2**2 + 2*\\alpha_2 + 1) + \\tilde{W}(1)*(R*(4*\\alpha_1*w_2 - 2*\\alpha_2*w_1 - 2*w_1) - 2*\\alpha_2*r*w_2 - 2*r*w_2) + r**2*w_2**2"
      ]
     },
     "execution_count": 51,
     "metadata": {},
     "output_type": "execute_result"
    }
   ],
   "source": [
    "discrim = term_b**2 - 4*term_a*term_c\n",
    "expand(discrim).collect(W1).collect(R)"
   ]
  },
  {
   "cell_type": "code",
   "execution_count": 52,
   "id": "1fd52ee7",
   "metadata": {},
   "outputs": [
    {
     "data": {
      "text/latex": [
       "$\\displaystyle - R w_{2} \\left(- 4 \\alpha_{1} \\tilde{W}(1) + 4 r w_{1}\\right) + \\left(R w_{1} - \\alpha_{2} \\tilde{W}(1) - \\tilde{W}(1) + r w_{2}\\right)^{2}$"
      ],
      "text/plain": [
       "-R*w_2*(-4*\\alpha_1*\\tilde{W}(1) + 4*r*w_1) + (R*w_1 - \\alpha_2*\\tilde{W}(1) - \\tilde{W}(1) + r*w_2)**2"
      ]
     },
     "execution_count": 52,
     "metadata": {},
     "output_type": "execute_result"
    }
   ],
   "source": [
    "discrim "
   ]
  },
  {
   "cell_type": "code",
   "execution_count": 53,
   "id": "3e4ed191",
   "metadata": {},
   "outputs": [
    {
     "data": {
      "text/latex": [
       "$\\displaystyle 4 R r w_{1} w_{2}$"
      ],
      "text/plain": [
       "4*R*r*w_1*w_2"
      ]
     },
     "execution_count": 53,
     "metadata": {},
     "output_type": "execute_result"
    }
   ],
   "source": [
    "expand((W1*(1+α2) - (R*w1 + r*w2))**2 + 4*W1*R*α1*w2 - discrim)"
   ]
  },
  {
   "cell_type": "code",
   "execution_count": 55,
   "id": "97cf0f9c",
   "metadata": {},
   "outputs": [],
   "source": [
    "J11, J12, J13, J21, J22, J23, J31, J32, J33 = symbols('J_{11}, J_{12}, J_{13}, J_{21}, J_{22}, J_{23}, J_{31}, J_{32}, J_{33}')"
   ]
  },
  {
   "cell_type": "code",
   "execution_count": 94,
   "id": "78715dd5",
   "metadata": {},
   "outputs": [],
   "source": [
    "from sympy.abc import xi, lamda"
   ]
  },
  {
   "cell_type": "code",
   "execution_count": 73,
   "id": "0ff17a6a",
   "metadata": {},
   "outputs": [],
   "source": [
    "q,x,a,A,n,N,Gp,gp, c1, c2 = symbols('q, x, a, A, n, N, \\\\frac{dG}{dN}, \\\\frac{dg}{dn}, c_1, c_2')"
   ]
  },
  {
   "cell_type": "code",
   "execution_count": 72,
   "id": "d9651acf",
   "metadata": {},
   "outputs": [
    {
     "data": {
      "text/latex": [
       "$\\displaystyle \\frac{dG}{dN}$"
      ],
      "text/plain": [
       "\\frac{dG}{dN}"
      ]
     },
     "execution_count": 72,
     "metadata": {},
     "output_type": "execute_result"
    }
   ],
   "source": [
    "Gp"
   ]
  },
  {
   "cell_type": "code",
   "execution_count": 68,
   "id": "f2f01c8d",
   "metadata": {},
   "outputs": [
    {
     "data": {
      "text/latex": [
       "$\\displaystyle \\xi$"
      ],
      "text/plain": [
       "xi"
      ]
     },
     "execution_count": 68,
     "metadata": {},
     "output_type": "execute_result"
    }
   ],
   "source": [
    "xi"
   ]
  },
  {
   "cell_type": "code",
   "execution_count": 95,
   "id": "c814a2ce",
   "metadata": {},
   "outputs": [],
   "source": [
    "Jac = Matrix([[0,J12,J13],[J21, J22, J23], [J31, J32, J33]])\n",
    "poly = Jac.charpoly(lamda)\n",
    "poly = poly.as_expr()"
   ]
  },
  {
   "cell_type": "code",
   "execution_count": 130,
   "id": "278bf2aa",
   "metadata": {},
   "outputs": [],
   "source": [
    "q,x,a,A,n,N,Gp,gp, c1, c2 = symbols('q, x, a, A, n, N, \\\\frac{dG}{dN}, \\\\frac{dg}{dn}, c_1, c_2')"
   ]
  },
  {
   "cell_type": "code",
   "execution_count": 96,
   "id": "8263346b",
   "metadata": {},
   "outputs": [
    {
     "data": {
      "text/latex": [
       "$\\displaystyle - \\frac{A^{2} N a q^{2} \\left(- c_{1} + c_{2} \\left(A N + 1\\right)\\right)}{x^{3} \\xi^{5}} - \\frac{A^{2} N q \\left(\\frac{dg}{dn} + \\frac{a q \\left(A N + 1\\right)}{x \\xi^{2}}\\right) \\left(c_{1} \\left(a n + 1\\right) - c_{2}\\right)}{x^{2} \\xi^{3}} - \\frac{A a^{2} n q^{2} \\left(c_{1} \\left(a n + 1\\right) - c_{2}\\right)}{x^{3} \\xi^{5}} - \\frac{a^{2} n q \\left(- c_{1} + c_{2} \\left(A N + 1\\right)\\right) \\left(\\frac{A q \\left(a n + 1\\right)}{x \\xi^{2}} + \\frac{dG}{dN}\\right)}{x^{2} \\xi^{3}} + \\lambda^{3} + \\lambda^{2} \\left(- \\frac{A q \\left(a n + 1\\right)}{x \\xi^{2}} - \\frac{dG}{dN} - \\frac{dg}{dn} - \\frac{a q \\left(A N + 1\\right)}{x \\xi^{2}}\\right) + \\lambda \\left(\\frac{A^{2} N q \\left(c_{1} \\left(a n + 1\\right) - c_{2}\\right)}{x^{2} \\xi^{3}} - \\frac{A a q^{2}}{x^{2} \\xi^{4}} + \\frac{a^{2} n q \\left(- c_{1} + c_{2} \\left(A N + 1\\right)\\right)}{x^{2} \\xi^{3}} + \\left(\\frac{dg}{dn} + \\frac{a q \\left(A N + 1\\right)}{x \\xi^{2}}\\right) \\left(\\frac{A q \\left(a n + 1\\right)}{x \\xi^{2}} + \\frac{dG}{dN}\\right)\\right)$"
      ],
      "text/plain": [
       "-A**2*N*a*q**2*(-c_1 + c_2*(A*N + 1))/(x**3*xi**5) - A**2*N*q*(\\frac{dg}{dn} + a*q*(A*N + 1)/(x*xi**2))*(c_1*(a*n + 1) - c_2)/(x**2*xi**3) - A*a**2*n*q**2*(c_1*(a*n + 1) - c_2)/(x**3*xi**5) - a**2*n*q*(-c_1 + c_2*(A*N + 1))*(A*q*(a*n + 1)/(x*xi**2) + \\frac{dG}{dN})/(x**2*xi**3) + lamda**3 + lamda**2*(-A*q*(a*n + 1)/(x*xi**2) - \\frac{dG}{dN} - \\frac{dg}{dn} - a*q*(A*N + 1)/(x*xi**2)) + lamda*(A**2*N*q*(c_1*(a*n + 1) - c_2)/(x**2*xi**3) - A*a*q**2/(x**2*xi**4) + a**2*n*q*(-c_1 + c_2*(A*N + 1))/(x**2*xi**3) + (\\frac{dg}{dn} + a*q*(A*N + 1)/(x*xi**2))*(A*q*(a*n + 1)/(x*xi**2) + \\frac{dG}{dN}))"
      ]
     },
     "metadata": {},
     "output_type": "display_data"
    }
   ],
   "source": [
    "poly_full = poly.subs([(J12,(q*A/x)*(c1*(1+a*n) - c2)/xi**2 ), (J13, (q*a/x)*(c2*(1+A*N) - c1)/xi**2),\n",
    "          (J21, -A*N/(x*xi)), (J22, Gp + (q/x)*(A*(1+a*n))/xi**2), (J23, -(q/x)* (a/xi**2)),\n",
    "                      (J31,-a*n/(x*xi)), (J32, -(q/x)*(A/xi**2)), (J33, gp +(a*q/x)*(1+A*N)/xi**2)])\n",
    "display(poly_full)"
   ]
  },
  {
   "cell_type": "code",
   "execution_count": 99,
   "id": "b285da43",
   "metadata": {},
   "outputs": [
    {
     "data": {
      "text/latex": [
       "$\\displaystyle - \\frac{A^{2} N a q^{2} \\left(- c_{1} + c_{2} \\left(A N + 1\\right)\\right)}{x^{3} \\xi^{5}} - \\frac{A^{2} N q \\left(\\frac{dg}{dn} + \\frac{a q \\left(A N + 1\\right)}{x \\xi^{2}}\\right) \\left(c_{1} \\left(a n + 1\\right) - c_{2}\\right)}{x^{2} \\xi^{3}} - \\frac{A a^{2} n q^{2} \\left(c_{1} \\left(a n + 1\\right) - c_{2}\\right)}{x^{3} \\xi^{5}} - \\frac{a^{2} n q \\left(- c_{1} + c_{2} \\left(A N + 1\\right)\\right) \\left(\\frac{A q \\left(a n + 1\\right)}{x \\xi^{2}} + \\frac{dG}{dN}\\right)}{x^{2} \\xi^{3}} + \\lambda^{3} + \\lambda^{2} \\left(- \\frac{A q \\left(a n + 1\\right)}{x \\xi^{2}} - \\frac{dG}{dN} - \\frac{dg}{dn} - \\frac{a q \\left(A N + 1\\right)}{x \\xi^{2}}\\right) + \\lambda \\left(\\frac{A^{2} N q \\left(c_{1} \\left(a n + 1\\right) - c_{2}\\right)}{x^{2} \\xi^{3}} - \\frac{A a q^{2}}{x^{2} \\xi^{4}} + \\frac{a^{2} n q \\left(- c_{1} + c_{2} \\left(A N + 1\\right)\\right)}{x^{2} \\xi^{3}} + \\left(\\frac{dg}{dn} + \\frac{a q \\left(A N + 1\\right)}{x \\xi^{2}}\\right) \\left(\\frac{A q \\left(a n + 1\\right)}{x \\xi^{2}} + \\frac{dG}{dN}\\right)\\right)$"
      ],
      "text/plain": [
       "-A**2*N*a*q**2*(-c_1 + c_2*(A*N + 1))/(x**3*xi**5) - A**2*N*q*(\\frac{dg}{dn} + a*q*(A*N + 1)/(x*xi**2))*(c_1*(a*n + 1) - c_2)/(x**2*xi**3) - A*a**2*n*q**2*(c_1*(a*n + 1) - c_2)/(x**3*xi**5) - a**2*n*q*(-c_1 + c_2*(A*N + 1))*(A*q*(a*n + 1)/(x*xi**2) + \\frac{dG}{dN})/(x**2*xi**3) + lamda**3 + lamda**2*(-A*q*(a*n + 1)/(x*xi**2) - \\frac{dG}{dN} - \\frac{dg}{dn} - a*q*(A*N + 1)/(x*xi**2)) + lamda*(A**2*N*q*(c_1*(a*n + 1) - c_2)/(x**2*xi**3) - A*a*q**2/(x**2*xi**4) + a**2*n*q*(-c_1 + c_2*(A*N + 1))/(x**2*xi**3) + (\\frac{dg}{dn} + a*q*(A*N + 1)/(x*xi**2))*(A*q*(a*n + 1)/(x*xi**2) + \\frac{dG}{dN}))"
      ]
     },
     "execution_count": 99,
     "metadata": {},
     "output_type": "execute_result"
    }
   ],
   "source": [
    "poly_full.collect(lamda)"
   ]
  },
  {
   "cell_type": "code",
   "execution_count": 110,
   "id": "2e2ccb13",
   "metadata": {},
   "outputs": [
    {
     "data": {
      "text/latex": [
       "$\\displaystyle \\frac{A^{2} N q \\left(c_{1} \\left(a n + 1\\right) - c_{2}\\right)}{x^{2} \\xi^{3}} - \\frac{A a q^{2}}{x^{2} \\xi^{4}} + \\frac{a^{2} n q \\left(- c_{1} + c_{2} \\left(A N + 1\\right)\\right)}{x^{2} \\xi^{3}} + \\left(\\frac{dg}{dn} + \\frac{a q \\left(A N + 1\\right)}{x \\xi^{2}}\\right) \\left(\\frac{A q \\left(a n + 1\\right)}{x \\xi^{2}} + \\frac{dG}{dN}\\right)$"
      ],
      "text/plain": [
       "A**2*N*q*(c_1*(a*n + 1) - c_2)/(x**2*xi**3) - A*a*q**2/(x**2*xi**4) + a**2*n*q*(-c_1 + c_2*(A*N + 1))/(x**2*xi**3) + (\\frac{dg}{dn} + a*q*(A*N + 1)/(x*xi**2))*(A*q*(a*n + 1)/(x*xi**2) + \\frac{dG}{dN})"
      ]
     },
     "execution_count": 110,
     "metadata": {},
     "output_type": "execute_result"
    }
   ],
   "source": [
    "poly_full.collect(lamda).coeff(lamda)"
   ]
  },
  {
   "cell_type": "markdown",
   "id": "dda44576",
   "metadata": {},
   "source": []
  }
 ],
 "metadata": {
  "kernelspec": {
   "display_name": "Python 3 (ipykernel)",
   "language": "python",
   "name": "python3"
  },
  "language_info": {
   "codemirror_mode": {
    "name": "ipython",
    "version": 3
   },
   "file_extension": ".py",
   "mimetype": "text/x-python",
   "name": "python",
   "nbconvert_exporter": "python",
   "pygments_lexer": "ipython3",
   "version": "3.9.6"
  }
 },
 "nbformat": 4,
 "nbformat_minor": 5
}
