{
 "cells": [
  {
   "cell_type": "markdown",
   "id": "7c758079-fe81-4bac-8e21-ba2831c0f835",
   "metadata": {},
   "source": [
    "# Type II Equilibrium Plots"
   ]
  },
  {
   "cell_type": "code",
   "execution_count": 2,
   "id": "cdd3ccfd-4c34-4138-9850-ee7e6b442d03",
   "metadata": {},
   "outputs": [],
   "source": [
    "import numpy as np\n",
    "import matplotlib.pyplot as plt\n",
    "final_fig_path = \"../Manuscript/Figures/\"\n",
    "import sys\n",
    "sys.path.insert(1, 'Functions')\n",
    "from fitness_funs_non_dim import *\n",
    "from group_w_pop_funs import *\n",
    "from scipy.integrate import solve_ivp\n",
    "from sim_graph_funs import *\n"
   ]
  },
  {
   "cell_type": "code",
   "execution_count": null,
   "id": "ca4e55d2-2543-47ee-8706-4ccf979e832c",
   "metadata": {},
   "outputs": [],
   "source": [
    "def get_equilibrium(params, N1_0 = 0.5, N2_0 = 0.4, P_0 = 5, F_of_x_vec = None):\n",
    "    '''\n",
    "    finds the equilibrium using Fsolve\n",
    "    if not given F_of_x_vec, then just has everyone initially solitary\n",
    "    \n",
    "    @returns:\n",
    "    N1_eq, N2_eq, F_eq, P_eq, mean_x_eq\n",
    "    '''\n",
    "    x_max = params['x_max']\n",
    "    if ~isinstance(F_of_x_vec, np.ndarray):\n",
    "        F_of_x_vec = np.zeros(x_max)\n",
    "        F_of_x_vec[0] = P_0\n",
    "    x0 = [N1_0, N2_0, *F_of_x_vec]\n",
    "    out, infodict, ier, mesg = fsolve(func = nullclines_no_P, x0 = x0, \n",
    "                                  args = (params), full_output = 1)\n",
    "    F_eq = out[2:]\n",
    "    P_eq = np.sum(np.arange(1,x_max+1,1)*F_eq); \n",
    "    N1_eq = out[0]\n",
    "    N2_eq = out[1]\n",
    "    mean_x_eq = mean_group_size_membership(F_eq,x_max,P_eq)\n",
    "\n",
    "    if np.any( np.round(np.array([N1_eq, N2_eq, *F_eq, P_eq, mean_x_eq]),8) <0):\n",
    "        return np.nan, np.nan, np.nan, np.nan, np.nan\n",
    "    else:\n",
    "        return N1_eq, N2_eq, F_eq, P_eq, mean_x_eq"
   ]
  }
 ],
 "metadata": {
  "kernelspec": {
   "display_name": "Python 3 (ipykernel)",
   "language": "python",
   "name": "python3"
  },
  "language_info": {
   "codemirror_mode": {
    "name": "ipython",
    "version": 3
   },
   "file_extension": ".py",
   "mimetype": "text/x-python",
   "name": "python",
   "nbconvert_exporter": "python",
   "pygments_lexer": "ipython3",
   "version": "3.9.6"
  }
 },
 "nbformat": 4,
 "nbformat_minor": 5
}
