{
 "cells": [
  {
   "cell_type": "code",
   "execution_count": 1,
   "id": "bc5d4f5f-6a73-44bc-90b6-60168682c68a",
   "metadata": {},
   "outputs": [],
   "source": [
    "using Pkg"
   ]
  },
  {
   "cell_type": "code",
   "execution_count": 9,
   "id": "253f4be5-b215-45d9-b003-9d18abb36c33",
   "metadata": {},
   "outputs": [
    {
     "data": {
      "text/plain": [
       "\"/Users/taliaborofsky/Documents/PhD Research/CooperativeHunting/CH_Code/NetworkCode\""
      ]
     },
     "execution_count": 9,
     "metadata": {},
     "output_type": "execute_result"
    }
   ],
   "source": [
    "pwd()"
   ]
  },
  {
   "cell_type": "code",
   "execution_count": 12,
   "id": "fada95e5-701f-45dd-bff8-d90e728becd8",
   "metadata": {},
   "outputs": [],
   "source": [
    "include(\"MainFunctionsAkcay.jl\")\n",
    "\n",
    "using ArgParse\n",
    "using JLD\n",
    "using StatsBase\n",
    "using LinearAlgebra"
   ]
  },
  {
   "cell_type": "code",
   "execution_count": 13,
   "id": "f32222fb-7ec0-4e4b-84f5-4c9c51992afa",
   "metadata": {},
   "outputs": [
    {
     "ename": "LoadError",
     "evalue": "invalid redefinition of constant NetworkParam",
     "output_type": "error",
     "traceback": [
      "invalid redefinition of constant NetworkParam",
      "",
      "Stacktrace:",
      " [1] top-level scope",
      "   @ In[13]:1"
     ]
    }
   ],
   "source": [
    "mutable struct NetworkParam\n",
    "    pn::Float64            # probability connects to parent's neighbors\n",
    "    pr::Float64            # probability connects to other random neighbors\n",
    "    r0::Float64            # initial density of small prey\n",
    "    R0::Float64            # initial density of big prey\n",
    "    netsize::Int64         # num individuals\n",
    "    generations::Int64     # num generations, so num time steps is netsize * generations\n",
    "    br::Float64             # benefit of catching small prey\n",
    "    bR::Float64             # total benefit of catching big prey\n",
    "    betar::Float64           # depletion constant of small prey\n",
    "    betaR::Float64           # depletion constant of big prey\n",
    "    H::Float64            # horizontal transmission\n",
    "    retint::Int64         # Interval at which the simulation saves output, \n",
    "                          # in terms of number of death/birth events. \n",
    "                          #Default = 0 reverts to saving things at intervals equal to network size\n",
    "    replicates::Int64     # \"number of replicates to run for the same parameter value\"\n",
    "    networksaveint::Int64\n",
    "    \n",
    "    # inner constructor allows me to have optional arguments\n",
    "    # semicolons separate necessary from optional arguments. here all arguments have default constructors\n",
    "    NetworkParam(;pn::Float64=0.5, pr::Float64=0.01, r0::Float64=1.0, R0::Float64=1.0, \n",
    "        netsize::Int64=100, generations::Int64=100, br::Float64=0.2, bR::Float64=1.0,\n",
    "        betar::Float64=0.5, betaR::Float64=0.5, H::Float64=0.01, retint::Int64=0, replicates::Int64=1,\n",
    "        networksaveint::Int64=1) = \n",
    "    new(pn, pr, r0, R0, netsize, generations, br, bR, betar, betaR, H, retint, replicates, networksaveint)\n",
    "end\n",
    "\n",
    "#= # this doesn't work on jupyter notebook but does work in general, so commented out\n",
    "### Defining the parameters, default values, and help text.\n",
    "function parse_commandline()\n",
    "  s = ArgParseSettings()\n",
    "\n",
    "  @add_arg_table s begin\n",
    "    \"--pn\"\n",
    "        help = \"probability of inheriting connections\"\n",
    "        arg_type = Float64\n",
    "        default = 0.5\n",
    "    \"--pr\"\n",
    "        help = \"probability of random connections\"\n",
    "        arg_type = Float64\n",
    "        default = 0.01\n",
    "    \"--r0\"\n",
    "        help = \"initial normalized density of small prey\"\n",
    "        arg_type = Float64\n",
    "        default = 1.0\n",
    "    \"--R0\"\n",
    "        help = \"initial normalized density of big prey\"\n",
    "        arg_type = Float64\n",
    "        default = 1.0\n",
    "    \"--netsize\"\n",
    "        help = \"network size\"\n",
    "        arg_type = Int64\n",
    "        default = 100\n",
    "    \"--generations\"\n",
    "        help = \"number of generations to iterate network. Total time-steps given by n*gen\"\n",
    "        arg_type = Int64\n",
    "        default = 100\n",
    "    \"--br\"\n",
    "        help = \"benefit from catching small prey\"\n",
    "        arg_type = Float64\n",
    "        default = 0.2\n",
    "    \"--bR\"\n",
    "        help = \"benefit from catching big prey. Must be larger than 2*br\"\n",
    "        arg_type = Float64\n",
    "        default = 1.0\n",
    "    \"--betar\"\n",
    "        help = \"depletion constant of small prey\"\n",
    "        arg_type = Float64\n",
    "        default = 0.5\n",
    "    \"--betaR\"\n",
    "        help = \"depletion constant of big prey\"\n",
    "        arg_type = Float64\n",
    "        default = 0.5\n",
    "    \"--H\"\n",
    "        help = \"horizontal learning\"\n",
    "        arg_type = Float64\n",
    "        default = 0.01\n",
    "    \"--file\"\n",
    "        help = \"name of the file to save things in\"\n",
    "        arg_type = String\n",
    "        default = \"output\"\n",
    "    \"--retint\"\n",
    "        help = \"Interval at which the simulation saves output, in terms of number of death/birth events. Default = 0 reverts to saving things at intervals equal to network size\" # so retint = 0--> save once every generation\n",
    "        arg_type = Int64\n",
    "        default = 0\n",
    "    \"--replicates\"\n",
    "        help = \"number of replicates to run for the same parameter value\"\n",
    "        arg_type = Int64\n",
    "        default = 1\n",
    "    \"--saveall\"\n",
    "        help = \"whether to save all trajectories, or calculate the mean across all replicates\"\n",
    "        arg_type = Bool\n",
    "        default = true\n",
    "    \"--networksaveint\"\n",
    "        help = \"by which frequency (when data is saved) the simulation saves the full adjacency matric and type vectors. Integer; default is 0, in which case these are never saved.\"\n",
    "        arg_type = Int64\n",
    "        default = 0\n",
    "  end\n",
    "\n",
    "  return parse_args(s)\n",
    "end\n",
    "=#"
   ]
  },
  {
   "cell_type": "code",
   "execution_count": 8,
   "id": "8eeb38bd-3730-4a33-9ca1-a0ac319b4a8c",
   "metadata": {},
   "outputs": [
    {
     "ename": "LoadError",
     "evalue": "LoadError: UndefVarError: @add_arg_table not defined\nin expression starting at In[8]:5",
     "output_type": "error",
     "traceback": [
      "LoadError: UndefVarError: @add_arg_table not defined\nin expression starting at In[8]:5",
      ""
     ]
    }
   ],
   "source": []
  },
  {
   "cell_type": "code",
   "execution_count": 18,
   "id": "459e37ef-86bd-4446-8a91-c77c5e06c746",
   "metadata": {},
   "outputs": [
    {
     "data": {
      "text/plain": [
       "NetworkParam(0.7, 0.1, 1.0, 1.0, 100, 100, 0.2, 1.0, 0.5, 0.5, 0.01, 0, 1, 1)"
      ]
     },
     "execution_count": 18,
     "metadata": {},
     "output_type": "execute_result"
    }
   ],
   "source": [
    "N = NetworkParam()\n",
    "N.pn = 0.7\n",
    "N"
   ]
  },
  {
   "cell_type": "code",
   "execution_count": 20,
   "id": "fb43823a-548d-4bcb-8ec0-34be29c0a444",
   "metadata": {},
   "outputs": [
    {
     "data": {
      "text/plain": [
       "main (generic function with 1 method)"
      ]
     },
     "execution_count": 20,
     "metadata": {},
     "output_type": "execute_result"
    }
   ],
   "source": [
    "function main(pn, pr, r0, R0, netsize, generations, br, bR, βr, βR, H, file, saveall)\n",
    "end"
   ]
  },
  {
   "cell_type": "code",
   "execution_count": 26,
   "id": "9003432b-5023-4c92-9a38-4c446018ef92",
   "metadata": {},
   "outputs": [],
   "source": [
    "a=\n",
    "1;"
   ]
  },
  {
   "cell_type": "code",
   "execution_count": 27,
   "id": "61607e9d-c37f-4eed-9d20-fe4d690e36f9",
   "metadata": {},
   "outputs": [
    {
     "data": {
      "text/plain": [
       "1"
      ]
     },
     "execution_count": 27,
     "metadata": {},
     "output_type": "execute_result"
    }
   ],
   "source": [
    "a"
   ]
  },
  {
   "cell_type": "code",
   "execution_count": null,
   "id": "a9e24aaa-710e-47fe-b651-ecd88ee4bac0",
   "metadata": {},
   "outputs": [],
   "source": []
  }
 ],
 "metadata": {
  "kernelspec": {
   "display_name": "Julia 1.8.5",
   "language": "julia",
   "name": "julia-1.8"
  },
  "language_info": {
   "file_extension": ".jl",
   "mimetype": "application/julia",
   "name": "julia",
   "version": "1.8.5"
  }
 },
 "nbformat": 4,
 "nbformat_minor": 5
}
