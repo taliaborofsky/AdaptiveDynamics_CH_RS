{
 "cells": [
  {
   "cell_type": "markdown",
   "id": "ff0240c7-4d78-435d-8a67-ed8ff8dcf40f",
   "metadata": {},
   "source": [
    "# Fitness_funs_non_dim\n",
    "\n",
    "I use this notebook to write fitness_funs_non_dim. Functions:\n",
    "- fun_alpha1: $\\alpha_1(x)$\n",
    "- fun_alpha2: $\\alpha_2(x)$\n",
    "- fun_f1: $\\tilde{f}_1(x,N_1,N_2)$\n",
    "- fun_f2: $\\tilde{f}_2(x,N_1,N_2)$\n",
    "- fun_response_non_dim: $\\tilde{f}_i(x,N_1,N_2)$\n",
    "- yield_from_prey_non_dim: $\\tilde{\\pi}(x,N_1,N_2)$\n",
    "- per_capita_fitness_from_prey_non_dim: $\\frac{1}{x} \\tilde{\\pi}(x,N_1,N_2)$\n",
    "- fitness_from_prey_non_dim: $\\frac{1}{x} \\tilde{\\pi}(x,N_1,N_2)$ times stuff for reproductive exchange that's retired\n",
    "- fun_attackrate: $\\alpha_i(x)$(retired)\n"
   ]
  },
  {
   "cell_type": "code",
   "execution_count": 31,
   "id": "ea3d096b-706f-4629-b24d-be5460943e77",
   "metadata": {},
   "outputs": [
    {
     "name": "stdout",
     "output_type": "stream",
     "text": [
      "Overwriting fitness_funs_non_dim.py\n"
     ]
    }
   ],
   "source": [
    "%%writefile fitness_funs_non_dim.py\n",
    "import numpy as np\n",
    "import scipy as sp\n",
    "# this is written and tested in write_test_pop_dynamics.ipynb\n",
    "\n",
    "def fun_H1(x, H1a, H1b, **params):\n",
    "    return H1a + H1b/x\n",
    "def fun_H2(x, H2a, H2b, **params):\n",
    "    return H2a + H2b/x\n",
    "def fun_alpha1(x, α1_of_1, s1, **params):\n",
    "    ''' capture prob of big prey'''\n",
    "    θ_1 = - np.log(1/α1_of_1 - 1)/(1-s1)\n",
    "    return 1/(1 + np.exp(- θ_1 * (x - s1)))\n",
    "    \n",
    "def fun_alpha2(x, α2_fun_type, α2_of_1, s2, **params):\n",
    "    ''' \n",
    "    capture prob of small prey\n",
    "    '''\n",
    "    if α2_fun_type == 'constant':\n",
    "        return α2_of_1\n",
    "    else:\n",
    "        θ_2 = - np.log(1/α2_of_1 - 1)/(1-s2)\n",
    "        return 1/(1 + np.exp(- θ_2 * (x - s2)))\n",
    "\n",
    "def fun_f1(x,N1,N2,**params):\n",
    "    return fun_response_non_dim(x,N1,N2,1,**params)\n",
    "    \n",
    "def fun_f2(x,N1,N2,**params):\n",
    "    return fun_response_non_dim(x,N1,N2,2,**params)\n",
    "    \n",
    "def fun_response_non_dim(x, N1, N2, index, A1, A2, **params):\n",
    "    '''\n",
    "    non-dimensionalized functional response to prey as a function of predator group size (x) and \n",
    "    (non-dimensionalized prey population sizes (N1, N2)\n",
    "    \n",
    "    @inputs:\n",
    "    x - pred group size\n",
    "    N1, N2 - non-dim big prey and small prey pop sizes, respec\n",
    "    index - 1 (big prey) or 2 (small prey)\n",
    "    A1, A2 - non-dimensionalized encounter rate of both types of prey\n",
    "    H1, H2 - non-dimensionalized handling times of big prey, small prey, respec\n",
    "    params: a dictionary of other parameters, that at least must include \n",
    "                α1_of_1, α2_of_1, s1, s2\n",
    "\n",
    "    @returns\n",
    "    functional response for prey type <index> (a float)\n",
    "\n",
    "    '''\n",
    "    H1 = fun_H1(x, **params)\n",
    "    H2 = fun_H2(x, **params)\n",
    "    α2 = fun_alpha2(x,**params)\n",
    "    α1 = fun_alpha1(x,**params)\n",
    "    if index == 1:\n",
    "        numerator = A1*α1*N1\n",
    "    elif index == 2:\n",
    "        numerator = A2*α2*N2\n",
    "    denominator = 1 + α1*H1*N1 + α2*H2*N2\n",
    "    return numerator/denominator\n",
    "def yield_from_prey_non_dim(x,N1,N2,β1, β2, **params):\n",
    "    '''\n",
    "    this is \\tilde{pi} in the model, which is pi/(g1 + g2 + delta)\n",
    "    @inputs:\n",
    "    x - pred group size\n",
    "    N1, N2 - big prey, small prey non-dim'ed pop size\n",
    "    β1, β2 - prey profitability for big prey, small prey, respec\n",
    "    '''\n",
    "    tilde_π = β1 * fun_response_non_dim(x, N1, N2, 1,**params) \\\n",
    "                          + β2 * fun_response_non_dim(x, N1, N2, 2, **params)\n",
    "    return tilde_π\n",
    "    \n",
    "def per_capita_fitness_from_prey_non_dim(x, N1, N2, β1, β2, **params):\n",
    "    '''\n",
    "    This is \\tilde{w} in the model\n",
    "    @inputs:\n",
    "    x - pred group size\n",
    "    N1, N2 - big prey, small prey non-dim'ed pop size\n",
    "    β1, β2 - prey profitability for big prey, small prey, respec\n",
    "    '''\n",
    "    w_per_capita = (1/x)*(β1 * fun_response_non_dim(x, N1, N2, 1,**params) \\\n",
    "                          + β2 * fun_response_non_dim(x, N1, N2, 2, **params))\n",
    "    return w_per_capita\n",
    "\n",
    "'''\n",
    "I don't use the following functions anymore\n",
    "'''\n",
    "    \n",
    "def fitness_from_prey_non_dim(x, N1, N2, r, γ,**params):\n",
    "    '''\n",
    "    portion of inclusive fitness from each prey type, stored in an array, after potentially unequal sharing\n",
    "    @inputs:\n",
    "    x - pred group size\n",
    "    N1, N2 - big prey, small prey non-dim pop size\n",
    "    r - relatedness between group members\n",
    "    γ - extent of reproductive skew (portion of subordinate's food donated to dominant)\n",
    "    params - dictionary of other parameters\n",
    "\n",
    "    @returns:\n",
    "    np.array([<inclusive fitness from big prey>, <inclusive fitness from small prey>])\n",
    "    (so the rows correspond to prey types\n",
    "    '''\n",
    "    # set portion size, need to account for x being an array\n",
    "\n",
    "    w_per_capita = per_capita_fitness_from_prey_non_dim(x, N1, N2, **params)\n",
    "    try:\n",
    "        if x > 1:\n",
    "            repro_exchange = (1-γ)*(1-r) + r*x\n",
    "            return w_per_capita * repro_exchange\n",
    "        else:\n",
    "            return w_per_capita\n",
    "    except ValueError:\n",
    "        repro_exchange = np.ones(np.shape(x))\n",
    "        repro_exchange[x>1] = (1-γ)*(1-r) + r*x[x>1]\n",
    "        return  w_per_capita * repro_exchange\n",
    "def fun_attack_rate(x, index, α1_of_1, α2_of_1, s1, s2, α2_fun_type,\n",
    "                    **params):\n",
    "    '''\n",
    "    RETIRING THIS BECAUSE IT'S CUMBERSOME...\n",
    "    \n",
    "    The attack rate as a function of x\n",
    "    \n",
    "    @inputs:\n",
    "    x: group size, 1,2,3,...\n",
    "    index: 1 or 2, indicates prey type 1 (big prey) or 2 (small prey)\n",
    "    α1_of_1: the attack rate of big prey for group size 1\n",
    "    α2_of_1: the attack rate of small prey for group size 1\n",
    "    s1: critical group size for big prey, must be >= 2\n",
    "    s2: critical group size for small prey, must be >= 2\n",
    "    \n",
    "    @returns:\n",
    "    attackrate (a float)\n",
    "\n",
    "    @example:\n",
    "    >> fun_attack_rate(1,2,0.05,0.95,2,2,**dict())\n",
    "    0.9500000000000001\n",
    "    >> fun_attack_rate(1,1,0.05,0.95,2,2,**dict())\n",
    "    0.05000000000000001\n",
    "    \n",
    "    '''\n",
    "    if index == 1:\n",
    "        θ_1 = - np.log(1/α1_of_1 - 1)/(1-s1)\n",
    "        return 1/(1 + np.exp(- θ_1 * (x - s1)))\n",
    "    elif index == 2:\n",
    "        if α2_fun_type == 'constant':\n",
    "            return α2_of_1\n",
    "        else:\n",
    "            θ_2 = - np.log(1/α2_of_1 - 1)/(1-s2)\n",
    "            return 1/(1 + np.exp(- θ_2 * (x - s2)))"
   ]
  },
  {
   "cell_type": "markdown",
   "id": "8a0055b3-9323-4832-93cd-e57c51381572",
   "metadata": {},
   "source": [
    "Test"
   ]
  },
  {
   "cell_type": "code",
   "execution_count": 15,
   "id": "5d48abc8-577a-4760-b919-5246cdd2876d",
   "metadata": {},
   "outputs": [],
   "source": [
    "def update_params(param_key, param, params_base):\n",
    "    '''\n",
    "    given params_base, makes a copy dictionary of parameters\n",
    "    and updates with the new param at param_key\n",
    "\n",
    "    noe if param_key is scale, updates β1 and H1 entries\n",
    "\n",
    "    @ returns: params\n",
    "    '''\n",
    "    params = params_base.copy()\n",
    "        \n",
    "    if param_key == \"scale\": # this means β1/β2 = H1/H2 and β2, H2 are set\n",
    "        params['β1'] = params['β2']*param\n",
    "        A_frac = params_base['A1']/params_base['A2']\n",
    "        params['H1a'] = params['H2a'] * param * A_frac\n",
    "        params['H1b'] = params['H2b'] * param * A_frac\n",
    "        params['η1'] = params['η2']/param\n",
    "    else:\n",
    "        params[param_key] = param\n",
    "    return params"
   ]
  },
  {
   "cell_type": "code",
   "execution_count": 30,
   "id": "b410647f-023e-428e-9238-94ec2bc1021c",
   "metadata": {},
   "outputs": [],
   "source": [
    "\n",
    "x_max = 10\n",
    "params_base = dict(η1 = 0.2, η2 = 0.5, A1 = 0.5, A2 = 0.5, β1 = 4, β2 = 1,\n",
    "                   H1a = 0, H1b = 4, H2a = 0, H2b = 1, α1_of_1 = 0.05, α2_of_1 = 0.95,\n",
    "                s1 = 2, s2 = 2, α2_fun_type = 'constant', x_max=x_max, d = 10, Tx = 1, \n",
    "                pop_process = False)\n",
    "params = update_params(\"scale\",4,params_base)\n"
   ]
  },
  {
   "cell_type": "code",
   "execution_count": 17,
   "id": "96a53bd2-68cb-4e1b-8379-21a9c5766319",
   "metadata": {},
   "outputs": [
    {
     "data": {
      "text/plain": [
       "np.float64(0.4052132701421801)"
      ]
     },
     "execution_count": 17,
     "metadata": {},
     "output_type": "execute_result"
    }
   ],
   "source": [
    "N1 = 1; N2 = 0.5\n",
    "per_capita_fitness_from_prey_non_dim(1, N1, N2, **params)"
   ]
  },
  {
   "cell_type": "code",
   "execution_count": 28,
   "id": "0dfa9258-7934-41bf-abb1-d71e9de8c298",
   "metadata": {},
   "outputs": [
    {
     "data": {
      "text/plain": [
       "0.025"
      ]
     },
     "execution_count": 28,
     "metadata": {},
     "output_type": "execute_result"
    }
   ],
   "source": [
    ".5*.05"
   ]
  },
  {
   "cell_type": "code",
   "execution_count": 27,
   "id": "9106c1c7-07a7-42d4-9510-efba822fe660",
   "metadata": {},
   "outputs": [
    {
     "data": {
      "text/plain": [
       "0.5"
      ]
     },
     "execution_count": 27,
     "metadata": {},
     "output_type": "execute_result"
    }
   ],
   "source": [
    "params['A2']"
   ]
  },
  {
   "cell_type": "code",
   "execution_count": 18,
   "id": "81a4dad4-a2ac-499d-839b-c63530cb56cd",
   "metadata": {},
   "outputs": [
    {
     "data": {
      "text/plain": [
       "np.float64(0.09004739336492891)"
      ]
     },
     "execution_count": 18,
     "metadata": {},
     "output_type": "execute_result"
    }
   ],
   "source": [
    "fun_f1(1,N1,N2,**params)"
   ]
  },
  {
   "cell_type": "code",
   "execution_count": 29,
   "id": "74bcae01-f40e-4ab4-be49-3d43c468996a",
   "metadata": {},
   "outputs": [
    {
     "data": {
      "text/plain": [
       "0.475"
      ]
     },
     "execution_count": 29,
     "metadata": {},
     "output_type": "execute_result"
    }
   ],
   "source": [
    "params['A1']*params['α1_of_1']*N1"
   ]
  },
  {
   "cell_type": "code",
   "execution_count": 3,
   "id": "eb38f8b1-56a6-4577-98d5-b1788280b47e",
   "metadata": {},
   "outputs": [],
   "source": [
    "params = dict(α1_of_1 = 0.05, α2_of_1 = 0.95, s1 = 2, s2 = 2, α2_fun_type = 'constant',\n",
    "             H1a = 0, H1b = 2, H2a = 0, H2b = 1, A1 = 0.5, A2 = 0.5,\n",
    "             β1 = 2, β2 = 1)"
   ]
  },
  {
   "cell_type": "code",
   "execution_count": 5,
   "id": "6c2bd5c9-47b9-4924-b20a-61e3bcbedf06",
   "metadata": {},
   "outputs": [
    {
     "data": {
      "text/plain": [
       "np.float64(0.1825396825396825)"
      ]
     },
     "execution_count": 5,
     "metadata": {},
     "output_type": "execute_result"
    }
   ],
   "source": [
    "N1=1\n",
    "N2 = 0.5\n",
    "per_capita_fitness_from_prey_non_dim(1, N1, N2, **params)"
   ]
  },
  {
   "cell_type": "code",
   "execution_count": 7,
   "id": "88450142-8bc4-4550-9041-ba3bc91ea653",
   "metadata": {},
   "outputs": [
    {
     "data": {
      "text/plain": [
       "np.float64(0.1825396825396825)"
      ]
     },
     "execution_count": 7,
     "metadata": {},
     "output_type": "execute_result"
    }
   ],
   "source": [
    "yield_from_prey_non_dim(1,N1,N2,**params)"
   ]
  },
  {
   "cell_type": "code",
   "execution_count": 20,
   "id": "41e83e85-7c1f-4745-9f88-77b2c023938d",
   "metadata": {},
   "outputs": [
    {
     "data": {
      "text/plain": [
       "np.float64(0.02272727272727273)"
      ]
     },
     "execution_count": 20,
     "metadata": {},
     "output_type": "execute_result"
    }
   ],
   "source": [
    "x=1\n",
    "N1 = 1; N2 = 0\n",
    "fun_f1(x,N1,N2,**params)"
   ]
  },
  {
   "cell_type": "code",
   "execution_count": 22,
   "id": "e1a701c7-cbda-4eb6-aefe-4bd388d90001",
   "metadata": {},
   "outputs": [
    {
     "data": {
      "text/plain": [
       "np.float64(0.04545454545454546)"
      ]
     },
     "execution_count": 22,
     "metadata": {},
     "output_type": "execute_result"
    }
   ],
   "source": [
    "yield_from_prey_non_dim(x,N1,N2, **params)"
   ]
  },
  {
   "cell_type": "code",
   "execution_count": null,
   "id": "cc5441c6-2ffc-42e6-b068-6cf07a9625cc",
   "metadata": {},
   "outputs": [],
   "source": []
  }
 ],
 "metadata": {
  "kernelspec": {
   "display_name": "Python 3 (ipykernel)",
   "language": "python",
   "name": "python3"
  },
  "language_info": {
   "codemirror_mode": {
    "name": "ipython",
    "version": 3
   },
   "file_extension": ".py",
   "mimetype": "text/x-python",
   "name": "python",
   "nbconvert_exporter": "python",
   "pygments_lexer": "ipython3",
   "version": "3.13.1"
  }
 },
 "nbformat": 4,
 "nbformat_minor": 5
}
