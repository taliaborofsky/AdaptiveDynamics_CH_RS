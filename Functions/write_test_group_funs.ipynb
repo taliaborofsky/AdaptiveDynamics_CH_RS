{
 "cells": [
  {
   "cell_type": "code",
   "execution_count": 1,
   "id": "99c89435-4b73-4b4a-88d3-e704c87ce62e",
   "metadata": {},
   "outputs": [],
   "source": [
    "import numpy as np\n",
    "import scipy as sp\n",
    "import matplotlib.pyplot as plt\n",
    "from scipy.integrate import odeint, solve_ivp\n",
    "final_fig_path = \"../../Figures/\"\n",
    "from time import time"
   ]
  },
  {
   "cell_type": "code",
   "execution_count": 12,
   "id": "b6a37c34-c980-427c-8625-ff7cabd2309a",
   "metadata": {},
   "outputs": [
    {
     "name": "stdout",
     "output_type": "stream",
     "text": [
      "Overwriting fun_response_funs.py\n"
     ]
    }
   ],
   "source": [
    "%%writefile fun_response_funs.py\n",
    "import numpy as np\n",
    "import scipy as sp\n",
    "import matplotlib.pyplot as plt\n",
    "from scipy.integrate import odeint, solve_ivp\n",
    "\n",
    "    \n",
    "def fun_response(x,M1,M2,index,a1,a2,h1,h2,**params):\n",
    "    '''\n",
    "    functional response to prey as a function of predator group size (x) and \n",
    "    prey population sizes (M1, M2)\n",
    "    a_iα_i(x)M_i/(1 + h_1 a_1 α_1(x) M_1 + h_2 a_2 α_2(x) M_2)\n",
    "    \n",
    "    @inputs:\n",
    "    x - pred group size\n",
    "    M1 - big prey pop size\n",
    "    M2 - small prey pop size\n",
    "    index - 1 (big prey) or 2 (small prey)\n",
    "    a1 - attack rate of big prey\n",
    "    a2 - attack rate of small prey\n",
    "    h1 - handling time per big prey caught\n",
    "    h2 - handling time per small prey caught\n",
    "    params: a dictionary of other parameters, that at least must include α1_of_1, α2_of_1, s1, s2\n",
    "\n",
    "    @returns\n",
    "    functional response for prey type <index> (a float)\n",
    "\n",
    "    @examples\n",
    "    >>fun_response(x=1,M1=10,M2=10,index=1,a1=1,a2=1,h1=0.5,h2=0.5, \n",
    "                    **dict(α1_of_1 = 0.05, α2_of_1 = 0.95, s1 = 2, s2 = 2) )\n",
    "    0.08333333333333336\n",
    "    (answer should be 10*a1*α1_of_1/(1+h1*a1*α1_of_1*10 + h2*a2*α2_of_1*10) = 0.08333333333333333\n",
    "    \n",
    "    '''\n",
    "    \n",
    "    α1 = fun_attack_rate(x,1,**params)\n",
    "    α2 = fun_attack_rate(x,2,**params)\n",
    "    if index == 1:\n",
    "        numerator = a1*α1*M1\n",
    "    elif index == 2:\n",
    "        numerator = a2*α2*M2\n",
    "    denominator = 1 + a1*α1*h1*M1 + a2*α2*h2*M2\n",
    "    return numerator/denominator\n",
    "def fun_response_non_dim(x,N1,N2,index,a,H1,H2, **params):\n",
    "    '''\n",
    "    non-dimensionalizedfunctional response to prey as a function of predator group size (x) and \n",
    "    non-dimensionalized versions of prey population sizes (N1, N2)\n",
    "    a_iα_i(x)M_i/(1 + h_1 a_1 α_1(x) M_1 + h_2 a_2 α_2(x) M_2)\n",
    "    \n",
    "    @inputs:\n",
    "    x - pred group size\n",
    "    N1, N2 - big prey and small prey non-d. pop sizes (pop-sizes relative to carrying capacities, \n",
    "            so between 0 and 1)\n",
    "    index - 1 (big prey) or 2 (small prey)\n",
    "    a - ratio of attack rates, a_2/a_1\n",
    "    H1, H2 - maximum time handling big prey or small prey, respectively\n",
    "    params: a dictionary of other parameters, that at least must include α1_of_1, α2_of_1, s1, s2\n",
    "\n",
    "    @returns\n",
    "    functional response for prey type <index> (a float)\n",
    "\n",
    "    @examples\n",
    "    >>fun_response_non_dim(x=2,N1=0.5,N2=0.6,index=1,a=1,H1=2,H2=2, \n",
    "    >>                         **dict(α1_of_1 = 0.05, α2_of_1 = 0.95, s1 = 2, s2 = 2))\n",
    "    0.11904761904761904 \n",
    "    \n",
    "    '''\n",
    "    \n",
    "    α1 = fun_attack_rate(x,1,**params)\n",
    "    α2 = fun_attack_rate(x,2,**params)\n",
    "    if index == 1:\n",
    "        numerator = α1*N1\n",
    "    elif index == 2:\n",
    "        numerator = a*α2*N2\n",
    "    denominator = 1 + α1*H1*N1 + α2*H2*N2\n",
    "    return numerator/denominator\n",
    "\n",
    "\n",
    "def fun_attack_rate(x, index, α1_of_1, α2_of_1, s1, s2, **params):\n",
    "    '''\n",
    "    The attack rate as a function of x\n",
    "    \n",
    "    @inputs:\n",
    "    x: group size, 1,2,3,...\n",
    "    index: 1 or 2, indicates prey type 1 (big prey) or 2 (small prey)\n",
    "    α1_of_1: the attack rate of big prey for group size 1\n",
    "    α2_of_1: the attack rate of small prey for group size 1\n",
    "    s1: critical group size for big prey, must be >= 2\n",
    "    s2: critical group size for small prey, must be >= 2\n",
    "    \n",
    "    @returns:\n",
    "    attackrate (a float)\n",
    "\n",
    "    @example:\n",
    "    >> fun_attack_rate(1,2,0.05,0.95,2,2,**dict())\n",
    "    0.9500000000000001\n",
    "    >> fun_attack_rate(1,1,0.05,0.95,2,2,**dict())\n",
    "    0.05000000000000001\n",
    "    \n",
    "    '''\n",
    "    if index == 1:\n",
    "        θ_1 = - np.log(1/α1_of_1 - 1)/(1-s1)\n",
    "        return 1/(1 + np.exp(- θ_1 * (x - s1)))\n",
    "    elif index == 2:\n",
    "        θ_2 = - np.log(1/α2_of_1 - 1)/(1-s2)\n",
    "        return 1/(1 + np.exp(- θ_2 * (x - s2)))\n",
    "    "
   ]
  },
  {
   "cell_type": "code",
   "execution_count": 6,
   "id": "79a68806-b85e-45b9-85e8-f895d46102ac",
   "metadata": {},
   "outputs": [
    {
     "name": "stdout",
     "output_type": "stream",
     "text": [
      "Overwriting fitness_funs.py\n"
     ]
    }
   ],
   "source": [
    "%%writefile fitness_funs.py\n",
    "\n",
    "import numpy as np\n",
    "import scipy as sp\n",
    "import matplotlib.pyplot as plt\n",
    "from scipy.integrate import odeint, solve_ivp\n",
    "from fun_response_funs import *\n",
    "\n",
    "\n",
    "def fun_fitness(x, M1, M2, **params):\n",
    "    '''\n",
    "    this is a subordinate's fitness of being in a group of size x\n",
    "    @inputs:\n",
    "    x - grp size\n",
    "    M1 - pop size of big prey\n",
    "    M2 - pop size of small prey\n",
    "    params - a dictionary at least including: b1, b2, r, γ, a1, a2, h1, h2, α1_of_1, \n",
    "                                                    α2_of_1, s1, s2, limited_portions\n",
    "                                                    (and must also have b0 if limited_portions = True)\n",
    "    @returns:\n",
    "    fitness of a subordinate, a float (or array if one of the parameter inputs is an array)\n",
    "\n",
    "    @example:\n",
    "    >>fun_fitness(x=np.array([1,2,3]), M1=10, M2=10, **dict(b1=1,b2=0.1,r=0, γ=0, a1=1, a2=1, h1=0.5, h2=0.5, \n",
    "                                                    α1_of_1=0.05, α2_of_1=0.95, s1=2, s2=2, \n",
    "                                                    limited_portions = False))\n",
    "    array([0.24166667, 0.45833333, 0.53055556])\n",
    "    '''\n",
    "    fitnesses = fitness_from_prey(x, M1, M2,**params)\n",
    "    total_sub_fitness = np.sum(fitnesses,0)\n",
    "    return total_sub_fitness\n",
    "\n",
    "\n",
    "\n",
    "def per_capita_fitness_from_prey(x,M1,M2,b1,b2,limited_portions, **params):\n",
    "    '''\n",
    "    portion of direct fitness from each prey type without any skew, stored in an array\n",
    "    @inputs:\n",
    "    x - pred group size\n",
    "    M1 - big prey pop size\n",
    "    M2 - small prey pop size\n",
    "    b1 - big prey  conversion (prey --> pred)\n",
    "    b2 - small prey conversion (prey --> pred)\n",
    "    limited_portions - True or False, whether predators can only eat a limited amount or not\n",
    "    params - dictionary of other parameters, which must at least contain \n",
    "             a1, a2, h1, h2, α1_of_1, α2_of_1, s1, s2\n",
    "\n",
    "    @returns:\n",
    "    np.array([<inclusive fitness from big prey>, <inclusive fitness from small prey>])\n",
    "    (so the rows correspond to prey types\n",
    "\n",
    "    @example\n",
    "    >>per_capita_fitness_from_prey(x= np.array([1,2,3]), M1=10, M2=10, **dict(b1=1,b2=0.1,r=0, γ=0, a1=1, a2=1, \n",
    "                                                        h1=0.5, h2=0.5, \n",
    "                                                    α1_of_1=0.05, α2_of_1=0.95, s1=2, s2=2, \n",
    "                                                    limited_portions = False))\n",
    "    array([[0.08333333, 0.41666667, 0.52777778],\n",
    "       [0.15833333, 0.04166667, 0.00277778]])\n",
    "    \n",
    "    >>per_capita_fitness_from_prey(x= np.array([1,2,3]), M1=10, M2=10, **dict(b1=1,b2=0.1,r=0, γ=0, a1=1, a2=1, \n",
    "                                                        h1=0.5, h2=0.5, \n",
    "                                                    α1_of_1=0.05, α2_of_1=0.95, s1=2, s2=2,b0 = 0.05, \n",
    "                                                    limited_portions = True))\n",
    "    array([[0.00416667, 0.04166667, 0.07916667],\n",
    "       [0.07916667, 0.04166667, 0.00277778]])\n",
    "    '''\n",
    "    # set portion size, need to account for x being an array\n",
    "    conversion_big, conversion_small = conversion_prey(x,b1,b2,limited_portions,**params)\n",
    "\n",
    "        \n",
    "    w_per_capita = np.array([conversion_big*fun_response(x,M1,M2,1,**params), \n",
    "                         conversion_small*fun_response(x,M1,M2,2,**params)])\n",
    "    return w_per_capita\n",
    "    \n",
    "def fitness_from_prey(x, M1, M2, r, γ,**params):\n",
    "    '''\n",
    "    portion of inclusive fitness from each prey type, stored in an array, after potentially unequal sharing\n",
    "    @inputs:\n",
    "    x - pred group size\n",
    "    M1 - big prey pop size\n",
    "    M2 - small prey pop size\n",
    "    r - relatedness between group members\n",
    "    γ - extent of reproductive skew (portion of subordinate's food donated to dominant)\n",
    "    params - dictionary of other parameters, which must at least contain \n",
    "             a1, a2, h1, h2, α1_of_1, α2_of_1, s1, s2, b1, b2, limited_portions\n",
    "\n",
    "    @returns:\n",
    "    np.array([<inclusive fitness from big prey>, <inclusive fitness from small prey>])\n",
    "    (so the rows correspond to prey types\n",
    "\n",
    "    @example\n",
    "    >>fitness_from_prey(x= np.array([1,2,3]), M1=10, M2=10, **dict(b1=1,b2=0.1,r=0, γ=0, a1=1, a2=1, \n",
    "                                                        h1=0.5, h2=0.5, \n",
    "                                                    α1_of_1=0.05, α2_of_1=0.95, s1=2, s2=2, \n",
    "                                                    limited_portions = False))\n",
    "    array([[0.08333333, 0.41666667, 0.52777778],\n",
    "       [0.15833333, 0.04166667, 0.00277778]])\n",
    "    \n",
    "    >>fitness_from_prey(x= np.array([1,2,3]), M1=10, M2=10, **dict(b1=1,b2=0.1,r=0, γ=0, a1=1, a2=1, \n",
    "                                                        h1=0.5, h2=0.5, \n",
    "                                                    α1_of_1=0.05, α2_of_1=0.95, s1=2, s2=2,b0 = 0.05, \n",
    "                                                    limited_portions = True))\n",
    "    array([[0.00416667, 0.04166667, 0.07916667],\n",
    "       [0.07916667, 0.04166667, 0.00277778]])\n",
    "    '''\n",
    "    # set portion size, need to account for x being an array\n",
    "\n",
    "        \n",
    "    w_per_capita = per_capita_fitness_from_prey(x,M1,M2, **params)\n",
    "    try:\n",
    "        if x > 1:\n",
    "            repro_exchange = (1-γ)*(1-r) + r*x\n",
    "            return w_per_capita * repro_exchange\n",
    "        else:\n",
    "            return w_per_capita\n",
    "    except ValueError:\n",
    "        repro_exchange = np.ones(np.shape(x))\n",
    "        repro_exchange[x>1] = (1-γ)*(1-r) + r*x[x>1]\n",
    "        return  w_per_capita * repro_exchange\n",
    "\n",
    "def conversion_prey(x,b1,b2,limited_portions,**params):\n",
    "    '''\n",
    "    Finds the number of predators produced per prey item caught, for big prey and small prey\n",
    "    @inputs:\n",
    "    x - pred group size, could be vector\n",
    "    b1 - number preds produced from big prey if completely eaten\n",
    "    b2 - number preds produced from small prey if completely eaten\n",
    "    limited_portions- whether there's a limit of how much food one predator can eat\n",
    "    params - dic of parameters used by rest of model\n",
    "    \n",
    "    @returns\n",
    "    conversion_big, conversion_small (both floats)\n",
    "\n",
    "    @examples\n",
    "    >> conversion_prey(x=2,b1=1,b2=0.1,limited_portions=True,**dict(b0 = 0.1))\n",
    "    (0.1, 0.05)\n",
    "    >> conversion_prey(x=[1,2],b1=1,b2=0.1,limited_portions=True,**dict(b0 = 0.1))\n",
    "    (array([0.1, 0.1]), array([0.1 , 0.05]))\n",
    "    >> conversion_prey(x=2,b1=1,b2=0.1,limited_portions=False,**dict(b0 = 0.1))\n",
    "    (0.5, 0.05)\n",
    "    '''\n",
    "    if limited_portions == True:\n",
    "        b0 = params[\"b0\"]\n",
    "        try:\n",
    "            conversion_big = b0 if b1/x > b0 else b1/x\n",
    "            conversion_small = b0 if b2/x > b0 else b2/x \n",
    "        except (ValueError,TypeError): # if x is a list (-->TypeError) or an ndarray (-->ValueError)\n",
    "            x = np.array(x)\n",
    "            conversion_big = np.ones(np.shape(x))\n",
    "            conversion_small = conversion_big.copy()\n",
    "            conversion_big = b1/x\n",
    "            conversion_big[conversion_big>b0] = b0\n",
    "            conversion_small = b2/x\n",
    "            conversion_small[conversion_small>b0] = b0\n",
    "    else:\n",
    "        conversion_big = b1/x\n",
    "        conversion_small = b2/x\n",
    "    return conversion_big, conversion_small\n",
    "    \n",
    "        \n",
    "        \n",
    "def fun_fitness_from_big_prey(x, M1, M2, **params):\n",
    "    '''\n",
    "    portion of inclusive fitness from big prey type. calls fitness_from_prey\n",
    "    @inputs:\n",
    "    x - pred group size\n",
    "    M1 - big prey pop size\n",
    "    M2 - small prey pop size\n",
    "    b1 - big prey  conversion (prey --> pred)\n",
    "    b2 - small prey conversion (prey --> pred)\n",
    "    params - dictionary of other parameters, which must at least contain \n",
    "             r, γ, a1, a2, h1, h2, α1_of_1, α2_of_1, s1, s2, limited_portions\n",
    "             (and must also have b0 if limited_portions = True)\n",
    "\n",
    "    @returns:\n",
    "    <inclusive fitness from big prey>\n",
    "    '''\n",
    "    return fitness_from_prey(x, M1, M2, **params)[0]\n",
    "def fun_fitness_from_small_prey(x, M1, M2, **params):\n",
    "    '''\n",
    "    portion of inclusive fitness from small prey type. calls fitness_from_prey\n",
    "    @inputs:\n",
    "    x - pred group size\n",
    "    M1 - big prey pop size\n",
    "    M2 - small prey pop size\n",
    "    b1 - big prey  conversion (prey --> pred)\n",
    "    b2 - small prey conversion (prey --> pred)\n",
    "    params - dictionary of other parameters, which must at least contain \n",
    "             r, γ, a1, a2, h1, h2, α1_of_1, α2_of_1, s1, s2, limited_portions\n",
    "             (and must also have b0 if limited_portions = True)\n",
    "\n",
    "    @returns:\n",
    "    <inclusive fitness from small prey>\n",
    "\n",
    "    @example\n",
    "    >> fun_fitness_from_small_prey(1, 10, 10, **dict(b1=1,b2=0.1,r=0, γ=0, a1=1, a2=1, \n",
    "    >>                                    h1=0.5, h2=0.5, α1_of_1=0.05, α2_of_1=0.95, s1=2, s2=2,\n",
    "                                          limited_portions = False))\n",
    "    0.15833333333333333\n",
    "    '''\n",
    "    return fitness_from_prey(x, M1, M2, **params)[1]\n",
    "\n",
    "\n",
    "######## non-dimensionalized ###############\n",
    "# TO-DO: what do I do if \n"
   ]
  },
  {
   "cell_type": "code",
   "execution_count": 46,
   "id": "f2b44683-b8f6-43b2-8943-cf556a431c6c",
   "metadata": {},
   "outputs": [
    {
     "data": {
      "text/plain": [
       "array([12, 10,  6])"
      ]
     },
     "execution_count": 46,
     "metadata": {},
     "output_type": "execute_result"
    }
   ],
   "source": [
    "np.matmul(np.array([[1,2,3],[0,2,3],[0,0,3]]),np.transpose(np.array([2,2,2])))"
   ]
  },
  {
   "cell_type": "code",
   "execution_count": 4,
   "id": "96008f8c-cb43-4fc6-84ee-9a4e9807cf7d",
   "metadata": {},
   "outputs": [
    {
     "data": {
      "text/plain": [
       "2.9444389791664403"
      ]
     },
     "execution_count": 4,
     "metadata": {},
     "output_type": "execute_result"
    }
   ],
   "source": [
    "np.log(0.95/0.05)"
   ]
  },
  {
   "cell_type": "code",
   "execution_count": 170,
   "id": "887f4575-df9d-4647-b743-ee31eebc4dcb",
   "metadata": {},
   "outputs": [
    {
     "name": "stdout",
     "output_type": "stream",
     "text": [
      "Overwriting group_formation_funs.py\n"
     ]
    }
   ],
   "source": [
    "%%writefile group_formation_funs.py\n",
    "import numpy as np\n",
    "import scipy as sp\n",
    "import matplotlib.pyplot as plt\n",
    "from scipy.integrate import odeint, solve_ivp\n",
    "from fun_response_funs import *\n",
    "from fitness_funs import *\n",
    "\n",
    "            \n",
    "\n",
    "def group_formation_model_separate(t, f_of_x_vec,p,M1,M2, params):\n",
    "    '''\n",
    "    the full system of balance equations for x = 1,2,3,...,x_max\n",
    "    @inputs:\n",
    "    t - time, necessary for running with solve_ivp\n",
    "    f_of_x_vec - a vector of the number of groups of size 1, 2, 3, ..., x_max (maximum group size)\n",
    "    p - population size of predators\n",
    "    M1 - population size of big prey\n",
    "    M2 - population size of small prey\n",
    "    params - is a dictionary of the parameters that must contain: \n",
    "            b1, b2,r, γ, a1, a2, h1, h2, α1_of_15, α2_of_1, s1, s2, limited_portions, \n",
    "            τx, δ, d\n",
    "            (and b0 if limited_portions = False)\n",
    "    @ returns\n",
    "    df_dt for x = 1, 2, ..., xmax\n",
    "    '''\n",
    "    x_max = params['x_max']; τx = params['τx']; δ = params['δ']; d = params['d']\n",
    "    f_of_x_vec = np.append(f_of_x_vec,0) # so can find dfdt at x = x_max\n",
    "    def f(x):\n",
    "        return f_of_x_vec[x-1]\n",
    "    def S(x,y):\n",
    "        return best_response_fun_given_fitness(x,y,fitnessvec,d)\n",
    "    def ψ(x):\n",
    "        f_of_1 = f_of_x_vec[0]\n",
    "        if x== 1 and f_of_1 >=1:\n",
    "            return (f_of_1 - 1) * S(2,1)\n",
    "        elif x <= x_max - 1:\n",
    "            return f_of_1*S(x+1,1)\n",
    "        else:\n",
    "            return 0\n",
    "    def ϕ(x):\n",
    "        return x*S(1,x) if x <= x_max else 0\n",
    "    \n",
    "    x_max = params['x_max']; τx = params['τx']; δ = params['δ']; d = params['d']\n",
    "    xvec = np.arange(1,x_max+1,1)\n",
    "    # it \\tau_x > 0make population matrix = birth matrix + death matrix\n",
    "    fitnessvec = fun_fitness(xvec, M1, M2, **params)\n",
    "    dfdt_vec = np.zeros(x_max)\n",
    "    \n",
    "    for x in xvec:\n",
    "        if x == 1:\n",
    "            dfdt = (2*f(2)*ϕ(2) + np.sum([f(y) * ϕ(y) for y in range(3,x_max+1)]) \\\n",
    "                    - sum([f(y-1)*ψ(y-1) for y in range(2,x_max+1)]))/τx\n",
    "        elif x == 2:\n",
    "            dfdt = (-f(2)*ϕ(2) - f(2)*ψ(2) + 0.5*f(1)*ψ(1) + f(3)*ϕ(3))/τx\n",
    "        else:\n",
    "            dfdt = (-f(x)*ϕ(x) - f(x) * ψ(x) + f(x-1)*ψ(x-1) + f(x+1)*ϕ(x+1))/τx\n",
    "        \n",
    "        dfdt_vec[x-1] = dfdt\n",
    "    return dfdt_vec\n",
    "    \n",
    "\n",
    "def fun_1_death(x, τx, δ):\n",
    "    '''\n",
    "    The probability of AT LEAST one death in a group of size x over time τ_x\n",
    "    @inputs:\n",
    "    x - grp size\n",
    "    τx - group evolution time constant\n",
    "    δ - death rate\n",
    "    params - dictionary of parameters from the ret of the model, not really needed...\n",
    "    @output:\n",
    "    float\n",
    "\n",
    "    @example\n",
    "    >> fun_1-death(x=1, τx = 0.01, δ = 0.1)\n",
    "    0.0010000000000000009\n",
    "    >> funfdgf_1_death(np.array([1,2,3]), 0.01, 0.1)\n",
    "    array([0.001   , 0.001999, 0.002997])sxz\n",
    "    \n",
    "    '''\n",
    "    return 1 - (1 - δ*τx)**x\n",
    "\n",
    "def fun_death_y_to_x(x, y, τx, δ, x_max):\n",
    "    '''\n",
    "    The probability a group of size y shrinks to a group of size x because y - x individuals die, \n",
    "    works for for x < y, y <= x_max\n",
    "\n",
    "    @inputs:\n",
    "    x = group size after death, is the shape of what is being returned\n",
    "    y = original group size, y > x, y <= x_max\n",
    "    δ = death rate\n",
    "    x_max = maximum group size\n",
    "    params = dictionary of other parameters used in the model\n",
    "\n",
    "    @output:\n",
    "    float between 0 and 1 (note for τx small, fun_death_y_to_x(x,y,**params) \\approx 0 if x < y-1\n",
    "\n",
    "    @example\n",
    "    >>fun_death_y_to_x(x=2, y=3, **dict(τx=0.01, δ=0.1, x_max=10))\n",
    "    0.0029940030000000003\n",
    "    '''\n",
    "    if isinstance(y, np.ndarray):\n",
    "        to_return = np.zeros(y.shape)\n",
    "        notzero = x<y\n",
    "        y = y[notzero]\n",
    "        if isinstance(x, np.ndarray):\n",
    "            x = x[notzero]\n",
    "        to_return[notzero] = nchoosek(y,y-x) * (δ*τx)**(y-x)*(1-δ*τx)**x\n",
    "        return to_return\n",
    "    else:\n",
    "        if x < y:\n",
    "            return nchoosek(y,y-x) * (δ*τx)**(y-x)*(1-δ*τx)**x\n",
    "            \n",
    "def nchoosek(n,k):\n",
    "    '''\n",
    "    n choose k\n",
    "    n!/(k!(n-k)!)\n",
    "    @inputs:\n",
    "    n and k are integers, but can handle np.arrays\n",
    "    @returns:\n",
    "    positive integer (or array if inputs are arrays\n",
    "    @example\n",
    "    >> nchoosek(3,1)\n",
    "    3.0\n",
    "    >> nchoosek(np.array([3,2]),1)\n",
    "    array([3.,2.])\n",
    "    '''\n",
    "    return sp.special.factorial(n)/(sp.special.factorial(k)*sp.special.factorial(n-k))\n",
    "\n",
    "def fun_leave_group(x, fitnessvec, x_max, d):\n",
    "    '''\n",
    "    The probability an individual leaves a group of size x.\n",
    "    This is ϕ(x) in the text\n",
    "    @inputs\n",
    "    x - current grp size (before leaving)\n",
    "    fitnessvec = vector of fitnesses for each group size\n",
    "    x_max - parameter, maximum group size\n",
    "    d = parameter determining steepness of best response function\n",
    "\n",
    "    @ example:\n",
    "    >> fitnessvec = array([0.24166667, 0.45833333, 0.53055556])\n",
    "    >> fun_leave_group(xvec=[1,2,3], fitnessvec, x_max=3, d=100)\n",
    "    array([0.5       , 0.03915869, 0.01923075])\n",
    "    '''\n",
    "    # deciding between being alone and staying in group of size x\n",
    "    return best_response_fun_given_fitness(1,x,fitnessvec,d)\n",
    "\n",
    "def best_response_fun_given_fitness(x,y,fitnessvec, d):\n",
    "    '''\n",
    "    Compares W(x) to W(y) to \"decide\" on group size y or x\n",
    "    @inputs\n",
    "    x - potentially new group size\n",
    "    y - current grp size\n",
    "    fitnessvec - vector of fitnesses fro x = 1, 2, ..., xmax\n",
    "    d - steepness, or sensitivity, of best response function\n",
    "    params - dictionary of params used by the rest of the model \n",
    "    @returns:\n",
    "    float between 0 and 1\n",
    "    \n",
    "    '''\n",
    "    W_of_x = fitnessvec[x-1]\n",
    "    W_of_y = fitnessvec[y-1]\n",
    "    return W_of_x**d/(W_of_x**d + W_of_y**d)\n",
    "    \n",
    "def best_response_fun(x,y,M1,M2, d, **params):\n",
    "    '''\n",
    "    Compares W(x) to W(y) to \"decide\" on group size y or x\n",
    "    @inputs\n",
    "    x - potentially new group size\n",
    "    y - current grp size\n",
    "    M1 - big prey pop size\n",
    "    M2 - small prey pop size\n",
    "    d - steepness, or sensitivity, of best response function\n",
    "    params - dictionary of params used by the rest of the model, \n",
    "            but must include all params relevant to functional responses and \n",
    "            inclusive fitness \n",
    "    @returns:\n",
    "    float between 0 and 1\n",
    "\n",
    "    @example\n",
    "    >> best_response_fun(x=2,y=3,M1=10,M2=10, d=100, **dict(b1=1,b2=0.1,r=0, γ=0, a1=1, a2=1, h1=0.5, h2=0.5, \n",
    "    >>                                              α1_of_1=0.05, α2_of_1=0.95, s1=2, s2=2) )\n",
    "    4.4162891945392386e-07\n",
    "    >> 1 - best_response_fun(x=3,y=2,M1=10,M2=10, d=100, **dict(b1=1,b2=0.1,r=0, γ=0, a1=1, a2=1, h1=0.5, h2=0.5, \n",
    "    >>                                              α1_of_1=0.05, α2_of_1=0.95, s1=2, s2=2) )\n",
    "    4.4162891943422267e-07\n",
    "    \n",
    "    '''\n",
    "    W_of_x = fun_fitness(x,M1,M2, **params)\n",
    "    W_of_y = fun_fitness(y, M1, M2, **params)\n",
    "    return W_of_x**d/(W_of_x**d + W_of_y**d)\n"
   ]
  },
  {
   "cell_type": "code",
   "execution_count": 114,
   "id": "2b101d0d-01fe-4097-aa94-ed3e433d53b7",
   "metadata": {},
   "outputs": [],
   "source": []
  },
  {
   "cell_type": "code",
   "execution_count": 126,
   "id": "10944a61-530e-468f-a479-e10482f62b5b",
   "metadata": {},
   "outputs": [
    {
     "name": "stdout",
     "output_type": "stream",
     "text": [
      "[1.45       2.75       3.18333333]\n"
     ]
    }
   ],
   "source": [
    "params = dict(α1_of_1 = 0.05, α2_of_1 = 0.95, s1 = 2, s2 = 2, \n",
    "              a1=1,a2=1,h1=0,h2=0, b1 = 1, b2 = 0.1, r = 0, γ = 0,\n",
    "             limited_portions=False, x_max = 3, δ = 0, τx = 1, d = 10)\n",
    "fitnessvec = fun_fitness(np.array([1,2,3]), M1=10, M2=10, **params)\n",
    "print(fitnessvec)"
   ]
  },
  {
   "cell_type": "code",
   "execution_count": 116,
   "id": "e4c2d6c5-c859-420a-9304-e34d5fb854f8",
   "metadata": {},
   "outputs": [],
   "source": [
    "dfdt_ = group_formation_model_separate(t=1, f_of_x_vec = np.array([8,1,0]),p = 10, \n",
    "                                       M1 = 10,M2 = 10, params=params)"
   ]
  },
  {
   "cell_type": "code",
   "execution_count": 22,
   "id": "f5d11eae-4ad2-4d7e-a220-dd27bcd72695",
   "metadata": {},
   "outputs": [],
   "source": [
    "t=1; f_of_x_vec = np.array([10,0,0]); p = 10; M1 = 10; M2 = 10;  params=params\n",
    "x_max = params['x_max']; τx = params['τx']; δ = params['δ']; d = params['d']\n",
    "def f(x):\n",
    "    return f_of_x_vec[x-1]\n",
    "def S(x,y):\n",
    "    return best_response_fun_given_fitness(x,y,fitnessvec,d)\n",
    "def ψ(x):\n",
    "    f_of_1 = f_of_x_vec[0]\n",
    "    if x== 1 and f_of_1 >=1:\n",
    "        return (f_of_1 - 1) * S(2,1)\n",
    "    elif x <= x_max - 1:\n",
    "        return f_of_1*S(x+1,1)\n",
    "    else:\n",
    "        return 0\n",
    "def ϕ(x):\n",
    "    return x*S(1,x) if x <= x_max else 0"
   ]
  },
  {
   "cell_type": "code",
   "execution_count": 111,
   "id": "77de0e21-963b-4a47-a008-df65291bff67",
   "metadata": {},
   "outputs": [],
   "source": [
    "f_of_x_vec = np.array([8,1,0]);\n",
    "fitnessvec = fun_fitness(xvec, M1, M2, **params)\n",
    "dfdt_vec = np.zeros(x_max)\n",
    "f_of_x_vec = np.append(f_of_x_vec,0)\n",
    "for x in xvec:\n",
    "    if x == 1:\n",
    "        dfdt = (2*f(2)*ϕ(2) + np.sum([f(y) * ϕ(y) for y in range(3,x_max+1)]) \\\n",
    "                - sum([f(y-1)*ψ(y-1) for y in range(2,x_max+1)]))/τx\n",
    "    elif x == 2:\n",
    "        dfdt = (-f(2)*ϕ(2) - f(2)*ψ(2) + 0.5*f(1)*ψ(1) + f(3)*ϕ(3))/τx\n",
    "    else:\n",
    "        dfdt = -f(x)*ϕ(x) - f(x) * ψ(x) + f(x-1)*ψ(x-1) + f(x+1)*ϕ(x+1)\n",
    "    \n",
    "    dfdt_vec[x-1] = dfdt\n",
    "   # print(dfdt_vec[x-1] )"
   ]
  },
  {
   "cell_type": "code",
   "execution_count": 154,
   "id": "939d801a-db3b-4073-beff-345491d860cc",
   "metadata": {},
   "outputs": [
    {
     "name": "stdout",
     "output_type": "stream",
     "text": [
      "[-63.89743449  19.95332908   7.99692545]\n",
      "0.0\n"
     ]
    }
   ],
   "source": [
    "dfdt_ = group_formation_model_separate(t=1, f_of_x_vec = np.array([8,1,0]),p = 10, \n",
    "                                       M1 = 10,M2 = 10, params=params)\n",
    "print(dfdt_)\n",
    "xvec = np.array([1,2,3])\n",
    "print(sum(xvec*dfdt_))"
   ]
  },
  {
   "cell_type": "code",
   "execution_count": 160,
   "id": "1c801ba1-dc11-4863-8e3a-38d6180c5f59",
   "metadata": {},
   "outputs": [],
   "source": [
    "p_reg = 10;initialstate = np.array([p_reg, *np.zeros(x_max - 1)]);\n"
   ]
  },
  {
   "cell_type": "code",
   "execution_count": 161,
   "id": "ce6053e0-ddbd-417d-933e-e3bbcab052ce",
   "metadata": {},
   "outputs": [],
   "source": [
    "params = dict(b1 = 1, b2 = 0.1, α1_of_1 = 0.05, α2_of_1 = 0.95, s1 = 2, s2 = 2, \n",
    "              a1=1,a2=1, h1=0, h2=0, r = 0, γ = 0,\n",
    "             limited_portions=False, x_max = 3, δ = 0, τx = 1, d = 100)\n",
    "p_reg = 50; M1_reg = 100; M2_reg = 100\n",
    "initialstate = np.array([p_reg, *np.zeros(x_max - 1)]);\n",
    "t_f = 2\n",
    "out = solve_ivp(group_formation_model_separate, [0, t_f], initialstate, method=\"LSODA\",\n",
    "                args=(p_reg, M1_reg, M2_reg, params))"
   ]
  },
  {
   "cell_type": "code",
   "execution_count": 164,
   "id": "8b7a10dc-8f51-40b4-aa61-1da30eab72d6",
   "metadata": {},
   "outputs": [
    {
     "data": {
      "text/plain": [
       "array([5.28628065e-03, 2.94745315e+00, 1.46999358e+01])"
      ]
     },
     "execution_count": 164,
     "metadata": {},
     "output_type": "execute_result"
    }
   ],
   "source": [
    "out.y[:,-1]"
   ]
  },
  {
   "cell_type": "code",
   "execution_count": 163,
   "id": "a7ea3889-d20e-4ce0-842c-cc017fd1ce7f",
   "metadata": {},
   "outputs": [
    {
     "data": {
      "text/plain": [
       "array([5.28628065e-03, 5.89490629e+00, 4.40998074e+01])"
      ]
     },
     "execution_count": 163,
     "metadata": {},
     "output_type": "execute_result"
    }
   ],
   "source": [
    "xvec*out.y[:,-1]"
   ]
  },
  {
   "cell_type": "code",
   "execution_count": 162,
   "id": "816dc1bf-044e-466c-958f-2725af1d1883",
   "metadata": {},
   "outputs": [
    {
     "data": {
      "text/plain": [
       "50.00000000000003"
      ]
     },
     "execution_count": 162,
     "metadata": {},
     "output_type": "execute_result"
    }
   ],
   "source": [
    "sum(xvec*out.y[:,-1])"
   ]
  },
  {
   "cell_type": "code",
   "execution_count": 150,
   "id": "26af1f2f-bf2f-468c-bc0c-63dee58d9deb",
   "metadata": {},
   "outputs": [],
   "source": [
    "p_reg = 50\n",
    "M1_reg = 100; M2_reg = 100\n",
    "h_reg = 0\n",
    "params_reg = dict(b1=1,b2=0.1,a1 = 1, a2 = 1, h1 = h_reg,h2 = h_reg, α1_of_1 = 0.05, α2_of_1 = 0.95, s1 = 2, \n",
    "                  s2 = 2, δ=0, τx=0.01, r=0, γ=0, x_max=3, d = 100, limited_portions = False)\n",
    "#param_vec = [2,3,8]\n",
    "#param_key = 's2'\n",
    "x_max = params_reg['x_max']"
   ]
  },
  {
   "cell_type": "code",
   "execution_count": 151,
   "id": "46ccc0e0-15bb-447c-87ac-a8af7aafc404",
   "metadata": {},
   "outputs": [],
   "source": [
    "initialstate = np.array([p_reg, *np.zeros(x_max - 1)]);\n",
    "\n",
    "t_f = 2\n",
    "out = solve_ivp(group_formation_model_separate, [0, t_f], initialstate, method=\"LSODA\",\n",
    "                args=(p_reg, M1_reg, M2_reg, params_reg))"
   ]
  },
  {
   "cell_type": "code",
   "execution_count": 152,
   "id": "d418ff78-36ac-40ce-811c-564a109fb7b4",
   "metadata": {},
   "outputs": [
    {
     "data": {
      "text/plain": [
       "array([0.   , 2.949, 0.147])"
      ]
     },
     "execution_count": 152,
     "metadata": {},
     "output_type": "execute_result"
    }
   ],
   "source": [
    "np.round(out.y[:,-1],3)"
   ]
  },
  {
   "cell_type": "code",
   "execution_count": 153,
   "id": "b443b5af-890e-4576-a56d-a4d02009faad",
   "metadata": {},
   "outputs": [
    {
     "data": {
      "text/plain": [
       "6.339897382398504"
      ]
     },
     "execution_count": 153,
     "metadata": {},
     "output_type": "execute_result"
    }
   ],
   "source": [
    "np.sum(np.arange(1,4,1)*np.transpose(out.y)[-1,:])"
   ]
  },
  {
   "cell_type": "code",
   "execution_count": 65,
   "id": "6f0545d4-22bb-4cbb-a2f0-447f45bfa974",
   "metadata": {},
   "outputs": [
    {
     "data": {
      "text/plain": [
       "6.02"
      ]
     },
     "execution_count": 65,
     "metadata": {},
     "output_type": "execute_result"
    }
   ],
   "source": [
    "2 + .75*2 + .84*3"
   ]
  },
  {
   "cell_type": "code",
   "execution_count": 72,
   "id": "2388b57c-dcae-488c-bb09-4f79b6b3e9b9",
   "metadata": {},
   "outputs": [
    {
     "data": {
      "text/plain": [
       "array([1.96817898, 1.49618326, 2.51383699])"
      ]
     },
     "execution_count": 72,
     "metadata": {},
     "output_type": "execute_result"
    }
   ],
   "source": [
    "xvec*out.y[:,-1]"
   ]
  },
  {
   "cell_type": "code",
   "execution_count": 53,
   "id": "a55cb7e8-e618-4228-981a-56c6a0e4801f",
   "metadata": {},
   "outputs": [
    {
     "name": "stdout",
     "output_type": "stream",
     "text": [
      "[-58.92857143  29.46428571   0.        ]\n"
     ]
    }
   ],
   "source": [
    "print(dfdt_)"
   ]
  },
  {
   "cell_type": "code",
   "execution_count": 54,
   "id": "36d49307-7c67-4628-b454-2fb43682094b",
   "metadata": {},
   "outputs": [
    {
     "data": {
      "text/plain": [
       "0.0"
      ]
     },
     "execution_count": 54,
     "metadata": {},
     "output_type": "execute_result"
    }
   ],
   "source": [
    "sum(xvec*dfdt_)\n"
   ]
  },
  {
   "cell_type": "code",
   "execution_count": 17,
   "id": "2a5205b4-d138-486f-a86d-7e25e3e9c11a",
   "metadata": {},
   "outputs": [
    {
     "data": {
      "text/plain": [
       "-5.0"
      ]
     },
     "execution_count": 17,
     "metadata": {},
     "output_type": "execute_result"
    }
   ],
   "source": [
    "xvec = np.array([1,2,3])\n",
    "sum(xvec*dfdt_)\n",
    "\n",
    "dfdt1 = "
   ]
  },
  {
   "cell_type": "code",
   "execution_count": 32,
   "id": "01850ca8-7be7-48f0-8cc8-36f1af648538",
   "metadata": {},
   "outputs": [
    {
     "data": {
      "text/plain": [
       "-58.92857142857143"
      ]
     },
     "execution_count": 32,
     "metadata": {},
     "output_type": "execute_result"
    }
   ],
   "source": []
  },
  {
   "cell_type": "code",
   "execution_count": 39,
   "id": "96b4a229-0a93-4583-97e2-87fa505d9c8f",
   "metadata": {},
   "outputs": [
    {
     "data": {
      "text/plain": [
       "-58.92857142857143"
      ]
     },
     "execution_count": 39,
     "metadata": {},
     "output_type": "execute_result"
    }
   ],
   "source": [
    "- f(1) * sum([ψ(y-1) for y in range(2,x_max)])"
   ]
  },
  {
   "cell_type": "code",
   "execution_count": 20,
   "id": "32833dec-31e8-408d-bfa5-d98a387d44d8",
   "metadata": {},
   "outputs": [
    {
     "name": "stdout",
     "output_type": "stream",
     "text": [
      "[0. 0. 0.]\n"
     ]
    }
   ],
   "source": [
    "x_max = params['x_max']; τx = params['τx']; δ = params['δ']; d = params['d']\n",
    "xvec = np.arange(1,x_max+1,1)\n",
    "dfdt_vec = np.zeros(x_max)\n",
    "print(dfdt_vec)\n",
    "\n",
    "dfdt_1 = f(2)*"
   ]
  },
  {
   "cell_type": "code",
   "execution_count": 44,
   "id": "e98f2338-2851-477e-9714-7c38bec445f5",
   "metadata": {},
   "outputs": [
    {
     "data": {
      "text/plain": [
       "-58.92857142857143"
      ]
     },
     "execution_count": 44,
     "metadata": {},
     "output_type": "execute_result"
    }
   ],
   "source": [
    "- f(1) * sum([ψ(y-1) for y in range(2,x_max)])"
   ]
  },
  {
   "cell_type": "code",
   "execution_count": 49,
   "id": "cf79af1d-fa63-4231-a2d4-c45ea7c2fcd1",
   "metadata": {},
   "outputs": [
    {
     "name": "stdout",
     "output_type": "stream",
     "text": [
      "-58.92857142857143\n",
      "29.464285714285715\n",
      "0.0\n"
     ]
    }
   ],
   "source": [
    "\n",
    "\n",
    "\n",
    "#return dfdt_vec"
   ]
  },
  {
   "cell_type": "code",
   "execution_count": 46,
   "id": "f2f63de6-506b-44e6-a920-4f887dd7d4c0",
   "metadata": {},
   "outputs": [
    {
     "data": {
      "text/plain": [
       "-63.92857142857143"
      ]
     },
     "execution_count": 46,
     "metadata": {},
     "output_type": "execute_result"
    }
   ],
   "source": [
    "dfdt_vec[0]"
   ]
  },
  {
   "cell_type": "code",
   "execution_count": 171,
   "id": "8c03f0cc-8811-48fa-86bf-584eca2c6f8a",
   "metadata": {},
   "outputs": [
    {
     "name": "stdout",
     "output_type": "stream",
     "text": [
      "Overwriting group_formation_funs_vectorized.py\n"
     ]
    }
   ],
   "source": [
    "%%writefile group_formation_funs_vectorized.py\n",
    "import numpy as np\n",
    "import scipy as sp\n",
    "import matplotlib.pyplot as plt\n",
    "from scipy.integrate import odeint, solve_ivp\n",
    "from fun_response_funs import *\n",
    "from fitness_funs import *\n",
    "\n",
    "    \n",
    "def group_formation_model_alt(t, f_of_x_vec,p,M1,M2, pop_process, params):\n",
    "    '''\n",
    "    the full system of balance equations for x = 1,2,3,...,x_max\n",
    "    @inputs:\n",
    "    t - time, necessary for running with solve_ivp\n",
    "    f_of_x_vec - a vector of the number of groups of size 1, 2, 3, ..., x_max (maximum group size)\n",
    "    p - population size of predators\n",
    "    M1 - population size of big prey\n",
    "    M2 - population size of small prey\n",
    "    pop_process = True or False, whether or not to include death rate and birth rate\n",
    "    params - is a dictionary of the parameters that must contain: \n",
    "            b1, b2,r, γ, a1, a2, h1, h2, α1_of_15, α2_of_1, s1, s2, limited_portions, \n",
    "            τx, δ, d\n",
    "            (and b0 if limited_portions = False)\n",
    "    @ returns\n",
    "    df_dt for x = 1, 2, ..., xmax\n",
    "    '''\n",
    "    x_max = params['x_max']; τx = params['τx']; δ = params['δ']; d = params['d']\n",
    "    \n",
    "    xvec = np.arange(1,x_max+1,1)\n",
    "\n",
    "    # it \\tau_x > 0make population matrix = birth matrix + death matrix\n",
    "    fitnessvec = fun_fitness(xvec, M1, M2, **params)\n",
    "    if pop_process==True:\n",
    "        Π = make_population_proc_matrix(xvec, fitnessvec, δ, τx, x_max)\n",
    "    else: \n",
    "        Π = 0\n",
    "    Ψ = make_group_form_mat(xvec, f_of_x_vec, fitnessvec, x_max,d)\n",
    "    Φ = make_group_leave_mat(xvec, fitnessvec, x_max, d)\n",
    "    return np.matmul( Π + Ψ + Φ, np.transpose(f_of_x_vec))/τx\n",
    "\n",
    "def make_group_leave_mat(xvec, fitnessvec, x_max, d):\n",
    "    \n",
    "    ϕ_of_x = best_response_fun_given_fitness(1,xvec,fitnessvec,d)*xvec\n",
    "    ϕ_of_x[0] = 0 # can't leave a group of 1\n",
    "    \n",
    "    first_row_and_upper_diag = ϕ_of_x[1:].copy()\n",
    "    first_row_and_upper_diag[0] = 2*first_row_and_upper_diag[0] # if group of size 2 --> 1, \n",
    "                                                                # produces 2 solitaries\n",
    "    diag_mat = np.diag(- ϕ_of_x) # fewer groups of size x if grps of size x --> x - 1\n",
    "    upper_diag_mat = np.diag(first_row_and_upper_diag,k=1) # more grps of size x if grps of size x +1 --> x\n",
    "    group_shrink_mat = diag_mat + upper_diag_mat\n",
    "    group_shrink_mat[0,1:] = first_row_and_upper_diag # more solitaries when individuals leave groups\n",
    "\n",
    "    return group_shrink_mat\n",
    "def make_group_form_mat(xvec, f_of_x_vec, fitnessvec, x_max,d):\n",
    "    '''\n",
    "    example:\n",
    "    >>params_reg = dict(b1=1,b2=0.1,r=0, γ=0, a1=1, a2=1, h1=0.5, h2=0.5, \n",
    "                                                    α1_of_1=0.05, α2_of_1=0.95, s1=2, s2=2, d = 20,\n",
    "                                                    limited_portions = False)\n",
    "    >>f_of_x_vec=[1,1,1]\n",
    "    >> make_group_form_mat(x_vec=np.array([1,2,3]), f_of_x_vec, M1=10, M2=10, x_max=3,**params_reg)\n",
    "    array([[ 0.        ,  0.        ,  0.        ],\n",
    "       [ 0.        , -0.99999985,  0.        ],\n",
    "       [ 0.        ,  0.99999985,  0.        ]])\n",
    "    '''\n",
    "    # alterations\n",
    "    f_of_1_vec = np.full(x_max,f_of_x_vec[0])\n",
    "    f_of_1_vec[0] = f_of_1_vec[0] - 1\n",
    "    xvec = xvec[:-1] # get rid of xmax\n",
    "    \n",
    "    join_grp_vec = np.zeros(x_max)\n",
    "    \n",
    "    best_response_vec = best_response_fun_given_fitness(xvec+1,1,fitnessvec,d) #S(x+1,1)\n",
    "    join_grp_vec[:-1] = best_response_vec * f_of_1_vec[:-1]\n",
    "\n",
    "    # make matrix\n",
    "    diag_mat = np.diag(- join_grp_vec) # loss from class x as x --> x+1\n",
    "    lower_diag_mat = np.diag(join_grp_vec[:-1],k=-1) # gain to class x+1 as x --> x+1\n",
    "    group_form_mat = diag_mat + lower_diag_mat\n",
    "    group_form_mat[-1, -1] = 0 # can't grow once at x_max\n",
    "    group_form_mat[1,0] = 0.5*group_form_mat[1,0] # individuals forming pairs, have to multiply by 1/2\n",
    "    return group_form_mat\n",
    "                         \n",
    "def make_population_proc_matrix(xvec, fitnessvec, δ, τx, x_max):\n",
    "    '''\n",
    "    make the population processes matrix Π = τx Π_W  + Π_D\n",
    "    @inputs\n",
    "    xvec = [1,2,..., x_max]\n",
    "    fitnessvec = [\\bar{w}(1), \\bar{w}(2), ..., \\bar{x_max}(1)] vector of per capita fitnesses\n",
    "    δ = death rate\n",
    "    τx = group time scale\n",
    "    x_max = max grp size\n",
    "\n",
    "    @returns\n",
    "    np.ndarray that is x_max x x_max\n",
    "\n",
    "    @example:\n",
    "    >> params_reg = dict(b1=1,b2=0.1,r=0,γ=0, a1 = 1, a2 = 1, h1 = 0.5, h2 = 0.5, \n",
    "                  α1_of_1 = 0.05, α2_of_1 = 0.95, s1 = 2, s2 = 2, d = 100, limited_portions = False)\n",
    "    >> xvec = np.array([1,2,3]); M1 = 10; M2 = 10; x_max = 3\n",
    "    >> fitnessvec = fun_fitness(xvec, M1, M2, **params_reg) # this is array([0.24166667, 0.45833333, 0.53055556])\n",
    "    >> make_population_proc_matrix(xvec, fitnessvec, δ, τx, x_max)\n",
    "    array([[ 0.00141667,  0.01116467,  0.01591966],\n",
    "       [ 0.        , -0.001999  ,  0.002994  ],\n",
    "       [ 0.        ,  0.        , -0.002997  ]])\n",
    "    '''\n",
    "    Π_D = make_death_trans_matrix(xvec, δ, τx, x_max)\n",
    "\n",
    "    # birth matrix\n",
    "    Π_W = np.zeros((x_max,x_max))\n",
    "    Π_W[0,:] = fitnessvec*xvec\n",
    "\n",
    "    # population matrix\n",
    "    Π = τx * Π_W + Π_D\n",
    "    return Π\n",
    "    \n",
    "def make_death_trans_matrix(xvec, δ, τx, x_max):\n",
    "    '''\n",
    "    makes the death transition matrix\n",
    "    the diagonal row is D(x)\n",
    "    above the diagonal, entries are D(i,j), for i the row and j the column\n",
    "\n",
    "    @inputs:\n",
    "    xvec - vector 1, 2, ..., x_max\n",
    "    δ = death rate\n",
    "    τx = timescale of group dynamics\n",
    "    x_max = max group size\n",
    "\n",
    "    @output: an x-max x x_max numpy array\n",
    "\n",
    "    @example \n",
    "    >> make_death_trans_matrix(xvec = np.array([1,2,3]), δ=0.1, τx=0.01, x_max=3)\n",
    "    array([[-1.000000e-03,  1.998000e-03,  2.997000e-06],\n",
    "       [ 0.000000e+00, -1.999000e-03,  2.994003e-03],\n",
    "       [ 0.000000e+00,  0.000000e+00, -2.997001e-03]])\n",
    "    '''\n",
    "    # number of groups of size x decreases from deaths in group of size x\n",
    "    Pi_D = np.zeros((x_max,x_max))\n",
    "    D_of_x = fun_1_death(xvec, τx, δ)\n",
    "    np.fill_diagonal(Pi_D, -D_of_x)\n",
    "\n",
    "    # number of groups of size x increases if a larger group of size y has y-x deaths\n",
    "    y_mat = np.full((x_max,x_max),xvec)\n",
    "    x_mat = y_mat.copy().transpose()\n",
    "    D_transition = fun_death_y_to_x(x=x_mat, y=y_mat, τx=τx, δ=δ, x_max=x_max)\n",
    "    Pi_D = Pi_D + D_transition\n",
    "    return Pi_D\n",
    "def fun_1_death(x, τx, δ):\n",
    "    '''\n",
    "    The probability of AT LEAST one death in a group of size x over time τ_x\n",
    "    @inputs:\n",
    "    x - grp size\n",
    "    τx - group evolution time constant\n",
    "    δ - death rate\n",
    "    params - dictionary of parameters from the ret of the model, not really needed...\n",
    "    @output:\n",
    "    float\n",
    "\n",
    "    @example\n",
    "    >> fun_1-death(x=1, τx = 0.01, δ = 0.1)\n",
    "    0.0010000000000000009\n",
    "    >> funfdgf_1_death(np.array([1,2,3]), 0.01, 0.1)\n",
    "    array([0.001   , 0.001999, 0.002997])sxz\n",
    "    \n",
    "    '''\n",
    "    return 1 - (1 - δ*τx)**x\n",
    "\n",
    "def fun_death_y_to_x(x, y, τx, δ, x_max):\n",
    "    '''\n",
    "    The probability a group of size y shrinks to a group of size x because y - x individuals die, \n",
    "    works for for x < y, y <= x_max\n",
    "\n",
    "    @inputs:\n",
    "    x = group size after death, is the shape of what is being returned\n",
    "    y = original group size, y > x, y <= x_max\n",
    "    δ = death rate\n",
    "    x_max = maximum group size\n",
    "    params = dictionary of other parameters used in the model\n",
    "\n",
    "    @output:\n",
    "    float between 0 and 1 (note for τx small, fun_death_y_to_x(x,y,**params) \\approx 0 if x < y-1\n",
    "\n",
    "    @example\n",
    "    >>fun_death_y_to_x(x=2, y=3, **dict(τx=0.01, δ=0.1, x_max=10))\n",
    "    0.0029940030000000003\n",
    "    '''\n",
    "    if isinstance(y, np.ndarray):\n",
    "        to_return = np.zeros(y.shape)\n",
    "        notzero = x<y\n",
    "        y = y[notzero]\n",
    "        if isinstance(x, np.ndarray):\n",
    "            x = x[notzero]\n",
    "        to_return[notzero] = nchoosek(y,y-x) * (δ*τx)**(y-x)*(1-δ*τx)**x\n",
    "        return to_return\n",
    "    else:\n",
    "        if x < y:\n",
    "            return nchoosek(y,y-x) * (δ*τx)**(y-x)*(1-δ*τx)**x\n",
    "            \n",
    "def nchoosek(n,k):\n",
    "    '''\n",
    "    n choose k\n",
    "    n!/(k!(n-k)!)\n",
    "    @inputs:\n",
    "    n and k are integers, but can handle np.arrays\n",
    "    @returns:\n",
    "    positive integer (or array if inputs are arrays\n",
    "    @example\n",
    "    >> nchoosek(3,1)\n",
    "    3.0\n",
    "    >> nchoosek(np.array([3,2]),1)\n",
    "    array([3.,2.])\n",
    "    '''\n",
    "    return sp.special.factorial(n)/(sp.special.factorial(k)*sp.special.factorial(n-k))\n",
    "\n",
    "def fun_leave_group(x, fitnessvec, x_max, d):\n",
    "    '''\n",
    "    The probability an individual leaves a group of size x.\n",
    "    This is ϕ(x) in the text\n",
    "    @inputs\n",
    "    x - current grp size (before leaving)\n",
    "    fitnessvec = vector of fitnesses for each group size\n",
    "    x_max - parameter, maximum group size\n",
    "    d = parameter determining steepness of best response function\n",
    "\n",
    "    @ example:\n",
    "    >> fitnessvec = array([0.24166667, 0.45833333, 0.53055556])\n",
    "    >> fun_leave_group(xvec=[1,2,3], fitnessvec, x_max=3, d=100)\n",
    "    array([0.5       , 0.03915869, 0.01923075])\n",
    "    '''\n",
    "    # deciding between being alone and staying in group of size x\n",
    "    return best_response_fun_given_fitness(1,x,fitnessvec,d)\n",
    "\n",
    "def best_response_fun_given_fitness(x,y,fitnessvec, d):\n",
    "    '''\n",
    "    Compares W(x) to W(y) to \"decide\" on group size y or x\n",
    "    @inputs\n",
    "    x - potentially new group size\n",
    "    y - current grp size\n",
    "    fitnessvec - vector of fitnesses fro x = 1, 2, ..., xmax\n",
    "    d - steepness, or sensitivity, of best response function\n",
    "    params - dictionary of params used by the rest of the model \n",
    "    @returns:\n",
    "    float between 0 and 1\n",
    "    \n",
    "    '''\n",
    "    W_of_x = fitnessvec[x-1]\n",
    "    W_of_y = fitnessvec[y-1]\n",
    "    return W_of_x**d/(W_of_x**d + W_of_y**d)\n",
    "    \n",
    "def best_response_fun(x,y,M1,M2, d, **params):\n",
    "    '''\n",
    "    Compares W(x) to W(y) to \"decide\" on group size y or x\n",
    "    @inputs\n",
    "    x - potentially new group size\n",
    "    y - current grp size\n",
    "    M1 - big prey pop size\n",
    "    M2 - small prey pop size\n",
    "    d - steepness, or sensitivity, of best response function\n",
    "    params - dictionary of params used by the rest of the model, \n",
    "            but must include all params relevant to functional responses and \n",
    "            inclusive fitness \n",
    "    @returns:\n",
    "    float between 0 and 1\n",
    "\n",
    "    @example\n",
    "    >> best_response_fun(x=2,y=3,M1=10,M2=10, d=100, **dict(b1=1,b2=0.1,r=0, γ=0, a1=1, a2=1, h1=0.5, h2=0.5, \n",
    "    >>                                              α1_of_1=0.05, α2_of_1=0.95, s1=2, s2=2) )\n",
    "    4.4162891945392386e-07\n",
    "    >> 1 - best_response_fun(x=3,y=2,M1=10,M2=10, d=100, **dict(b1=1,b2=0.1,r=0, γ=0, a1=1, a2=1, h1=0.5, h2=0.5, \n",
    "    >>                                              α1_of_1=0.05, α2_of_1=0.95, s1=2, s2=2) )\n",
    "    4.4162891943422267e-07\n",
    "    \n",
    "    '''\n",
    "    W_of_x = fun_fitness(x,M1,M2, **params)\n",
    "    W_of_y = fun_fitness(y, M1, M2, **params)\n",
    "    return W_of_x**d/(W_of_x**d + W_of_y**d)\n"
   ]
  },
  {
   "cell_type": "code",
   "execution_count": 43,
   "id": "57a5db00-23a1-4165-b6d8-d3f04af019ae",
   "metadata": {},
   "outputs": [
    {
     "data": {
      "text/plain": [
       "\u001b[0;31mSignature:\u001b[0m \u001b[0mbest_response_fun_given_fitness\u001b[0m\u001b[0;34m(\u001b[0m\u001b[0mx\u001b[0m\u001b[0;34m,\u001b[0m \u001b[0my\u001b[0m\u001b[0;34m,\u001b[0m \u001b[0mfitnessvec\u001b[0m\u001b[0;34m,\u001b[0m \u001b[0md\u001b[0m\u001b[0;34m)\u001b[0m\u001b[0;34m\u001b[0m\u001b[0;34m\u001b[0m\u001b[0m\n",
       "\u001b[0;31mDocstring:\u001b[0m\n",
       "Compares W(x) to W(y) to \"decide\" on group size y or x\n",
       "@inputs\n",
       "x - potentially new group size\n",
       "y - current grp size\n",
       "fitnessvec - vector of fitnesses fro x = 1, 2, ..., xmax\n",
       "d - steepness, or sensitivity, of best response function\n",
       "params - dictionary of params used by the rest of the model \n",
       "@returns:\n",
       "float between 0 and 1\n",
       "\u001b[0;31mFile:\u001b[0m      /var/folders/tp/jbfyy0qd62910dnqkytn6dqc0000gn/T/ipykernel_35654/505729230.py\n",
       "\u001b[0;31mType:\u001b[0m      function"
      ]
     },
     "metadata": {},
     "output_type": "display_data"
    }
   ],
   "source": [
    "best_response_fun_given_fitness?"
   ]
  },
  {
   "cell_type": "code",
   "execution_count": 40,
   "id": "01f0cf98-4b68-4483-a816-8a80467eb9cd",
   "metadata": {},
   "outputs": [
    {
     "data": {
      "text/plain": [
       "array([[ 0.,  2.,  1.],\n",
       "       [ 0., -1.,  1.],\n",
       "       [ 0.,  0., -1.]])"
      ]
     },
     "execution_count": 40,
     "metadata": {},
     "output_type": "execute_result"
    }
   ],
   "source": [
    "make_group_leave_mat(xvec=np.array([1,2,3]), fitnessvec = np.array([0.3,0.1,0.1]), x_max=3, d=100)"
   ]
  },
  {
   "cell_type": "code",
   "execution_count": 172,
   "id": "a40c0b02-dbc7-48f0-b13c-d3bccd02d462",
   "metadata": {},
   "outputs": [
    {
     "name": "stdout",
     "output_type": "stream",
     "text": [
      "Overwriting group_formation_measures.py\n"
     ]
    }
   ],
   "source": [
    "%%writefile group_formation_measures.py\n",
    "import numpy as np\n",
    "import scipy as sp\n",
    "import matplotlib.pyplot as plt\n",
    "from scipy.integrate import odeint, solve_ivp\n",
    "from fun_response_funs import *\n",
    "from fitness_funs import *\n",
    "from group_formation_funs import *\n",
    "\n",
    "\n",
    "def mean_group_size_membership(f_of_x_vec,p,x_max):\n",
    "    '''\n",
    "    average group size any individual is in\n",
    "    this is not the same as the average group size\n",
    "    '''\n",
    "    xsquared = np.arange(1,x_max+1,1)**2\n",
    "    total = sum(xsquared*f_of_x_vec)\n",
    "    return total/p\n",
    "\n",
    "def mean_group_size(f_of_x_vec,x_max):\n",
    "    '''\n",
    "    the average grp sizes\n",
    "    '''\n",
    "    total = 0\n",
    "    num_grps = 0\n",
    "    total = sum(np.arange(1,x_max+1,1)*np.array(f_of_x_vec))\n",
    "    num_grps = sum(f_of_x_vec)\n",
    "    return total/num_grps\n",
    "\n",
    "\n",
    "def fun_num_groups(f_of_x_vec,p,x_max):\n",
    "    total = 0\n",
    "    for x in range(1,x_max+1):\n",
    "        total += fun_f_of_x(x, f_of_x_vec, p, x_max,**dict())\n",
    "    return total\n",
    "\n",
    "\n",
    "def check_at_equilibrium(f_of_x_vec, p, M1, M2,  pop_process, **params):\n",
    "    '''\n",
    "    checks that dfdt = 0\n",
    "    @input:\n",
    "    f_of_x_vec = (f(1), f(2), ..., f(x_max))\n",
    "    p, M1, M2 = pred, big prey, and small prey pop sizes, respectively\n",
    "    pop_process = True or False, whether to include death rates and birth rates\n",
    "    params = dic of params\n",
    "    @returns\n",
    "    1 if at equilibrium, 0 otherwise\n",
    "    '''\n",
    "    t = 1 # this doesn't matter\n",
    "    dfdt_ = group_formation_model_separate(t, f_of_x_vec,p,M1,M2, params)\n",
    "    at_equilibrium = np.abs(dfdt_) > 1e-10\n",
    "    if sum(at_equilibrium) > 0: # at least one df(x)/dt is not zero\n",
    "        return dfdt_, 0\n",
    "    else:\n",
    "        return dfdt_, 1"
   ]
  },
  {
   "cell_type": "code",
   "execution_count": 168,
   "id": "a766ac04-c698-4f28-b3e8-1136dd1b481f",
   "metadata": {},
   "outputs": [
    {
     "data": {
      "text/plain": [
       "\u001b[0;31mSignature:\u001b[0m \u001b[0mgroup_formation_model_separate\u001b[0m\u001b[0;34m(\u001b[0m\u001b[0mt\u001b[0m\u001b[0;34m,\u001b[0m \u001b[0mf_of_x_vec\u001b[0m\u001b[0;34m,\u001b[0m \u001b[0mp\u001b[0m\u001b[0;34m,\u001b[0m \u001b[0mM1\u001b[0m\u001b[0;34m,\u001b[0m \u001b[0mM2\u001b[0m\u001b[0;34m,\u001b[0m \u001b[0mparams\u001b[0m\u001b[0;34m)\u001b[0m\u001b[0;34m\u001b[0m\u001b[0;34m\u001b[0m\u001b[0m\n",
       "\u001b[0;31mDocstring:\u001b[0m\n",
       "the full system of balance equations for x = 1,2,3,...,x_max\n",
       "@inputs:\n",
       "t - time, necessary for running with solve_ivp\n",
       "f_of_x_vec - a vector of the number of groups of size 1, 2, 3, ..., x_max (maximum group size)\n",
       "p - population size of predators\n",
       "M1 - population size of big prey\n",
       "M2 - population size of small prey\n",
       "params - is a dictionary of the parameters that must contain: \n",
       "        b1, b2,r, γ, a1, a2, h1, h2, α1_of_15, α2_of_1, s1, s2, limited_portions, \n",
       "        τx, δ, d\n",
       "        (and b0 if limited_portions = False)\n",
       "@ returns\n",
       "df_dt for x = 1, 2, ..., xmax\n",
       "\u001b[0;31mFile:\u001b[0m      /var/folders/tp/jbfyy0qd62910dnqkytn6dqc0000gn/T/ipykernel_65876/4228432376.py\n",
       "\u001b[0;31mType:\u001b[0m      function"
      ]
     },
     "metadata": {},
     "output_type": "display_data"
    }
   ],
   "source": [
    "group_formation_model_separate?"
   ]
  },
  {
   "cell_type": "code",
   "execution_count": 10,
   "id": "1792ee36-a89b-4d51-ad33-1f85717611f7",
   "metadata": {},
   "outputs": [
    {
     "data": {
      "text/plain": [
       "1"
      ]
     },
     "execution_count": 10,
     "metadata": {},
     "output_type": "execute_result"
    }
   ],
   "source": [
    "sum(np.abs([0.0001, 0]) < 1e-10)"
   ]
  },
  {
   "cell_type": "code",
   "execution_count": null,
   "id": "d293dd47-22f7-4312-9307-196f20053026",
   "metadata": {},
   "outputs": [],
   "source": []
  },
  {
   "cell_type": "code",
   "execution_count": 226,
   "id": "28d79a0e-b9bd-4882-ab23-9a1c3fd2f800",
   "metadata": {},
   "outputs": [
    {
     "ename": "SyntaxError",
     "evalue": "invalid syntax (1913556089.py, line 152)",
     "output_type": "error",
     "traceback": [
      "\u001b[0;36m  Cell \u001b[0;32mIn[226], line 152\u001b[0;36m\u001b[0m\n\u001b[0;31m    solitaried_die = f(1)*\u001b[0m\n\u001b[0m                          ^\u001b[0m\n\u001b[0;31mSyntaxError\u001b[0m\u001b[0;31m:\u001b[0m invalid syntax\n"
     ]
    }
   ],
   "source": [
    "#%%writefile group_formation_funs.py\n",
    "'''\n",
    "this is retired\n",
    "'''\n",
    "import numpy as np\n",
    "import scipy as sp\n",
    "import matplotlib.pyplot as plt\n",
    "from scipy.integrate import odeint, solve_ivp\n",
    "from fun_response_funs import *\n",
    "from fitness_funs import *\n",
    "\n",
    "\n",
    "def group_formation_model(t, f_of_x_vec,p,M1,M2,params):\n",
    "    '''\n",
    "    the full system of balance equations for x = 2,3,...,x_max\n",
    "    @inputs:\n",
    "    t - time, necessary for running with solve_ivp\n",
    "    f_of_x_vec - a vector of the number of groups of size 1, 2, 3, ..., x_max (maximum group size)\n",
    "    p - population size of predators\n",
    "    M1 - population size of big prey\n",
    "    M2 - population size of small prey\n",
    "    params - is a dictionary of the parameters that must contain: \n",
    "            b1, b2,r, γ, a1, a2, h1, h2, α1_of_15, α2_of_1, s1, s2, limited_portions, \n",
    "            τx, δ, d\n",
    "            (and b0 if limited_portions = False)\n",
    "    '''\n",
    "    x_max = params[\"x_max\"]\n",
    "    dfdt = [fun_dfdt(f_of_x_vec, x, p, M1, M2, **params) for x in range(2,x_max+1)]\n",
    "    #for x in range(2,x_max+1):\n",
    "    #    dfdt[x-2] = fun_dfdt(f_of_x_vec, x, p, M1, M2, **params)\n",
    "    return dfdt\n",
    "\n",
    "def group_formation_model_alt(t, f_of_x_vec,p,M1,M2, τx, δ, x_max, params):\n",
    "    '''\n",
    "    THIS IS BEING CONSTRUCTED\n",
    "    I THINK I SHOULD HAVE SOMETHING THE TRANSITION MATRICES FIRST AS MUCH AS POSSIBLE BECAUSE IN PART THEY STAY THE SAME\n",
    "    the full system of balance equations for x = 2,3,...,x_max\n",
    "    @inputs:\n",
    "    t - time, necessary for running with solve_ivp\n",
    "    f_of_x_vec - a vector of the number of groups of size 1, 2, 3, ..., x_max (maximum group size)\n",
    "    p - population size of predators\n",
    "    M1 - population size of big prey\n",
    "    M2 - population size of small prey\n",
    "    params - is a dictionary of the parameters that must contain: \n",
    "            b1, b2,r, γ, a1, a2, h1, h2, α1_of_15, α2_of_1, s1, s2, limited_portions, \n",
    "            τx, δ, d\n",
    "            (and b0 if limited_portions = False)\n",
    "    '''\n",
    "    def f(y):\n",
    "        return f_of_x_vec[y-1] if y <= x_max else 0\n",
    "    def D_tot(y):\n",
    "        '''\n",
    "        probability there is at least one death in group of size y\n",
    "        '''\n",
    "        return fun_1_death(y, τx, δ, **params)\n",
    "    def D(z1,z2):\n",
    "        # probability group of size z2 shrinks to group of size z1 for z1 \\leq x_max  \n",
    "        return fun_death_y_to_x(z1,z2, τx, δ, x_max, **params) if z1<z2 else 0\n",
    "    def ϕ(y):\n",
    "        # probability individual leaves group of size y for y <= x_max\n",
    "        return fun_leave_group(y, M1, M2, x_max, **params) if y in range(2,x_max+1) else 0\n",
    "    def ψ(y):\n",
    "        return fun_join_group(y, M1, M2, x_max, **params) if y in range(1,x_max) else 0\n",
    "    \n",
    "    x_max = params[\"x_max\"]\n",
    "    dfdt = np.zeros(f_of_x_vec.shape)\n",
    "\n",
    "    # births\n",
    "    births = τx*sum([x*f(x)*per_capita_fitness_from_prey(x, M1, M2,**params) for x in range(1,x_max+1)])\n",
    "    dfdt[0] = dfdt[0] + births\n",
    "\n",
    "    #deaths - transition from one size\n",
    "    death_transition_matrix = np.array([[D(x,y) for y in range(1,x_max+1)] for x in range(0,x_max)]) \n",
    "        # rows are size it shrinks to, columns are original size\n",
    "    rate_size_x_after_deaths = np.matmul(death_transition_matrix,f_of_x_vec) # but 0th element \n",
    "                                                                            # is the number of size 0\n",
    "    dfdt[1:] += rate_size_x_after_deaths[1:]\n",
    "    \n",
    "    # deaths - transition out of group of size x (could also do some along columns\n",
    "    deaths_loss = np.array([D_tot(x) for x in range(1,x_max+1)])\n",
    "    # TO DO: CHECK THIS IS THE SAME AS SUMMING ALONG COLUMNS OF death_transition_matrix\n",
    "    rate_deaths_loss = f_of_x_vec*deaths_loss\n",
    "    dfdt += rate_deaths_loss\n",
    "\n",
    "    # groups shrink from individuals leaving\n",
    "    \n",
    "    \n",
    "    return dfdt\n",
    "\n",
    "\n",
    "\n",
    "def fun_dfdt(f_of_x_vec, x, p, M1, M2,  τx, δ, x_max, **params):\n",
    "    '''\n",
    "    fun_dfdt: This calculates the change in the distribution f(x) wrt time for x >= 2\n",
    "        τx df/dt = -xf(x)ϕ(x) - f(1) f(x) ψ(x) - f(x) D(x) \n",
    "                + f(x+1)ϕ(x+1) + sum_{y=x+1}^{x_max} f(y) D(y)\n",
    "        but slightly different for x = 2, x = x_max\n",
    "    f(x) is the number of groups of size x\n",
    "    @inputs\n",
    "    f_of_x_vec - vector of f(x) for x = 1, 2, .., x_max.\n",
    "    x - grp size, must be >= 2\n",
    "    p - pred pop size\n",
    "    M1 - big prey pop size\n",
    "    M2 - small prey pop size\n",
    "    τx - group size change time scale\n",
    "    δ - pred death rate\n",
    "    x_max - max grp size\n",
    "    params - dictionary of params used by rest of model\n",
    "\n",
    "    @returns\n",
    "    float dfdt\n",
    "\n",
    "    @example\n",
    "    >> fun_dfdt(f_of_x_vec = [0,0], x=2, p=100, M1=0, M2=100, **dict(τx= 0.01, δ=0, x_max=3, \n",
    "    >>                                                          b1=1,b2=0.1,r=0, γ=0, a1=1, \n",
    "    >>                                                          a2=1, h1=0.5, h2=0.5, \n",
    "    >>                                              α1_of_1=0.05, α2_of_1=0.95, s1=2, s2=2, d = 100,\n",
    "                                                        ))\n",
    "    6.209899910586194e-26\n",
    "    \n",
    "    '''\n",
    "    # get f(x), f(1), and f(x+1)\n",
    "    \n",
    "    def f(y):\n",
    "        if y <= x_max:\n",
    "            return f_of_x_vec[y-1]\n",
    "        else:\n",
    "            return 0\n",
    "    def D_tot(y):\n",
    "        '''\n",
    "        probability there is at least one death in group of size y\n",
    "        '''\n",
    "        return fun_1_death(y, τx, δ, **params)\n",
    "    def D(z1,z2):\n",
    "        # probability group of size z2 shrinks to group of size z1 for z1 \\leq x_max  \n",
    "        return fun_death_y_to_x(z1,z2, τx, δ, x_max, **params)\n",
    "    def ϕ(y):\n",
    "        # probability individual leaves group of size y for y <= x_max\n",
    "        return fun_leave_group(y, M1, M2, x_max, **params) \n",
    "    def ψ(y):\n",
    "        return fun_join_group(y, M1, M2, x_max, **params)\n",
    "    \n",
    "\n",
    "\n",
    "    # if x = 2, τ_x df_dx, group formation is different. it is 1/2 f(1)^2 ψ(1) instead of f(x-1)f(1) ψ(x-1)\n",
    "    # if x = x_max, the group cannot grow larger and there are no larger groups that can shrink to be that size\n",
    "    \n",
    "    if x == 1:\n",
    "        births = τx*sum([x*f(x)*per_capita_fitness_from_prey(x, M1, M2,**params) for x in range(1,x_max+1)])\n",
    "        individuals_leave_grps = sum([x*f(x)*ϕ(x) for x in range (2,x_max+1)])\n",
    "        larger_grp_shrinks = 2*f(2)*ϕ(2)\n",
    "        solitaried_die = f(1)*\n",
    "    if x >= 2\n",
    "        individual_leaves = x*f(x) * ϕ(x)\n",
    "        grows_to_larger_group = f(1)*f(x) * ψ(x) if x<x_max else 0\n",
    "        death_in_group = f(x) * D_tot(x)\n",
    "        if x == 2:\n",
    "            #join_smaller_grp = f(1)*f(x-1)*ψ(x-1)\n",
    "            join_smaller_grp = (1/2)*f(1)*(f(1)-1)*ψ(1)\n",
    "        else:\n",
    "            join_smaller_grp = f(1)*f(x-1)*ψ(x-1)\n",
    "        larger_grp_shrinks = (x+1)*f(x+1)*ϕ(x+1) if x < x_max else 0\n",
    "        death_in_larger_grp = sum([f(y)*D(x,y) for y in range(x+1,x_max+1)]) if x < x_max else 0\n",
    "        \n",
    "    #dfdt_times_taux = x*f_of_x*fun_leave_group(x) - \n",
    "    \n",
    "    \n",
    "        return 1/τx * (-individual_leaves - grows_to_larger_group - death_in_group  \n",
    "                  + join_smaller_grp + larger_grp_shrinks + death_in_larger_grp)"
   ]
  }
 ],
 "metadata": {
  "kernelspec": {
   "display_name": "Python 3 (ipykernel)",
   "language": "python",
   "name": "python3"
  },
  "language_info": {
   "codemirror_mode": {
    "name": "ipython",
    "version": 3
   },
   "file_extension": ".py",
   "mimetype": "text/x-python",
   "name": "python",
   "nbconvert_exporter": "python",
   "pygments_lexer": "ipython3",
   "version": "3.12.2"
  }
 },
 "nbformat": 4,
 "nbformat_minor": 5
}
