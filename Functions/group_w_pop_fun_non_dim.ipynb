{
 "cells": [
  {
   "cell_type": "code",
   "execution_count": 1,
   "id": "bf216b38-7e32-48a1-b4a2-1a35eb371c4a",
   "metadata": {},
   "outputs": [],
   "source": [
    "import numpy as np\n",
    "import scipy as sp\n",
    "from fitness_funs_non_dim import *\n",
    "import matplotlib.pyplot as plt\n",
    "from scipy.integrate import odeint, solve_ivp\n"
   ]
  },
  {
   "cell_type": "code",
   "execution_count": 1,
   "id": "51cc7a3f-4c5a-4813-bc6e-35d8afb8ff03",
   "metadata": {},
   "outputs": [
    {
     "name": "stdout",
     "output_type": "stream",
     "text": [
      "Overwriting group_w_pop_funs.py\n"
     ]
    }
   ],
   "source": [
    "%%writefile group_w_pop_funs.py\n",
    "import numpy as np\n",
    "import scipy as sp\n",
    "from fitness_funs_non_dim import *\n",
    "\n",
    "\n",
    "def group_formation_model_non_dim(T, f_of_x_vec,N1,N2, params):\n",
    "    '''\n",
    "    the full system of balance equations for x = 1,2,3,...,x_max, non-dimensionalized\n",
    "    @inputs:\n",
    "    T - scaled time, necessary for running with solve_ivp\n",
    "    f_of_x_vec - a vector of the (scaled) number of groups of \n",
    "            size 1, 2, 3, ..., x_max (maximum group size)\n",
    "    P, N1, N2 - scaled population size of predators, big prey, small prey, respectivel\n",
    "    if_groups_change = Bool, True --> preds can join/leave groups. \n",
    "                            False --> only birth/death affect group sizes\n",
    "    params - is a dictionary of the parameters that must contain: \n",
    "            β1, β2, A1, H1, H2, η1, η2, α1_of_1, α2_of_1, s1, s2, limited_portions, \n",
    "            Tx, d, r, γ, pop_process\n",
    "    @ returns\n",
    "    df_dT for x = 1, 2, ..., xmax\n",
    "    '''\n",
    "    x_max = params['x_max']; Tx = params['Tx']; \n",
    "    d = params['d']; \n",
    "    f_of_x_vec = np.append(f_of_x_vec,0) # so can find dfdt at x = x_max\n",
    "\n",
    "    def f(x):\n",
    "        return f_of_x_vec[x-1]\n",
    "    def S(x,y):\n",
    "        return best_response_fun_given_fitness(x,y,fitnessvec,d)\n",
    "    def ψ(x):\n",
    "        # rate of joining\n",
    "        f_of_1 = f_of_x_vec[0]\n",
    "        if x== 1 and f_of_1 >=1:\n",
    "            return f_of_1 * S(2,1)#( ξ *f_of_1 - 1) * S(2,1)\n",
    "        elif x == 1 and f_of_1 < 1:\n",
    "            return f_of_1 * S(2,1)\n",
    "        elif x <= x_max - 1:\n",
    "            return f_of_1*S(x+1,1)\n",
    "        else:\n",
    "            return 0\n",
    "    def fun_deaths(x):\n",
    "        return tildeδ * Tx * ( - x * f(x) + (x+1) * f(x+1) )\n",
    "    def ϕ(x):\n",
    "        return x*S(1,x) if x <= x_max else 0\n",
    "    \n",
    "    xvec = np.arange(1,x_max+1,1)\n",
    "    # it \\tau_x > 0make population matrix = birth matrix + death matrix\n",
    "    fitnessvec = fitness_from_prey_non_dim(xvec, N1, N2, **params)\n",
    "    dfdT_vec = np.zeros(x_max)\n",
    "\n",
    "    # births and deaths\n",
    "    if params['pop_process']:\n",
    "        η1 = params['η1']; η2 = params['η2']; tildeδ = 1 - η1 - η2\n",
    "        π_vec = yield_from_prey_non_dim(xvec, N1, N2, **params)\n",
    "        births_vec = Tx*f_of_x_vec[:-1]* π_vec\n",
    "        births_vec = np.append(births_vec,0) # so can calculate births at x_max\n",
    "        deaths_vec = [fun_deaths(x) for x in range(1,x_max+1)]\n",
    "    else:\n",
    "        π_vec = np.zeros(fitnessvec.shape)\n",
    "        births_vec = π_vec.copy()\n",
    "        births_vec = np.append(births_vec,0) # so can calculate births at x_max\n",
    "        deaths_vec = π_vec.copy()\n",
    "\n",
    "    # balance equations\n",
    "    for x in xvec:\n",
    "        if x == 1:\n",
    "            Q_1 = 2*f(2)*ϕ(2) + np.sum([f(y) * ϕ(y) for y in range(3,x_max+1)]) \\\n",
    "                    - sum([f(y-1)*ψ(y-1) for y in range(2,x_max+1)])\n",
    "            births1 = births_vec[x_max-1] - births_vec[0]\n",
    "            dfdT = (Q_1 + births1 + deaths_vec[0])/Tx\n",
    "        elif x == 2:\n",
    "            Q_2 = -f(2)*ϕ(2) - f(2)*ψ(2) + 0.5*f(1)*ψ(1) + f(3)*ϕ(3)\n",
    "            births2 = births_vec[0] - births_vec[1]\n",
    "            dfdT = (Q_2 + births2 + deaths_vec[1])/Tx\n",
    "        else:\n",
    "            Q_x = -f(x)*ϕ(x) - f(x) * ψ(x) + f(x-1)*ψ(x-1) + f(x+1)*ϕ(x+1)\n",
    "            \n",
    "            birthsx = births_vec[x-2] - births_vec[x-1] if x < x_max else births_vec[x-2]\n",
    "            dfdT = (Q_x + birthsx + deaths_vec[x-1])/Tx\n",
    "        \n",
    "        dfdT_vec[x-1] = dfdT\n",
    "        \n",
    "    return dfdT_vec\n",
    "    \n",
    "\n",
    "def fun_leave_group(x, fitnessvec, x_max, d):\n",
    "    '''\n",
    "    The probability an individual leaves a group of size x. ϕ(x) in the text\n",
    "    @inputs\n",
    "    x - current grp size (before leaving)\n",
    "    fitnessvec = vector of fitnesses for each group size\n",
    "    x_max - parameter, maximum group size\n",
    "    d = parameter determining steepness of best response function\n",
    "\n",
    "    @ example:\n",
    "    >> fitnessvec = array([0.24166667, 0.45833333, 0.53055556])\n",
    "    >> fun_leave_group(xvec=[1,2,3], fitnessvec, x_max=3, d=100)\n",
    "    array([0.5       , 0.03915869, 0.01923075])\n",
    "    '''\n",
    "    # deciding between being alone and staying in group of size x\n",
    "    return best_response_fun_given_fitness(1,x,fitnessvec,d)\n",
    "\n",
    "def best_response_fun_given_fitness(x,y,fitnessvec, d):\n",
    "    '''\n",
    "    Compares W(x) to W(y) to \"decide\" on group size y or x\n",
    "    @inputs\n",
    "    x - potentially new group size\n",
    "    y - current grp size\n",
    "    fitnessvec - vector of fitnesses fro x = 1, 2, ..., xmax\n",
    "    d - steepness, or sensitivity, of best response function\n",
    "    params - dictionary of params used by the rest of the model \n",
    "    @returns:\n",
    "    float between 0 and 1\n",
    "    '''\n",
    "    W_of_x = fitnessvec[x-1]\n",
    "    W_of_y = fitnessvec[y-1]\n",
    "    W_min = min(W_of_x, W_of_y)\n",
    "    W_max = max(W_of_x, W_of_y)\n",
    "    if W_max > 0:\n",
    "        numerator = (W_of_x/W_max)**d\n",
    "    else:\n",
    "        return 0\n",
    "    denominator = 1 + (W_min/W_max)**d # this adjustment helps avoid dividing by zero from numpy rounding\n",
    "    return numerator/denominator\n",
    "    \n",
    "    # if W_of_x**d + W_of_y**d < 1e-100: # note that then at this point it will be \n",
    "    #                                     #rounded to 0, \n",
    "    #                                     # but since W_of_y**d must be less than 1e-300, \n",
    "    #                                     # can approximate as 1 - (W(y)/W(x))**d\n",
    "    #     # option 1: both W_of_x and W_of_y are really really small\n",
    "    #     # option 2: both are really small, but one is much bigger than the other\n",
    "    #     # scale the smaller 1:\n",
    "    #     W_min = min(W_of_x, W_of_y)\n",
    "    #     W_max = max(W_of_x, W_of_y)\n",
    "    #     numerator = (W_of_x/W_max)**d\n",
    "    #     denominator = 1 + (W_min/W_max)**d\n",
    "    #     return numerator/denominator\n",
    "    # else:\n",
    "    #     return W_of_x**d/(W_of_x**d + W_of_y**d)\n",
    "    \n",
    "def best_response_fun(x,y, N1,N2, d, **params):\n",
    "    '''\n",
    "    Compares W(x) to W(y) to \"decide\" on group size y or x\n",
    "    @inputs\n",
    "    x - potentially new group size\n",
    "    y - current grp size\n",
    "    N1, N2 - big prey and small prey scaled pop size\n",
    "    d - steepness, or sensitivity, of best response function\n",
    "    params - dictionary of params used by the rest of the model\n",
    "    @returns:\n",
    "    float between 0 and 1\n",
    "    \n",
    "    '''\n",
    "    \n",
    "    W_of_x = fitness_from_prey_non_dim(x, N1, N2, **params)\n",
    "    W_of_y = fitness_from_prey_non_dim(y, N1, N2, **params)\n",
    "\n",
    "    W_min = min(W_of_x, W_of_y)\n",
    "    W_max = max(W_of_x, W_of_y)\n",
    "    if W_max > 0:\n",
    "        numerator = (W_of_x/W_max)**d\n",
    "    else:\n",
    "        return 0\n",
    "    denominator = 1 + (W_min/W_max)**d\n",
    "\n",
    "    return W_of_x**d/(W_of_x**d + W_of_y**d)\n",
    "\n",
    "    \n",
    "def check_at_equilibrium(final_distribution, P, N1, N2,**params):\n",
    "    '''\n",
    "    check df(x)/dT \\approx 0\n",
    "    @ returns: array dfdT_, and 1 if at equilibrium or 0 if not\n",
    "    '''\n",
    "    T = 1 # this doesn't matter\n",
    "    dfdT_ = group_formation_model_non_dim(T, final_distribution,N1,N2, params)\n",
    "    not_at_equilibrium = np.abs(dfdT_) > 1e-8\n",
    "    if sum(not_at_equilibrium) > 0: # at least one df(x)/dt is not zero\n",
    "        return dfdT_, 0\n",
    "    else:\n",
    "        return dfdT_, 1\n",
    "\n",
    "def model_one_x(T, initialstate, x, params):\n",
    "    '''\n",
    "    Find the time derivatives of P, N1, N2, with x fixed\n",
    "    initialstate = P, N1, N2\n",
    "\n",
    "    Here I need non-dimed F\n",
    "    '''\n",
    "    initialstate = np.array(initialstate)\n",
    "    initialstate[np.abs(initialstate)<1e-11] = 0\n",
    "    P, N1, N2 = initialstate\n",
    "    F_of_x_vec = np.zeros(params['x_max'])\n",
    "    F_of_x = P/x\n",
    "    F_of_x_vec[x-1] = F_of_x\n",
    "    dPdT = fun_dPdT_non_dim(P, N1, N2, F_of_x_vec, **params)\n",
    "    dN1dT = fun_dN1dT_non_dim(N1, N2, F_of_x_vec, **params)\n",
    "    dN2dT = fun_dN2dT_non_dim(N1, N2, F_of_x_vec, **params)\n",
    "    return [dPdT, dN1dT, dN2dT]\n",
    "\n",
    "\n",
    "\n",
    "def full_model(T, initialstate, arg, params):\n",
    "    '''\n",
    "    removed P!\n",
    "    gets the time derivatives for N1, N2, f(1), f(2), ..., f(xm)\n",
    "    @inputs\n",
    "    T is just used by fsolve, not needed\n",
    "    intiialstate = [N1,N2,*f_of_x]\n",
    "    arg is a dummy because fsolve gets weird if there is only 1 arg?\n",
    "    params is dictionary of params\n",
    "    @ returns [dN1dT, dN2dT, *dfdT_vec]\n",
    "    '''\n",
    "    # i put arg there as a place holder because somehow makes ivp_solver work\n",
    "    \n",
    "    initialstate = np.array(initialstate)\n",
    "\n",
    "    # this helps for numpy issues\n",
    "    initialstate[np.abs(initialstate)<1e-11] = 0\n",
    "    \n",
    "    N1,N2 = initialstate[0:2]\n",
    "    f_of_x_vec = initialstate[2:]\n",
    "    #dPdT = fun_dPdT_non_dim(P, N1, N2, f_of_x_vec, **params)\n",
    "    dN1dT = fun_dN1dT_non_dim(N1, N2, f_of_x_vec, **params)\n",
    "    dN2dT = fun_dN2dT_non_dim(N1, N2, f_of_x_vec, **params)\n",
    "    dfdT_vec = group_formation_model_non_dim(T, f_of_x_vec,N1,N2, params)\n",
    "    # if if_groups_change:\n",
    "    #     dfdT_vec = group_formation_model_non_dim(T, f_of_x_vec,N1,N2, \n",
    "    #                                              if_groups_change, params)\n",
    "    # else:\n",
    "    #     x = np.argwhere(f_of_x_vec>0)[0][0] + 1\n",
    "    #     dfdT_vec = np.zeros(params['x_max'])\n",
    "    #     dfdT_vec[x-1] = dPdT/x\n",
    "    \n",
    "\n",
    "    return [dN1dT, dN2dT, *dfdT_vec]\n",
    "\n",
    "def nullclines_no_P(initialstate, params):\n",
    "    '''\n",
    "    returns the nullclines for N1, N2, f(1), f(2), ..., f(x_max)\n",
    "    such that N1, N2 \\neq 0\n",
    "    @inputs\n",
    "    initialstate = [N1, N2, f(1), ..., f(x_max)], type ndarray\n",
    "    params = dictionary of params\n",
    "    '''\n",
    "    N1 = initialstate[0]\n",
    "    N2 = initialstate[1]\n",
    "    f_of_x_vec = initialstate[2:]\n",
    "\n",
    "    x_max = params['x_max']\n",
    "    xvec = np.arange(1,x_max+1,1)\n",
    "\n",
    "\n",
    "    \n",
    "    \n",
    "\n",
    "    N1_null, N2_null = N_nullclines(N1, N2, f_of_x_vec, xvec, **params)\n",
    "    dfdT_vec = group_formation_model_non_dim(0, f_of_x_vec,N1,N2, params) # I put 0 for T\n",
    "    \n",
    "    return [N1_null, N2_null, *dfdT_vec]\n",
    "\n",
    "def N_nullclines(N1, N2, f_of_x_vec, xvec, η1, η2, A1, H1, H2, **params):\n",
    "    '''\n",
    "    dN1dT, dN2dT, the change in prey pop size versus time, non-dim'ed, divided by N_i\n",
    "    @inputs:\n",
    "    N1, N2 - non-dim'ed pred, big prey, and small prey pop sizes\n",
    "    f_of_x_vec - array of f(1), f(2), ... , f(x_max)\n",
    "    params - dic of params: must at least include H1, H2, α1_of_1, α2_of_1, s1, s2,\n",
    "    '''\n",
    "\n",
    "    A2 = 1 - A1\n",
    "    α1 = fun_alpha1(xvec,**params) \n",
    "    α2 = fun_alpha2(xvec,**params) \n",
    "\n",
    "    # prey nonzero nullclines\n",
    "    Y1_no_N = α1/(1 + H1*α1*N1 + H2*α2*N2)\n",
    "    Y2_no_N = α2/(1 + H1*α1*N1 + H2*α2*N2)\n",
    "\n",
    "    N1_null = η1 * (1-N1) - A1 * np.sum(f_of_x_vec * Y1_no_N)\n",
    "    N2_null = η2 * (1-N2) - A2 * np.sum(f_of_x_vec * Y2_no_N)\n",
    "    \n",
    "    return N1_null, N2_null\n",
    "    \n",
    "    \n",
    "def fun_dPdT_non_dim(P, N1, N2, f_of_x_vec, η1, η2, β1, β2, **params):\n",
    "    '''\n",
    "    the equation for dPdT, the change in predator population size versus time, \n",
    "    non-dimensionalized. \n",
    "\n",
    "    @inputs\n",
    "    P, N1, N2 - nondimensionalized predator, big prey, and small prey pop sizes\n",
    "    f_of_x_vec - array of f(1), f(2), ... , f(x_max)\n",
    "    params - dic of params that must at least include H1, H2, α1_of_1, α2_of_1, s1, s2,\n",
    "    η1, η2 - scaled growth rates of big prey, small prey\n",
    "    β1, β2 - scaled profitability of hunting big prey, small prey\n",
    "    '''\n",
    "    x_vec = np.arange(1,params['x_max']+1,1)\n",
    "    tildeY1_of_x = fun_Y1(x_vec,N1,N2,**params)\n",
    "    tildeY2_of_x = fun_Y2(x_vec,N1,N2,**params)\n",
    "    tildeδ = 1 - η1 - η2\n",
    "    total_fitness_per_x = β1 * tildeY1_of_x + β2 * tildeY2_of_x\n",
    "    return np.sum(f_of_x_vec * total_fitness_per_x) - tildeδ*P\n",
    "\n",
    "def fun_dN1dT_non_dim(N1, N2, f_of_x_vec, η1, A1, **params):\n",
    "    '''\n",
    "    dN1dT, the change in big prey pop size versus time, non-dim'ed\n",
    "    @inputs:\n",
    "    N1, N2 - non-dim'ed pred, big prey, and small prey pop sizes\n",
    "    f_of_x_vec - array of f(1), f(2), ... , f(x_max)\n",
    "    params - dic of params: must at least include H1, H2, α1_of_1, α2_of_1, s1, s2,\n",
    "    η1 - scaled growth rate of big prey\n",
    "    A1 - scaled attack rate of big prey\n",
    "    '''\n",
    "    if N1 > 0:\n",
    "        x_vec = np.arange(1,params['x_max']+1,1)\n",
    "\n",
    "        tildeY1_of_x = fun_Y1(x_vec,N1,N2,**params)\n",
    "        return η1*N1*(1-N1) - A1 * np.sum(f_of_x_vec * tildeY1_of_x)\n",
    "    else:\n",
    "        return 0\n",
    "\n",
    "def fun_dN2dT_non_dim(N1, N2, f_of_x_vec, η2, A1, **params):\n",
    "    '''\n",
    "    dN2dT, the change in small prey pop size versus time, non-dim'ed\n",
    "    @inputs:\n",
    "    N1, N2 - non-dim'ed pred, big prey, and small prey pop sizes\n",
    "    f_of_x_vec - array of f(1), f(2), ... , f(x_max)\n",
    "    params - dic of params: must at least include H1, H2, α1_of_1, α2_of_1, s1, s2,\n",
    "    η2 - scaled growth rate of small prey\n",
    "    A1 - scaled attack rate of big prey\n",
    "    '''\n",
    "    if N2 > 0:\n",
    "        A2 = 1 - A1\n",
    "        x_vec = np.arange(1,params['x_max']+1,1)\n",
    "\n",
    "        Y2_of_x = fun_Y2(x_vec,N1,N2,**params)\n",
    "    \n",
    "        return η2*N2*(1-N2) - A2 * np.sum(f_of_x_vec * Y2_of_x)\n",
    "    else:\n",
    "        return 0\n",
    "\n",
    "\n",
    "\n",
    "def mean_group_size_membership(f_of_x_vec, x_max, p):\n",
    "    '''\n",
    "    average group size any individual is in\n",
    "    \n",
    "    # columns of f_of_x_vec should be = x_max\n",
    "    this is not the same as the average group size\n",
    "    '''\n",
    "    x_vec = np.arange(1,x_max+1,1)\n",
    "    numerator = x_vec*(f_of_x_vec*x_vec)\n",
    "    if isinstance(p, np.ndarray):\n",
    "        mask = p > 1e-10\n",
    "        numerator = numerator.sum(1)\n",
    "        ans = p.copy()\n",
    "        ans[mask] = numerator[mask]/p[mask]\n",
    "        ans[~mask] = np.nan\n",
    "        return ans\n",
    "        \n",
    "    else:\n",
    "        if p < 1e-10:\n",
    "            return np.nan\n",
    "        else:\n",
    "            ans_to_sum =numerator/p\n",
    "            return sum(ans_to_sum)\n",
    "        "
   ]
  },
  {
   "cell_type": "code",
   "execution_count": 50,
   "id": "5d816ab3-b520-4cf6-b793-0529b6413a8a",
   "metadata": {},
   "outputs": [],
   "source": [
    "H=1\n",
    "x_max = 10\n",
    "params_base = dict(η1 = .2, η2 = .4, β1 = 8, β2 = 1, \n",
    "                   H1=H, H2=H, \n",
    "                  α1_of_1=0.05, α2_of_1=0.95, \n",
    "                  s1=2, s2=2, α2_fun_type = 'sigmoid',\n",
    "                  x_max = x_max, d = 10, A1 = 0.5,\n",
    "                 Tx = .01, r = 0, γ = 0, pop_process = False)\n",
    "N1 = 0.5; N2 = 0.5; \n",
    "f_of_x_vec_initial = np.zeros(params_base['x_max']); f_of_x_vec_initial[0] = 10;\n",
    "out = group_formation_model_non_dim(1, f_of_x_vec_initial,N1,N2, params_base.copy())"
   ]
  },
  {
   "cell_type": "code",
   "execution_count": 51,
   "id": "2b102c11-525d-44c1-855a-1a9058140d42",
   "metadata": {},
   "outputs": [
    {
     "data": {
      "text/plain": [
       "[np.float64(-0.12500000000000003),\n",
       " np.float64(-2.375),\n",
       " np.float64(-9939.897242391962),\n",
       " np.float64(4969.948621195981),\n",
       " np.float64(0.0),\n",
       " np.float64(0.0),\n",
       " np.float64(0.0),\n",
       " np.float64(0.0),\n",
       " np.float64(0.0),\n",
       " np.float64(0.0),\n",
       " np.float64(0.0),\n",
       " np.float64(0.0)]"
      ]
     },
     "execution_count": 51,
     "metadata": {},
     "output_type": "execute_result"
    }
   ],
   "source": [
    "full_model(T=1, initialstate = [1,1,*f_of_x_vec_initial], arg=1, params=params_base.copy())"
   ]
  },
  {
   "cell_type": "code",
   "execution_count": 52,
   "id": "f8ee0151-ec1f-4899-99b3-354e0c9e632d",
   "metadata": {},
   "outputs": [],
   "source": [
    "N1_reg = 1; N2_reg = 1"
   ]
  },
  {
   "cell_type": "code",
   "execution_count": 108,
   "id": "201cf173-c5de-456f-9bed-ebf15522aa2f",
   "metadata": {},
   "outputs": [],
   "source": [
    "H=2\n",
    "params_pop = dict(η1 = 0.2, η2 = 0.4, A1 = 0.5, β1 = 10, β2 = 1, H1=H, H2=H, \n",
    "                  α1_of_1=0.05, α2_of_1=0.95, \n",
    "                  s1=2, s2=2, α2_fun_type = 'constant',\n",
    "                  x_max = 10, d = 20,\n",
    "                 Tx = .1, r = 0, γ = 0, pop_process = True)\n",
    "N1_reg = 1; N2_reg = 1; p_reg = 20\n",
    "params = params_pop\n",
    "x_max = params['x_max']\n",
    "f_of_x_vec = np.array([p_reg, *np.zeros(x_max - 1)])\n"
   ]
  },
  {
   "cell_type": "code",
   "execution_count": 109,
   "id": "69650589-193f-49f1-8558-25fee33b6a42",
   "metadata": {},
   "outputs": [
    {
     "data": {
      "text/plain": [
       "[np.float64(-0.12920502092050212),\n",
       " np.float64(-3.85489539748954),\n",
       " np.float64(-4015.4428257887075),\n",
       " np.float64(2007.7590697981195),\n",
       " np.float64(0.0),\n",
       " np.float64(0.0),\n",
       " np.float64(0.0),\n",
       " np.float64(0.0),\n",
       " np.float64(0.0),\n",
       " np.float64(0.0),\n",
       " np.float64(0.0),\n",
       " np.float64(0.0)]"
      ]
     },
     "execution_count": 109,
     "metadata": {},
     "output_type": "execute_result"
    }
   ],
   "source": [
    "initialstate = [0.6,0.7, *f_of_x_vec]\n",
    "nullclines_no_P(initialstate, params)"
   ]
  },
  {
   "cell_type": "code",
   "execution_count": 76,
   "id": "28976b25-2b57-4115-a4b9-3b12943dcc4c",
   "metadata": {},
   "outputs": [
    {
     "data": {
      "text/plain": [
       "[<matplotlib.lines.Line2D at 0x11fcca970>]"
      ]
     },
     "execution_count": 76,
     "metadata": {},
     "output_type": "execute_result"
    },
    {
     "data": {
      "image/png": "[encoded data removed]",
      "text/plain": [
       "<Figure size 640x480 with 1 Axes>"
      ]
     },
     "metadata": {},
     "output_type": "display_data"
    }
   ],
   "source": [
    "initialstate = [0.6,0.7, *f_of_x_vec]\n",
    "t_f=5000  \n",
    "out2 = solve_ivp(full_model, [0, t_f], initialstate, method=\"LSODA\",\n",
    "                args=(True,params))\n",
    "plt.plot(out2.y[1],out2.y[0])\n"
   ]
  },
  {
   "cell_type": "code",
   "execution_count": 77,
   "id": "dea1bd71-62c5-4a4e-810e-24f516bb74c9",
   "metadata": {},
   "outputs": [],
   "source": [
    "N1, N2 = out2.y[0:2]"
   ]
  },
  {
   "cell_type": "code",
   "execution_count": 104,
   "id": "225c2861-ce3b-47fe-9574-ab2d29562c49",
   "metadata": {},
   "outputs": [],
   "source": [
    "f_of_x_vec = out2.y[2:]\n",
    "x_vec = np.arange(1,11,1)\n",
    "p = np.sum(x_vec*f_of_x_vec.T,1)\n",
    "mean_group_size_membership(f_of_x_vec.T, x_max, p)"
   ]
  },
  {
   "cell_type": "code",
   "execution_count": 79,
   "id": "e258498a-174f-4db4-9af2-10752517c70b",
   "metadata": {},
   "outputs": [
    {
     "data": {
      "text/plain": [
       "array([[2.00000000e+01, 0.00000000e+00, 0.00000000e+00, ...,\n",
       "        0.00000000e+00, 0.00000000e+00, 0.00000000e+00],\n",
       "       [1.99999368e+01, 1.26489906e-04, 9.01891953e-10, ...,\n",
       "        0.00000000e+00, 0.00000000e+00, 0.00000000e+00],\n",
       "       [1.99998735e+01, 2.52978610e-04, 2.70565887e-09, ...,\n",
       "        0.00000000e+00, 0.00000000e+00, 0.00000000e+00],\n",
       "       ...,\n",
       "       [1.92189508e-01, 8.46639444e-01, 4.21361461e+00, ...,\n",
       "        2.41786590e-05, 5.52265317e-07, 1.10771603e-08],\n",
       "       [1.90486897e-01, 8.70369392e-01, 4.34935728e+00, ...,\n",
       "        2.42793046e-05, 5.40962116e-07, 1.05850315e-08],\n",
       "       [1.89447501e-01, 8.79945038e-01, 4.40146916e+00, ...,\n",
       "        2.40941025e-05, 5.31005384e-07, 1.02767071e-08]])"
      ]
     },
     "execution_count": 79,
     "metadata": {},
     "output_type": "execute_result"
    }
   ],
   "source": [
    "numerator[mask,:]"
   ]
  },
  {
   "cell_type": "code",
   "execution_count": 99,
   "id": "0d69e2e3-13ba-4264-a03f-f5b38476c61b",
   "metadata": {},
   "outputs": [],
   "source": [
    "f_of_x_vec = out2.y[2:]\n",
    "\n",
    "x_vec = np.arange(1,11,1)\n",
    "p = np.sum(x_vec*f_of_x_vec.T,1)\n",
    "f_of_x_vec = f_of_x_vec.T\n",
    "mask = p > 1e-10\n",
    "numerator = x_vec*(f_of_x_vec*x_vec)\n",
    "numerator = numerator.sum(1)\n",
    "ans = p.copy()\n",
    "ans[mask] = numerator[mask]/p[mask]\n",
    "ans[~mask] = np.nan"
   ]
  },
  {
   "cell_type": "code",
   "execution_count": 100,
   "id": "a8065ff9-565a-4b6d-b715-cadf1f59a018",
   "metadata": {},
   "outputs": [
    {
     "data": {
      "text/plain": [
       "array([1.        , 1.00000316, 1.00000632, ..., 3.37847251, 3.39481372,\n",
       "       3.39994785])"
      ]
     },
     "execution_count": 100,
     "metadata": {},
     "output_type": "execute_result"
    }
   ],
   "source": [
    "ans"
   ]
  },
  {
   "cell_type": "code",
   "execution_count": 89,
   "id": "d1dc1ee8-dacc-4dab-ae1c-8a784e9a5caa",
   "metadata": {},
   "outputs": [
    {
     "data": {
      "text/plain": [
       "array([20.        , 20.00006325, 20.00012649, ..., 14.52449726,\n",
       "       15.27865848, 15.54497793])"
      ]
     },
     "execution_count": 89,
     "metadata": {},
     "output_type": "execute_result"
    }
   ],
   "source": [
    "numerator.sum(1)"
   ]
  },
  {
   "cell_type": "code",
   "execution_count": 86,
   "id": "abd8a156-90b0-4a10-a096-37833f10b3f0",
   "metadata": {},
   "outputs": [
    {
     "ename": "IndexError",
     "evalue": "too many indices for array: array is 1-dimensional, but 2 were indexed",
     "output_type": "error",
     "traceback": [
      "\u001b[0;31m---------------------------------------------------------------------------\u001b[0m",
      "\u001b[0;31mIndexError\u001b[0m                                Traceback (most recent call last)",
      "Cell \u001b[0;32mIn[86], line 2\u001b[0m\n\u001b[1;32m      1\u001b[0m ans_to_sum \u001b[38;5;241m=\u001b[39m p\u001b[38;5;241m.\u001b[39mcopy()\n\u001b[0;32m----> 2\u001b[0m \u001b[43mans_to_sum\u001b[49m\u001b[43m[\u001b[49m\u001b[43mmask\u001b[49m\u001b[43m,\u001b[49m\u001b[43m:\u001b[49m\u001b[43m]\u001b[49m \u001b[38;5;241m=\u001b[39m numerator[mask,:]\u001b[38;5;241m.\u001b[39mT\u001b[38;5;241m/\u001b[39mp[mask]\n\u001b[1;32m      3\u001b[0m ans_to_sum[\u001b[38;5;241m~\u001b[39mmask,:] \u001b[38;5;241m=\u001b[39m np\u001b[38;5;241m.\u001b[39mnan\n",
      "\u001b[0;31mIndexError\u001b[0m: too many indices for array: array is 1-dimensional, but 2 were indexed"
     ]
    }
   ],
   "source": [
    "ans_to_sum = p.copy()\n",
    "ans_to_sum[mask,:] = numerator[mask,:].T/p[mask]\n",
    "ans_to_sum[~mask,:] = np.nan"
   ]
  },
  {
   "cell_type": "code",
   "execution_count": 66,
   "id": "c0910789-f161-49c6-b670-8b2ca4ad8719",
   "metadata": {},
   "outputs": [],
   "source": [
    "mask = p > 1e-10"
   ]
  },
  {
   "cell_type": "code",
   "execution_count": 67,
   "id": "3cd61d1b-52c7-4871-ad4f-4acfbfea2588",
   "metadata": {},
   "outputs": [
    {
     "data": {
      "text/plain": [
       "array([ True,  True,  True, ...,  True,  True,  True])"
      ]
     },
     "execution_count": 67,
     "metadata": {},
     "output_type": "execute_result"
    }
   ],
   "source": [
    "mask"
   ]
  },
  {
   "cell_type": "code",
   "execution_count": 41,
   "id": "dd1cd347-53ee-4fe8-9829-991582df9469",
   "metadata": {},
   "outputs": [],
   "source": [
    "frequency_in_group_size_x = (f_of_x_vec.T*x_vec).T/p"
   ]
  },
  {
   "cell_type": "code",
   "execution_count": 43,
   "id": "2ae30562-5e0a-46da-97c7-79b7e98380f7",
   "metadata": {},
   "outputs": [],
   "source": [
    "vec_to_sum = x_vec*frequency_in_group_size_x.T"
   ]
  },
  {
   "cell_type": "code",
   "execution_count": 12,
   "id": "37e66b33-d6c6-4633-a362-90e2e2c9f1b0",
   "metadata": {},
   "outputs": [
    {
     "data": {
      "text/plain": [
       "array([], dtype=float64)"
      ]
     },
     "execution_count": 12,
     "metadata": {},
     "output_type": "execute_result"
    }
   ],
   "source": [
    "x_vec = np.arange(1,x_max+1,1)\n",
    "    \n",
    "    frequency_in_group_size_x = (f_of_x_vec*x_vec).T/p\n",
    "    vec_to_sum = x_vec*frequency_in_group_size_x.T\n",
    "    if len(vec_to_sum.shape) > 1:\n",
    "        return vec_to_sum.sum(1)\n",
    "    else:\n",
    "        return sum(vec_to_sum)"
   ]
  },
  {
   "cell_type": "code",
   "execution_count": 10,
   "id": "cfe54d78-7c63-46a5-a79b-d91946d8ed8e",
   "metadata": {},
   "outputs": [
    {
     "data": {
      "text/plain": [
       "np.float64(0.9999937033254204)"
      ]
     },
     "execution_count": 10,
     "metadata": {},
     "output_type": "execute_result"
    }
   ],
   "source": [
    "out2.y[1,"
   ]
  },
  {
   "cell_type": "code",
   "execution_count": 214,
   "id": "ab653951-4974-4d93-abf4-3acf7cce6e0b",
   "metadata": {},
   "outputs": [],
   "source": [
    "P,N1,N2 = out2.y[0:3]\n",
    "f_of_x_vec = out2.y[3:]"
   ]
  },
  {
   "cell_type": "code",
   "execution_count": 215,
   "id": "a43f3914-fb64-445e-adfc-8334ccb6ef4a",
   "metadata": {},
   "outputs": [],
   "source": [
    "xvec = np.arange(1,11)"
   ]
  }
 ],
 "metadata": {
  "kernelspec": {
   "display_name": "Python 3 (ipykernel)",
   "language": "python",
   "name": "python3"
  },
  "language_info": {
   "codemirror_mode": {
    "name": "ipython",
    "version": 3
   },
   "file_extension": ".py",
   "mimetype": "text/x-python",
   "name": "python",
   "nbconvert_exporter": "python",
   "pygments_lexer": "ipython3",
   "version": "3.9.6"
  }
 },
 "nbformat": 4,
 "nbformat_minor": 5
}
