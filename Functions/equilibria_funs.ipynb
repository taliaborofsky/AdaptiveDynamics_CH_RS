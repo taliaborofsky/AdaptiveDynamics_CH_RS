{
 "cells": [
  {
   "cell_type": "markdown",
   "id": "6f0ac9b4-c698-4c22-a86c-68a28c0409ab",
   "metadata": {},
   "source": [
    "# Equilibria and Optimal Fitness Functions"
   ]
  },
  {
   "cell_type": "markdown",
   "id": "541298eb-189c-44af-bb48-098c10e1e50a",
   "metadata": {},
   "source": [
    "This notebook is used to write and test functions for finding the equilibria, based on our model and mangel and clark 1980 something model"
   ]
  },
  {
   "cell_type": "code",
   "execution_count": 3,
   "id": "b6f58bf4-0a69-469e-8108-f6f86cd6b4cd",
   "metadata": {},
   "outputs": [
    {
     "name": "stdout",
     "output_type": "stream",
     "text": [
      "Overwriting equilibria_funs.py\n"
     ]
    }
   ],
   "source": [
    "%%writefile equilibria_funs.py\n",
    "import numpy as np\n",
    "import matplotlib.pyplot as plt\n",
    "from fitness_funs_non_dim import *\n",
    "from group_w_pop_funs import *\n",
    "from scipy.integrate import solve_ivp\n",
    "from scipy.optimize import root\n",
    "from local_stability_funs import *\n",
    "from sim_graph_funs import *\n",
    "\n",
    "\n",
    "\n",
    "\n",
    "def find_mangel_clark(N1, N2, x_max, **params):\n",
    "    # mangel and clark predicted that groups should grow until W(x^*) = W(1)\n",
    "    # don't need A\n",
    "\n",
    "    # simplest way... iterate and stop when reach x s.t. W(x) < W(1), then return x - 1\n",
    "    W_of_1 = per_capita_fitness_from_prey_non_dim(1, N1, N2, **params)\n",
    "    for x in range(2,x_max+1):\n",
    "        W_of_x = per_capita_fitness_from_prey_non_dim(x, N1, N2, **params)\n",
    "        if W_of_x < W_of_1:\n",
    "            return x - 1\n",
    "    return x # if reach x_max\n",
    "\n",
    "\n",
    "def iterate_to_eq(initialstate, t_f, params, if_dict=False):\n",
    "    '''\n",
    "    Iterates the system to find an equilibrium within a specified time frame.\n",
    "\n",
    "    Args:\n",
    "        initialstate (array-like): Initial state of the system, including [N1, N2, g(1), ..., g(x_max)].\n",
    "        t_f (float): Final time for the simulation.\n",
    "        params (dict): Dictionary of system parameters.\n",
    "        if_dict (bool, optional): If True, returns the equilibrium in dictionary format with additional information.\n",
    "            Default is False.\n",
    "\n",
    "    Returns:\n",
    "        tuple:\n",
    "            - If `if_dict=True`:\n",
    "                eq_dict (dict): Dictionary containing:\n",
    "                    - 'equilibrium' (np.ndarray): Final state after iterations, including [N1, N2, g(1), ..., g(x_max)].\n",
    "                    - 'mean_x' (float): Mean experienced group size at equilibrium.\n",
    "                    - 'var' (float): Variance of experienced group size at equilibrium.\n",
    "                success (bool): Whether the system successfully reached equilibrium.\n",
    "                timederivatives (np.ndarray): Time derivatives at the final state to verify equilibrium.\n",
    "            - If `if_dict=False`:\n",
    "                curr (list): Final state after iterations, including [N1, N2, g(1), ..., g(x_max), mean_x, var].\n",
    "                success (bool): Whether the system successfully reached equilibrium.\n",
    "                timederivatives (np.ndarray): Time derivatives at the final state to verify equilibrium.\n",
    "\n",
    "    '''\n",
    "    out2 = bounded_ivp(initialstate, params, t_f=t_f, if_dict=if_dict)\n",
    "    \n",
    "    if if_dict:\n",
    "        T = out2['T']\n",
    "        N1 = out2['N1']\n",
    "        N2 = out2['N2']\n",
    "        p = out2['p']\n",
    "        g_of_x_vec = out2['g']\n",
    "        mean_x = out2['mean_x']\n",
    "        var = out2['var']\n",
    "    else:\n",
    "        T, N1, N2, p, g_of_x_vec, mean_x, var = out2\n",
    "    \n",
    "    # Extract results\n",
    "    traj = [N1, N2, *g_of_x_vec, p]\n",
    "    curr = [item[-1] for item in traj]\n",
    "    [N1, N2, *g_eq, p] = curr\n",
    "\n",
    "    # Check if at equilibrium\n",
    "    success, timederivatives = check_at_equilibrium2(N1, N2, g_eq, params)\n",
    "\n",
    "    # Handle invalid results\n",
    "    if not np.isfinite(curr).all():\n",
    "        success = False\n",
    "    \n",
    "    if if_dict:\n",
    "        eq_dict = dict(equilibrium=np.array([N1,N2,*g_eq]), mean_x=mean_x[-1], var=var[-1], p = p)\n",
    "        return eq_dict, success, timederivatives\n",
    "    else:\n",
    "        curr = curr[:-1] # take out p because haven't tested with other functions that use this\n",
    "        curr.append(mean_x[-1])\n",
    "        curr.append(var[-1])\n",
    "        return curr, success, timederivatives\n",
    "\n",
    "   \n",
    "def get_equilibrium(params,N1_0,N2_0,g_of_x_vec):#, N1_0 = 0.5, N2_0 = 0.4, p_0 = 20, g_of_x_vec = None):\n",
    "    '''\n",
    "    finds the equilibrium s.t. N1, N2 > 0 using root for the population dynamics and group dynamics system\n",
    "    RETIRED: if not given g_of_x_vec, then just has everyone initially solitary\n",
    "    \n",
    "    @returns:\n",
    "    N1_eq, N2_eq, F_eq, P_eq, mean_x_eq\n",
    "    '''\n",
    "    x_max = params['x_max']\n",
    "    xvec = np.arange(1,x_max+1,1)\n",
    "    # if not isinstance(g_of_x_vec, np.ndarray):\n",
    "    #     #print('hi')\n",
    "    #     x_f = 2 if x_max > 2 else x_max\n",
    "    #     g_of_x_vec = initiate_f_first_x(p_0, x_f, x_max)\n",
    "        \n",
    "    x0 = [N1_0, N2_0, *g_of_x_vec]\n",
    "    out = root(fun = nullclines_no_P, x0 = x0, \n",
    "                                  args = (params))\n",
    "    return out\n",
    "def get_equilibria_from_init_pts(initial_points, tol_unique=1e-8, if_dict = False, **params):\n",
    "    '''\n",
    "    iterate through the initial points \n",
    "    and see if can use root to find equilibria\n",
    "\n",
    "    This finds coexistence equilibria!!\n",
    "\n",
    "    returns: \n",
    "    - np.array (if if_dict = False) consisting of [N1, N2, *g, mean_x, var]\n",
    "    - dict (if if_dict = False) with keys equilibrium (np.ndarray of [N1, N2, *g]), mean_x, variance\n",
    "    '''\n",
    "    x_max = params['x_max']\n",
    "    #curr_eq = np.zeros(2+x_max) #N1 = 0, N2 = 0, g(x) = 0\n",
    "    results = []\n",
    "    for i, point in enumerate(initial_points):\n",
    "        out = get_equilibrium(params, N1_0 = point[0], N2_0 = point[1], g_of_x_vec = point[2:])\n",
    "\n",
    "        # get the equilibrium values from the output\n",
    "        sol = get_results_eq(out, x_max, if_dict = True)\n",
    "        \n",
    "        #P_eq, N1_eq, N2_eq, g_eq, mean_x_eq, success = [sol['P']\n",
    "        \n",
    "        if sol['success']: # the root finder found an equilibrium and it's \"valid\" (N1, N2, g(x) are in their ranges)\n",
    "            if if_dict:\n",
    "                new_eq = dict(equilibrium = np.array([sol['N1'], sol['N2'], *sol['g']]), \n",
    "                              mean_x = sol['mean_x'], var = sol['var'], p = sol['p'])\n",
    "            else:\n",
    "                new_eq = np.array([sol['N1'], sol['N2'], *sol['g'], sol['mean_x'], sol['var']])\n",
    "            results.append(new_eq)\n",
    "            #results = check_unique(results, new_eq, tol_unique)\n",
    "    return results\n",
    "\n",
    "    \n",
    "def abs_nullclines_no_P(initialstate, params):\n",
    "    return np.sum(np.abs(nullclines_no_P(initialstate, params)))\n",
    "\n",
    "\n",
    "\n",
    "def nullclines_no_P(initialstate, params):\n",
    "    '''\n",
    "    returns the nullclines for N1, N2, g(1), g(2), ..., g(x_max)\n",
    "    such that N1, N2 \\neq 0\n",
    "    @inputs\n",
    "    initialstate = [N1, N2, g(1), ..., g(x_max)], type ndarray\n",
    "    params = dictionary of params\n",
    "    '''\n",
    "    N1 = initialstate[0]\n",
    "    N2 = initialstate[1]\n",
    "    g_of_x_vec = initialstate[2:]\n",
    "\n",
    "    x_max = params['x_max']\n",
    "    xvec = np.arange(1,x_max+1,1)\n",
    "\n",
    "\n",
    "    \n",
    "    \n",
    "\n",
    "    N1_null, N2_null = N_nullclines(N1, N2, g_of_x_vec, xvec, **params)\n",
    "    dgdT_vec = group_formation_model_non_dim(0, g_of_x_vec,N1,N2, params) # I put 0 for T\n",
    "    \n",
    "    return [N1_null, N2_null, *dgdT_vec]\n",
    "    \n",
    "def nullclines_big_prey_extinct(initialstate, params):\n",
    "    '''\n",
    "    returns the nullclines for N2,  g(1), g(2), ..., g(x_max)\n",
    "    where N1 = 0 and N2 > 0\n",
    "    @inputs\n",
    "    initialstate = N2, g(1), ..., g(x_max)], type ndarray\n",
    "    params = dictionary of params\n",
    "    '''\n",
    "    \n",
    "    N2 = initialstate[0]\n",
    "    g_of_x_vec = initialstate[1:]\n",
    "    x_max = params['x_max']\n",
    "    xvec = np.arange(1, x_max+1,1)\n",
    "    _, N2_null = N_nullclines(0, N2, g_of_x_vec, xvec, **params)\n",
    "    dgdT_vec = group_formation_model_non_dim(0, g_of_x_vec,0,N2, params) # put 0 for T, N1\n",
    "\n",
    "    return [N2_null, *dgdT_vec]\n",
    "\n",
    "def nullclines_small_prey_extinct(initialstate, params):\n",
    "    '''\n",
    "    returns the nullclines for N1,  g(1), g(2), ..., g(x_max)\n",
    "    where N2 = 0 and N1 > 0\n",
    "    @inputs\n",
    "    initialstate = [N1, g(1), ..., g(x_max)],\n",
    "    params = dictionary of params\n",
    "    '''\n",
    "    \n",
    "    N1 = initialstate[0]\n",
    "    g_of_x_vec = initialstate[1:]\n",
    "    x_max = params['x_max']\n",
    "    xvec = np.arange(1, x_max+1,1)\n",
    "    N1_null, _ = N_nullclines(N1, 0, g_of_x_vec, xvec, **params)\n",
    "    dgdT_vec = group_formation_model_non_dim(0, g_of_x_vec,N1,0, params) # put 0 for T, N1\n",
    "\n",
    "    return [N1_null, *dgdT_vec]\n",
    "\n",
    "def N_nullclines(N1, N2, g_of_x_vec, xvec, η1, η2, A1, A2, **params):\n",
    "    '''\n",
    "    dN1dT, dN2dT, the change in prey pop size versus time, non-dim'ed, divided by N_i\n",
    "    @inputs:\n",
    "    N1, N2 - non-dim'ed pred, big prey, and small prey pop sizes\n",
    "    g_of_x_vec - array of g(1), g(2), ... , g(x_max)\n",
    "    params - dic of params: must at least include H1, H2, α1_of_1, α2_of_1, s1, s2,\n",
    "    '''\n",
    "\n",
    "    \n",
    "    α1 = fun_alpha1(xvec,**params) \n",
    "    α2 = fun_alpha2(xvec,**params) \n",
    "\n",
    "    # prey nonzero nullclines\n",
    "    denominator = 1 + fun_H1(xvec,**params)*α1*N1 + fun_H2(xvec,**params)*α2*N2\n",
    "    f1_no_N = A1*α1/denominator\n",
    "    f2_no_N = A2*α2/denominator\n",
    "\n",
    "    N1_null = η1 * (1-N1) - np.sum(g_of_x_vec * f1_no_N)\n",
    "    N2_null = η2 * (1-N2) - np.sum(g_of_x_vec * f2_no_N)\n",
    "    \n",
    "    return N1_null, N2_null\n",
    "    \n",
    "def get_equilibrium_prey_i_extinct(params, i, Nj_0 = 0.4, \n",
    "                                p_0 = 20, g_of_x_vec = None):\n",
    "    '''\n",
    "    finds the equilibrium using root for the population dynamics and group dynamics system\n",
    "    where N1 = 0\n",
    "    if not given g_of_x_vec, then just has everyone initially solitary\n",
    "    \n",
    "    @returns:\n",
    "    N1_eq, N2_eq, F_eq, P_eq, mean_x_eq\n",
    "    '''\n",
    "    x_max = params['x_max']\n",
    "    xvec = np.arange(1,x_max+1,1)\n",
    "    if not isinstance(g_of_x_vec, np.ndarray):\n",
    "        #print('hi')\n",
    "        x_f = 2 if x_max > 2 else x_max\n",
    "        g_of_x_vec = initiate_g_first_x(x_f, x_max)\n",
    "        \n",
    "    x0 = [Nj_0, *g_of_x_vec]\n",
    "    if i == 1:    \n",
    "        out = root(fun = nullclines_big_prey_extinct, x0 = x0, \n",
    "                                  args = (params))\n",
    "    elif i == 2:\n",
    "        out = root(fun = nullclines_small_prey_extinct, x0 = x0, args = (params))\n",
    "    return out  \n",
    "\n",
    "\n",
    "def check_at_equilibrium2(N1,N2,g_of_x_vec, params):\n",
    "    # check not negative\n",
    "    curr = [N1, N2, *g_of_x_vec]\n",
    "    condition_failed_1 = np.any(\n",
    "        np.array(curr)<0\n",
    "    )\n",
    "    deriv_vec = full_model(\n",
    "        0, curr, True, params\n",
    "    )\n",
    "    condition_failed_2 = np.any(np.abs(deriv_vec)>1e-8)\n",
    "    if np.any([condition_failed_1, condition_failed_2]):#, condition_failed_3]):\n",
    "        success = False\n",
    "    else:\n",
    "        success = True\n",
    "    return success, deriv_vec\n",
    "    # check derivative is zero\n",
    "    # check sum x*g(x) = p\n",
    "def get_results_eq(out, x_max, which_prey_extinct = -1, if_dict = False):\n",
    "    '''\n",
    "    Extracts the state variables at the equilibrium, calculates \n",
    "    mean experienced group size, and checks that the equilibrium \n",
    "    is valid (within the state variable domains)\n",
    "    arguments:\n",
    "        out (dict) - the output of root\n",
    "        x_max (int) - maximum group size\n",
    "        which_prey_extinct(int) - indicates if big prey (=1), small prey (=2) or neither (=-1) are extinct\n",
    "        if_dict (bool) - whether to return outputs as dictionary\n",
    "    @ returns: \n",
    "        - if if_dict = False: a tuple (P_eq, N1_eq, N2_eq, g_eq, mean_x_eq, success)\n",
    "        - if_dict == True: a dictionary( with keys P, N1, N2, g, mean_x, success)\n",
    "    '''\n",
    "    xvec = np.arange(1,x_max+1,1)\n",
    "    if which_prey_extinct == -1:\n",
    "        g_eq = out.x[2:]\n",
    "        N1_eq = out.x[0]\n",
    "        N2_eq = out.x[1]\n",
    "    else:\n",
    "        g_eq = out.x[1:]\n",
    "        Nj_eq = out.x[0]\n",
    "        Ni_eq = 0\n",
    "        N1_eq = Ni_eq if which_prey_extinct == 1 else Nj_eq\n",
    "        N2_eq = Ni_eq if which_prey_extinct == 2 else Nj_eq\n",
    "    P_eq = np.sum(xvec*g_eq); \n",
    "    \n",
    "    mean_x_eq = mean_group_size_membership(g_eq,x_max,P_eq)\n",
    "\n",
    "    # if predators are extinct, set mean experienced group size to 1\n",
    "    if mean_x_eq < 1:\n",
    "        mean_x_eq = 1\n",
    "    # check not negative\n",
    "    condition_failed_1 = np.any(np.array([P_eq, N1_eq, N2_eq, *g_eq, mean_x_eq])<0)\n",
    "    # check root reached the end\n",
    "    condition_failed_2 = out.success == False\n",
    "    # check sum x*g(x) = p\n",
    "    #condition_failed_3 = np.abs(np.sum(np.arange(1,x_max+1,1)*g_eq) - P_eq) > tol\n",
    "    var = var_of_experienced_grp_size(g_eq)\n",
    "    \n",
    "    if np.any([condition_failed_1, condition_failed_2]):#, condition_failed_3]):\n",
    "        success = False\n",
    "        P_eq = np.nan; N1_eq = np.nan; N2_eq = np.nan; g_eq = np.nan; mean_x_eq = np.nan; var = np.nan\n",
    "    else:\n",
    "        success = True\n",
    "    if if_dict:\n",
    "        return dict(p=P_eq, N1 = N1_eq, N2 = N2_eq, g = g_eq, mean_x = mean_x_eq, var = var, success = success)\n",
    "    else:\n",
    "        return P_eq, N1_eq, N2_eq, g_eq, mean_x_eq, var, success\n",
    "\n",
    "def initiate_g_first_x(x_f, x_max):\n",
    "    \n",
    "    g0 = np.zeros(x_max) + 1e-4\n",
    "    g0[0:x_f] = 1\n",
    "    return g0\n",
    "\n",
    "def iterate_and_solve_equilibrium(params, t_f = 1000, tol = 1e-8, if_dict = False):\n",
    "    '''\n",
    "    iterates from a standard start point that tends to work\n",
    "    then uses root to find equilibrium\n",
    "\n",
    "    @returns\n",
    "     - if if_dict == True: dictionary with keys equilibrium, mean_x, var, success\n",
    "     - if if_dict == False; tuple of P, N1,N2,g, mean_x, var, success\n",
    "     * note success is (BOOL for whether at equilibrium), \n",
    "    '''\n",
    "    x_max = params['x_max']\n",
    "    x_f = 3 if x_max >=3 else 2\n",
    "    y0 = [0.71, 0.7, *initiate_g_first_x(3, x_max)]\n",
    "    out2 = bounded_ivp(y0, params, t_f = t_f) \n",
    "    T, N1, N2, P, g_of_x_vec, mean_x = out2\n",
    "\n",
    "    # extract new starting point\n",
    "    traj = [N1,N2,*g_of_x_vec]\n",
    "    curr = [item[-1] for item in traj]\n",
    "    print(curr)\n",
    "\n",
    "    out = get_equilibrium(params, N1_0 = curr[0], N2_0 = curr[1], \n",
    "                          g_of_x_vec = curr[2:])\n",
    "    sol =get_results_eq(out,x_max, if_dict = if_dict) # P, N1, N2, g, mean_x, var, success\n",
    "\n",
    "\n",
    "    if if_dict:\n",
    "        return dict(equilibrium = np.array([sol['N1'], \n",
    "                                            sol['N2'], *sol['g']] ), \n",
    "                    mean_x = sol['mean_x'], var = sol['var'], \n",
    "                    success = sol['success'], p = sol['p'])\n",
    "    else:\n",
    "        return sol # tuple of P, N1, N2, g, mean_x, var, success\n",
    "    \n",
    "def get_equilibria_from_init_pts_i_extinct(initial_points, i, **params):\n",
    "    '''\n",
    "    iterate through the initial points and see if can use root to find equilibria\n",
    "    prey i (1 or 2) extinct\n",
    "    append to results if found an equilibrium\n",
    "\n",
    "    '''\n",
    "    x_max = params['x_max']\n",
    "    curr_eq = np.zeros(2+x_max) #N1 = 0, N2 = 0, g(x) = 0\n",
    "    results = []\n",
    "    for point in initial_points:\n",
    "        out = get_equilibrium_prey_i_extinct(params, i, Nj_0 = point[1], \n",
    "                                             g_of_x_vec = point[2:])\n",
    "        sol = get_results_eq(out, x_max, which_prey_extinct = i, if_dict = True)\n",
    "        \n",
    "        if sol['success']: # the root finder found an equilibrium and it's \"valid\" (N1, N2, g(x) are in their ranges)\n",
    "            new_result = dict(equilibrium = np.array([sol['N1'], sol['N2'], *sol['g']]),\n",
    "                              p = sol['p'],\n",
    "                              mean_x = sol['mean_x'], \n",
    "                              var = sol['var'])\n",
    "\n",
    "            # append new_eq if it's unique from the last one\n",
    "            #results = check_unique(results, new_eq, tol_unique)\n",
    "            results.append(new_result)\n",
    "\n",
    "    return results\n",
    "######################################################################\n",
    "\n",
    "# check and update functions below, if still needed\n",
    "\n",
    "    \n",
    "def get_equilibria_vary_param(paramvec, paramkey, **params):\n",
    "    '''\n",
    "    Get a list of equilibrium values corresponding to the parameters\n",
    "    '''\n",
    "\n",
    "\n",
    "    x_max = params['x_max']\n",
    "    xvec = np.arange(1,x_max+1,1)\n",
    "\n",
    "    # set up empty vectors\n",
    "    meanxvec = np.zeros(len(paramvec))\n",
    "    gxvecs  = np.zeros((len(paramvec), x_max))\n",
    "    Pvec = meanxvec.copy()\n",
    "    N1vec = meanxvec.copy()\n",
    "    N2vec = meanxvec.copy()\n",
    "    success_vec = meanxvec.copy()\n",
    "    stability_vec = meanxvec.copy()\n",
    "    \n",
    "    for i, param in enumerate(paramvec):\n",
    "        params = params.copy()\n",
    "        params[paramkey] = param\n",
    "\n",
    "        # try to iterate a little and then use root to solve for equilibrium\n",
    "        out_eq = iterate_and_solve_equilibrium(params, t_f = 5)\n",
    "        P, N1, N2, g, mean_x, success = out_eq\n",
    "        \n",
    "        if success==False:\n",
    "            \n",
    "            # try to get to equilibrium in just 200 steps #\n",
    "            \n",
    "            t_f = 500\n",
    "            initialstate = [0.5,0.4, 20, *np.zeros(x_max-1)]\n",
    "            finalpoint, success, mean_x, _, _ = iterate_to_eq(initialstate, t_f,\n",
    "                                                                         params)\n",
    "            [P,N1,N2,*g] = finalpoint\n",
    "\n",
    "            # if that doesn't work, try solving from here\n",
    "            if success == False:\n",
    "                out = get_equilibrium(params, N1_0 = N1, N2_0 = N2, \n",
    "                          g_of_x_vec = g)\n",
    "                sol =get_results_eq(out,x_max)\n",
    "                P = sol['P']; N1 = sol['N1']; N2 = sol['N2']; g = sol['g'];  mean_x = sol['mean_x']; success = sol['success']\n",
    "            # if that doesn't work, now do another 2000 steps\n",
    "            if success == False:\n",
    "                out = iterate_to_eq(finalpoint[1:], 5000,params)   \n",
    "                finalpoint, success, mean_x, _, _ = out\n",
    "            \n",
    "                [P,N1,N2,*g] = finalpoint\n",
    "            if success == False:\n",
    "                out = get_equilibrium(params, N1_0 = N1, N2_0 = N2, \n",
    "                          g_of_x_vec = g)\n",
    "                P, N1, N2, g, mean_x, success =get_results_eq(out,x_max)\n",
    "            \n",
    "        success_vec[i] = success\n",
    "        \n",
    "        gxvecs[i,:] = g\n",
    "        Pvec[i] = P\n",
    "        N1vec[i] = N1\n",
    "        N2vec[i] = N2\n",
    "        meanxvec[i] = mean_x\n",
    "\n",
    "\n",
    "        # check stability\n",
    "        try:\n",
    "            if np.any(np.isnan(np.array([P,N1,N2,*g]))):\n",
    "                stability_vec[i] = np.nan\n",
    "        except TypeError:\n",
    "            stability_vec[i] = np.nan\n",
    "        else:\n",
    "            J = fun_Jac(N1,N2,np.array(g),**params)\n",
    "            stability = classify_stability(J)\n",
    "            if stability == \"Stable (attractive)\":\n",
    "                stability_vec[i] = 1\n",
    "            elif stability == \"Unstable\":\n",
    "                stability_vec[i] = -1\n",
    "            else:\n",
    "                stability_vec[i] = 0\n",
    "        \n",
    "    return Pvec, N1vec, N2vec, gxvecs,meanxvec,success_vec, stability_vec\n",
    "\n",
    "\n",
    "\n",
    "''' \n",
    "retired i think\n",
    "def check_at_equilibrium(final_distribution, P, N1, N2,**params):\n",
    "    \n",
    "    # check dg(x)/dT \\approx 0\n",
    "    # @ returns: array dgdT_, and 1 if at equilibrium or 0 if not\n",
    "    \n",
    "    T = 1 # this doesn't matter\n",
    "    dgdT_ = group_formation_model_non_dim(T, final_distribution,N1,N2, params)\n",
    "    not_at_equilibrium = np.abs(dgdT_) > 1e-8\n",
    "    if sum(not_at_equilibrium) > 0: # at least one dg(x)/dt is not zero\n",
    "        return dgdT_, 0 # 0 means not at equilibrium\n",
    "    else:\n",
    "        return dgdT_, 1 # 1 means not at equilibrium\n",
    "\n",
    "'''"
   ]
  },
  {
   "cell_type": "markdown",
   "id": "02cb361d-306a-4c76-9031-1510c3fe03bb",
   "metadata": {},
   "source": [
    "# Incorporating use of dictionaries and var"
   ]
  },
  {
   "cell_type": "markdown",
   "id": "446ad6b6-a507-4457-8601-411b9ea07b37",
   "metadata": {},
   "source": [
    "* Fix get_results_eq to also return a dictionary of results and find the variance. this dict is of form P, N1, N2, g, mean_x, success, var\n",
    "\n",
    "**Functions that return equilibrium and calculad values**\n",
    "\n",
    "These all return a dictionary of with keys 'equilibrium', 'mean_x', 'var', 'success'. Should they also return p?\n",
    "* fix get_equilibria_from_init_pts to work with get_results_eq output\n",
    "* fix iterate_and_solve_equilibrium to work with get_results_eq output and return dict if if_dict = True\n",
    "* fix iterate_to_eq\n"
   ]
  },
  {
   "cell_type": "code",
   "execution_count": 11,
   "id": "5ac06e58-a718-48cd-91bc-6c029970586c",
   "metadata": {},
   "outputs": [],
   "source": [
    "x_max = 5\n",
    "params_base = dict(η1 = 0.2, η2 = 0.5, A = 0.5, \n",
    "                   β1 = 8, β2 = 1, H1=8, H2=1, \n",
    "                  α1_of_1=0.05, α2_of_1=0.95, \n",
    "                  s1=2, s2=2, α2_fun_type = 'constant',\n",
    "                  x_max = x_max, d = 10,\n",
    "                 Tx = .01, pop_process = True)\n",
    "g_of_x_vec = [1,1,1,0,0]\n",
    "xvec = np.array([1,2,3,4,5])\n",
    "out = get_equilibrium(params_base.copy(), 0.7 , 0.7, g_of_x_vec)\n",
    "result_dic = get_results_eq(out, x_max, if_dict = True)"
   ]
  },
  {
   "cell_type": "code",
   "execution_count": 12,
   "id": "caa7d09c-3563-4054-a339-d558ccba397d",
   "metadata": {},
   "outputs": [
    {
     "data": {
      "text/plain": [
       "[{'equilibrium': array([0.6340475 , 0.72130594, 0.23320018, 0.15116554, 0.20782921,\n",
       "         0.08853843, 0.01187339]),\n",
       "  'mean_x': np.float64(2.8118687525937824),\n",
       "  'var': np.float64(1.1262647184424273)},\n",
       " {'equilibrium': array([0.6340475 , 0.72130594, 0.23320018, 0.15116554, 0.20782921,\n",
       "         0.08853843, 0.01187339]),\n",
       "  'mean_x': np.float64(2.8118687525373667),\n",
       "  'var': np.float64(1.1262647176896454)}]"
      ]
     },
     "execution_count": 12,
     "metadata": {},
     "output_type": "execute_result"
    }
   ],
   "source": [
    "get_equilibria_from_init_pts([[0.7,0.8,*g_of_x_vec],[0.2,0.8,*g_of_x_vec]], if_dict = True, **params_base.copy())"
   ]
  },
  {
   "cell_type": "code",
   "execution_count": 13,
   "id": "63ec2a6d-226d-4f59-84be-24def3892384",
   "metadata": {},
   "outputs": [
    {
     "data": {
      "text/plain": [
       "[array([0.6340475 , 0.72130594, 0.23320018, 0.15116554, 0.20782921,\n",
       "        0.08853843, 0.01187339, 2.81186875, 1.12626472]),\n",
       " array([0.6340475 , 0.72130594, 0.23320018, 0.15116554, 0.20782921,\n",
       "        0.08853843, 0.01187339, 2.81186875, 1.12626472])]"
      ]
     },
     "execution_count": 13,
     "metadata": {},
     "output_type": "execute_result"
    }
   ],
   "source": [
    "get_equilibria_from_init_pts([[0.7,0.8,*g_of_x_vec],[0.2,0.8,*g_of_x_vec]], if_dict = False, **params_base.copy())"
   ]
  },
  {
   "cell_type": "code",
   "execution_count": 14,
   "id": "d04a952c-dd9c-49a4-80f7-988c8efe5f58",
   "metadata": {},
   "outputs": [],
   "source": [
    "initialstate = [0.7,0.8,1,1,1,1e-4,1e-4,]"
   ]
  },
  {
   "cell_type": "code",
   "execution_count": 18,
   "id": "bb7a398c-0b32-4bc9-bcc1-36f71c7ba704",
   "metadata": {},
   "outputs": [
    {
     "data": {
      "text/plain": [
       "\u001b[0;31mSignature:\u001b[0m \u001b[0miterate_to_eq\u001b[0m\u001b[0;34m(\u001b[0m\u001b[0minitialstate\u001b[0m\u001b[0;34m,\u001b[0m \u001b[0mt_f\u001b[0m\u001b[0;34m,\u001b[0m \u001b[0mparams\u001b[0m\u001b[0;34m,\u001b[0m \u001b[0mif_dict\u001b[0m\u001b[0;34m=\u001b[0m\u001b[0;32mFalse\u001b[0m\u001b[0;34m)\u001b[0m\u001b[0;34m\u001b[0m\u001b[0;34m\u001b[0m\u001b[0m\n",
       "\u001b[0;31mDocstring:\u001b[0m\n",
       "Iterates the system to find an equilibrium within a specified time frame.\n",
       "\n",
       "Args:\n",
       "    initialstate (array-like): Initial state of the system, including [N1, N2, g(1), ..., g(x_max)].\n",
       "    t_f (float): Final time for the simulation.\n",
       "    params (dict): Dictionary of system parameters.\n",
       "    if_dict (bool, optional): If True, returns the equilibrium in dictionary format with additional information.\n",
       "        Default is False.\n",
       "\n",
       "Returns:\n",
       "    tuple:\n",
       "        - If `if_dict=True`:\n",
       "            eq_dict (dict): Dictionary containing:\n",
       "                - 'equilibrium' (np.ndarray): Final state after iterations, including [N1, N2, g(1), ..., g(x_max)].\n",
       "                - 'mean_x' (float): Mean experienced group size at equilibrium.\n",
       "                - 'var' (float): Variance of experienced group size at equilibrium.\n",
       "            success (bool): Whether the system successfully reached equilibrium.\n",
       "            timederivatives (np.ndarray): Time derivatives at the final state to verify equilibrium.\n",
       "        - If `if_dict=False`:\n",
       "            curr (list): Final state after iterations, including [N1, N2, g(1), ..., g(x_max), mean_x, var].\n",
       "            success (bool): Whether the system successfully reached equilibrium.\n",
       "            timederivatives (np.ndarray): Time derivatives at the final state to verify equilibrium.\n",
       "\n",
       "Behavior:\n",
       "    - Simulates the system dynamics over `t_f` time steps using `bounded_ivp`.\n",
       "    - Extracts the final state and checks if it is at equilibrium using `check_at_equilibrium2`.\n",
       "    - Includes mean experienced group size and variance in the output.\n",
       "    - Handles invalid results by setting `success=False` if the final state contains non-finite values.\n",
       "\n",
       "Dependencies:\n",
       "    - `bounded_ivp`: Function to simulate system dynamics over time.\n",
       "    - `check_at_equilibrium2`: Function to check if the final state satisfies equilibrium conditions.\n",
       "\n",
       "Example Usage:\n",
       "    params = {\n",
       "        'η1': 0.2, 'η2': 0.5, 'A': 0.5, 'β1': 8, 'β2': 1,\n",
       "        'H1': 0, 'H2': 0, 'α1_of_1': 0.05, 'α2_of_1': 0.95,\n",
       "        's1': 2, 's2': 2, 'x_max': 5, 'd': 10, 'Tx': 0.01, 'pop_process': True\n",
       "    }\n",
       "    initialstate = [0.8, 0.7, 0.1, 0.2, 0.3, 0.1, 0.05]\n",
       "    t_f = 1000\n",
       "\n",
       "    # Run the function\n",
       "    eq, success, timederivatives = iterate_to_eq(initialstate, t_f, params, if_dict=True)\n",
       "\n",
       "    # Check results\n",
       "    print(eq['equilibrium'])  # Final equilibrium state\n",
       "    print(\"Success:\", success)\n",
       "    print(\"Time derivatives:\", timederivatives)\n",
       "\u001b[0;31mFile:\u001b[0m      /var/folders/_4/t51wvvv53c35d1q0pv8mywxr0000gq/T/ipykernel_1899/2117266196.py\n",
       "\u001b[0;31mType:\u001b[0m      function"
      ]
     },
     "metadata": {},
     "output_type": "display_data"
    }
   ],
   "source": [
    "iterate_to_eq?"
   ]
  },
  {
   "cell_type": "code",
   "execution_count": 19,
   "id": "0c532c56-cf0c-45ac-948e-b1aa68c88ace",
   "metadata": {},
   "outputs": [],
   "source": [
    "out = iterate_to_eq(initialstate, 1500, params_base.copy(), if_dict = False)"
   ]
  },
  {
   "cell_type": "code",
   "execution_count": 20,
   "id": "70882344-4c32-44a4-8c7e-79778471092d",
   "metadata": {},
   "outputs": [
    {
     "data": {
      "text/plain": [
       "([np.float64(0.6340474998328776),\n",
       "  np.float64(0.7213059377749143),\n",
       "  np.float64(0.23320017836931906),\n",
       "  np.float64(0.15116554310379093),\n",
       "  np.float64(0.20782920984474482),\n",
       "  np.float64(0.088538432023873),\n",
       "  np.float64(0.01187338848493211),\n",
       "  np.float64(2.8118687525227557),\n",
       "  np.float64(1.1262647176051468)],\n",
       " True,\n",
       " [np.float64(7.705537596880419e-12),\n",
       "  np.float64(6.640396565948947e-12),\n",
       "  np.float64(-1.5981627913413954e-12),\n",
       "  np.float64(-2.786193584874974e-12),\n",
       "  np.float64(-6.691045287277042e-12),\n",
       "  np.float64(-3.424517613925815e-12),\n",
       "  np.float64(-4.518629394267837e-13)])"
      ]
     },
     "execution_count": 20,
     "metadata": {},
     "output_type": "execute_result"
    }
   ],
   "source": [
    "out"
   ]
  },
  {
   "cell_type": "markdown",
   "id": "ab02a052-029a-4b52-8f4a-71bc2c8ac8f2",
   "metadata": {},
   "source": [
    "# Check iterate_to_eq"
   ]
  },
  {
   "cell_type": "code",
   "execution_count": 50,
   "id": "7f1b0c8f-6266-45ac-b534-1a89e0558f4d",
   "metadata": {},
   "outputs": [],
   "source": [
    "t_f = 1100\n",
    "weird_params = {'η1': np.float64(0.5), 'η2': 0.5, 'A': 0.5, 'β1': 8, 'β2': 1, 'H1': 0, 'H2': 0, 'α1_of_1': 0.05, 'α2_of_1': 0.95, 's1': 2, 's2': 2, 'α2_fun_type': 'constant', \n",
    " 'x_max': 5, 'd': 10, 'Tx': 0.01, 'pop_process': True}\n",
    "initialstate = np.array([.7,.7,*initiate_g_first_x(3,weird_params[\"x_max\"])])\n"
   ]
  },
  {
   "cell_type": "code",
   "execution_count": 51,
   "id": "f34494db-2662-48bc-8950-eeab73cd0674",
   "metadata": {},
   "outputs": [],
   "source": [
    "out2 = bounded_ivp(initialstate, weird_params, t_f = t_f) "
   ]
  },
  {
   "cell_type": "code",
   "execution_count": 52,
   "id": "84ba7f08-952f-4dbd-b81c-40e64e1954f9",
   "metadata": {},
   "outputs": [],
   "source": [
    "T, N1, N2, P, g_of_x_vec, mean_x = out2\n",
    "traj = [N1,N2,*g_of_x_vec]\n",
    "curr = [item[-2] for item in traj]\n"
   ]
  },
  {
   "cell_type": "code",
   "execution_count": 53,
   "id": "405044ca-1eaf-4a5b-9d3e-d5408d4e5bc9",
   "metadata": {},
   "outputs": [
    {
     "data": {
      "text/plain": [
       "[np.float64(2.2704568997372414e-244),\n",
       " np.float64(2.4817798352037342e-244),\n",
       " np.float64(0.04362839394769),\n",
       " np.float64(0.12919990861272634),\n",
       " np.float64(1.9416920119364407),\n",
       " np.float64(1.8911354264097888),\n",
       " np.float64(0.16192956025631405)]"
      ]
     },
     "execution_count": 53,
     "metadata": {},
     "output_type": "execute_result"
    }
   ],
   "source": [
    "curr"
   ]
  },
  {
   "cell_type": "code",
   "execution_count": 54,
   "id": "de256e09-332c-42fc-a209-8d2a44de8f50",
   "metadata": {},
   "outputs": [],
   "source": [
    "coexist_eq, success, _ = iterate_to_eq(initialstate, t_f, weird_params)\n",
    "coexist_eq = np.array(coexist_eq)"
   ]
  },
  {
   "cell_type": "code",
   "execution_count": 55,
   "id": "b3ac1e63-ccbf-4620-a9a9-d9c1d280c997",
   "metadata": {},
   "outputs": [
    {
     "data": {
      "text/plain": [
       "False"
      ]
     },
     "execution_count": 55,
     "metadata": {},
     "output_type": "execute_result"
    }
   ],
   "source": [
    "success"
   ]
  },
  {
   "cell_type": "markdown",
   "id": "8c2d3a56-b28e-4dbd-93f8-a5f0ced5c1cf",
   "metadata": {
    "jp-MarkdownHeadingCollapsed": true
   },
   "source": [
    "# Check that get_equilibrium works:"
   ]
  },
  {
   "cell_type": "code",
   "execution_count": 1,
   "id": "37dd9e82-057a-488e-8fe0-50a0ed4ea9bc",
   "metadata": {},
   "outputs": [],
   "source": [
    "import numpy as np\n",
    "import matplotlib.pyplot as plt\n",
    "from fitness_funs_non_dim import *\n",
    "from group_w_pop_funs import *\n",
    "from scipy.integrate import solve_ivp\n",
    "from scipy.optimize import root\n",
    "from local_stability_funs import *\n",
    "from equilibria_funs import *"
   ]
  },
  {
   "cell_type": "code",
   "execution_count": 2,
   "id": "1a452eea-0bce-48be-be30-cf4160e32598",
   "metadata": {},
   "outputs": [],
   "source": [
    "x_max = 5\n",
    "params_base = dict(η1 = 0.2, η2 = 0.5, A = 0.5, β1 = 8, β2 = 1, H1=8, H2=1, \n",
    "                  α1_of_1=0.05, α2_of_1=0.95, \n",
    "                  s1=2, s2=2, α2_fun_type = 'constant',\n",
    "                  x_max = x_max, d = 10,\n",
    "                 Tx = .01, pop_process = True)\n",
    "g_of_x_vec = [1,0,0,0,0]\n",
    "xvec = np.array([1,2,3,4,5])"
   ]
  },
  {
   "cell_type": "code",
   "execution_count": 3,
   "id": "0b47bc5c-420c-498d-bd6c-f47c9585df0d",
   "metadata": {},
   "outputs": [],
   "source": [
    "[N1_0,N2_0,*g_of_x_vec] = [0.62637957, 0.69268158, 0.23320018, 0.15116554, \n",
    "                           0.20782921, 0.08853843, 0.01187339]\n",
    "\n",
    "p_0 = sum(np.arange(1,6,1)*np.array(g_of_x_vec))"
   ]
  },
  {
   "cell_type": "code",
   "execution_count": 4,
   "id": "87bb944c-672f-4f2d-97fc-8c0770e53b59",
   "metadata": {},
   "outputs": [
    {
     "name": "stdout",
     "output_type": "stream",
     "text": [
      "[0.6340475  0.72130594 0.23320018 0.15116554 0.20782921 0.08853843\n",
      " 0.01187339]\n"
     ]
    },
    {
     "data": {
      "text/plain": [
       "True"
      ]
     },
     "execution_count": 4,
     "metadata": {},
     "output_type": "execute_result"
    }
   ],
   "source": [
    "out = get_equilibrium(params_base.copy(), N1_0 , N2_0, p_0, g_of_x_vec)\n",
    "print(out.x)\n",
    "out.success"
   ]
  },
  {
   "cell_type": "code",
   "execution_count": 32,
   "id": "b744e30e-2f6b-4777-87e3-7a999b89fcd0",
   "metadata": {},
   "outputs": [
    {
     "data": {
      "text/plain": [
       "\u001b[0;31mSignature:\u001b[0m \u001b[0mfull_model\u001b[0m\u001b[0;34m(\u001b[0m\u001b[0mT\u001b[0m\u001b[0;34m,\u001b[0m \u001b[0minitialstate\u001b[0m\u001b[0;34m,\u001b[0m \u001b[0marg\u001b[0m\u001b[0;34m,\u001b[0m \u001b[0mparams\u001b[0m\u001b[0;34m)\u001b[0m\u001b[0;34m\u001b[0m\u001b[0;34m\u001b[0m\u001b[0m\n",
       "\u001b[0;31mDocstring:\u001b[0m\n",
       "removed P!\n",
       "gets the time derivatives for N1, N2, g(1), g(2), ..., g(xm)\n",
       "@inputs\n",
       "T is just used by fsolve, not needed\n",
       "intiialstate = [N1,N2,*g_of_x]\n",
       "arg is a dummy because fsolve gets weird if there is only 1 arg?\n",
       "params is dictionary of params\n",
       "@ returns [dN1dT, dN2dT, *dgdT_vec]\n",
       "\u001b[0;31mFile:\u001b[0m      ~/Documents/CH_GroupFormation/CH_code/Functions/group_w_pop_funs.py\n",
       "\u001b[0;31mType:\u001b[0m      function"
      ]
     },
     "metadata": {},
     "output_type": "display_data"
    }
   ],
   "source": [
    "full_model?"
   ]
  },
  {
   "cell_type": "code",
   "execution_count": 34,
   "id": "5ec02522-e8c5-4543-b80a-cfd5992c39c3",
   "metadata": {},
   "outputs": [],
   "source": [
    "perturbed_pt = out.x + .01\n",
    "out2 = solve_ivp(full_model, [0, 5000], perturbed_pt, \n",
    "                         method = \"LSODA\", args = (True, params_base.copy()))"
   ]
  },
  {
   "cell_type": "code",
   "execution_count": 37,
   "id": "1c807f30-9eff-4da5-be2e-3532b8b85256",
   "metadata": {},
   "outputs": [
    {
     "data": {
      "text/plain": [
       "array([0.6340475 , 0.72130594, 0.23320018, 0.15116554, 0.20782921,\n",
       "       0.08853843, 0.01187339])"
      ]
     },
     "execution_count": 37,
     "metadata": {},
     "output_type": "execute_result"
    }
   ],
   "source": [
    "out2.y[:,-1]"
   ]
  },
  {
   "cell_type": "markdown",
   "id": "bc0a1324-3d14-457e-891b-8a6e026af89d",
   "metadata": {},
   "source": [
    "# Iterate and solve equilibrium"
   ]
  },
  {
   "cell_type": "code",
   "execution_count": 23,
   "id": "2c00c20a-fdce-4823-aa3e-29302dfa072c",
   "metadata": {},
   "outputs": [],
   "source": [
    "\n",
    "x_max = 5\n",
    "params_base = dict(η1 = 0.2, η2 = 0.5, A = 0.5, β1 = 12, β2 = 1, H1=12, \n",
    "                   H2=1, \n",
    "                  α1_of_1=0.05, α2_of_1=0.95, \n",
    "                  s1=2, s2=2, α2_fun_type = 'constant',\n",
    "                  x_max = x_max, d = 10,\n",
    "                 Tx = .01, pop_process = True)"
   ]
  },
  {
   "cell_type": "code",
   "execution_count": 27,
   "id": "0adff9d0-5ab0-417c-a0b7-78e5939b6697",
   "metadata": {},
   "outputs": [],
   "source": [
    "initialstate = [.7,.7,*initiate_g_first_x(3,5)]\n",
    "t_f = 1500\n",
    "params = params_base.copy()\n",
    "coexist_eq, success, _ = iterate_to_eq(initialstate, t_f, params)"
   ]
  },
  {
   "cell_type": "code",
   "execution_count": 17,
   "id": "2b323150-1383-487e-bacd-7cedf0cc6f5f",
   "metadata": {},
   "outputs": [],
   "source": [
    "def initiate_g_first_x(x_f, x_max):\n",
    "    \n",
    "    g0 = np.zeros(x_max) + 1e-4\n",
    "    g0[0:x_f] = 1\n",
    "    return g0\n",
    "\n",
    "def iterate_and_solve_equilibrium(params, t_f = 1000, tol = 1e-8):\n",
    "    '''\n",
    "    iterates from a standard start point that tends to work\n",
    "    then uses root to find equilibrium\n",
    "\n",
    "    @returns\n",
    "    [N1,N2,*g, mean_x], success (BOOL for whether at equilibrium), \n",
    "    and a vector of the time derivatives\n",
    "    '''\n",
    "    x_max = params['x_max']\n",
    "    x_f = 3 if x_max >=3 else 2\n",
    "    y0 = [0.71, 0.7, *initiate_g_first_x(3, x_max)]\n",
    "    out2 = bounded_ivp(y0, params, t_f = t_f) \n",
    "    T, N1, N2, P, g_of_x_vec, mean_x = out2\n",
    "\n",
    "    # extract new starting point\n",
    "    traj = [N1,N2,*g_of_x_vec]\n",
    "    curr = [item[-1] for item in traj]\n",
    "    print(curr)\n",
    "\n",
    "    out = get_equilibrium(params, N1_0 = curr[0], N2_0 = curr[1], \n",
    "                          g_of_x_vec = curr[2:])\n",
    "    P_eq, N1_eq, N2_eq, g_eq, mean_x_eq, success =get_results_eq(out,x_max)\n",
    "\n",
    "    # to be successful, sum x*g = P\n",
    "    # sum_x_g = np.sum(np.arange(1,x_max+1,1)*g_eq)\n",
    "    # success = success and (np.abs(sum_x_g - P_eq )< tol)\n",
    "    \n",
    "    return P_eq, N1_eq, N2_eq, g_eq, mean_x_eq, success"
   ]
  },
  {
   "cell_type": "code",
   "execution_count": 18,
   "id": "b361a625-946f-4cea-a41c-48ccb68c48d1",
   "metadata": {},
   "outputs": [
    {
     "name": "stdout",
     "output_type": "stream",
     "text": [
      "[np.float64(0.4267059462047271), np.float64(0.6443679343578119), np.float64(0.2098708248826281), np.float64(0.17192597060135076), np.float64(0.30840995616937295), np.float64(0.1739846341313669), np.float64(0.030953298511645355)]\n"
     ]
    },
    {
     "data": {
      "text/plain": [
       "(nan, nan, nan, nan, nan, False)"
      ]
     },
     "execution_count": 18,
     "metadata": {},
     "output_type": "execute_result"
    }
   ],
   "source": [
    "iterate_and_solve_equilibrium(params_base)"
   ]
  },
  {
   "cell_type": "code",
   "execution_count": null,
   "id": "906d500a-1a7d-4ad2-bdf0-5feb869fb6ce",
   "metadata": {},
   "outputs": [],
   "source": [
    "P_eq, N1_eq, N2_eq, g_eq, mean_x_eq, success"
   ]
  }
 ],
 "metadata": {
  "kernelspec": {
   "display_name": "Python 3 (ipykernel)",
   "language": "python",
   "name": "python3"
  },
  "language_info": {
   "codemirror_mode": {
    "name": "ipython",
    "version": 3
   },
   "file_extension": ".py",
   "mimetype": "text/x-python",
   "name": "python",
   "nbconvert_exporter": "python",
   "pygments_lexer": "ipython3",
   "version": "3.13.1"
  }
 },
 "nbformat": 4,
 "nbformat_minor": 5
}
