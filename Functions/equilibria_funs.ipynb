{
 "cells": [
  {
   "cell_type": "markdown",
   "id": "6f0ac9b4-c698-4c22-a86c-68a28c0409ab",
   "metadata": {},
   "source": [
    "# Equilibria and Optimal Fitness Functions"
   ]
  },
  {
   "cell_type": "markdown",
   "id": "541298eb-189c-44af-bb48-098c10e1e50a",
   "metadata": {},
   "source": [
    "This notebook is used to write and test functions for finding the equilibria, based on our model and mangel and clark 1980 something model"
   ]
  },
  {
   "cell_type": "code",
   "execution_count": 56,
   "id": "b6f58bf4-0a69-469e-8108-f6f86cd6b4cd",
   "metadata": {},
   "outputs": [
    {
     "name": "stdout",
     "output_type": "stream",
     "text": [
      "Overwriting equilibria_funs.py\n"
     ]
    }
   ],
   "source": [
    "%%writefile equilibria_funs.py\n",
    "import numpy as np\n",
    "import matplotlib.pyplot as plt\n",
    "from fitness_funs_non_dim import *\n",
    "from group_w_pop_funs import *\n",
    "from scipy.integrate import solve_ivp\n",
    "from scipy.optimize import root\n",
    "from local_stability_funs import *\n",
    "from sim_graph_funs import *\n",
    "\n",
    "\n",
    "\n",
    "\n",
    "def find_mangel_clark(N1, N2, x_max, **params):\n",
    "    # mangel and clark predicted that groups should grow until W(x^*) = W(1)\n",
    "    # don't need A\n",
    "\n",
    "    # simplest way... iterate and stop when reach x s.t. W(x) < W(1), then return x - 1\n",
    "    W_of_1 = per_capita_fitness_from_prey_non_dim(1, N1, N2, **params)\n",
    "    for x in range(2,x_max+1):\n",
    "        W_of_x = per_capita_fitness_from_prey_non_dim(x, N1, N2, **params)\n",
    "        if W_of_x < W_of_1:\n",
    "            return x - 1\n",
    "    return x # if reach x_max\n",
    "\n",
    "\n",
    "def iterate_to_eq(initialstate, t_f, params):\n",
    "    '''\n",
    "    try to iterate to eq in t_f time steps\n",
    "    return curr (the final point after iterations), success, timederivatives \n",
    "    '''\n",
    "    out2 = bounded_ivp(initialstate, params, t_f = t_f) \n",
    "    T, N1, N2, P, g_of_x_vec, mean_x = out2\n",
    "    \n",
    "    # extract results\n",
    "    traj = [N1,N2,*g_of_x_vec]\n",
    "    curr = [item[-1] for item in traj]\n",
    "    [N1,N2,*g_eq] = curr\n",
    "\n",
    "    # check if at equilibrium\n",
    "    \n",
    "    success, timederivatives = check_at_equilibrium2(\n",
    "        curr[0], curr[1], curr[2:], params\n",
    "    )\n",
    "\n",
    "    # get mean experienced\n",
    "    x_max = params[\"x_max\"]\n",
    "    P_eq = P[-1]; \n",
    "    \n",
    "    mean_x_eq = mean_group_size_membership(g_eq,x_max,P_eq)\n",
    "\n",
    "    curr.append(mean_x_eq)\n",
    "\n",
    "    if not np.isfinite(curr).all():\n",
    "        success = False\n",
    "    \n",
    "    \n",
    "    return curr, success, timederivatives \n",
    "   \n",
    "def get_equilibrium(params,N1_0,N2_0,g_of_x_vec):#, N1_0 = 0.5, N2_0 = 0.4, p_0 = 20, g_of_x_vec = None):\n",
    "    '''\n",
    "    finds the equilibrium s.t. N1, N2 > 0 using root for the population dynamics and group dynamics system\n",
    "    RETIRED: if not given g_of_x_vec, then just has everyone initially solitary\n",
    "    \n",
    "    @returns:\n",
    "    N1_eq, N2_eq, F_eq, P_eq, mean_x_eq\n",
    "    '''\n",
    "    x_max = params['x_max']\n",
    "    xvec = np.arange(1,x_max+1,1)\n",
    "    # if not isinstance(g_of_x_vec, np.ndarray):\n",
    "    #     #print('hi')\n",
    "    #     x_f = 2 if x_max > 2 else x_max\n",
    "    #     g_of_x_vec = initiate_f_first_x(p_0, x_f, x_max)\n",
    "        \n",
    "    x0 = [N1_0, N2_0, *g_of_x_vec]\n",
    "    out = root(fun = nullclines_no_P, x0 = x0, \n",
    "                                  args = (params))\n",
    "    return out\n",
    "\n",
    "def abs_nullclines_no_P(initialstate, params):\n",
    "    return np.sum(np.abs(nullclines_no_P(initialstate, params)))\n",
    "\n",
    "\n",
    "\n",
    "def nullclines_no_P(initialstate, params):\n",
    "    '''\n",
    "    returns the nullclines for N1, N2, g(1), g(2), ..., g(x_max)\n",
    "    such that N1, N2 \\neq 0\n",
    "    @inputs\n",
    "    initialstate = [N1, N2, g(1), ..., g(x_max)], type ndarray\n",
    "    params = dictionary of params\n",
    "    '''\n",
    "    N1 = initialstate[0]\n",
    "    N2 = initialstate[1]\n",
    "    g_of_x_vec = initialstate[2:]\n",
    "\n",
    "    x_max = params['x_max']\n",
    "    xvec = np.arange(1,x_max+1,1)\n",
    "\n",
    "\n",
    "    \n",
    "    \n",
    "\n",
    "    N1_null, N2_null = N_nullclines(N1, N2, g_of_x_vec, xvec, **params)\n",
    "    dgdT_vec = group_formation_model_non_dim(0, g_of_x_vec,N1,N2, params) # I put 0 for T\n",
    "    \n",
    "    return [N1_null, N2_null, *dgdT_vec]\n",
    "    \n",
    "def nullclines_big_prey_extinct(initialstate, params):\n",
    "    '''\n",
    "    returns the nullclines for N2,  g(1), g(2), ..., g(x_max)\n",
    "    where N1 = 0 and N2 > 0\n",
    "    @inputs\n",
    "    initialstate = N2, g(1), ..., g(x_max)], type ndarray\n",
    "    params = dictionary of params\n",
    "    '''\n",
    "    \n",
    "    N2 = initialstate[0]\n",
    "    g_of_x_vec = initialstate[1:]\n",
    "    x_max = params['x_max']\n",
    "    xvec = np.arange(1, x_max+1,1)\n",
    "    _, N2_null = N_nullclines(0, N2, g_of_x_vec, xvec, **params)\n",
    "    dgdT_vec = group_formation_model_non_dim(0, g_of_x_vec,0,N2, params) # put 0 for T, N1\n",
    "\n",
    "    return [N2_null, *dgdT_vec]\n",
    "\n",
    "def nullclines_small_prey_extinct(initialstate, params):\n",
    "    '''\n",
    "    returns the nullclines for N1,  g(1), g(2), ..., g(x_max)\n",
    "    where N2 = 0 and N1 > 0\n",
    "    @inputs\n",
    "    initialstate = [N1, g(1), ..., g(x_max)],\n",
    "    params = dictionary of params\n",
    "    '''\n",
    "    \n",
    "    N1 = initialstate[0]\n",
    "    g_of_x_vec = initialstate[1:]\n",
    "    x_max = params['x_max']\n",
    "    xvec = np.arange(1, x_max+1,1)\n",
    "    N1_null, _ = N_nullclines(N1, 0, g_of_x_vec, xvec, **params)\n",
    "    dgdT_vec = group_formation_model_non_dim(0, g_of_x_vec,N1,0, params) # put 0 for T, N1\n",
    "\n",
    "    return [N1_null, *dgdT_vec]\n",
    "\n",
    "def N_nullclines(N1, N2, g_of_x_vec, xvec, η1, η2, A, H1, H2, **params):\n",
    "    '''\n",
    "    dN1dT, dN2dT, the change in prey pop size versus time, non-dim'ed, divided by N_i\n",
    "    @inputs:\n",
    "    N1, N2 - non-dim'ed pred, big prey, and small prey pop sizes\n",
    "    g_of_x_vec - array of g(1), g(2), ... , g(x_max)\n",
    "    params - dic of params: must at least include H1, H2, α1_of_1, α2_of_1, s1, s2,\n",
    "    '''\n",
    "\n",
    "    α1 = fun_alpha1(xvec,**params) \n",
    "    α2 = fun_alpha2(xvec,**params) \n",
    "\n",
    "    # prey nonzero nullclines\n",
    "    denominator = 1 + H1*α1*N1/xvec + H2*α2*N2/xvec\n",
    "    Y1_no_N = α1/denominator\n",
    "    Y2_no_N = α2/denominator\n",
    "\n",
    "    N1_null = η1 * (1-N1) - A * np.sum(g_of_x_vec * Y1_no_N)\n",
    "    N2_null = η2 * (1-N2) - A * np.sum(g_of_x_vec * Y2_no_N)\n",
    "    \n",
    "    return N1_null, N2_null\n",
    "def get_equilibrium_prey_i_extinct(params, i, Nj_0 = 0.4, \n",
    "                                p_0 = 20, g_of_x_vec = None):\n",
    "    '''\n",
    "    finds the equilibrium using root for the population dynamics and group dynamics system\n",
    "    where N1 = 0\n",
    "    if not given g_of_x_vec, then just has everyone initially solitary\n",
    "    \n",
    "    @returns:\n",
    "    N1_eq, N2_eq, F_eq, P_eq, mean_x_eq\n",
    "    '''\n",
    "    x_max = params['x_max']\n",
    "    xvec = np.arange(1,x_max+1,1)\n",
    "    if not isinstance(g_of_x_vec, np.ndarray):\n",
    "        #print('hi')\n",
    "        x_f = 2 if x_max > 2 else x_max\n",
    "        g_of_x_vec = initiate_f_first_x(p_0, x_f, x_max)\n",
    "        \n",
    "    x0 = [Nj_0, *g_of_x_vec]\n",
    "    if i == 1:    \n",
    "        out = root(fun = nullclines_big_prey_extinct, x0 = x0, \n",
    "                                  args = (params))\n",
    "    elif i == 2:\n",
    "        out = root(fun = nullclines_small_prey_extinct, x0 = x0, args = (params))\n",
    "    return out  \n",
    "\n",
    "\n",
    "def check_at_equilibrium2(N1,N2,g_of_x_vec, params):\n",
    "    # check not negative\n",
    "    curr = [N1, N2, *g_of_x_vec]\n",
    "    condition_failed_1 = np.any(\n",
    "        np.array(curr)<0\n",
    "    )\n",
    "    deriv_vec = full_model(\n",
    "        0, curr, True, params\n",
    "    )\n",
    "    condition_failed_2 = np.any(np.abs(deriv_vec)>1e-8)\n",
    "    if np.any([condition_failed_1, condition_failed_2]):#, condition_failed_3]):\n",
    "        success = False\n",
    "    else:\n",
    "        success = True\n",
    "    return success, deriv_vec\n",
    "    # check derivative is zero\n",
    "    # check sum x*g(x) = p\n",
    "def get_results_eq(out, x_max, tol = 1e-8, which_prey_extinct = -1):\n",
    "    '''\n",
    "    Extracts the state variables at the equilibrium, calculates \n",
    "    mean experienced group size, and checks that the equilibrium \n",
    "    is valid (within the state variable domains)\n",
    "\n",
    "    @ returns: P_eq, N1_eq, N2_eq, g_eq, mean_x_eq, success\n",
    "    '''\n",
    "    xvec = np.arange(1,x_max+1,1)\n",
    "    if which_prey_extinct == -1:\n",
    "        g_eq = out.x[2:]\n",
    "        N1_eq = out.x[0]\n",
    "        N2_eq = out.x[1]\n",
    "    else:\n",
    "        g_eq = out.x[1:]\n",
    "        Nj_eq = out.x[0]\n",
    "        Ni_eq = 0\n",
    "        N1_eq = Ni_eq if which_prey_extinct == 1 else Nj_eq\n",
    "        N2_eq = Ni_eq if which_prey_extinct == 2 else Nj_eq\n",
    "    P_eq = np.sum(xvec*g_eq); \n",
    "    \n",
    "    mean_x_eq = mean_group_size_membership(g_eq,x_max,P_eq)\n",
    "    if mean_x_eq < 1:\n",
    "        mean_x_eq = 1\n",
    "    # check not negative\n",
    "    condition_failed_1 = np.any(np.array([P_eq, N1_eq, N2_eq, *g_eq, mean_x_eq])<0)\n",
    "    # check root reached the end\n",
    "    condition_failed_2 = out.success == False\n",
    "    # check sum x*g(x) = p\n",
    "    #condition_failed_3 = np.abs(np.sum(np.arange(1,x_max+1,1)*g_eq) - P_eq) > tol\n",
    "    \n",
    "    if np.any([condition_failed_1, condition_failed_2]):#, condition_failed_3]):\n",
    "        success = False\n",
    "        return np.nan, np.nan, np.nan, np.nan, np.nan, success\n",
    "    success = True\n",
    "    return P_eq, N1_eq, N2_eq, g_eq, mean_x_eq, success\n",
    "\n",
    "def initiate_g_first_x(x_f, x_max):\n",
    "    \n",
    "    g0 = np.zeros(x_max) + 1e-4\n",
    "    g0[0:x_f] = 1\n",
    "    return g0\n",
    "\n",
    "def iterate_and_solve_equilibrium(params, t_f = 1000, tol = 1e-8):\n",
    "    '''\n",
    "    iterates from a standard start point that tends to work\n",
    "    then uses root to find equilibrium\n",
    "\n",
    "    @returns\n",
    "    [N1,N2,*g, mean_x], success (BOOL for whether at equilibrium), \n",
    "    and a vector of the time derivatives\n",
    "    '''\n",
    "    x_max = params['x_max']\n",
    "    x_f = 3 if x_max >=3 else 2\n",
    "    y0 = [0.71, 0.7, *initiate_g_first_x(3, x_max)]\n",
    "    out2 = bounded_ivp(y0, params, t_f = t_f) \n",
    "    T, N1, N2, P, g_of_x_vec, mean_x = out2\n",
    "\n",
    "    # extract new starting point\n",
    "    traj = [N1,N2,*g_of_x_vec]\n",
    "    curr = [item[-1] for item in traj]\n",
    "    print(curr)\n",
    "\n",
    "    out = get_equilibrium(params, N1_0 = curr[0], N2_0 = curr[1], \n",
    "                          g_of_x_vec = curr[2:])\n",
    "    P_eq, N1_eq, N2_eq, g_eq, mean_x_eq, success =get_results_eq(out,x_max)\n",
    "\n",
    "    # to be successful, sum x*g = P\n",
    "    # sum_x_g = np.sum(np.arange(1,x_max+1,1)*g_eq)\n",
    "    # success = success and (np.abs(sum_x_g - P_eq )< tol)\n",
    "    \n",
    "    return P_eq, N1_eq, N2_eq, g_eq, mean_x_eq, success\n",
    "    \n",
    "######################################################################\n",
    "\n",
    "# check and update functions below, if still needed\n",
    "\n",
    "    \n",
    "def get_equilibria_vary_param(paramvec, paramkey, **params):\n",
    "    '''\n",
    "    Get a list of equilibrium values corresponding to the parameters\n",
    "    '''\n",
    "\n",
    "\n",
    "    x_max = params['x_max']\n",
    "    xvec = np.arange(1,x_max+1,1)\n",
    "\n",
    "    # set up empty vectors\n",
    "    meanxvec = np.zeros(len(paramvec))\n",
    "    gxvecs  = np.zeros((len(paramvec), x_max))\n",
    "    Pvec = meanxvec.copy()\n",
    "    N1vec = meanxvec.copy()\n",
    "    N2vec = meanxvec.copy()\n",
    "    success_vec = meanxvec.copy()\n",
    "    stability_vec = meanxvec.copy()\n",
    "    \n",
    "    for i, param in enumerate(paramvec):\n",
    "        params = params.copy()\n",
    "        params[paramkey] = param\n",
    "\n",
    "        # try to iterate a little and then use root to solve for equilibrium\n",
    "        out_eq = iterate_and_solve_equilibrium(params, t_f = 5)\n",
    "        P, N1, N2, g, mean_x, success = out_eq\n",
    "        \n",
    "        if success==False:\n",
    "            \n",
    "            # try to get to equilibrium in just 200 steps #\n",
    "            \n",
    "            t_f = 500\n",
    "            initialstate = [0.5,0.4, 20, *np.zeros(x_max-1)]\n",
    "            finalpoint, success, mean_x, _, _ = iterate_to_eq(initialstate, t_f,\n",
    "                                                                         params)\n",
    "            [P,N1,N2,*g] = finalpoint\n",
    "\n",
    "            # if that doesn't work, try solving from here\n",
    "            if success == False:\n",
    "                out = get_equilibrium(params, N1_0 = N1, N2_0 = N2, \n",
    "                          g_of_x_vec = g)\n",
    "                P, N1, N2, g, mean_x, success =get_results_eq(out,x_max)\n",
    "            # if that doesn't work, now do another 2000 steps\n",
    "            if success == False:\n",
    "                out = iterate_to_eq(finalpoint[1:], 5000,params)   \n",
    "                finalpoint, success, mean_x, _, _ = out\n",
    "            \n",
    "                [P,N1,N2,*g] = finalpoint\n",
    "            if success == False:\n",
    "                out = get_equilibrium(params, N1_0 = N1, N2_0 = N2, \n",
    "                          g_of_x_vec = g)\n",
    "                P, N1, N2, g, mean_x, success =get_results_eq(out,x_max)\n",
    "            \n",
    "        success_vec[i] = success\n",
    "        \n",
    "        gxvecs[i,:] = g\n",
    "        Pvec[i] = P\n",
    "        N1vec[i] = N1\n",
    "        N2vec[i] = N2\n",
    "        meanxvec[i] = mean_x\n",
    "\n",
    "\n",
    "        # check stability\n",
    "        try:\n",
    "            if np.any(np.isnan(np.array([P,N1,N2,*g]))):\n",
    "                stability_vec[i] = np.nan\n",
    "        except TypeError:\n",
    "            stability_vec[i] = np.nan\n",
    "        else:\n",
    "            J = fun_Jac(N1,N2,np.array(g),**params)\n",
    "            stability = classify_stability(J)\n",
    "            if stability == \"Stable (attractive)\":\n",
    "                stability_vec[i] = 1\n",
    "            elif stability == \"Unstable\":\n",
    "                stability_vec[i] = -1\n",
    "            else:\n",
    "                stability_vec[i] = 0\n",
    "        \n",
    "    return Pvec, N1vec, N2vec, gxvecs,meanxvec,success_vec, stability_vec\n",
    " \n",
    "\n",
    "''' \n",
    "retired i think\n",
    "def check_at_equilibrium(final_distribution, P, N1, N2,**params):\n",
    "    \n",
    "    # check dg(x)/dT \\approx 0\n",
    "    # @ returns: array dgdT_, and 1 if at equilibrium or 0 if not\n",
    "    \n",
    "    T = 1 # this doesn't matter\n",
    "    dgdT_ = group_formation_model_non_dim(T, final_distribution,N1,N2, params)\n",
    "    not_at_equilibrium = np.abs(dgdT_) > 1e-8\n",
    "    if sum(not_at_equilibrium) > 0: # at least one dg(x)/dt is not zero\n",
    "        return dgdT_, 0 # 0 means not at equilibrium\n",
    "    else:\n",
    "        return dgdT_, 1 # 1 means not at equilibrium\n",
    "\n",
    "'''"
   ]
  },
  {
   "cell_type": "markdown",
   "id": "ab02a052-029a-4b52-8f4a-71bc2c8ac8f2",
   "metadata": {},
   "source": [
    "# Check iterate_to_eq"
   ]
  },
  {
   "cell_type": "code",
   "execution_count": 50,
   "id": "7f1b0c8f-6266-45ac-b534-1a89e0558f4d",
   "metadata": {},
   "outputs": [],
   "source": [
    "t_f = 1100\n",
    "weird_params = {'η1': np.float64(0.5), 'η2': 0.5, 'A': 0.5, 'β1': 8, 'β2': 1, 'H1': 0, 'H2': 0, 'α1_of_1': 0.05, 'α2_of_1': 0.95, 's1': 2, 's2': 2, 'α2_fun_type': 'constant', \n",
    " 'x_max': 5, 'd': 10, 'Tx': 0.01, 'pop_process': True}\n",
    "initialstate = np.array([.7,.7,*initiate_g_first_x(3,weird_params[\"x_max\"])])\n"
   ]
  },
  {
   "cell_type": "code",
   "execution_count": 51,
   "id": "f34494db-2662-48bc-8950-eeab73cd0674",
   "metadata": {},
   "outputs": [],
   "source": [
    "out2 = bounded_ivp(initialstate, weird_params, t_f = t_f) "
   ]
  },
  {
   "cell_type": "code",
   "execution_count": 52,
   "id": "84ba7f08-952f-4dbd-b81c-40e64e1954f9",
   "metadata": {},
   "outputs": [],
   "source": [
    "T, N1, N2, P, g_of_x_vec, mean_x = out2\n",
    "traj = [N1,N2,*g_of_x_vec]\n",
    "curr = [item[-2] for item in traj]\n"
   ]
  },
  {
   "cell_type": "code",
   "execution_count": 53,
   "id": "405044ca-1eaf-4a5b-9d3e-d5408d4e5bc9",
   "metadata": {},
   "outputs": [
    {
     "data": {
      "text/plain": [
       "[np.float64(2.2704568997372414e-244),\n",
       " np.float64(2.4817798352037342e-244),\n",
       " np.float64(0.04362839394769),\n",
       " np.float64(0.12919990861272634),\n",
       " np.float64(1.9416920119364407),\n",
       " np.float64(1.8911354264097888),\n",
       " np.float64(0.16192956025631405)]"
      ]
     },
     "execution_count": 53,
     "metadata": {},
     "output_type": "execute_result"
    }
   ],
   "source": [
    "curr"
   ]
  },
  {
   "cell_type": "code",
   "execution_count": 54,
   "id": "de256e09-332c-42fc-a209-8d2a44de8f50",
   "metadata": {},
   "outputs": [],
   "source": [
    "coexist_eq, success, _ = iterate_to_eq(initialstate, t_f, weird_params)\n",
    "coexist_eq = np.array(coexist_eq)"
   ]
  },
  {
   "cell_type": "code",
   "execution_count": 55,
   "id": "b3ac1e63-ccbf-4620-a9a9-d9c1d280c997",
   "metadata": {},
   "outputs": [
    {
     "data": {
      "text/plain": [
       "False"
      ]
     },
     "execution_count": 55,
     "metadata": {},
     "output_type": "execute_result"
    }
   ],
   "source": [
    "success"
   ]
  },
  {
   "cell_type": "markdown",
   "id": "8c2d3a56-b28e-4dbd-93f8-a5f0ced5c1cf",
   "metadata": {},
   "source": [
    "# Check that get_equilibrium works:"
   ]
  },
  {
   "cell_type": "code",
   "execution_count": 1,
   "id": "37dd9e82-057a-488e-8fe0-50a0ed4ea9bc",
   "metadata": {},
   "outputs": [],
   "source": [
    "import numpy as np\n",
    "import matplotlib.pyplot as plt\n",
    "from fitness_funs_non_dim import *\n",
    "from group_w_pop_funs import *\n",
    "from scipy.integrate import solve_ivp\n",
    "from scipy.optimize import root\n",
    "from local_stability_funs import *\n",
    "from equilibria_funs import *"
   ]
  },
  {
   "cell_type": "code",
   "execution_count": 2,
   "id": "1a452eea-0bce-48be-be30-cf4160e32598",
   "metadata": {},
   "outputs": [],
   "source": [
    "x_max = 5\n",
    "params_base = dict(η1 = 0.2, η2 = 0.5, A = 0.5, β1 = 8, β2 = 1, H1=8, H2=1, \n",
    "                  α1_of_1=0.05, α2_of_1=0.95, \n",
    "                  s1=2, s2=2, α2_fun_type = 'constant',\n",
    "                  x_max = x_max, d = 10,\n",
    "                 Tx = .01, pop_process = True)\n",
    "g_of_x_vec = [1,0,0,0,0]\n",
    "xvec = np.array([1,2,3,4,5])"
   ]
  },
  {
   "cell_type": "code",
   "execution_count": 3,
   "id": "0b47bc5c-420c-498d-bd6c-f47c9585df0d",
   "metadata": {},
   "outputs": [],
   "source": [
    "[N1_0,N2_0,*g_of_x_vec] = [0.62637957, 0.69268158, 0.23320018, 0.15116554, \n",
    "                           0.20782921, 0.08853843, 0.01187339]\n",
    "\n",
    "p_0 = sum(np.arange(1,6,1)*np.array(g_of_x_vec))"
   ]
  },
  {
   "cell_type": "code",
   "execution_count": 4,
   "id": "87bb944c-672f-4f2d-97fc-8c0770e53b59",
   "metadata": {},
   "outputs": [
    {
     "name": "stdout",
     "output_type": "stream",
     "text": [
      "[0.6340475  0.72130594 0.23320018 0.15116554 0.20782921 0.08853843\n",
      " 0.01187339]\n"
     ]
    },
    {
     "data": {
      "text/plain": [
       "True"
      ]
     },
     "execution_count": 4,
     "metadata": {},
     "output_type": "execute_result"
    }
   ],
   "source": [
    "out = get_equilibrium(params_base.copy(), N1_0 , N2_0, p_0, g_of_x_vec)\n",
    "print(out.x)\n",
    "out.success"
   ]
  },
  {
   "cell_type": "code",
   "execution_count": 32,
   "id": "b744e30e-2f6b-4777-87e3-7a999b89fcd0",
   "metadata": {},
   "outputs": [
    {
     "data": {
      "text/plain": [
       "\u001b[0;31mSignature:\u001b[0m \u001b[0mfull_model\u001b[0m\u001b[0;34m(\u001b[0m\u001b[0mT\u001b[0m\u001b[0;34m,\u001b[0m \u001b[0minitialstate\u001b[0m\u001b[0;34m,\u001b[0m \u001b[0marg\u001b[0m\u001b[0;34m,\u001b[0m \u001b[0mparams\u001b[0m\u001b[0;34m)\u001b[0m\u001b[0;34m\u001b[0m\u001b[0;34m\u001b[0m\u001b[0m\n",
       "\u001b[0;31mDocstring:\u001b[0m\n",
       "removed P!\n",
       "gets the time derivatives for N1, N2, g(1), g(2), ..., g(xm)\n",
       "@inputs\n",
       "T is just used by fsolve, not needed\n",
       "intiialstate = [N1,N2,*g_of_x]\n",
       "arg is a dummy because fsolve gets weird if there is only 1 arg?\n",
       "params is dictionary of params\n",
       "@ returns [dN1dT, dN2dT, *dgdT_vec]\n",
       "\u001b[0;31mFile:\u001b[0m      ~/Documents/CH_GroupFormation/CH_code/Functions/group_w_pop_funs.py\n",
       "\u001b[0;31mType:\u001b[0m      function"
      ]
     },
     "metadata": {},
     "output_type": "display_data"
    }
   ],
   "source": [
    "full_model?"
   ]
  },
  {
   "cell_type": "code",
   "execution_count": 34,
   "id": "5ec02522-e8c5-4543-b80a-cfd5992c39c3",
   "metadata": {},
   "outputs": [],
   "source": [
    "perturbed_pt = out.x + .01\n",
    "out2 = solve_ivp(full_model, [0, 5000], perturbed_pt, \n",
    "                         method = \"LSODA\", args = (True, params_base.copy()))"
   ]
  },
  {
   "cell_type": "code",
   "execution_count": 37,
   "id": "1c807f30-9eff-4da5-be2e-3532b8b85256",
   "metadata": {},
   "outputs": [
    {
     "data": {
      "text/plain": [
       "array([0.6340475 , 0.72130594, 0.23320018, 0.15116554, 0.20782921,\n",
       "       0.08853843, 0.01187339])"
      ]
     },
     "execution_count": 37,
     "metadata": {},
     "output_type": "execute_result"
    }
   ],
   "source": [
    "out2.y[:,-1]"
   ]
  },
  {
   "cell_type": "markdown",
   "id": "bc0a1324-3d14-457e-891b-8a6e026af89d",
   "metadata": {},
   "source": [
    "# Iterate and solve equilibrium"
   ]
  },
  {
   "cell_type": "code",
   "execution_count": 23,
   "id": "2c00c20a-fdce-4823-aa3e-29302dfa072c",
   "metadata": {},
   "outputs": [],
   "source": [
    "\n",
    "x_max = 5\n",
    "params_base = dict(η1 = 0.2, η2 = 0.5, A = 0.5, β1 = 12, β2 = 1, H1=12, \n",
    "                   H2=1, \n",
    "                  α1_of_1=0.05, α2_of_1=0.95, \n",
    "                  s1=2, s2=2, α2_fun_type = 'constant',\n",
    "                  x_max = x_max, d = 10,\n",
    "                 Tx = .01, pop_process = True)"
   ]
  },
  {
   "cell_type": "code",
   "execution_count": 27,
   "id": "0adff9d0-5ab0-417c-a0b7-78e5939b6697",
   "metadata": {},
   "outputs": [],
   "source": [
    "initialstate = [.7,.7,*initiate_g_first_x(3,5)]\n",
    "t_f = 1500\n",
    "params = params_base.copy()\n",
    "coexist_eq, success, _ = iterate_to_eq(initialstate, t_f, params)"
   ]
  },
  {
   "cell_type": "code",
   "execution_count": 17,
   "id": "2b323150-1383-487e-bacd-7cedf0cc6f5f",
   "metadata": {},
   "outputs": [],
   "source": [
    "def initiate_g_first_x(x_f, x_max):\n",
    "    \n",
    "    g0 = np.zeros(x_max) + 1e-4\n",
    "    g0[0:x_f] = 1\n",
    "    return g0\n",
    "\n",
    "def iterate_and_solve_equilibrium(params, t_f = 1000, tol = 1e-8):\n",
    "    '''\n",
    "    iterates from a standard start point that tends to work\n",
    "    then uses root to find equilibrium\n",
    "\n",
    "    @returns\n",
    "    [N1,N2,*g, mean_x], success (BOOL for whether at equilibrium), \n",
    "    and a vector of the time derivatives\n",
    "    '''\n",
    "    x_max = params['x_max']\n",
    "    x_f = 3 if x_max >=3 else 2\n",
    "    y0 = [0.71, 0.7, *initiate_g_first_x(3, x_max)]\n",
    "    out2 = bounded_ivp(y0, params, t_f = t_f) \n",
    "    T, N1, N2, P, g_of_x_vec, mean_x = out2\n",
    "\n",
    "    # extract new starting point\n",
    "    traj = [N1,N2,*g_of_x_vec]\n",
    "    curr = [item[-1] for item in traj]\n",
    "    print(curr)\n",
    "\n",
    "    out = get_equilibrium(params, N1_0 = curr[0], N2_0 = curr[1], \n",
    "                          g_of_x_vec = curr[2:])\n",
    "    P_eq, N1_eq, N2_eq, g_eq, mean_x_eq, success =get_results_eq(out,x_max)\n",
    "\n",
    "    # to be successful, sum x*g = P\n",
    "    # sum_x_g = np.sum(np.arange(1,x_max+1,1)*g_eq)\n",
    "    # success = success and (np.abs(sum_x_g - P_eq )< tol)\n",
    "    \n",
    "    return P_eq, N1_eq, N2_eq, g_eq, mean_x_eq, success"
   ]
  },
  {
   "cell_type": "code",
   "execution_count": 18,
   "id": "b361a625-946f-4cea-a41c-48ccb68c48d1",
   "metadata": {},
   "outputs": [
    {
     "name": "stdout",
     "output_type": "stream",
     "text": [
      "[np.float64(0.4267059462047271), np.float64(0.6443679343578119), np.float64(0.2098708248826281), np.float64(0.17192597060135076), np.float64(0.30840995616937295), np.float64(0.1739846341313669), np.float64(0.030953298511645355)]\n"
     ]
    },
    {
     "data": {
      "text/plain": [
       "(nan, nan, nan, nan, nan, False)"
      ]
     },
     "execution_count": 18,
     "metadata": {},
     "output_type": "execute_result"
    }
   ],
   "source": [
    "iterate_and_solve_equilibrium(params_base)"
   ]
  },
  {
   "cell_type": "code",
   "execution_count": null,
   "id": "906d500a-1a7d-4ad2-bdf0-5feb869fb6ce",
   "metadata": {},
   "outputs": [],
   "source": [
    "P_eq, N1_eq, N2_eq, g_eq, mean_x_eq, success"
   ]
  }
 ],
 "metadata": {
  "kernelspec": {
   "display_name": "Python 3 (ipykernel)",
   "language": "python",
   "name": "python3"
  },
  "language_info": {
   "codemirror_mode": {
    "name": "ipython",
    "version": 3
   },
   "file_extension": ".py",
   "mimetype": "text/x-python",
   "name": "python",
   "nbconvert_exporter": "python",
   "pygments_lexer": "ipython3",
   "version": "3.13.1"
  }
 },
 "nbformat": 4,
 "nbformat_minor": 5
}
