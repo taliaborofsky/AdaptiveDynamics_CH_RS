{
 "cells": [
  {
   "cell_type": "code",
   "execution_count": 1,
   "id": "bf216b38-7e32-48a1-b4a2-1a35eb371c4a",
   "metadata": {},
   "outputs": [],
   "source": [
    "import numpy as np\n",
    "import scipy as sp\n",
    "from fitness_funs_non_dim import *\n",
    "import matplotlib.pyplot as plt\n",
    "from scipy.integrate import odeint, solve_ivp\n"
   ]
  },
  {
   "cell_type": "markdown",
   "id": "5328699a-50f6-4099-b339-c8854f945d9e",
   "metadata": {},
   "source": [
    "# Write and Test group_w_pop_funs\n",
    "\n",
    "this has the functions for dg(x)/dT, dN_i/dT, and the helper functions for dg(x)/dT (probability of leaving, joining, best response function). Functions:\n",
    "- `group_formation_model_non_dim(T, g_of_x_vec,N1,N2, params)`\n",
    "- `fun_leave_group(x, fitnessvec, x_max, d)`\n",
    "- `best_response_fun_given_fitness(x,y,fitnessvec, d)`\n",
    "- `best_response_fun(x,y, N1,N2, d, **params)`\n",
    "- `check_at_equilibrium(final_distribution, P, N1, N2,**params)`\n",
    "- `model_one_x(T, initialstate, x, params)`\n",
    "- `full_model(T, initialstate, arg, params)`: gets the time derivatives for N1, N2, g(1), g(2), ..., g(xm) using\n",
    "- `fun_dPdT_non_dim(P, N1, N2, g_of_x_vec, η1, η2, β1, β2, **params)`: finds dP/dt\n",
    "- `fun_dN1dT_non_dim(N1, N2, g_of_x_vec, η1, **params)`\n",
    "- `fun_dN2dT_non_dim(N1, N2, g_of_x_vec, η2, **params)`\n",
    "- `mean_group_size_membership(g_of_x_vec, x_max, p)`\n",
    "- `bounded_ivp`\n",
    "- `transformed_model`"
   ]
  },
  {
   "cell_type": "code",
   "execution_count": 2,
   "id": "51cc7a3f-4c5a-4813-bc6e-35d8afb8ff03",
   "metadata": {},
   "outputs": [
    {
     "name": "stdout",
     "output_type": "stream",
     "text": [
      "Overwriting group_w_pop_funs.py\n"
     ]
    }
   ],
   "source": [
    "%%writefile group_w_pop_funs.py\n",
    "import numpy as np\n",
    "import scipy as sp\n",
    "from fitness_funs_non_dim import *\n",
    "from scipy.integrate import solve_ivp\n",
    "\n",
    "def group_formation_model_non_dim(T, g_of_x_vec,N1,N2, params):\n",
    "    '''\n",
    "    the full system of balance equations for x = 1,2,3,...,x_max, non-dimensionalized\n",
    "    @inputs:\n",
    "    T - scaled time, necessary for running with solve_ivp\n",
    "    g_of_x_vec - a vector of the (scaled) number of groups of \n",
    "            size 1, 2, 3, ..., x_max (maximum group size)\n",
    "    P, N1, N2 - scaled population size of predators, big prey, small prey, respectivel\n",
    "    if_groups_change = Bool, True --> preds can join/leave groups. \n",
    "                            False --> only birth/death affect group sizes\n",
    "    params - is a dictionary of the parameters that must contain: \n",
    "            β1, β2, A, H1, H2, η1, η2, α1_of_1, α2_of_1, s1, s2, limited_portions, \n",
    "            Tx, d, r, γ, pop_process\n",
    "    @ returns\n",
    "    df_dT for x = 1, 2, ..., xmax\n",
    "    '''\n",
    "    x_max = params['x_max']; Tx = params['Tx']; \n",
    "    xvec = np.arange(1,x_max+1,1)\n",
    "    d = params['d']; \n",
    "    g_of_x_vec = np.append(g_of_x_vec,0) # so can find dgdT at x = x_max\n",
    "\n",
    "    # fix negative values (solve_ivp can overshoot if step sizes too big)\n",
    "    g_of_x_vec[g_of_x_vec<0] = 0\n",
    "\n",
    "    # this is required for S(x,y)\n",
    "    fitnessvec = per_capita_fitness_from_prey_non_dim(xvec, N1, N2, **params) # fitness_from_prey_non_dim(xvec, N1, N2, **params)\n",
    "\n",
    "    def g(x):\n",
    "        return g_of_x_vec[x-1]\n",
    "    def S(x,y):\n",
    "        return best_response_fun_given_fitness(x,y,fitnessvec,d)\n",
    "    def J(x):\n",
    "        # rate of joining\n",
    "        g_of_1 = g_of_x_vec[0]\n",
    "        if x== 1 and g_of_1 >=1:\n",
    "            return g_of_1 * S(2,1)#( ξ *g_of_1 - 1) * S(2,1)\n",
    "        elif x == 1 and g_of_1 < 1:\n",
    "            return g_of_1 * S(2,1)\n",
    "        elif x <= x_max - 1:\n",
    "            return g_of_1*S(x+1,1)\n",
    "        else:\n",
    "            return 0\n",
    "    def fun_deaths(x):\n",
    "        return tildeδ * ( - x * g(x) + (x+1) * g(x+1) )\n",
    "    def D(x):\n",
    "        # rate of leaving/dispersing\n",
    "        return x*S(1,x) if x <= x_max else 0\n",
    "    \n",
    "    xvec = np.arange(1,x_max+1,1)\n",
    "    # it \\tau_x > 0make population matrix = birth matrix + death matrix\n",
    "    dgdT_vec = np.zeros(x_max)\n",
    "\n",
    "    # births and deaths\n",
    "    if params['pop_process']:\n",
    "        η1 = params['η1']; η2 = params['η2']; tildeδ = 1 - η1 - η2\n",
    "        π_vec = yield_from_prey_non_dim(xvec, N1, N2, **params) #would fitnessvec*xvec also work...?\n",
    "        births_vec = Tx*g_of_x_vec[:-1]* π_vec\n",
    "        births_vec = np.append(births_vec,0) # so can calculate births at x_max\n",
    "        deaths_vec = Tx * np.array([fun_deaths(x) for x in range(1,x_max+1)])\n",
    "    else:\n",
    "        π_vec = np.zeros(fitnessvec.shape)\n",
    "        births_vec = π_vec.copy()\n",
    "        births_vec = np.append(births_vec,0) # so can calculate births at x_max\n",
    "        deaths_vec = π_vec.copy()\n",
    "\n",
    "    # balance equations\n",
    "    for x in xvec:\n",
    "        if x == 1:\n",
    "            Q_1 = 2*g(2)*D(2) + np.sum([g(y) * D(y) for y in range(3,x_max+1)]) \\\n",
    "                    - sum([g(y-1)*J(y-1) for y in range(2,x_max+1)])\n",
    "            births1 = births_vec[x_max-1] - births_vec[0]\n",
    "            dgdT = (Q_1 + births1 + deaths_vec[0])/Tx\n",
    "        elif x == 2:\n",
    "            Q_2 = -g(2)*D(2) - g(2)*J(2) + 0.5*g(1)*J(1) + g(3)*D(3)\n",
    "            births2 = births_vec[0] - births_vec[1]\n",
    "            dgdT = (Q_2 + births2 + deaths_vec[1])/Tx\n",
    "        else:\n",
    "            Q_x = -g(x)*D(x) - g(x) * J(x) + g(x-1)*J(x-1) + g(x+1)*D(x+1)\n",
    "            \n",
    "            birthsx = births_vec[x-2] - births_vec[x-1] if x < x_max else births_vec[x-2]\n",
    "            dgdT = (Q_x + birthsx + deaths_vec[x-1])/Tx\n",
    "        \n",
    "        dgdT_vec[x-1] = dgdT\n",
    "\n",
    "\n",
    "    return dgdT_vec\n",
    "    \n",
    "\n",
    "def fun_leave_group(x, fitnessvec, x_max, d):\n",
    "    '''\n",
    "    The probability an individual leaves a group of size x. D(x) in the text\n",
    "    @inputs\n",
    "    x - current grp size (before leaving)\n",
    "    fitnessvec = vector of fitnesses for each group size\n",
    "    x_max - parameter, maximum group size\n",
    "    d = parameter determining steepness of best response function\n",
    "\n",
    "    @ example:\n",
    "    >> fitnessvec = array([0.24166667, 0.45833333, 0.53055556])\n",
    "    >> fun_leave_group(xvec=[1,2,3], fitnessvec, x_max=3, d=100)\n",
    "    array([0.5       , 0.03915869, 0.01923075])\n",
    "    '''\n",
    "    # deciding between being alone and staying in group of size x\n",
    "    return best_response_fun_given_fitness(1,x,fitnessvec,d)\n",
    "\n",
    "def best_response_fun_given_fitness(x,y,fitnessvec, d):\n",
    "    '''\n",
    "    Compares W(x) to W(y) to \"decide\" on group size y or x\n",
    "    @inputs\n",
    "    x - potentially new group size\n",
    "    y - current grp size\n",
    "    fitnessvec - vector of fitnesses fro x = 1, 2, ..., xmax\n",
    "    d - steepness, or sensitivity, of best response function\n",
    "    params - dictionary of params used by the rest of the model \n",
    "    @returns:\n",
    "    float between 0 and 1\n",
    "    '''\n",
    "    W_of_x = fitnessvec[x-1]\n",
    "    W_of_y = fitnessvec[y-1]\n",
    "    W_min = min(W_of_x, W_of_y)\n",
    "    W_max = max(W_of_x, W_of_y)\n",
    "    if W_max > 0:\n",
    "        numerator = (W_of_x/W_max)**d\n",
    "    else:\n",
    "        return 0.5\n",
    "    denominator = 1 + (W_min/W_max)**d # this adjustment helps avoid dividing by zero from numpy rounding\n",
    "    return numerator/denominator\n",
    "    \n",
    "    # if W_of_x**d + W_of_y**d < 1e-100: # note that then at this point it will be \n",
    "    #                                     #rounded to 0, \n",
    "    #                                     # but since W_of_y**d must be less than 1e-300, \n",
    "    #                                     # can approximate as 1 - (W(y)/W(x))**d\n",
    "    #     # option 1: both W_of_x and W_of_y are really really small\n",
    "    #     # option 2: both are really small, but one is much bigger than the other\n",
    "    #     # scale the smaller 1:\n",
    "    #     W_min = min(W_of_x, W_of_y)\n",
    "    #     W_max = max(W_of_x, W_of_y)\n",
    "    #     numerator = (W_of_x/W_max)**d\n",
    "    #     denominator = 1 + (W_min/W_max)**d\n",
    "    #     return numerator/denominator\n",
    "    # else:\n",
    "    #     return W_of_x**d/(W_of_x**d + W_of_y**d)\n",
    "    \n",
    "def best_response_fun(x,y, N1,N2, d, **params):\n",
    "    '''\n",
    "    Compares W(x) to W(y) to \"decide\" on group size y or x\n",
    "    @inputs\n",
    "    x - potentially new group size\n",
    "    y - current grp size\n",
    "    N1, N2 - big prey and small prey scaled pop size\n",
    "    d - steepness, or sensitivity, of best response function\n",
    "    params - dictionary of params used by the rest of the model\n",
    "    @returns:\n",
    "    float between 0 and 1\n",
    "    \n",
    "    '''\n",
    "    \n",
    "    W_of_x = fitness_from_prey_non_dim(x, N1, N2, **params)\n",
    "    W_of_y = fitness_from_prey_non_dim(y, N1, N2, **params)\n",
    "\n",
    "    W_min = min(W_of_x, W_of_y)\n",
    "    W_max = max(W_of_x, W_of_y)\n",
    "    if W_max > 0:\n",
    "        numerator = (W_of_x/W_max)**d\n",
    "    else:\n",
    "        return 0.5\n",
    "    denominator = 1 + (W_min/W_max)**d\n",
    "\n",
    "    return W_of_x**d/(W_of_x**d + W_of_y**d)\n",
    "\n",
    "    \n",
    "\n",
    "def model_one_x(T, initialstate, x, params):\n",
    "    '''\n",
    "    Find the time derivatives of P, N1, N2, with x fixed\n",
    "    initialstate = P, N1, N2\n",
    "\n",
    "    Here I need non-dimed F\n",
    "    '''\n",
    "    initialstate = np.array(initialstate)\n",
    "    initialstate[np.abs(initialstate)<1e-11] = 0\n",
    "    P, N1, N2 = initialstate\n",
    "    g_of_x_vec = np.zeros(params['x_max'])\n",
    "    g_of_x = P/x\n",
    "    g_of_x_vec[x-1] = g_of_x\n",
    "    dPdT = fun_dPdT_non_dim(P, N1, N2, g_of_x_vec, **params)\n",
    "    dN1dT = fun_dN1dT_non_dim(N1, N2, g_of_x_vec, **params)\n",
    "    dN2dT = fun_dN2dT_non_dim(N1, N2, g_of_x_vec, **params)\n",
    "    return [dPdT, dN1dT, dN2dT]\n",
    "\n",
    "\n",
    "\n",
    "\n",
    "\n",
    "\n",
    "def full_model(T, initialstate, arg, params):\n",
    "    '''\n",
    "    removed P!\n",
    "    gets the time derivatives for N1, N2, g(1), g(2), ..., g(xm)\n",
    "    @inputs\n",
    "    T is just used by fsolve, not needed\n",
    "    intiialstate = [N1,N2,*g_of_x]\n",
    "    arg is a dummy because fsolve gets weird if there is only 1 arg?\n",
    "    params is dictionary of params\n",
    "    @ returns [dN1dT, dN2dT, *dgdT_vec]\n",
    "    '''\n",
    "    # i put arg there as a place holder because somehow makes ivp_solver work\n",
    "    \n",
    "    initialstate = np.array(initialstate)\n",
    "\n",
    "    # this helps for numpy issues\n",
    "    # initialstate[np.abs(initialstate)<1e-11] = 0\n",
    "\n",
    "    #solve_ivp can overshoot, so anywhere that's negative really should be 0\n",
    "    # initialstate[initialstate<0] = 0\n",
    "    \n",
    "    N1,N2 = initialstate[0:2]\n",
    "    g_of_x_vec = initialstate[2:]\n",
    "    #dPdT = fun_dPdT_non_dim(P, N1, N2, g_of_x_vec, **params)\n",
    "    dN1dT = fun_dN1dT_non_dim(N1, N2, g_of_x_vec, **params)\n",
    "    dN2dT = fun_dN2dT_non_dim(N1, N2, g_of_x_vec, **params)\n",
    "    dgdT_vec = group_formation_model_non_dim(T, g_of_x_vec,N1,N2, params)\n",
    "    # if if_groups_change:\n",
    "    #     dgdT_vec = group_formation_model_non_dim(T, g_of_x_vec,N1,N2, \n",
    "    #                                              if_groups_change, params)\n",
    "    # else:\n",
    "    #     x = np.argwhere(g_of_x_vec>0)[0][0] + 1\n",
    "    #     dgdT_vec = np.zeros(params['x_max'])\n",
    "    #     dgdT_vec[x-1] = dPdT/x\n",
    "    \n",
    "\n",
    "    return [dN1dT, dN2dT, *dgdT_vec]\n",
    "\n",
    "    \n",
    "\n",
    "def fun_dPdT_non_dim(P, N1, N2, g_of_x_vec, η1, η2, β1, β2, **params):\n",
    "    '''\n",
    "    the equation for dPdT, the change in predator population size versus time, \n",
    "    non-dimensionalized. \n",
    "\n",
    "    @inputs\n",
    "    P, N1, N2 - nondimensionalized predator, big prey, and small prey pop sizes\n",
    "    g_of_x_vec - array of g(1), g(2), ... , g(x_max)\n",
    "    params - dic of params that must at least include H1, H2, α1_of_1, α2_of_1, s1, s2,\n",
    "    η1, η2 - scaled growth rates of big prey, small prey\n",
    "    β1, β2 - scaled profitability of hunting big prey, small prey\n",
    "    '''\n",
    "    x_vec = np.arange(1,params['x_max']+1,1)\n",
    "    tildef1_of_x = fun_f1(x_vec,N1,N2,**params)\n",
    "    tildef2_of_x = fun_f2(x_vec,N1,N2,**params)\n",
    "    tildeδ = 1 - η1 - η2\n",
    "    total_fitness_per_x = β1 * tildef1_of_x + β2 * tildef2_of_x\n",
    "    return np.sum(g_of_x_vec * total_fitness_per_x) - tildeδ*P\n",
    "\n",
    "def fun_dN1dT_non_dim(N1, N2, g_of_x_vec, η1, **params):\n",
    "    '''\n",
    "    dN1dT, the change in big prey pop size versus time, non-dim'ed\n",
    "    @inputs:\n",
    "    N1, N2 - non-dim'ed pred, big prey, and small prey pop sizes\n",
    "    g_of_x_vec - array of g(1), g(2), ... , g(x_max)\n",
    "    params - dic of params: must at least include H1, H2, α1_of_1, α2_of_1, s1, s2,\n",
    "    η1 - scaled growth rate of big prey\n",
    "    '''\n",
    "    if N1 > 0:\n",
    "        x_vec = np.arange(1,params['x_max']+1,1)\n",
    "\n",
    "        tildef1_of_x = fun_f1(x_vec,N1,N2,**params)\n",
    "        return η1*N1*(1-N1) - np.sum(g_of_x_vec * tildef1_of_x)\n",
    "    else:\n",
    "        return 0\n",
    "\n",
    "def fun_dN2dT_non_dim(N1, N2, g_of_x_vec, η2, **params):\n",
    "    '''\n",
    "    dN2dT, the change in small prey pop size versus time, non-dim'ed\n",
    "    @inputs:\n",
    "    N1, N2 - non-dim'ed pred, big prey, and small prey pop sizes\n",
    "    g_of_x_vec - array of g(1), g(2), ... , g(x_max)\n",
    "    params - dic of params: must at least include H1, H2, α1_of_1, α2_of_1, s1, s2,\n",
    "    η2 - scaled growth rate of small prey\n",
    "    '''\n",
    "    if N2 > 0:\n",
    "        x_vec = np.arange(1,params['x_max']+1,1)\n",
    "\n",
    "        f2_of_x = fun_f2(x_vec,N1,N2,**params)\n",
    "    \n",
    "        return η2*N2*(1-N2) -  np.sum(g_of_x_vec * f2_of_x)\n",
    "    else:\n",
    "        return 0\n",
    "\n",
    "\n",
    "\n",
    "def mean_group_size_membership(g_of_x_vec, x_max, p):\n",
    "    '''\n",
    "    average group size any individual is in\n",
    "    \n",
    "    # columns of g_of_x_vec should be = x_max\n",
    "    this is not the same as the average group size\n",
    "    '''\n",
    "    x_vec = np.arange(1,x_max+1,1)\n",
    "    numerator = x_vec*(g_of_x_vec*x_vec)\n",
    "    if isinstance(p, np.ndarray):\n",
    "        mask = (p > 1e-10) & (np.all(g_of_x_vec.T>0, axis = 0))\n",
    "        numerator = numerator.sum(1)\n",
    "        ans = p.copy()\n",
    "        ans[mask] = numerator[mask]/p[mask]\n",
    "        ans[~mask] = np.ones(ans[~mask].shape)\n",
    "        return ans\n",
    "        \n",
    "    else:\n",
    "        if p < 1e-10 and np.all(np.array(g_of_x_vec)>0):\n",
    "            return 1\n",
    "        else:\n",
    "            ans_to_sum =numerator/p\n",
    "            return sum(ans_to_sum)\n",
    "\n",
    " \n",
    "def bounded_ivp(y0,params, t_f = 1000, if_dict = False):\n",
    "    '''\n",
    "    NOTE: does not work for y0 = 0!!!!\n",
    "    \n",
    "    runs the ivp with a transformation of \n",
    "    (for y representing all the state variables)\n",
    "    y --> u: y = a * exp (b * u). then  du/dt = dy/dt/(b*y)\n",
    "    i choose a = b = 1 because it's easy\n",
    "    ''' \n",
    "    y0 = np.array(y0)\n",
    "    if np.any(y0) == 0:\n",
    "        print(\"Bounded ivp does not work here\\\n",
    "        because the input contains a zero\")\n",
    "        return(0)\n",
    "    \n",
    "    a = 1; b = 1\n",
    "    u0 = (1/b)*np.log(y0/a)\n",
    "    out = solve_ivp(transformed_model, [0, t_f], y0 = u0,\n",
    "                   method = \"LSODA\", args = (True, params)\n",
    "                  )\n",
    "    u_trajectory = out.y\n",
    "    T = out.t\n",
    "    y_trajectory = a*np.exp(b*u_trajectory)\n",
    "\n",
    "    # extract results\n",
    "    \n",
    "    x_max = params['x_max']\n",
    "    N1, N2 = y_trajectory[0:2]\n",
    "    g_of_x_vec = y_trajectory[2:] #dimensions x_max x T\n",
    "    xvec = np.arange(1,x_max+1,1)[:,np.newaxis]\n",
    "    p = np.sum(xvec*g_of_x_vec,0)\n",
    "    mean_x = mean_group_size_membership(g_of_x_vec.T, x_max, p)\n",
    "    var_exp_x = var_of_experienced_grp_size(g_of_x_vec)\n",
    "    if if_dict:\n",
    "        return dict(\n",
    "            T=T, N1 = N1, N2 = N2, p = p, \n",
    "            g = g_of_x_vec, mean_x = mean_x, var = var_exp_x\n",
    "        )\n",
    "    else:\n",
    "        return T, N1, N2, p, g_of_x_vec, mean_x, var_exp_x\n",
    "\n",
    "\n",
    "    \n",
    "def transformed_model(T, u0, arg, params):\n",
    "    #For issue where need solve_ivp to keep some variable y s.t y > 0.\n",
    "    # Soln from stack exchange: https://stackoverflow.com/questions/67487208/bounds-for-solve-ivp-integration\n",
    "    # Alternatively, replace the density with y=a*exp(b*u) with sensibly chosen values for a and b, \n",
    "    # then du/dt = dy/dt/(b*y). \n",
    "    # Then g cannot become negative\n",
    "    a = 1; b = 1\n",
    "    y0 = a * np.exp(b*u0) # transform back into original coordinates\n",
    "    y_ = full_model(T,y0, arg, params) # find derivative\n",
    "    y_ = np.array(y_)\n",
    "    u_ = y_/(b*y0) # find derivative of transformed coordinates\n",
    "    return u_\n",
    "\n",
    "def var_of_experienced_grp_size(group_densities, epsilon=1e-12):   \n",
    "    '''\n",
    "    Calculate the variance of experienced group size \n",
    "    from a vector of group densities.\n",
    "    Args:\n",
    "        group_densities (array-like): Matrix (or vector) of group densities.\n",
    "            - If a vector: [g(1), g(2), ..., g(xmax)].\n",
    "            - If a matrix: shape (xmax, time_steps), with each column representing densities at a time point. \n",
    "        epsilon (float): Small value added to the denominator to avoid division by zero (numerical regularization)\n",
    "    Returns:\n",
    "        float: Variance of the group size. Is 0 if predators extinct.\n",
    "    '''\n",
    "    group_densities = np.array(group_densities)\n",
    "\n",
    "    # Group sizes (x = 1, 2, ..., xmax)\n",
    "    x = np.arange(1, group_densities.shape[0] + 1)# shape: (xmax,) \n",
    "    if group_densities.ndim == 1:\n",
    "        axis = None\n",
    "    elif group_densities.ndim == 2:\n",
    "        axis = 0 # for summing\n",
    "        x = x[:,np.newaxis]\n",
    "    \n",
    "    # calculate predator population density p\n",
    "    p = np.sum(x*group_densities, axis = axis)\n",
    "    p = np.maximum(p, epsilon) # numerical regularization\n",
    "\n",
    "    # calculate probability a predator is in a group of size x\n",
    "    prob_experience_x = x*group_densities/p\n",
    "\n",
    "    # Compute E[X] (mean experienced group size)\n",
    "    mean_exp_x = np.sum(x * prob_experience_x, axis = axis)\n",
    "\n",
    "    # Compute E[X^2] (mean of squared group sizes) for each column\n",
    "    mean_x_squared = np.sum((x**2) * prob_experience_x, axis=axis) \n",
    "    \n",
    "    # Variance = E[X^2] - (E[X])^2\n",
    "    variance = mean_x_squared - (mean_exp_x**2)\n",
    "    return variance\n",
    "\n",
    "def get_initial_points(num_initial, x_max, p_upper = None, **params):\n",
    "    ''' \n",
    "    get initial points to feed to the root finder \n",
    "    '''\n",
    "    # α2_1 = params['α2_of_1']\n",
    "    # α1_xm = fun_alpha1(x_max, **params)\n",
    "\n",
    "    # Generate random values for N1, N2, and g(x) for each initial point\n",
    "    np.random.seed(42)\n",
    "    \n",
    "    # N1 and N2 are between 0 and 1, not including 0\n",
    "    N1_values = np.random.uniform(0.01, 1, num_initial)  # Shape: (num_initial,)\n",
    "    N2_values = np.random.uniform(0.01, 1, num_initial)  # Shape: (num_initial,)\n",
    "\n",
    "    if p_upper == None:\n",
    "        gx_upper = 3# try this out\n",
    "        # g(x) is between 0 and gx_upper for each x = 1, 2, ..., x_max\n",
    "        g_values = np.random.uniform(0.01, gx_upper, (num_initial, x_max))  # Shape: (num_initial, x_max)\n",
    "    else:\n",
    "        g_values = get_random_g_bounded_p(p_upper, num_initial, x_max)\n",
    "                                          \n",
    "    # Combine N1, N2, and g(x) into a single array\n",
    "    initial_points = np.hstack((N1_values[:, np.newaxis],  # Add N1 as the first column\n",
    "                                N2_values[:, np.newaxis],  # Add N2 as the second column\n",
    "                                g_values))  # Add g(x) as the remaining columns\n",
    "    \n",
    "    return initial_points\n",
    "def update_params(param_key, param, params_base):\n",
    "    '''\n",
    "    given params_base, makes a copy dictionary of parameters\n",
    "    and updates with the new param at param_key\n",
    "\n",
    "    noe if param_key is scale, updates β1 and H1 entries\n",
    "\n",
    "    @ returns: params\n",
    "    '''\n",
    "    params = params_base.copy()\n",
    "        \n",
    "    if param_key == \"scale\": # this means β1/β2 = H1/H2 and β2, H2 are set\n",
    "        params['scale'] = param\n",
    "        params['β1'] = params['β2']*param\n",
    "        A_frac = params_base['A1']/params_base['A2']\n",
    "        params['H1a'] = params['H2a'] * param * A_frac\n",
    "        params['H1b'] = params['H2b'] * param * A_frac\n",
    "        params['η1'] = params['η2']/param\n",
    "    else:\n",
    "        params[param_key] = param\n",
    "\n",
    "        if \"scale\" in params:\n",
    "            params = update_params(\"scale\", params[\"scale\"], params) # make sure everything still scaled correctly\n",
    "                \n",
    "    return params\n",
    "def get_list_of_trajectories(params, t_f=1000, initial_points=None, num_init=4):\n",
    "    '''\n",
    "    Generates a list of trajectories by simulating the system from a set of initial conditions.\n",
    "\n",
    "    Args:\n",
    "        params (dict): Dictionary of system parameters used in the simulation.\n",
    "        t_f (int, optional): Final time for the simulation (default is 1000).\n",
    "        initial_points (array-like, optional): Initial points for the simulation.\n",
    "            Each point is a list of the form [N1, N2, g(1), g(2), ..., g(xm)].\n",
    "            If None, initial points will be generated using `get_initial_points`.\n",
    "        num_init (int, optional): Number of initial points to generate if `initial_points` is None (default is 4).\n",
    "\n",
    "    Returns:\n",
    "        list of dict: A list of trajectories. Each trajectory is a dictionary returned by the `bounded_ivp` function\n",
    "                      and includes keys like 'T', 'N1', 'N2', 'g', 'p', and 'mean_x'.\n",
    "\n",
    "    Behavior:\n",
    "        - If `initial_points` is not provided or invalid, generates `num_init` initial points using `get_initial_points`.\n",
    "        - Simulates the system for each initial point using the `bounded_ivp` function.\n",
    "        - Appends the resulting trajectory dictionary to the output list.\n",
    "\n",
    "    Dependencies:\n",
    "        - `get_initial_points`: Function to generate initial points if not provided.\n",
    "        - `bounded_ivp`: Function that simulates the system and returns a trajectory as a dictionary.\n",
    "    '''\n",
    "    if type(initial_points) != np.ndarray: # so it's None or some invalid entry\n",
    "        print(\"generating initial points\")\n",
    "        initial_points = get_initial_points(num_init,**params)\n",
    "    trajectories = []\n",
    "    for i, init_state in enumerate(initial_points):\n",
    "        results = bounded_ivp(init_state, params, if_dict=True)\n",
    "        trajectories.append(results)\n",
    "    return trajectories # each is a dictionary\n",
    "\n",
    "def get_random_g_bounded_p(p_upper, num_initial, x_max):\n",
    "    \"\"\"\n",
    "    Generates random g values such that sum(x * g(x)) <= p_upper.\n",
    "    Repeats the process until num_initial valid g vectors are obtained.\n",
    "    \n",
    "    Args:\n",
    "        p_upper (float): Upper bound for the sum(x * g(x)).\n",
    "        num_initial (int): Desired number of valid g vectors.\n",
    "        x_max (int): Maximum group size.\n",
    "\n",
    "    Returns:\n",
    "        np.ndarray: An array of shape (num_initial, x_max) containing valid g vectors.\n",
    "    \"\"\"\n",
    "    np.random.seed(1)\n",
    "    xvec = np.arange(1, x_max + 1)  # Vector [1, 2, ..., x_max]\n",
    "    p_vec = np.random.uniform(0, p_upper, size=num_initial)\n",
    "    \n",
    "    # split predators into bins. Generate random proportions that sum to 1 for each row. \n",
    "    # use dirichlet distribution\n",
    "    portion_in_bin_mat = np.random.dirichlet(alpha=np.ones(x_max), size=num_initial)\n",
    "    # Compute number of predators in each bin\n",
    "    num_preds_in_bin_mat = portion_in_bin_mat * p_vec[:, np.newaxis]  # Broadcast multiplication\n",
    "    # Compute g(x)\n",
    "    g_x_mat = num_preds_in_bin_mat / xvec  # Element-wise division by corresponding x values\n",
    "    return g_x_mat\n",
    "    \n",
    "    # g_list = []\n",
    "    # while len(g_list) < num_initial:\n",
    "    #     g_mat = np.zeros((num_initial, x_max))\n",
    "    #     preds_left = p_upper * np.ones(num_initial)  # Track remaining predator allocation for each vector\n",
    "        \n",
    "    #     for x in range(1, x_max + 1):\n",
    "    #         gi = np.random.uniform(0.01, preds_left / x, num_initial)\n",
    "    #         g_mat[:, x - 1] = gi\n",
    "            \n",
    "    #         # Update current predator population\n",
    "    #         preds_left -= x * gi\n",
    "    #         preds_left[preds_left < 0] = 0  # Ensure no negative remaining capacity\n",
    "    \n",
    "    #     # Calculate total population p for each g vector\n",
    "    #     p_vals = np.sum(g_mat * np.arange(1, x_max + 1), axis=1)\n",
    "        \n",
    "    #     # Filter valid g vectors where total population <= p_upper\n",
    "    #     valid_indices = np.where(p_vals <= p_upper)[0]\n",
    "    #     valid_g = g_mat[valid_indices]\n",
    "        \n",
    "    #     # Add valid g vectors to the list\n",
    "    #     g_list.extend(valid_g.tolist())\n",
    "\n",
    "    # # Limit the result to exactly num_initial vectors\n",
    "    # g_good = np.array(g_list[:num_initial])\n",
    "\n",
    "    # return g_good"
   ]
  },
  {
   "cell_type": "markdown",
   "id": "83265915-cb49-4beb-acb9-114e67952319",
   "metadata": {},
   "source": [
    "# Improve get_random_g_bounded_p"
   ]
  },
  {
   "cell_type": "code",
   "execution_count": 22,
   "id": "d7bff1a8-ec82-49e7-afc5-8ba792b26fe4",
   "metadata": {},
   "outputs": [],
   "source": [
    "x_max=5\n",
    "p_upper = 2\n",
    "num_initial=10"
   ]
  },
  {
   "cell_type": "code",
   "execution_count": 23,
   "id": "e4e31655-605b-4953-a776-07e3c36e57d3",
   "metadata": {},
   "outputs": [],
   "source": [
    "np.random.seed(1)\n",
    "xvec = np.arange(1, x_max + 1)  # Vector [1, 2, ..., x_max]\n",
    "p_vec = np.random.uniform(0, p_upper, size=num_initial)\n",
    "\n",
    "# split predators into bins. Generate random proportions that sum to 1 for each row. \n",
    "# use dirichlet distribution\n",
    "portion_in_bin_mat = np.random.dirichlet(alpha=np.ones(x_max), size=num_initial)\n",
    "# Compute number of predators in each bin\n",
    "num_preds_in_bin_mat = portion_in_bin_mat * p_vec[:, np.newaxis]  # Broadcast multiplication\n",
    "# Compute g(x)\n",
    "g_x_mat = num_preds_in_bin_mat / xvec  # Element-wise division by corresponding x values\n",
    "\n"
   ]
  },
  {
   "cell_type": "code",
   "execution_count": 26,
   "id": "0d0f3d53-bb88-46f3-b06b-4e302f711807",
   "metadata": {},
   "outputs": [
    {
     "data": {
      "text/plain": [
       "array([[3.80794718e-01, 3.03786494e-02, 1.67410028e-01, 1.78070894e-01,\n",
       "        2.34910025e-02, 1.62121251e-01, 1.71123755e-03],\n",
       "       [9.51207163e-01, 9.70210754e-01, 8.44600090e-01, 2.05463035e-01,\n",
       "        2.07459176e-01, 2.87738460e-02, 3.35948815e-02],\n",
       "       [7.34674002e-01, 8.34118214e-01, 6.35587231e-05, 6.79693858e-05,\n",
       "        4.93863389e-06, 1.16102140e-05, 1.64740399e-05],\n",
       "       [6.02671899e-01, 2.20215720e-01, 4.37019757e-01, 8.63136615e-03,\n",
       "        2.57918631e-03, 9.03760082e-03, 8.17654532e-02],\n",
       "       [1.64458454e-01, 1.90006718e-01, 7.91758906e-03, 2.09033856e-02,\n",
       "        8.07487826e-02, 1.45651793e-02, 1.80072494e-02],\n",
       "       [1.64434575e-01, 1.91570465e-01, 2.21364895e-02, 3.38672260e-02,\n",
       "        3.50274221e-02, 2.69452168e-04, 1.61969536e-02],\n",
       "       [6.75027760e-02, 3.11199821e-01, 3.19250695e-01, 4.89449747e-02,\n",
       "        7.78777104e-03, 2.76356351e-02, 1.54682716e-03],\n",
       "       [8.67514384e-01, 5.29508867e-01, 1.61512839e-01, 3.25255690e-01,\n",
       "        3.15036370e-02, 2.30681715e-02, 7.57487281e-03],\n",
       "       [6.05103862e-01, 4.37625568e-01, 9.78833645e-03, 2.84236777e-01,\n",
       "        3.96708524e-02, 3.86174984e-02, 6.77115964e-02],\n",
       "       [7.10991852e-01, 2.98316849e-01, 2.80504927e-02, 2.18308467e-01,\n",
       "        2.70548130e-02, 1.13797897e-01, 1.23085350e-01]])"
      ]
     },
     "execution_count": 26,
     "metadata": {},
     "output_type": "execute_result"
    }
   ],
   "source": [
    "get_initial_points(num_initial, x_max, p_upper = 3)"
   ]
  },
  {
   "cell_type": "code",
   "execution_count": 18,
   "id": "a10b71b6-e648-41a7-ab2c-9a0c66ed8254",
   "metadata": {},
   "outputs": [
    {
     "data": {
      "text/plain": [
       "(10, 5)"
      ]
     },
     "execution_count": 18,
     "metadata": {},
     "output_type": "execute_result"
    }
   ],
   "source": [
    "g_x_mat.shape"
   ]
  },
  {
   "cell_type": "code",
   "execution_count": 14,
   "id": "4a3257d7-c178-4eb0-82a3-7b2f30f3d3de",
   "metadata": {},
   "outputs": [
    {
     "data": {
      "text/plain": [
       "\u001b[0;31mSignature:\u001b[0m \u001b[0mnp\u001b[0m\u001b[0;34m.\u001b[0m\u001b[0mrandom\u001b[0m\u001b[0;34m.\u001b[0m\u001b[0mdirichlet\u001b[0m\u001b[0;34m(\u001b[0m\u001b[0malpha\u001b[0m\u001b[0;34m,\u001b[0m \u001b[0msize\u001b[0m\u001b[0;34m=\u001b[0m\u001b[0;32mNone\u001b[0m\u001b[0;34m)\u001b[0m\u001b[0;34m\u001b[0m\u001b[0;34m\u001b[0m\u001b[0m\n",
       "\u001b[0;31mDocstring:\u001b[0m\n",
       "dirichlet(alpha, size=None)\n",
       "\n",
       "Draw samples from the Dirichlet distribution.\n",
       "\n",
       "Draw `size` samples of dimension k from a Dirichlet distribution. A\n",
       "Dirichlet-distributed random variable can be seen as a multivariate\n",
       "generalization of a Beta distribution. The Dirichlet distribution\n",
       "is a conjugate prior of a multinomial distribution in Bayesian\n",
       "inference.\n",
       "\n",
       ".. note::\n",
       "    New code should use the `~numpy.random.Generator.dirichlet`\n",
       "    method of a `~numpy.random.Generator` instance instead;\n",
       "    please see the :ref:`random-quick-start`.\n",
       "\n",
       "Parameters\n",
       "----------\n",
       "alpha : sequence of floats, length k\n",
       "    Parameter of the distribution (length ``k`` for sample of\n",
       "    length ``k``).\n",
       "size : int or tuple of ints, optional\n",
       "    Output shape.  If the given shape is, e.g., ``(m, n)``, then\n",
       "    ``m * n * k`` samples are drawn.  Default is None, in which case a\n",
       "    vector of length ``k`` is returned.\n",
       "\n",
       "Returns\n",
       "-------\n",
       "samples : ndarray,\n",
       "    The drawn samples, of shape ``(size, k)``.\n",
       "\n",
       "Raises\n",
       "------\n",
       "ValueError\n",
       "    If any value in ``alpha`` is less than or equal to zero\n",
       "\n",
       "See Also\n",
       "--------\n",
       "random.Generator.dirichlet: which should be used for new code.\n",
       "\n",
       "Notes\n",
       "-----\n",
       "The Dirichlet distribution is a distribution over vectors\n",
       ":math:`x` that fulfil the conditions :math:`x_i>0` and\n",
       ":math:`\\sum_{i=1}^k x_i = 1`.\n",
       "\n",
       "The probability density function :math:`p` of a\n",
       "Dirichlet-distributed random vector :math:`X` is\n",
       "proportional to\n",
       "\n",
       ".. math:: p(x) \\propto \\prod_{i=1}^{k}{x^{\\alpha_i-1}_i},\n",
       "\n",
       "where :math:`\\alpha` is a vector containing the positive\n",
       "concentration parameters.\n",
       "\n",
       "The method uses the following property for computation: let :math:`Y`\n",
       "be a random vector which has components that follow a standard gamma\n",
       "distribution, then :math:`X = \\frac{1}{\\sum_{i=1}^k{Y_i}} Y`\n",
       "is Dirichlet-distributed\n",
       "\n",
       "References\n",
       "----------\n",
       ".. [1] David McKay, \"Information Theory, Inference and Learning\n",
       "       Algorithms,\" chapter 23,\n",
       "       https://www.inference.org.uk/mackay/itila/\n",
       ".. [2] Wikipedia, \"Dirichlet distribution\",\n",
       "       https://en.wikipedia.org/wiki/Dirichlet_distribution\n",
       "\n",
       "Examples\n",
       "--------\n",
       "Taking an example cited in Wikipedia, this distribution can be used if\n",
       "one wanted to cut strings (each of initial length 1.0) into K pieces\n",
       "with different lengths, where each piece had, on average, a designated\n",
       "average length, but allowing some variation in the relative sizes of\n",
       "the pieces.\n",
       "\n",
       ">>> s = np.random.dirichlet((10, 5, 3), 20).transpose()\n",
       "\n",
       ">>> import matplotlib.pyplot as plt\n",
       ">>> plt.barh(range(20), s[0])\n",
       ">>> plt.barh(range(20), s[1], left=s[0], color='g')\n",
       ">>> plt.barh(range(20), s[2], left=s[0]+s[1], color='r')\n",
       ">>> plt.title(\"Lengths of Strings\")\n",
       "\u001b[0;31mType:\u001b[0m      method"
      ]
     },
     "metadata": {},
     "output_type": "display_data"
    }
   ],
   "source": [
    "np.random.dirichlet?"
   ]
  },
  {
   "cell_type": "code",
   "execution_count": 13,
   "id": "76f53984-d93c-4476-a7b6-ae9e6906975c",
   "metadata": {},
   "outputs": [
    {
     "data": {
      "text/plain": [
       "array([[0.1338139 , 0.28467066, 0.05633037, 0.51834595, 0.00683912],\n",
       "       [0.39084241, 0.19015785, 0.28800794, 0.0532609 , 0.0777309 ],\n",
       "       [0.18523519, 0.3961792 , 0.04317938, 0.13534697, 0.24005925],\n",
       "       [0.48183115, 0.01903283, 0.00853096, 0.03985722, 0.45074784],\n",
       "       [0.01798358, 0.09495762, 0.55022515, 0.13233022, 0.20450343],\n",
       "       [0.07991057, 0.24451477, 0.37933675, 0.00389078, 0.29234712],\n",
       "       [0.57133457, 0.17518494, 0.04181124, 0.19782815, 0.01384109],\n",
       "       [0.15579783, 0.62749355, 0.09116672, 0.08900769, 0.03653421],\n",
       "       [0.0082234 , 0.4775875 , 0.09998514, 0.12977374, 0.28443022],\n",
       "       [0.01735314, 0.2701085 , 0.05021153, 0.28159951, 0.38072732]])"
      ]
     },
     "execution_count": 13,
     "metadata": {},
     "output_type": "execute_result"
    }
   ],
   "source": [
    "portion_in_bin_mat"
   ]
  },
  {
   "cell_type": "markdown",
   "id": "7c6eeb2b-ce96-4701-89f3-1301a1b2f13a",
   "metadata": {},
   "source": [
    "# Check update params"
   ]
  },
  {
   "cell_type": "code",
   "execution_count": 40,
   "id": "25afcee2-04dd-465f-9741-5410e89582fb",
   "metadata": {},
   "outputs": [],
   "source": [
    "params = {\n",
    "    'η1': 0.2, 'η2': 0.5, 'A1': 0.5, 'A2':0.5, 'β1': 8, 'β2': 1,\n",
    "    'H1a': 1, 'H1b':1, 'H2a': .1, 'H2b': 1, 'α1_of_1': 0.05, 'α2_of_1': 0.95,\n",
    "    's1': 2, 's2': 2, 'α2_fun_type': 'constant', 'x_max': 5,\n",
    "    'd': 10, 'Tx': 0.01, 'pop_process': True\n",
    "}\n"
   ]
  },
  {
   "cell_type": "code",
   "execution_count": 41,
   "id": "b3f8be00-277a-409b-b60b-7ebf9849b4a2",
   "metadata": {},
   "outputs": [
    {
     "data": {
      "text/plain": [
       "{'η1': 0.08333333333333333,\n",
       " 'η2': 0.5,\n",
       " 'A1': 0.5,\n",
       " 'A2': 0.5,\n",
       " 'β1': 6,\n",
       " 'β2': 1,\n",
       " 'H1a': 0.6000000000000001,\n",
       " 'H1b': 6.0,\n",
       " 'H2a': 0.1,\n",
       " 'H2b': 1,\n",
       " 'α1_of_1': 0.05,\n",
       " 'α2_of_1': 0.95,\n",
       " 's1': 2,\n",
       " 's2': 2,\n",
       " 'α2_fun_type': 'constant',\n",
       " 'x_max': 5,\n",
       " 'd': 10,\n",
       " 'Tx': 0.01,\n",
       " 'pop_process': True}"
      ]
     },
     "execution_count": 41,
     "metadata": {},
     "output_type": "execute_result"
    }
   ],
   "source": [
    "update_params(param_key = \"scale\", param = 6, params_base=params)"
   ]
  },
  {
   "cell_type": "markdown",
   "id": "75ce78f4-a7ab-420e-a3c1-169e465665fc",
   "metadata": {},
   "source": [
    "# Test Bounded IVP"
   ]
  },
  {
   "cell_type": "code",
   "execution_count": 42,
   "id": "3b3dac45-ec11-449a-84df-d580113aaf7d",
   "metadata": {},
   "outputs": [],
   "source": [
    "import matplotlib.pyplot as plt"
   ]
  },
  {
   "cell_type": "code",
   "execution_count": 60,
   "id": "f2b0f101-9e4b-4ecb-8cd0-6947c4c56d8a",
   "metadata": {},
   "outputs": [],
   "source": [
    "x_max = 5\n",
    "params_base = dict(η1 = 0.2, η2 = 0.6, A1 = 0.5, A2 = 0.5,\n",
    "                   β1 = 4, β2 = 1, \n",
    "                    H1a = 0, H1b=4, H2a = 0, H2b=1, \n",
    "                  α1_of_1=0.05, α2_of_1=0.95, \n",
    "                  s1=2, s2=2, α2_fun_type = 'constant',\n",
    "                  x_max = x_max, d = 10,\n",
    "                 Tx = .01, pop_process = True)\n",
    "params = update_params(param_key = \"scale\", param = 4, params_base = params_base)"
   ]
  },
  {
   "cell_type": "code",
   "execution_count": 61,
   "id": "c807dd12-1fc2-467d-888c-7bc8f245186e",
   "metadata": {},
   "outputs": [
    {
     "data": {
      "text/plain": [
       "{'η1': 0.15,\n",
       " 'η2': 0.6,\n",
       " 'A1': 0.5,\n",
       " 'A2': 0.5,\n",
       " 'β1': 4,\n",
       " 'β2': 1,\n",
       " 'H1a': 0.0,\n",
       " 'H1b': 4.0,\n",
       " 'H2a': 0,\n",
       " 'H2b': 1,\n",
       " 'α1_of_1': 0.05,\n",
       " 'α2_of_1': 0.95,\n",
       " 's1': 2,\n",
       " 's2': 2,\n",
       " 'α2_fun_type': 'constant',\n",
       " 'x_max': 5,\n",
       " 'd': 10,\n",
       " 'Tx': 0.01,\n",
       " 'pop_process': True}"
      ]
     },
     "execution_count": 61,
     "metadata": {},
     "output_type": "execute_result"
    }
   ],
   "source": [
    "params"
   ]
  },
  {
   "cell_type": "code",
   "execution_count": 10,
   "id": "65e5d131-fddc-4f04-b351-f47984c4de55",
   "metadata": {},
   "outputs": [],
   "source": [
    "from bif_diagram_funs import get_initial_points"
   ]
  },
  {
   "cell_type": "code",
   "execution_count": 62,
   "id": "819362e6-bdfd-46f0-b850-79e661394afd",
   "metadata": {},
   "outputs": [],
   "source": [
    "initial_points = get_initial_points(\n",
    "    4, **params.copy(),p_upper = 3\n",
    ")\n",
    "y0 =  initial_points[0]"
   ]
  },
  {
   "cell_type": "code",
   "execution_count": 63,
   "id": "74e43512-23c5-4e50-bfa6-0b0bbce9b9de",
   "metadata": {},
   "outputs": [
    {
     "data": {
      "text/plain": [
       "array([0.38079472, 0.16445845, 2.12713701, 0.10054808, 0.12225709,\n",
       "       0.01924131, 0.03795702])"
      ]
     },
     "execution_count": 63,
     "metadata": {},
     "output_type": "execute_result"
    }
   ],
   "source": [
    "y0"
   ]
  },
  {
   "cell_type": "code",
   "execution_count": 64,
   "id": "5e8e2bb7-baa1-4e3b-beeb-2ba1f5dd4664",
   "metadata": {},
   "outputs": [],
   "source": [
    "out = bounded_ivp(y0,params, if_dict=True)"
   ]
  },
  {
   "cell_type": "code",
   "execution_count": 65,
   "id": "f64f5b49-069f-4744-9200-4964432ecbce",
   "metadata": {},
   "outputs": [
    {
     "data": {
      "text/plain": [
       "[<matplotlib.lines.Line2D at 0x10f2e34d0>]"
      ]
     },
     "execution_count": 65,
     "metadata": {},
     "output_type": "execute_result"
    },
    {
     "data": {
      "image/png": "[encoded data removed]",
      "text/plain": [
       "<Figure size 640x480 with 1 Axes>"
      ]
     },
     "metadata": {},
     "output_type": "display_data"
    }
   ],
   "source": [
    "plt.plot(out['T'], out['N2'])"
   ]
  },
  {
   "cell_type": "markdown",
   "id": "95f92253-c37e-4c16-99ae-33234e8e243b",
   "metadata": {},
   "source": [
    "Compare to regular ivp"
   ]
  },
  {
   "cell_type": "code",
   "execution_count": 27,
   "id": "23649d7a-1d99-43c9-b750-66f65c1e9f86",
   "metadata": {},
   "outputs": [],
   "source": [
    "out2 = solve_ivp(full_model,\n",
    "    [0,1000], y0, method = \"LSODA\", \n",
    "    args = (True, params_base)\n",
    ")"
   ]
  },
  {
   "cell_type": "code",
   "execution_count": 28,
   "id": "174bb187-aca0-4c88-b1eb-4c997421b41d",
   "metadata": {},
   "outputs": [
    {
     "data": {
      "text/plain": [
       "[<matplotlib.lines.Line2D at 0x10ee9a710>]"
      ]
     },
     "execution_count": 28,
     "metadata": {},
     "output_type": "execute_result"
    },
    {
     "data": {
      "image/png": "[encoded data removed]",
      "text/plain": [
       "<Figure size 640x480 with 1 Axes>"
      ]
     },
     "metadata": {},
     "output_type": "display_data"
    }
   ],
   "source": [
    "plt.plot(out2.t, out2.y[0])"
   ]
  },
  {
   "cell_type": "markdown",
   "id": "2d67e9fb-8d5a-4a5f-be4c-2a68e498abb5",
   "metadata": {
    "jp-MarkdownHeadingCollapsed": true
   },
   "source": [
    "# Test Nullclines"
   ]
  },
  {
   "cell_type": "code",
   "execution_count": 10,
   "id": "859d168e-b7b6-49be-bad2-6df6cf4909cd",
   "metadata": {},
   "outputs": [],
   "source": [
    "H=1\n",
    "x_max = 10\n",
    "params_base = dict(η1 = .2, η2 = .4, β1 = 8, β2 = 1, \n",
    "                   H1=H, H2=H, \n",
    "                  α1_of_1=0.05, α2_of_1=0.95, \n",
    "                  s1=2, s2=2, α2_fun_type = 'sigmoid',\n",
    "                  x_max = x_max, d = 10, A = 0.5,\n",
    "                 Tx = .01, r = 0, γ = 0, pop_process = False)\n",
    "N1 = 0; N2 = 0.5; \n",
    "g_of_x_vec_initial = np.zeros(params_base['x_max'])\n",
    "g_of_x_vec_initial[0] = 10;"
   ]
  },
  {
   "cell_type": "code",
   "execution_count": 13,
   "id": "f4000cf7-8442-4ff9-9069-5fb44e4a3e65",
   "metadata": {},
   "outputs": [
    {
     "data": {
      "text/plain": [
       "[0,\n",
       " np.float64(-3.0203389830508476),\n",
       " np.float64(-0.2390829628054887),\n",
       " np.float64(0.11954148140274436),\n",
       " np.float64(0.0),\n",
       " np.float64(0.0),\n",
       " np.float64(0.0),\n",
       " np.float64(0.0),\n",
       " np.float64(0.0),\n",
       " np.float64(0.0),\n",
       " np.float64(0.0),\n",
       " np.float64(0.0)]"
      ]
     },
     "execution_count": 13,
     "metadata": {},
     "output_type": "execute_result"
    }
   ],
   "source": [
    "nullclines_prey_i_extinct([N1,N2,*g_of_x_vec_initial],\n",
    "                        1,params_base.copy())"
   ]
  },
  {
   "cell_type": "code",
   "execution_count": 8,
   "id": "5d816ab3-b520-4cf6-b793-0529b6413a8a",
   "metadata": {},
   "outputs": [],
   "source": [
    "H=1\n",
    "x_max = 10\n",
    "params_base = dict(η1 = .2, η2 = .4, β1 = 8, β2 = 1, \n",
    "                   H1=H, H2=H, \n",
    "                  α1_of_1=0.05, α2_of_1=0.95, \n",
    "                  s1=2, s2=2, α2_fun_type = 'sigmoid',\n",
    "                  x_max = x_max, d = 10, A = 0.5,\n",
    "                 Tx = .01, r = 0, γ = 0, pop_process = False)\n",
    "N1 = 0.5; N2 = 0.5; \n",
    "g_of_x_vec_initial = np.zeros(params_base['x_max']); g_of_x_vec_initial[0] = 10;\n",
    "out = group_formation_model_non_dim(1, g_of_x_vec_initial,N1,N2, params_base.copy())"
   ]
  },
  {
   "cell_type": "code",
   "execution_count": 9,
   "id": "2b102c11-525d-44c1-855a-1a9058140d42",
   "metadata": {},
   "outputs": [
    {
     "data": {
      "text/plain": [
       "[np.float64(-0.12500000000000003),\n",
       " np.float64(-2.375),\n",
       " np.float64(-9939.897242391962),\n",
       " np.float64(4969.948621195981),\n",
       " np.float64(0.0),\n",
       " np.float64(0.0),\n",
       " np.float64(0.0),\n",
       " np.float64(0.0),\n",
       " np.float64(0.0),\n",
       " np.float64(0.0),\n",
       " np.float64(0.0),\n",
       " np.float64(0.0)]"
      ]
     },
     "execution_count": 9,
     "metadata": {},
     "output_type": "execute_result"
    }
   ],
   "source": [
    "full_model(T=1, initialstate = [1,1,*g_of_x_vec_initial], arg=1, params=params_base.copy())"
   ]
  },
  {
   "cell_type": "code",
   "execution_count": 52,
   "id": "f8ee0151-ec1f-4899-99b3-354e0c9e632d",
   "metadata": {},
   "outputs": [],
   "source": [
    "N1_reg = 1; N2_reg = 1"
   ]
  },
  {
   "cell_type": "code",
   "execution_count": 108,
   "id": "201cf173-c5de-456f-9bed-ebf15522aa2f",
   "metadata": {},
   "outputs": [],
   "source": [
    "H=2\n",
    "params_pop = dict(η1 = 0.2, η2 = 0.4, A = 0.5, β1 = 10, β2 = 1, H1=H, H2=H, \n",
    "                  α1_of_1=0.05, α2_of_1=0.95, \n",
    "                  s1=2, s2=2, α2_fun_type = 'constant',\n",
    "                  x_max = 10, d = 20,\n",
    "                 Tx = .1, r = 0, γ = 0, pop_process = True)\n",
    "N1_reg = 1; N2_reg = 1; p_reg = 20\n",
    "params = params_pop\n",
    "x_max = params['x_max']\n",
    "g_of_x_vec = np.array([p_reg, *np.zeros(x_max - 1)])\n"
   ]
  },
  {
   "cell_type": "code",
   "execution_count": 109,
   "id": "69650589-193f-49f1-8558-25fee33b6a42",
   "metadata": {},
   "outputs": [
    {
     "data": {
      "text/plain": [
       "[np.float64(-0.12920502092050212),\n",
       " np.float64(-3.85489539748954),\n",
       " np.float64(-4015.4428257887075),\n",
       " np.float64(2007.7590697981195),\n",
       " np.float64(0.0),\n",
       " np.float64(0.0),\n",
       " np.float64(0.0),\n",
       " np.float64(0.0),\n",
       " np.float64(0.0),\n",
       " np.float64(0.0),\n",
       " np.float64(0.0),\n",
       " np.float64(0.0)]"
      ]
     },
     "execution_count": 109,
     "metadata": {},
     "output_type": "execute_result"
    }
   ],
   "source": [
    "initialstate = [0.6,0.7, *g_of_x_vec]\n",
    "nullclines_no_P(initialstate, params)"
   ]
  },
  {
   "cell_type": "code",
   "execution_count": 10,
   "id": "28976b25-2b57-4115-a4b9-3b12943dcc4c",
   "metadata": {},
   "outputs": [
    {
     "ename": "NameError",
     "evalue": "name 'g_of_x_vec' is not defined",
     "output_type": "error",
     "traceback": [
      "\u001b[0;31m---------------------------------------------------------------------------\u001b[0m",
      "\u001b[0;31mNameError\u001b[0m                                 Traceback (most recent call last)",
      "Cell \u001b[0;32mIn[10], line 1\u001b[0m\n\u001b[0;32m----> 1\u001b[0m initialstate \u001b[38;5;241m=\u001b[39m [\u001b[38;5;241m0.6\u001b[39m,\u001b[38;5;241m0.7\u001b[39m, \u001b[38;5;241m*\u001b[39m\u001b[43mg_of_x_vec\u001b[49m]\n\u001b[1;32m      2\u001b[0m t_f\u001b[38;5;241m=\u001b[39m\u001b[38;5;241m5000\u001b[39m  \n\u001b[1;32m      3\u001b[0m out2 \u001b[38;5;241m=\u001b[39m solve_ivp(full_model, [\u001b[38;5;241m0\u001b[39m, t_f], initialstate, method\u001b[38;5;241m=\u001b[39m\u001b[38;5;124m\"\u001b[39m\u001b[38;5;124mLSODA\u001b[39m\u001b[38;5;124m\"\u001b[39m,\n\u001b[1;32m      4\u001b[0m                 args\u001b[38;5;241m=\u001b[39m(\u001b[38;5;28;01mTrue\u001b[39;00m,params))\n",
      "\u001b[0;31mNameError\u001b[0m: name 'g_of_x_vec' is not defined"
     ]
    }
   ],
   "source": [
    "initialstate = [0.6,0.7, *g_of_x_vec]\n",
    "t_f=5000  \n",
    "out2 = solve_ivp(full_model, [0, t_f], initialstate, method=\"LSODA\",\n",
    "                args=(True,params))\n",
    "plt.plot(out2.y[1],out2.y[0])\n"
   ]
  },
  {
   "cell_type": "code",
   "execution_count": 77,
   "id": "dea1bd71-62c5-4a4e-810e-24f516bb74c9",
   "metadata": {},
   "outputs": [],
   "source": [
    "N1, N2 = out2.y[0:2]"
   ]
  },
  {
   "cell_type": "code",
   "execution_count": 104,
   "id": "225c2861-ce3b-47fe-9574-ab2d29562c49",
   "metadata": {},
   "outputs": [],
   "source": [
    "g_of_x_vec = out2.y[2:]\n",
    "x_vec = np.arange(1,11,1)\n",
    "p = np.sum(x_vec*g_of_x_vec.T,1)\n",
    "mean_group_size_membership(g_of_x_vec.T, x_max, p)"
   ]
  },
  {
   "cell_type": "code",
   "execution_count": 79,
   "id": "e258498a-174f-4db4-9af2-10752517c70b",
   "metadata": {},
   "outputs": [
    {
     "data": {
      "text/plain": [
       "array([[2.00000000e+01, 0.00000000e+00, 0.00000000e+00, ...,\n",
       "        0.00000000e+00, 0.00000000e+00, 0.00000000e+00],\n",
       "       [1.99999368e+01, 1.26489906e-04, 9.01891953e-10, ...,\n",
       "        0.00000000e+00, 0.00000000e+00, 0.00000000e+00],\n",
       "       [1.99998735e+01, 2.52978610e-04, 2.70565887e-09, ...,\n",
       "        0.00000000e+00, 0.00000000e+00, 0.00000000e+00],\n",
       "       ...,\n",
       "       [1.92189508e-01, 8.46639444e-01, 4.21361461e+00, ...,\n",
       "        2.41786590e-05, 5.52265317e-07, 1.10771603e-08],\n",
       "       [1.90486897e-01, 8.70369392e-01, 4.34935728e+00, ...,\n",
       "        2.42793046e-05, 5.40962116e-07, 1.05850315e-08],\n",
       "       [1.89447501e-01, 8.79945038e-01, 4.40146916e+00, ...,\n",
       "        2.40941025e-05, 5.31005384e-07, 1.02767071e-08]])"
      ]
     },
     "execution_count": 79,
     "metadata": {},
     "output_type": "execute_result"
    }
   ],
   "source": [
    "numerator[mask,:]"
   ]
  },
  {
   "cell_type": "code",
   "execution_count": 99,
   "id": "0d69e2e3-13ba-4264-a03f-f5b38476c61b",
   "metadata": {},
   "outputs": [],
   "source": [
    "g_of_x_vec = out2.y[2:]\n",
    "\n",
    "x_vec = np.arange(1,11,1)\n",
    "p = np.sum(x_vec*g_of_x_vec.T,1)\n",
    "g_of_x_vec = g_of_x_vec.T\n",
    "mask = p > 1e-10\n",
    "numerator = x_vec*(g_of_x_vec*x_vec)\n",
    "numerator = numerator.sum(1)\n",
    "ans = p.copy()\n",
    "ans[mask] = numerator[mask]/p[mask]\n",
    "ans[~mask] = np.nan"
   ]
  },
  {
   "cell_type": "code",
   "execution_count": 100,
   "id": "a8065ff9-565a-4b6d-b715-cadf1f59a018",
   "metadata": {},
   "outputs": [
    {
     "data": {
      "text/plain": [
       "array([1.        , 1.00000316, 1.00000632, ..., 3.37847251, 3.39481372,\n",
       "       3.39994785])"
      ]
     },
     "execution_count": 100,
     "metadata": {},
     "output_type": "execute_result"
    }
   ],
   "source": [
    "ans"
   ]
  },
  {
   "cell_type": "code",
   "execution_count": 89,
   "id": "d1dc1ee8-dacc-4dab-ae1c-8a784e9a5caa",
   "metadata": {},
   "outputs": [
    {
     "data": {
      "text/plain": [
       "array([20.        , 20.00006325, 20.00012649, ..., 14.52449726,\n",
       "       15.27865848, 15.54497793])"
      ]
     },
     "execution_count": 89,
     "metadata": {},
     "output_type": "execute_result"
    }
   ],
   "source": [
    "numerator.sum(1)"
   ]
  },
  {
   "cell_type": "code",
   "execution_count": 86,
   "id": "abd8a156-90b0-4a10-a096-37833f10b3f0",
   "metadata": {},
   "outputs": [
    {
     "ename": "IndexError",
     "evalue": "too many indices for array: array is 1-dimensional, but 2 were indexed",
     "output_type": "error",
     "traceback": [
      "\u001b[0;31m---------------------------------------------------------------------------\u001b[0m",
      "\u001b[0;31mIndexError\u001b[0m                                Traceback (most recent call last)",
      "Cell \u001b[0;32mIn[86], line 2\u001b[0m\n\u001b[1;32m      1\u001b[0m ans_to_sum \u001b[38;5;241m=\u001b[39m p\u001b[38;5;241m.\u001b[39mcopy()\n\u001b[0;32m----> 2\u001b[0m \u001b[43mans_to_sum\u001b[49m\u001b[43m[\u001b[49m\u001b[43mmask\u001b[49m\u001b[43m,\u001b[49m\u001b[43m:\u001b[49m\u001b[43m]\u001b[49m \u001b[38;5;241m=\u001b[39m numerator[mask,:]\u001b[38;5;241m.\u001b[39mT\u001b[38;5;241m/\u001b[39mp[mask]\n\u001b[1;32m      3\u001b[0m ans_to_sum[\u001b[38;5;241m~\u001b[39mmask,:] \u001b[38;5;241m=\u001b[39m np\u001b[38;5;241m.\u001b[39mnan\n",
      "\u001b[0;31mIndexError\u001b[0m: too many indices for array: array is 1-dimensional, but 2 were indexed"
     ]
    }
   ],
   "source": [
    "ans_to_sum = p.copy()\n",
    "ans_to_sum[mask,:] = numerator[mask,:].T/p[mask]\n",
    "ans_to_sum[~mask,:] = np.nan"
   ]
  },
  {
   "cell_type": "code",
   "execution_count": 66,
   "id": "c0910789-f161-49c6-b670-8b2ca4ad8719",
   "metadata": {},
   "outputs": [],
   "source": [
    "mask = p > 1e-10"
   ]
  },
  {
   "cell_type": "code",
   "execution_count": 67,
   "id": "3cd61d1b-52c7-4871-ad4f-4acfbfea2588",
   "metadata": {},
   "outputs": [
    {
     "data": {
      "text/plain": [
       "array([ True,  True,  True, ...,  True,  True,  True])"
      ]
     },
     "execution_count": 67,
     "metadata": {},
     "output_type": "execute_result"
    }
   ],
   "source": [
    "mask"
   ]
  },
  {
   "cell_type": "code",
   "execution_count": 41,
   "id": "dd1cd347-53ee-4fe8-9829-991582df9469",
   "metadata": {},
   "outputs": [],
   "source": [
    "frequency_in_group_size_x = (g_of_x_vec.T*x_vec).T/p"
   ]
  },
  {
   "cell_type": "code",
   "execution_count": 43,
   "id": "2ae30562-5e0a-46da-97c7-79b7e98380f7",
   "metadata": {},
   "outputs": [],
   "source": [
    "vec_to_sum = x_vec*frequency_in_group_size_x.T"
   ]
  },
  {
   "cell_type": "code",
   "execution_count": 12,
   "id": "37e66b33-d6c6-4633-a362-90e2e2c9f1b0",
   "metadata": {},
   "outputs": [
    {
     "data": {
      "text/plain": [
       "array([], dtype=float64)"
      ]
     },
     "execution_count": 12,
     "metadata": {},
     "output_type": "execute_result"
    }
   ],
   "source": [
    "x_vec = np.arange(1,x_max+1,1)\n",
    "    \n",
    "    frequency_in_group_size_x = (g_of_x_vec*x_vec).T/p\n",
    "    vec_to_sum = x_vec*frequency_in_group_size_x.T\n",
    "    if len(vec_to_sum.shape) > 1:\n",
    "        return vec_to_sum.sum(1)\n",
    "    else:\n",
    "        return sum(vec_to_sum)"
   ]
  },
  {
   "cell_type": "code",
   "execution_count": 10,
   "id": "cfe54d78-7c63-46a5-a79b-d91946d8ed8e",
   "metadata": {},
   "outputs": [
    {
     "data": {
      "text/plain": [
       "np.float64(0.9999937033254204)"
      ]
     },
     "execution_count": 10,
     "metadata": {},
     "output_type": "execute_result"
    }
   ],
   "source": [
    "out2.y[1,"
   ]
  },
  {
   "cell_type": "code",
   "execution_count": 214,
   "id": "ab653951-4974-4d93-abf4-3acf7cce6e0b",
   "metadata": {},
   "outputs": [],
   "source": [
    "P,N1,N2 = out2.y[0:3]\n",
    "g_of_x_vec = out2.y[3:]"
   ]
  },
  {
   "cell_type": "code",
   "execution_count": 215,
   "id": "a43f3914-fb64-445e-adfc-8334ccb6ef4a",
   "metadata": {},
   "outputs": [],
   "source": [
    "xvec = np.arange(1,11)"
   ]
  }
 ],
 "metadata": {
  "kernelspec": {
   "display_name": "Python 3 (ipykernel)",
   "language": "python",
   "name": "python3"
  },
  "language_info": {
   "codemirror_mode": {
    "name": "ipython",
    "version": 3
   },
   "file_extension": ".py",
   "mimetype": "text/x-python",
   "name": "python",
   "nbconvert_exporter": "python",
   "pygments_lexer": "ipython3",
   "version": "3.13.1"
  }
 },
 "nbformat": 4,
 "nbformat_minor": 5
}
