{
 "cells": [
  {
   "cell_type": "code",
   "execution_count": 1,
   "id": "3e123b49-cf51-4c8e-9040-ff3859a87724",
   "metadata": {},
   "outputs": [],
   "source": [
    "# Local Stability"
   ]
  },
  {
   "cell_type": "code",
   "execution_count": 8,
   "id": "e5ce8d11-799d-4008-ac9f-a5bd2c435b04",
   "metadata": {},
   "outputs": [],
   "source": [
    "import numpy as np\n",
    "from fitness_funs_non_dim import *\n",
    "from group_w_pop_funs import *\n",
    "from pop_dyn_non_dim_one_x import *\n",
    "from scipy.optimize import fsolve"
   ]
  },
  {
   "cell_type": "markdown",
   "id": "3f420962-5282-4acd-b397-3f0061e6c4d7",
   "metadata": {},
   "source": [
    "# Functions"
   ]
  },
  {
   "cell_type": "code",
   "execution_count": 1,
   "id": "11a6507e-128c-4f95-8936-d2eede60c151",
   "metadata": {},
   "outputs": [
    {
     "name": "stdout",
     "output_type": "stream",
     "text": [
      "Overwriting local_stability_funs.py\n"
     ]
    }
   ],
   "source": [
    "%%writefile local_stability_funs.py\n",
    "import numpy as np\n",
    "from fitness_funs_non_dim import *\n",
    "from group_w_pop_funs import *\n",
    "from scipy.linalg import eigvals\n",
    "\n",
    "def fun_Jac(N1,N2,fvec,**params):\n",
    "    x_max = params['x_max']\n",
    "    xvec = np.arange(1,x_max+1,1)\n",
    "    size = len(fvec)+2\n",
    "\n",
    "\n",
    "    # stuff used for multiple rows that speeds it up\n",
    "    grad_Y_1 = fun_grad_func_response(1,xvec,N1,N2,**params)\n",
    "    grad_Y_2 = fun_grad_func_response(2,xvec,N1,N2,**params)\n",
    "    \n",
    "    Jac = np.zeros((size,size))\n",
    "    Jac[0,:] = fun_grad_big_prey(N1, N2, fvec, grad_Y_1, **params)\n",
    "    Jac[1,:] = fun_grad_small_prey(N1, N2, fvec, grad_Y_2, **params)\n",
    "    Jac[2:,:] = fun_Jac_groups(N1, N2, fvec, grad_Y_1, grad_Y_2, xvec, **params)\n",
    "\n",
    "    return Jac\n",
    "\n",
    "def fun_Jac_groups(N1, N2, fvec, grad_Y_1, grad_Y_2, xvec, x_max, Tx, d,\n",
    "                   η1, η2, **params):\n",
    "    \n",
    "    Jac = np.zeros((len(fvec),len(fvec)+2))\n",
    "    \n",
    "    partial_π = params['β1'] * grad_Y_1 + params['β2'] * grad_Y_2\n",
    "    π_vec = yield_from_prey_non_dim(xvec, N1, N2, **params)\n",
    "    fitnessvec = π_vec/xvec\n",
    "    partial_S_vec = [fun_partial_S_wrt_prey(N1, N2, x, partial_π, x_max,d,**params) \\\n",
    "                                 for x in range(2,x_max+1)]\n",
    "    td = 1 - η1 - η2\n",
    "    def f(x):\n",
    "        return fvec[x-1]\n",
    "    def partial_S(x):\n",
    "        return partial_S_vec[x-2]\n",
    "    def S(x,y=1):\n",
    "        return best_response_fun_given_fitness(x,y,fitnessvec,d)\n",
    "    def π(x):\n",
    "        return π_vec[x-1]\n",
    "        \n",
    "    # first row\n",
    "    Q1_Ni_group = (1/Tx) * (2*f(2) * partial_S(2) + \\\n",
    "                       np.sum(np.array([partial_S(x) * ( x * f(x) + f(1) * f(x-1)) \\\n",
    "                               for x in range(2,x_max+1)]),0))\n",
    "    Q1_Ni_pop = f(x_max) * partial_π[:,-1] - f(1) * partial_π[:,0]\n",
    "    Q1_Ni = Q1_Ni_group + Q1_Ni_pop\n",
    "    \n",
    "    Q1_f1 = (-2*f(1)*S(2,1) - sum([f(x)*S(x+1,1) \\\n",
    "                                       for x in range(2,x_max)]))/Tx - π(1) - td\n",
    "    Q1_f2 = (4*(1-S(2)) - f(1)*S(3))/Tx + 2*td\n",
    "    Q1_fx = [(x*(1-S(x)) - f(1)*S(x+1))/Tx for x in range(3,x_max)] #FILL IN\n",
    "    Q1_fxmax = x_max*(1 - S(x_max))/Tx + π(x_max)\n",
    "    Jac[0,:] = np.array([*Q1_Ni, Q1_f1, Q1_f2, *Q1_fx, Q1_fxmax])\n",
    "\n",
    "    # second row\n",
    "    Q2_Ni = (1/Tx) * ( - partial_S(2) * (2*f(2) + 0.5*(f(1))**2) \\\n",
    "                            + partial_S(3)*(3*f(3) + f(1)*f(2))) \\\n",
    "                        + f(1)*partial_π[:,0] - f(2)*partial_π[:,1]\n",
    "    Q2_f = np.zeros(len(fvec))\n",
    "    Q2_f[0] = (1/Tx)* (f(1) * S(2) - f(2) * S(3)) + π(1)# partial wrt f(1)\n",
    "    Q2_f[1] = -(1/Tx) * (2* (1 - S(2)) + f(1)*S(3)) - π(2) - 2*td\n",
    "    Q2_f[2] = (3/Tx)*(1 - S(3)) + 3 * td\n",
    "    \n",
    "    Jac[1,:] = np.array([*Q2_Ni, *Q2_f])\n",
    "\n",
    "    # 3rd through 2nd to last row (for 2 < x < x_max)\n",
    "    \n",
    "    for x in range(3,x_max):\n",
    "        Qx_Ni = (1/Tx) * (partial_S(x+1) *( (x+1)*f(x+1) + f(1)*f(x) ) \\\n",
    "                          - partial_S(x)*(x*f(x) + f(1)*f(x-1)))\\\n",
    "                    + f(x-1)*partial_π[:,x-2] - f(x) * partial_π[:,x-1]\n",
    "        \n",
    "        Qx_f = np.zeros(len(fvec))\n",
    "        \n",
    "        Qx_f[0] = (1/Tx)* (f(x-1)*S(x) - f(x)*S(x+1)) # wrt f(1)\n",
    "        Qx_f[x-2] = (1/Tx) * f(1)*S(x) + π(x-1) # wrt f(x-1)\n",
    "        Qx_f[x-1] = -(1/Tx) * (x*(1 - S(x)) + f(1)*S(x+1)) - π(x) - x*td # wrt f(x)\n",
    "        Qx_f[x] = (1/Tx)*(x+1)*(1-S(x+1)) + (x+1)*td # wrt f(x+1)\n",
    "\n",
    "        Jac[x-1,:] = np.array([*Qx_Ni,*Qx_f])\n",
    "\n",
    "\n",
    "    # last row, f(x_max)\n",
    "    Qxmax_Ni = -(1/Tx)*partial_S(x_max) * (x_max*f(x_max) + f(1)*f(x_max-1)) \\\n",
    "                + f(x_max-1)*partial_π[:,x_max-2] - f(x_max) * partial_π[:,x_max-1]\n",
    "    Qxmax_f = np.zeros(len(fvec))\n",
    "    Qxmax_f[0] = (1/Tx)*f(x_max-1)*S(x_max,1)\n",
    "    Qxmax_f[x_max-2] = (1/Tx)*f(1)*S(x_max,1) + π(x_max-1) # wrt f(x-1)\n",
    "    Qxmax_f[x_max-1] = -(1/Tx)*x_max*S(1,x_max) - x_max*td\n",
    "    Jac[-1,:] = np.array([*Qxmax_Ni, *Qxmax_f])\n",
    "                                           \n",
    "    \n",
    "    return Jac\n",
    "\n",
    "def fun_Jac_groups_nopop(N1, N2, fvec, x_max, Tx, d, **params):\n",
    "    '''\n",
    "    Finds the Jacobian for group dynamics with no populatin dynamics\n",
    "    '''\n",
    "    \n",
    "    Jac = np.zeros((len(fvec),len(fvec)+2))\n",
    "    \n",
    "    def f(x):\n",
    "        return fvec[x-1]\n",
    "    def S(x,y=1):\n",
    "        return best_response_fun_given_fitness(x,y,fitnessvec,d)\n",
    "\n",
    "        \n",
    "    # first row    \n",
    "    Q1_f1 = (-2*f(1)*S(2,1) - sum([f(x)*S(x+1,1) \\\n",
    "                                       for x in range(2,x_max)]))/Tx \n",
    "    Q1_f2 = (4*(1-S(2)) - f(1)*S(3))/Tx \n",
    "    Q1_fx = [(x*(1-S(x)) - f(1)*S(x+1))/Tx for x in range(3,x_max)] #FILL IN\n",
    "    Q1_fxmax = x_max*(1 - S(x_max))/Tx \n",
    "    Jac[0,:] = np.array([Q1_f1, Q1_f2, *Q1_fx, Q1_fxmax])\n",
    "\n",
    "    # second row\n",
    "    Q2_f = np.zeros(len(fvec))\n",
    "    Q2_f[0] = (1/Tx)* (f(1) * S(2) - f(2) * S(3)) # partial wrt f(1)\n",
    "    Q2_f[1] = -(1/Tx) * (2* (1 - S(2)) + f(1)*S(3)) \n",
    "    Q2_f[2] = (3/Tx)*(1 - S(3)) \n",
    "    \n",
    "    Jac[1,:] = Q2_f\n",
    "\n",
    "    # 3rd through 2nd to last row (for 2 < x < x_max)\n",
    "    \n",
    "    for x in range(3,x_max):\n",
    "        \n",
    "        Qx_f = np.zeros(len(fvec))\n",
    "        \n",
    "        Qx_f[0] = (1/Tx)* (f(x-1)*S(x) - f(x)*S(x+1)) # wrt f(1)\n",
    "        Qx_f[x-2] = (1/Tx) * f(1)*S(x) # wrt f(x-1)\n",
    "        Qx_f[x-1] = -(1/Tx) * (x*(1 - S(x)) + f(1)*S(x+1)) # wrt f(x)\n",
    "        Qx_f[x] = (1/Tx)*(x+1)*(1-S(x+1)) # wrt f(x+1)\n",
    "\n",
    "        Jac[x-1,:] = Qx_f\n",
    "\n",
    "\n",
    "\n",
    "    Qxmax_f = np.zeros(len(fvec))\n",
    "    Qxmax_f[0] = (1/Tx)*f(x_max-1)*S(x_max,1)\n",
    "    Qxmax_f[x_max-2] = (1/Tx)*f(1)*S(x_max,1)  # wrt f(x-1)\n",
    "    Qxmax_f[x_max-1] = -(1/Tx)*x_max*S(1,x_max) \n",
    "    Jac[-1,:] = Qxmax_f\n",
    "                                           \n",
    "    \n",
    "    return Jac\n",
    "        \n",
    "def fun_grad_func_response(i,x, N1,N2,H1,H2,**params):\n",
    "    '''\n",
    "    The gradient of the (scaled) functional response on prey i wrt N1, N2\n",
    "    returns an array with 2 rows (N1, N2) and x_max columns\n",
    "    '''\n",
    "    alpha1 = fun_alpha1(x,**params)\n",
    "    alpha2 = fun_alpha2(x,**params)\n",
    "    denom = (1 + alpha1 * H1 * N1 + alpha2 * H2 * N2)**2\n",
    "    if i == 1:\n",
    "        return np.array([ alpha1*(1 + alpha2 * H2 * N2), \n",
    "                         - alpha1 * alpha2 * H2 * N1])/denom\n",
    "    elif i == 2:\n",
    "        return np.array([ - alpha1 * alpha2 * H1 * N2,\n",
    "                         alpha2 * (1 + alpha1 * H1 * N1)])/denom\n",
    "\n",
    "def fun_grad_big_prey(N1,N2,fvec, grad_Y_1, η1, A1, x_max, **params):\n",
    "    '''\n",
    "    return gradient of big prey vs n1, n2, f(1), .. f(x)\n",
    "    '''\n",
    "    \n",
    "    # the sum of A_1 * f(x) * [ del Y_1/ del N_1, del Y_1 / del N_2]\n",
    "    grad_sum_f_y = A1 * np.sum(grad_Y_1 * fvec,1)\n",
    "    \n",
    "    delU1_N1 = η1 * (1 - 2 *N1) - grad_sum_f_y[0] \n",
    "    delU1_N2 = - grad_sum_f_y[1]\n",
    "\n",
    "    xvec = np.arange(1,x_max+1,1)\n",
    "    Y1_vec = fun_response_non_dim(xvec, N1, N2, 1,**params)\n",
    "    delU1_f = -A1 * Y1_vec\n",
    "\n",
    "    to_return = np.array([delU1_N1, delU1_N2, *delU1_f])\n",
    "\n",
    "    return to_return\n",
    "\n",
    "def fun_grad_small_prey(N1,N2,fvec, grad_Y_2, η2, A1, x_max, **params):\n",
    "    '''\n",
    "    return gradient of small prey vs n1, n2, f(1), .. f(x)\n",
    "    '''\n",
    "    A2 = 1 - A1\n",
    "\n",
    "    # the sum of A_2 * f(x) * [ del Y_2/ del N_1, del Y_2 / del N_2]\n",
    "    grad_sum_f_y = A2 * np.sum(grad_Y_2 * fvec,1)\n",
    "\n",
    "    delU2_N1 = - grad_sum_f_y[0]\n",
    "    delU2_N2 = η2 * (1 - 2 * N2) - grad_sum_f_y[1]\n",
    "\n",
    "    xvec = np.arange(1,x_max+1,1)\n",
    "    Y2_vec = fun_response_non_dim(xvec,N1,N2,2,**params)\n",
    "    delU2_f = -A2 * Y2_vec\n",
    "\n",
    "    to_return = np.array([delU2_N1, delU2_N2, *delU2_f])\n",
    "\n",
    "    return to_return\n",
    "def fun_partial_S_wrt_prey(N1, N2, x, partial_π,x_max,\n",
    "                           d, **params):\n",
    "    '''\n",
    "\n",
    "    array with 2 entries corresponding to N1, N2\n",
    "    '''\n",
    "\n",
    "    xvec = np.arange(1, x_max+1,1)\n",
    "    π_vec = yield_from_prey_non_dim(xvec, N1, N2, **params)\n",
    "    fitnessvec = π_vec/xvec\n",
    "    \n",
    "    \n",
    "    S_1_x = best_response_fun_given_fitness(1,x,fitnessvec,d)\n",
    "    S_x_1 = 1 - S_1_x\n",
    "\n",
    "    partial_S_1_x = d*S_1_x * S_x_1 * ( partial_π[:,0] * 1 / π_vec[0] \\\n",
    "                                   - partial_π[:,x-1] * 1 / π_vec[x-1])\n",
    "    \n",
    "    return partial_S_1_x\n",
    "\n",
    "def classify_stability(J):\n",
    "    '''\n",
    "    Compute the eigenvalues of the Jacobian matrix\n",
    "    returns \"Stable (attractive)\", \"Unstable\", \"Marginally stable (needs further analysis)\",\n",
    "    or \"Indeterminate stability (needs further analysis)\"\n",
    "    '''\n",
    "    # Compute the eigenvalues of the Jacobian matrix\n",
    "    eigenvalues = np.linalg.eigvals(J)\n",
    "    \n",
    "    # Check the real parts of the eigenvalues\n",
    "    real_parts = np.real(eigenvalues)\n",
    "    \n",
    "    # Classify the stability based on the real parts of the eigenvalues\n",
    "    if np.all(real_parts < 0):\n",
    "        return \"Stable (attractive)\"\n",
    "    elif np.any(real_parts > 0):\n",
    "        return \"Unstable\"\n",
    "    elif np.all(real_parts <= 0):\n",
    "        return \"Marginally stable (needs further analysis)\"\n",
    "    else:\n",
    "        return \"Indeterminate stability (needs further analysis)\"\n",
    "\n",
    "def fun_jacobian_one_grp(P, N1, N2, x, η1, η2, A1, β1, β2, **params):\n",
    "    H1 = params['H1']\n",
    "    H2=params['H2']\n",
    "    Y1 = fun_Y1(N1,N2,x,**params)\n",
    "    Y2 = fun_Y2(N1,N2,x,**params)\n",
    "    α2 = fun_alpha2(x, **params)\n",
    "    α1 = fun_alpha1(x, **params)\n",
    "    td = 1 - η1 - η2\n",
    "    A2 = 1 - A1\n",
    "    \n",
    "    J = np.zeros((3, 3))\n",
    "\n",
    "    J[0, 0] = -td + (1/x) * (β1 * Y1 + β2 * Y2)\n",
    "    J[0, 1] = P / x * β1 * (α1 / (1 + H1 * α1 * N1 + H2 * α2 * N2)**2)\n",
    "    J[0, 2] = P / x * β2 * (α2 / (1 + H1 * α1 * N1 + H2 * α2 * N2)**2)\n",
    "    \n",
    "    \n",
    "    J[1, 0] = -A1 * Y1 / x\n",
    "    J[1, 1] = η1 * (1 - 2 * N1) - P / x * A1 * (α1 / (1 + H1 * α1 * N1 + H2 * α2 * N2)**2)\n",
    "    J[1, 2] = -P / x * A1 * (α1 * α2 * H2 * N2 / (1 + H1 * α1 * N1 + H2 * α2 * N2)**2)\n",
    "    \n",
    "    \n",
    "    J[2, 0] = -A2 * Y2 / x\n",
    "    J[2, 1] = -P / x * A2 * (α2 * α1 * H1 * N1 / (1 + H1 * α1 * N1 + H2 * α2 * N2)**2)\n",
    "    J[2, 2] = η2 * (1 - 2 * N2) - P / x * A2 * (α2 / (1 + H1 * α1 * N1 + H2 * α2 * N2)**2)\n",
    "    \n",
    "    return J\n",
    "\n"
   ]
  },
  {
   "cell_type": "markdown",
   "id": "b4adfb70-e648-41fd-9fc2-cab4c4ae2f01",
   "metadata": {},
   "source": [
    "# Check"
   ]
  },
  {
   "cell_type": "code",
   "execution_count": 10,
   "id": "5f0f5012-f23a-4f21-b309-81d62185ca59",
   "metadata": {},
   "outputs": [],
   "source": [
    "H=1\n",
    "x_max = 4\n",
    "params_base = dict(η1 = 0.2, η2 = 0.4, A1 = 0.5, β1 = 8, β2 = 1, \n",
    "                   H1=H, H2=H, \n",
    "                  α1_of_1=0.05, α2_of_1=0.95, \n",
    "                  s1=2, s2=2, α2_fun_type = 'constant',\n",
    "                  x_max = x_max, d = 10,\n",
    "                 Tx = .01, r = 0, γ = 0, pop_process = True)\n"
   ]
  },
  {
   "cell_type": "markdown",
   "id": "08744272-8820-442d-804a-1aef51ec3132",
   "metadata": {},
   "source": [
    "# One group Size"
   ]
  },
  {
   "cell_type": "code",
   "execution_count": 11,
   "id": "0a379013-42f9-4967-b3d9-47b58bfce4f2",
   "metadata": {},
   "outputs": [
    {
     "name": "stdout",
     "output_type": "stream",
     "text": [
      "Equilibrium: P=1.190, N1=0.818, N2=-0.000\n",
      "Jacobian at equilibrium:\n",
      "[[-3.00523560e-01  3.19999998e-01  3.79999999e-02]\n",
      " [ 1.73851696e-21 -1.47272728e-01  1.89951575e-19]\n",
      " [-4.97382199e-02 -1.55454545e-02  3.81000000e-01]]\n",
      "Eigenvalues of the Jacobian:\n",
      "[-0.29773891+0.j  0.37821535+0.j -0.14727273+0.j]\n",
      "The equilibrium is not locally stable.\n"
     ]
    },
    {
     "data": {
      "text/plain": [
       "'Unstable'"
      ]
     },
     "execution_count": 11,
     "metadata": {},
     "output_type": "execute_result"
    }
   ],
   "source": [
    "initial_guess = [1.0, 0.5, 0.5]\n",
    "x=9\n",
    "params=params_base.copy()\n",
    "equilibrium = fsolve(full_system_one_grp, initial_guess, args=(x,params))\n",
    "P_eq, N1_eq, N2_eq = equilibrium\n",
    "print(f'Equilibrium: P={P_eq:.3f}, N1={N1_eq:.3f}, N2={N2_eq:.3f}')\n",
    "J_eq = fun_jacobian_one_grp(P_eq, N1_eq, N2_eq, x, **params)\n",
    "print('Jacobian at equilibrium:')\n",
    "print(J_eq)\n",
    "\n",
    "# Calculate the eigenvalues of the Jacobian\n",
    "eigenvalues = eigvals(J_eq)\n",
    "print('Eigenvalues of the Jacobian:')\n",
    "print(eigenvalues)\n",
    "\n",
    "# Evaluate local stability\n",
    "if np.all(np.real(eigenvalues) < 0):\n",
    "    print('The equilibrium is locally stable.')\n",
    "else:\n",
    "    print('The equilibrium is not locally stable.')\n",
    "\n",
    "classify_stability(J_eq)"
   ]
  },
  {
   "cell_type": "markdown",
   "id": "732b2315-ac24-452c-b540-9fa9b2721789",
   "metadata": {},
   "source": [
    "# Multiple Group Sizes"
   ]
  },
  {
   "cell_type": "code",
   "execution_count": 45,
   "id": "a5b72c47-f9d0-481e-9d29-67b2685d51fb",
   "metadata": {},
   "outputs": [
    {
     "data": {
      "text/plain": [
       "'Unstable'"
      ]
     },
     "execution_count": 45,
     "metadata": {},
     "output_type": "execute_result"
    }
   ],
   "source": [
    "N1 = 1; N2 = 1; xvec = np.arange(1,x_max+1,1)\n",
    "params = params_base.copy()\n",
    "fvec = np.array([1, 1,0,0])\n",
    "J = fun_Jac(N1,N2,fvec,**params)\n",
    "evals = np.linalg.eigvals(fun_Jac(N1,N2,fvec,**params))\n",
    "classify_stability(J)"
   ]
  },
  {
   "cell_type": "code",
   "execution_count": 119,
   "id": "88d2461b-1a27-4ecf-9565-60a8edf804ef",
   "metadata": {},
   "outputs": [
    {
     "data": {
      "text/plain": [
       "np.float64(0.5)"
      ]
     },
     "execution_count": 119,
     "metadata": {},
     "output_type": "execute_result"
    }
   ],
   "source": [
    "π_vec = yield_from_prey_non_dim(xvec, N1, N2, **params)\n",
    "fitnessvec = π_vec/xvec\n",
    "d=params['d']\n",
    "best_response_fun_given_fitness(3,1,fitnessvec,d)"
   ]
  },
  {
   "cell_type": "code",
   "execution_count": 118,
   "id": "dda72b43-8617-4008-bd68-6edd054c9ee2",
   "metadata": {},
   "outputs": [
    {
     "data": {
      "text/plain": [
       "np.float64(0.9771682883079603)"
      ]
     },
     "execution_count": 118,
     "metadata": {},
     "output_type": "execute_result"
    }
   ],
   "source": [
    "W3 = fitnessvec[2]\n",
    "W1 = fitnessvec[0]\n",
    "\n",
    "W3**d/(W1**d + W3**d)"
   ]
  },
  {
   "cell_type": "code",
   "execution_count": null,
   "id": "003fdefb-6c8f-4267-9d47-e341fb936725",
   "metadata": {},
   "outputs": [],
   "source": []
  },
  {
   "cell_type": "code",
   "execution_count": 82,
   "id": "e185622e-451d-4945-b0e9-94fcb99c9571",
   "metadata": {},
   "outputs": [
    {
     "data": {
      "text/plain": [
       "array([[  -2.77509103,    1.42509103, -201.75      ,  100.8       ,\n",
       "          50.        ,  208.92790055],\n",
       "       [   1.58754552,   -0.23754552,  101.35      , -205.75      ,\n",
       "         151.2       ,    0.        ],\n",
       "       [   0.        ,    0.        ,    0.        ,    0.        ,\n",
       "           0.        ,    0.        ],\n",
       "       [   0.        ,    0.        ,    0.        ,    0.        ,\n",
       "         108.55      ,  -10.52790055]])"
      ]
     },
     "execution_count": 82,
     "metadata": {},
     "output_type": "execute_result"
    }
   ],
   "source": [
    "def best_response_fun_given_fitness(x,y,fitnessvec, d):\n",
    "    '''\n",
    "    Compares W(x) to W(y) to \"decide\" on group size y or x\n",
    "    @inputs\n",
    "    x - potentially new group size\n",
    "    y - current grp size\n",
    "    fitnessvec - vector of fitnesses fro x = 1, 2, ..., xmax\n",
    "    d - steepness, or sensitivity, of best response function\n",
    "    params - dictionary of params used by the rest of the model \n",
    "    @returns:\n",
    "    float between 0 and 1\n",
    "    '''\n",
    "    W_of_x = fitnessvec[x-1]\n",
    "    W_of_y = fitnessvec[y-1]\n",
    "    W_min = min(W_of_x, W_of_y)\n",
    "    W_max = max(W_of_x, W_of_y)\n",
    "    if W_max > 0:\n",
    "        numerator = (W_of_x/W_max)**d\n",
    "    else:\n",
    "        return 0\n",
    "    denominator = 1 + (W_min/W_max)**d # this adjustment helps avoid dividing by zero from numpy rounding\n",
    "    return numerator/denominator"
   ]
  },
  {
   "cell_type": "code",
   "execution_count": 120,
   "id": "31289a91-ea67-4d24-bdef-345be77b6580",
   "metadata": {},
   "outputs": [],
   "source": [
    "x=3; y = 1\n",
    "W_of_x = fitnessvec[x-1]\n",
    "W_of_y = fitnessvec[y-1]\n",
    "W_min = min(W_of_x, W_of_y)\n",
    "W_max = max(W_of_x, W_of_y)"
   ]
  },
  {
   "cell_type": "code",
   "execution_count": 131,
   "id": "8d92d160-b526-447b-871e-f0e6070cbfdb",
   "metadata": {},
   "outputs": [
    {
     "name": "stdout",
     "output_type": "stream",
     "text": [
      "1.0\n"
     ]
    }
   ],
   "source": [
    "if W_max > 0:\n",
    "    numerator = (W_of_x/W_max)**d\n",
    "    print(numerator)\n"
   ]
  },
  {
   "cell_type": "code",
   "execution_count": 133,
   "id": "520e5135-b988-444f-9a17-6ee66e024908",
   "metadata": {},
   "outputs": [
    {
     "data": {
      "text/plain": [
       "np.float64(0.9827586206896551)"
      ]
     },
     "execution_count": 133,
     "metadata": {},
     "output_type": "execute_result"
    }
   ],
   "source": [
    "W3"
   ]
  },
  {
   "cell_type": "code",
   "execution_count": 27,
   "id": "4dcd9b83-b63f-4a95-b034-ecc8ffcf20d7",
   "metadata": {},
   "outputs": [
    {
     "data": {
      "text/plain": [
       "array([0.4, 4. , 7.6])"
      ]
     },
     "execution_count": 27,
     "metadata": {},
     "output_type": "execute_result"
    }
   ],
   "source": [
    "π_vec = yield_from_prey_non_dim(xvec, N1, N2, **params)\n",
    "fitnessvec = π_vec/xvec\n",
    "S_1_x = best_response_fun_given_fitness(1,x,fitnessvec,d)\n",
    "S_x_1 = 1 - S_1_x\n",
    "partial_π[0]"
   ]
  },
  {
   "cell_type": "code",
   "execution_count": 29,
   "id": "6ad8a102-c0d8-4af1-aa31-2f37c3922b32",
   "metadata": {},
   "outputs": [],
   "source": [
    "    \n",
    "def fun_partial_S_wrt_prey(N1, N2, x, partial_π,\n",
    "                           d, **params):\n",
    "    '''\n",
    "\n",
    "    array with 2 entries corresponding to N1, N2\n",
    "    '''\n",
    "\n",
    "    xvec = np.arange(1, params['x_max']+1,1)\n",
    "    π_vec = yield_from_prey_non_dim(xvec, N1, N2, **params)\n",
    "    fitnessvec = π_vec/xvec\n",
    "    \n",
    "    \n",
    "    S_1_x = best_response_fun_given_fitness(1,x,fitnessvec,d)\n",
    "    S_x_1 = 1 - S_1_x\n",
    "\n",
    "    partial_S_1_x = d*S_1_x * S_x_1 * ( partial_π[:,0] * 1 / π_vec[0] \\\n",
    "                                   - partial_π[:,x-1] * 1 / π_vec[x-1])\n",
    "    \n",
    "    return partial_S_1_x\n",
    "    \n",
    "\n",
    "\n",
    "\n",
    "\n",
    "\n",
    "def fun_grad_f_1(N1,N2,f,partial_π, partial_S_prey, **params):\n",
    "    '''\n",
    "    The partial of Q1 wrt N1, N2, f(1), ..., f(x_m)\n",
    "    '''\n",
    "    partialQ1_partial_prey = fun_partialQ1_partialNi(N1,N2,f,partial_π, \n",
    "                                                     partial_S_prey, **params)\n",
    "    partialQ1_partial_f = fun_partialQ1_partial_group(N1,N2,f, partial_π, \n",
    "                                                      partial_S_prey,**params)\n",
    "    to_return = [*partialQ1_partial_prey, *partialQ1_partial_f]\n",
    "    return np.array(to_return)\n",
    "    \n",
    "def fun_partialQ1_partialNi(N1,N2,fvec, partial_π,  \n",
    "                            Tx, x_max, **params):\n",
    "    '''\n",
    "    the partial derivative of Q_1 with respect to N1, N2\n",
    "    \n",
    "    '''\n",
    "    \n",
    "    def f(x):\n",
    "        return fvec[x-1]\n",
    "    def partial_S(x):\n",
    "        return 0 # FILL IN\n",
    "        \n",
    "    group_part = 2*f(1) * partial_S(2) + \\\n",
    "                        np.sum([partial_S(x) * (x*f(x) + f(1)*f(x-1)) \\\n",
    "                                for x in range(2,x_max+1)])#FILL IN\n",
    "    pop_part = 0 #FILL IN\n",
    "    to_return = group_part/Tx + pop_part\n",
    "    return np.array([0,0]) + fvec[0]\n",
    "                    \n",
    "def fun_partialQ1_partial_group(N1,N2,fvec, partial_π,  **params):\n",
    "    '''\n",
    "    FILL IN\n",
    "    '''\n",
    "    return np.zeros(len(fvec)) + fvec[0]\n",
    "\n",
    "def fun_grad_f_2(N1,N2,fvec,xvec,**params):\n",
    "    to_return = np.zeros(len(fvec) + 2)\n",
    "    return to_return + fvec[1]\n",
    "\n",
    "def fun_grad_f_mid_x(N1,N2,fvec,xvec,**params):\n",
    "    to_return = np.zeros(len(fvec) + 2)\n",
    "    return to_return + fvec[2]\n",
    "    \n",
    "def fun_grad_f_max_x(N1,N2,fvec,xvec,**params):\n",
    "    to_return = np.zeros(len(fvec) + 2)\n",
    "    return to_return + fvec[2]"
   ]
  },
  {
   "cell_type": "code",
   "execution_count": 75,
   "id": "d9616aad-7dc8-405e-8f32-7b521b319138",
   "metadata": {},
   "outputs": [],
   "source": [
    "H=0\n",
    "x_max = 2\n",
    "params_base = dict(η1 = 0.2, η2 = 0.4, A1 = 0.5, β1 = 8, β2 = 1, \n",
    "                   H1=H, H2=H, \n",
    "                  α1_of_1=0.05, α2_of_1=0.95, \n",
    "                  s1=2, s2=2, α2_fun_type = 'constant',\n",
    "                  x_max = x_max, d = 10,\n",
    "                 Tx = .01, r = 0, γ = 0, pop_process = True)\n"
   ]
  },
  {
   "cell_type": "code",
   "execution_count": 76,
   "id": "6411c9e3-9e85-49eb-8300-8bd692536f10",
   "metadata": {},
   "outputs": [
    {
     "data": {
      "text/plain": [
       "array([[-0.225, -0.   , -0.025, -0.25 ],\n",
       "       [-0.   , -0.875, -0.475, -0.475],\n",
       "       [ 1.   ,  1.   ,  1.   ,  1.   ],\n",
       "       [ 0.   ,  0.   ,  0.   ,  0.   ]])"
      ]
     },
     "execution_count": 76,
     "metadata": {},
     "output_type": "execute_result"
    }
   ],
   "source": [
    "params = params_base.copy()\n",
    "xvec = np.arange(1,x_max+1,1); N1 =1; N2=1;\n",
    "f = np.array([1,0])\n",
    "fun_Jac(N1,N2,fvec,**params)"
   ]
  },
  {
   "cell_type": "code",
   "execution_count": 67,
   "id": "1b3a008c-9740-49bf-acbc-b1d2ab0db872",
   "metadata": {},
   "outputs": [
    {
     "ename": "TypeError",
     "evalue": "fun_grad_func_response() missing 2 required positional arguments: 'H1' and 'H2'",
     "output_type": "error",
     "traceback": [
      "\u001b[0;31m---------------------------------------------------------------------------\u001b[0m",
      "\u001b[0;31mTypeError\u001b[0m                                 Traceback (most recent call last)",
      "Cell \u001b[0;32mIn[67], line 1\u001b[0m\n\u001b[0;32m----> 1\u001b[0m \u001b[43mfun_Jac\u001b[49m\u001b[43m(\u001b[49m\u001b[38;5;241;43m0.5\u001b[39;49m\u001b[43m,\u001b[49m\u001b[38;5;241;43m0.4\u001b[39;49m\u001b[43m,\u001b[49m\u001b[43m[\u001b[49m\u001b[38;5;241;43m0.5\u001b[39;49m\u001b[43m,\u001b[49m\u001b[38;5;241;43m0.2\u001b[39;49m\u001b[43m,\u001b[49m\u001b[38;5;241;43m1\u001b[39;49m\u001b[43m]\u001b[49m\u001b[43m,\u001b[49m\u001b[38;5;241;43m3\u001b[39;49m\u001b[43m,\u001b[49m\u001b[38;5;241;43m*\u001b[39;49m\u001b[38;5;241;43m*\u001b[39;49m\u001b[38;5;28;43mdict\u001b[39;49m\u001b[43m(\u001b[49m\u001b[43mη1\u001b[49m\u001b[43m \u001b[49m\u001b[38;5;241;43m=\u001b[39;49m\u001b[43m \u001b[49m\u001b[38;5;241;43m.1\u001b[39;49m\u001b[43m,\u001b[49m\u001b[43m \u001b[49m\u001b[43mη2\u001b[49m\u001b[43m \u001b[49m\u001b[38;5;241;43m=\u001b[39;49m\u001b[43m \u001b[49m\u001b[38;5;241;43m.3\u001b[39;49m\u001b[43m,\u001b[49m\u001b[43m \u001b[49m\u001b[43mA1\u001b[49m\u001b[43m \u001b[49m\u001b[38;5;241;43m=\u001b[39;49m\u001b[43m \u001b[49m\u001b[38;5;241;43m0.5\u001b[39;49m\u001b[43m)\u001b[49m\u001b[43m)\u001b[49m\n",
      "Cell \u001b[0;32mIn[64], line 5\u001b[0m, in \u001b[0;36mfun_Jac\u001b[0;34m(N1, N2, F, x_max, **params)\u001b[0m\n\u001b[1;32m      3\u001b[0m size \u001b[38;5;241m=\u001b[39m \u001b[38;5;28mlen\u001b[39m(F)\u001b[38;5;241m+\u001b[39m\u001b[38;5;241m2\u001b[39m\n\u001b[1;32m      4\u001b[0m Jac \u001b[38;5;241m=\u001b[39m np\u001b[38;5;241m.\u001b[39mzeros((size,size))\n\u001b[0;32m----> 5\u001b[0m Jac[\u001b[38;5;241m0\u001b[39m,:] \u001b[38;5;241m=\u001b[39m \u001b[43mfun_grad_big_prey\u001b[49m\u001b[43m(\u001b[49m\u001b[43mN1\u001b[49m\u001b[43m,\u001b[49m\u001b[43mN2\u001b[49m\u001b[43m,\u001b[49m\u001b[43mF\u001b[49m\u001b[43m,\u001b[49m\u001b[43mxvec\u001b[49m\u001b[43m,\u001b[49m\u001b[38;5;241;43m*\u001b[39;49m\u001b[38;5;241;43m*\u001b[39;49m\u001b[43mparams\u001b[49m\u001b[43m)\u001b[49m\n\u001b[1;32m      6\u001b[0m Jac[\u001b[38;5;241m1\u001b[39m,:] \u001b[38;5;241m=\u001b[39m fun_grad_small_prey(N1,N2,F,xvec,\u001b[38;5;241m*\u001b[39m\u001b[38;5;241m*\u001b[39mparams)\n\u001b[1;32m      7\u001b[0m \u001b[38;5;28;01mfor\u001b[39;00m i \u001b[38;5;129;01min\u001b[39;00m \u001b[38;5;28mrange\u001b[39m(\u001b[38;5;241m0\u001b[39m,\u001b[38;5;28mlen\u001b[39m(F)):\n",
      "Cell \u001b[0;32mIn[64], line 24\u001b[0m, in \u001b[0;36mfun_grad_big_prey\u001b[0;34m(N1, N2, F, xvec, η1, A1, **params)\u001b[0m\n\u001b[1;32m     19\u001b[0m \u001b[38;5;250m\u001b[39m\u001b[38;5;124;03m'''\u001b[39;00m\n\u001b[1;32m     20\u001b[0m \u001b[38;5;124;03mreturn gradient of big prey vs n1, n2, F(1), .. F(x)\u001b[39;00m\n\u001b[1;32m     21\u001b[0m \u001b[38;5;124;03m'''\u001b[39;00m\n\u001b[1;32m     23\u001b[0m \u001b[38;5;66;03m# [delY_1/delN_1, del Y_1 / del N_2]\u001b[39;00m\n\u001b[0;32m---> 24\u001b[0m grad_Y_1 \u001b[38;5;241m=\u001b[39m \u001b[43mfun_grad_func_response\u001b[49m\u001b[43m(\u001b[49m\u001b[38;5;241;43m1\u001b[39;49m\u001b[43m,\u001b[49m\u001b[43mxvec\u001b[49m\u001b[43m,\u001b[49m\u001b[43mN1\u001b[49m\u001b[43m,\u001b[49m\u001b[43mN2\u001b[49m\u001b[43m,\u001b[49m\u001b[38;5;241;43m*\u001b[39;49m\u001b[38;5;241;43m*\u001b[39;49m\u001b[43mparams\u001b[49m\u001b[43m)\u001b[49m\n\u001b[1;32m     26\u001b[0m \u001b[38;5;66;03m# the sum of A_1 * F(x) * [ del Y_1/ del N_1, del Y_1 / del N_2]\u001b[39;00m\n\u001b[1;32m     27\u001b[0m grad_sum_F_y \u001b[38;5;241m=\u001b[39m A1 \u001b[38;5;241m*\u001b[39m np\u001b[38;5;241m.\u001b[39msum(grad_Y_1 \u001b[38;5;241m*\u001b[39m F,\u001b[38;5;241m1\u001b[39m)\n",
      "\u001b[0;31mTypeError\u001b[0m: fun_grad_func_response() missing 2 required positional arguments: 'H1' and 'H2'"
     ]
    }
   ],
   "source": [
    "fun_Jac(0.5,0.4,[0.5,0.2,1],3,**dict(η1 = .1, η2 = .3, A1 = 0.5))"
   ]
  },
  {
   "cell_type": "code",
   "execution_count": null,
   "id": "c69d4f05-052d-4ff5-b6a2-1cf016d4edb5",
   "metadata": {},
   "outputs": [],
   "source": []
  }
 ],
 "metadata": {
  "kernelspec": {
   "display_name": "Python 3 (ipykernel)",
   "language": "python",
   "name": "python3"
  },
  "language_info": {
   "codemirror_mode": {
    "name": "ipython",
    "version": 3
   },
   "file_extension": ".py",
   "mimetype": "text/x-python",
   "name": "python",
   "nbconvert_exporter": "python",
   "pygments_lexer": "ipython3",
   "version": "3.9.6"
  }
 },
 "nbformat": 4,
 "nbformat_minor": 5
}
