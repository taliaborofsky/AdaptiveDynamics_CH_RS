{
 "cells": [
  {
   "cell_type": "code",
   "execution_count": 1,
   "id": "3e123b49-cf51-4c8e-9040-ff3859a87724",
   "metadata": {},
   "outputs": [],
   "source": [
    "# Local Stability"
   ]
  },
  {
   "cell_type": "code",
   "execution_count": 8,
   "id": "e5ce8d11-799d-4008-ac9f-a5bd2c435b04",
   "metadata": {},
   "outputs": [],
   "source": [
    "import numpy as np\n",
    "from fitness_funs_non_dim import *"
   ]
  },
  {
   "cell_type": "code",
   "execution_count": 93,
   "id": "62d1d7f4-84f3-4e36-adad-733771797db3",
   "metadata": {},
   "outputs": [
    {
     "data": {
      "text/plain": [
       "2"
      ]
     },
     "execution_count": 93,
     "metadata": {},
     "output_type": "execute_result"
    }
   ],
   "source": [
    "2 - 2 + 1\n",
    "2 - 1 + 1"
   ]
  },
  {
   "cell_type": "code",
   "execution_count": 118,
   "id": "c8352eeb-e61b-4865-8b45-26b1159c08da",
   "metadata": {},
   "outputs": [],
   "source": [
    "def fun_Jac(N1,N2,F,x_max,**params):\n",
    "    xvec = np.arange(1,x_max+1,1)\n",
    "    size = len(F)+2\n",
    "    Jac = np.zeros((size,size))\n",
    "    Jac[0,:] = fun_grad_U_i(1,N1,N2,F,xvec,**params)\n",
    "    Jac[1,:] = fun_grad_U_i(2,N1,N2,F,xvec,**params)\n",
    "    for i in range(0,len(F)):\n",
    "        if i == 0:\n",
    "            Jac[i+2,:] = fun_grad_F_1(N1,N2,F,xvec,**params)\n",
    "        elif i == 1:\n",
    "            Jac[i+2,:] = fun_grad_F_2(N1,N2,F,xvec,**params)\n",
    "        elif i < x_max-1:\n",
    "            Jac[i+2,:] = fun_grad_F_mid_x(N1,N2,F,xvec,**params)\n",
    "        else:\n",
    "            Jac[i+2,:] = fun_grad_F_max_x(N1,N2,F,xvec,**params)\n",
    "    return Jac\n",
    "\n",
    "def fun_grad_U_i(i, N1,N2,F, xvec, η1, η2, A1, **params):\n",
    "    # return vec of du_i vs n1, n2, F(1), .. F(x)\n",
    "    j = 3 - i \n",
    "    \n",
    "    # find dYtilde \n",
    "    Avec = np.array([A1,1-A1])\n",
    "    ηvec = np.array([η1,η2])\n",
    "    Ai = Avec[i-1]; ηi = ηvec[i-1]; Ni = np.array([N1,N2])[i-1]\n",
    "    \n",
    "    grad_Y_i = fun_grad_func_response(i,xvec, N1,N2,**params)\n",
    "\n",
    "    grad_sum_F_Y = Avec[i-1]*np.sum(grad_Y_i*F,1)\n",
    "    print(grad_sum_F_Y)\n",
    "\n",
    "    delUi_Ni = ηi * (1 - 2*Ni) - grad_sum_F_Y[i-1]\n",
    "    delUi_Nj = - grad_sum_F_Y[j-1]\n",
    "    delUi_F = Avec[i-1]*grad_Y_i[i-1]\n",
    "\n",
    "    to_return = np.zeros(len(F)+2)\n",
    "    to_return[i-1] = delUi_Ni\n",
    "    to_return[j-1] = delUi_Nj\n",
    "    to_return[2:] = delUi_F\n",
    "    return to_return\n",
    "\n",
    "def fun_grad_func_response(i,x, N1,N2,H1,H2,**params):\n",
    "\n",
    "    alpha1 = fun_attack_rate(x, 1,**params)\n",
    "    alpha2 = fun_attack_rate(x,2,**params)\n",
    "    denom = (1 + alpha1 * H1 * N1 + alpha2 * H2 * N2)**2\n",
    "    if i == 1:\n",
    "        return np.array([ alpha1*(1 + alpha2 * H2 * N2), \n",
    "                         - alpha1 * alpha2 * H2 * N1])/denom\n",
    "    elif i == 2:\n",
    "        return np.array([ - alpha1 * alpha2 * H1 * N2,\n",
    "                         alpha2 * (1 + alpha1 * H1 * N1)])/denom\n",
    "    \n",
    "\n",
    "\n",
    "def fun_grad_F_1(N1,N2,F,xvec,**params):\n",
    "    to_return = np.zeros(len(F) + 2)\n",
    "    return to_return + F[0]\n",
    "def fun_grad_F_2(N1,N2,F,xvec,**params):\n",
    "    to_return = np.zeros(len(F) + 2)\n",
    "    return to_return + F[1]\n",
    "\n",
    "def fun_grad_F_mid_x(N1,N2,F,xvec,**params):\n",
    "    to_return = np.zeros(len(F) + 2)\n",
    "    return to_return + F[2]\n",
    "    \n",
    "def fun_grad_F_max_x(N1,N2,F,xvec,**params):\n",
    "    to_return = np.zeros(len(F) + 2)\n",
    "    return to_return + F[2]"
   ]
  },
  {
   "cell_type": "code",
   "execution_count": 115,
   "id": "d9616aad-7dc8-405e-8f32-7b521b319138",
   "metadata": {},
   "outputs": [],
   "source": [
    "H=1\n",
    "x_max = 10\n",
    "params_base = dict(η1 = 0.2, η2 = 0.4, A1 = 0.5, β1 = 8, β2 = 1, \n",
    "                   H1=H, H2=H, \n",
    "                  α1_of_1=0.05, α2_of_1=0.95, \n",
    "                  s1=2, s2=2, α2_fun_type = 'constant',\n",
    "                  x_max = x_max, ξ = 2, d = 10,\n",
    "                 Tx = .01, r = 0, γ = 0, pop_process = True)"
   ]
  },
  {
   "cell_type": "code",
   "execution_count": 116,
   "id": "6411c9e3-9e85-49eb-8300-8bd692536f10",
   "metadata": {},
   "outputs": [
    {
     "data": {
      "text/plain": [
       "array([[ 0.024375  ,  0.16243232,  0.22027348,  0.22387364,  0.22406302,\n",
       "         0.22407299,  0.22407351,  0.22407354,  0.22407354,  0.22407354],\n",
       "       [-0.011875  , -0.07913369, -0.10731272, -0.10906664, -0.10915891,\n",
       "        -0.10916376, -0.10916402, -0.10916403, -0.10916403, -0.10916403]])"
      ]
     },
     "execution_count": 116,
     "metadata": {},
     "output_type": "execute_result"
    }
   ],
   "source": [
    "xvec = np.arange(1,11,1); N1 =1; N2=1;\n",
    "F = np.array([1,0,0,0,0,0,0,0,0,0,])\n",
    "fun_grad_func_response(1,xvec, N1, N2, **params_base.copy())"
   ]
  },
  {
   "cell_type": "code",
   "execution_count": 120,
   "id": "55132689-40aa-4d2e-99f7-134a925a73a4",
   "metadata": {},
   "outputs": [
    {
     "ename": "ValueError",
     "evalue": "operands could not be broadcast together with shapes (2,2) (10,) ",
     "output_type": "error",
     "traceback": [
      "\u001b[0;31m---------------------------------------------------------------------------\u001b[0m",
      "\u001b[0;31mValueError\u001b[0m                                Traceback (most recent call last)",
      "Cell \u001b[0;32mIn[120], line 1\u001b[0m\n\u001b[0;32m----> 1\u001b[0m \u001b[43mfun_grad_U_i\u001b[49m\u001b[43m(\u001b[49m\u001b[38;5;241;43m1\u001b[39;49m\u001b[43m,\u001b[49m\u001b[43m \u001b[49m\u001b[43mN1\u001b[49m\u001b[43m,\u001b[49m\u001b[43mN2\u001b[49m\u001b[43m,\u001b[49m\u001b[43mF\u001b[49m\u001b[43m,\u001b[49m\u001b[43m \u001b[49m\u001b[43mxvec\u001b[49m\u001b[43m,\u001b[49m\u001b[43m  \u001b[49m\u001b[38;5;241;43m*\u001b[39;49m\u001b[38;5;241;43m*\u001b[39;49m\u001b[43mparams_base\u001b[49m\u001b[38;5;241;43m.\u001b[39;49m\u001b[43mcopy\u001b[49m\u001b[43m(\u001b[49m\u001b[43m)\u001b[49m\u001b[43m)\u001b[49m\n",
      "Cell \u001b[0;32mIn[118], line 28\u001b[0m, in \u001b[0;36mfun_grad_U_i\u001b[0;34m(i, N1, N2, F, xvec, η1, η2, A1, **params)\u001b[0m\n\u001b[1;32m     24\u001b[0m Ai \u001b[38;5;241m=\u001b[39m Avec[i\u001b[38;5;241m-\u001b[39m\u001b[38;5;241m1\u001b[39m]; ηi \u001b[38;5;241m=\u001b[39m ηvec[i\u001b[38;5;241m-\u001b[39m\u001b[38;5;241m1\u001b[39m]; Ni \u001b[38;5;241m=\u001b[39m np\u001b[38;5;241m.\u001b[39marray([N1,N2])[i\u001b[38;5;241m-\u001b[39m\u001b[38;5;241m1\u001b[39m]\n\u001b[1;32m     26\u001b[0m grad_Y_i \u001b[38;5;241m=\u001b[39m fun_grad_func_response(i,xvec, N1,N2,\u001b[38;5;241m*\u001b[39m\u001b[38;5;241m*\u001b[39mparams)\n\u001b[0;32m---> 28\u001b[0m grad_sum_F_Y \u001b[38;5;241m=\u001b[39m Avec[i\u001b[38;5;241m-\u001b[39m\u001b[38;5;241m1\u001b[39m]\u001b[38;5;241m*\u001b[39mnp\u001b[38;5;241m.\u001b[39msum(\u001b[43mgrad_Y_i\u001b[49m\u001b[38;5;241;43m*\u001b[39;49m\u001b[43mF\u001b[49m,\u001b[38;5;241m1\u001b[39m)\n\u001b[1;32m     29\u001b[0m \u001b[38;5;28mprint\u001b[39m(grad_sum_F_Y)\n\u001b[1;32m     31\u001b[0m delUi_Ni \u001b[38;5;241m=\u001b[39m ηi \u001b[38;5;241m*\u001b[39m (\u001b[38;5;241m1\u001b[39m \u001b[38;5;241m-\u001b[39m \u001b[38;5;241m2\u001b[39m\u001b[38;5;241m*\u001b[39mNi) \u001b[38;5;241m-\u001b[39m grad_sum_F_Y[i\u001b[38;5;241m-\u001b[39m\u001b[38;5;241m1\u001b[39m]\n",
      "\u001b[0;31mValueError\u001b[0m: operands could not be broadcast together with shapes (2,2) (10,) "
     ]
    }
   ],
   "source": [
    "fun_grad_U_i(1, N1,N2,F, xvec,  **params_base.copy())"
   ]
  },
  {
   "cell_type": "code",
   "execution_count": 119,
   "id": "3313c753-3681-4a6b-a800-f98a4372a75c",
   "metadata": {},
   "outputs": [
    {
     "ename": "TypeError",
     "evalue": "fun_grad_func_response() missing 2 required positional arguments: 'H1' and 'H2'",
     "output_type": "error",
     "traceback": [
      "\u001b[0;31m---------------------------------------------------------------------------\u001b[0m",
      "\u001b[0;31mTypeError\u001b[0m                                 Traceback (most recent call last)",
      "Cell \u001b[0;32mIn[119], line 2\u001b[0m\n\u001b[1;32m      1\u001b[0m xvec \u001b[38;5;241m=\u001b[39m np\u001b[38;5;241m.\u001b[39marray([\u001b[38;5;241m1\u001b[39m,\u001b[38;5;241m2\u001b[39m])\n\u001b[0;32m----> 2\u001b[0m \u001b[43mfun_grad_U_i\u001b[49m\u001b[43m(\u001b[49m\u001b[43mxvec\u001b[49m\u001b[43m,\u001b[49m\u001b[38;5;241;43m0.5\u001b[39;49m\u001b[43m,\u001b[49m\u001b[38;5;241;43m0.4\u001b[39;49m\u001b[43m,\u001b[49m\u001b[43m[\u001b[49m\u001b[38;5;241;43m0.5\u001b[39;49m\u001b[43m,\u001b[49m\u001b[38;5;241;43m0.2\u001b[39;49m\u001b[43m,\u001b[49m\u001b[38;5;241;43m1\u001b[39;49m\u001b[43m]\u001b[49m\u001b[43m,\u001b[49m\u001b[43m[\u001b[49m\u001b[43m]\u001b[49m\u001b[43m,\u001b[49m\u001b[38;5;241;43m*\u001b[39;49m\u001b[38;5;241;43m*\u001b[39;49m\u001b[38;5;28;43mdict\u001b[39;49m\u001b[43m(\u001b[49m\u001b[43mη1\u001b[49m\u001b[43m \u001b[49m\u001b[38;5;241;43m=\u001b[39;49m\u001b[43m \u001b[49m\u001b[38;5;241;43m.1\u001b[39;49m\u001b[43m,\u001b[49m\u001b[43m \u001b[49m\u001b[43mη2\u001b[49m\u001b[43m \u001b[49m\u001b[38;5;241;43m=\u001b[39;49m\u001b[43m \u001b[49m\u001b[38;5;241;43m.3\u001b[39;49m\u001b[43m,\u001b[49m\u001b[43m \u001b[49m\u001b[43mA1\u001b[49m\u001b[43m \u001b[49m\u001b[38;5;241;43m=\u001b[39;49m\u001b[43m \u001b[49m\u001b[38;5;241;43m0.5\u001b[39;49m\u001b[43m)\u001b[49m\u001b[43m)\u001b[49m\n",
      "Cell \u001b[0;32mIn[118], line 26\u001b[0m, in \u001b[0;36mfun_grad_U_i\u001b[0;34m(i, N1, N2, F, xvec, η1, η2, A1, **params)\u001b[0m\n\u001b[1;32m     23\u001b[0m ηvec \u001b[38;5;241m=\u001b[39m np\u001b[38;5;241m.\u001b[39marray([η1,η2])\n\u001b[1;32m     24\u001b[0m Ai \u001b[38;5;241m=\u001b[39m Avec[i\u001b[38;5;241m-\u001b[39m\u001b[38;5;241m1\u001b[39m]; ηi \u001b[38;5;241m=\u001b[39m ηvec[i\u001b[38;5;241m-\u001b[39m\u001b[38;5;241m1\u001b[39m]; Ni \u001b[38;5;241m=\u001b[39m np\u001b[38;5;241m.\u001b[39marray([N1,N2])[i\u001b[38;5;241m-\u001b[39m\u001b[38;5;241m1\u001b[39m]\n\u001b[0;32m---> 26\u001b[0m grad_Y_i \u001b[38;5;241m=\u001b[39m \u001b[43mfun_grad_func_response\u001b[49m\u001b[43m(\u001b[49m\u001b[43mi\u001b[49m\u001b[43m,\u001b[49m\u001b[43mxvec\u001b[49m\u001b[43m,\u001b[49m\u001b[43m \u001b[49m\u001b[43mN1\u001b[49m\u001b[43m,\u001b[49m\u001b[43mN2\u001b[49m\u001b[43m,\u001b[49m\u001b[38;5;241;43m*\u001b[39;49m\u001b[38;5;241;43m*\u001b[39;49m\u001b[43mparams\u001b[49m\u001b[43m)\u001b[49m\n\u001b[1;32m     28\u001b[0m grad_sum_F_Y \u001b[38;5;241m=\u001b[39m Avec[i\u001b[38;5;241m-\u001b[39m\u001b[38;5;241m1\u001b[39m]\u001b[38;5;241m*\u001b[39mnp\u001b[38;5;241m.\u001b[39msum(grad_Y_i\u001b[38;5;241m*\u001b[39mF,\u001b[38;5;241m1\u001b[39m)\n\u001b[1;32m     29\u001b[0m \u001b[38;5;28mprint\u001b[39m(grad_sum_F_Y)\n",
      "\u001b[0;31mTypeError\u001b[0m: fun_grad_func_response() missing 2 required positional arguments: 'H1' and 'H2'"
     ]
    }
   ],
   "source": [
    "xvec = np.array([1,2])\n",
    "fun_grad_U_i(xvec,0.5,0.4,[0.5,0.2,1],[],**dict(η1 = .1, η2 = .3, A1 = 0.5))"
   ]
  },
  {
   "cell_type": "code",
   "execution_count": 45,
   "id": "1b3a008c-9740-49bf-acbc-b1d2ab0db872",
   "metadata": {},
   "outputs": [
    {
     "data": {
      "text/plain": [
       "array([[1. , 1. , 1. , 1. , 1. ],\n",
       "       [2. , 2. , 2. , 2. , 2. ],\n",
       "       [0.5, 0.5, 0.5, 0.5, 0.5],\n",
       "       [0.2, 0.2, 0.2, 0.2, 0.2],\n",
       "       [1. , 1. , 1. , 1. , 1. ]])"
      ]
     },
     "execution_count": 45,
     "metadata": {},
     "output_type": "execute_result"
    }
   ],
   "source": [
    "fun_Jac(0.5,0.4,[0.5,0.2,1],3,**dict(η1 = .1, η2 = .3, A1 = 0.5))"
   ]
  },
  {
   "cell_type": "code",
   "execution_count": null,
   "id": "c69d4f05-052d-4ff5-b6a2-1cf016d4edb5",
   "metadata": {},
   "outputs": [],
   "source": []
  }
 ],
 "metadata": {
  "kernelspec": {
   "display_name": "Python 3 (ipykernel)",
   "language": "python",
   "name": "python3"
  },
  "language_info": {
   "codemirror_mode": {
    "name": "ipython",
    "version": 3
   },
   "file_extension": ".py",
   "mimetype": "text/x-python",
   "name": "python",
   "nbconvert_exporter": "python",
   "pygments_lexer": "ipython3",
   "version": "3.9.6"
  }
 },
 "nbformat": 4,
 "nbformat_minor": 5
}
