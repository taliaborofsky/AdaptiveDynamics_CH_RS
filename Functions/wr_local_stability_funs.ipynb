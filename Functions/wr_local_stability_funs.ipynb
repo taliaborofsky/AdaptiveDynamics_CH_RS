{
 "cells": [
  {
   "cell_type": "code",
   "execution_count": 1,
   "id": "3e123b49-cf51-4c8e-9040-ff3859a87724",
   "metadata": {},
   "outputs": [],
   "source": [
    "# Local Stability"
   ]
  },
  {
   "cell_type": "code",
   "execution_count": 32,
   "id": "e5ce8d11-799d-4008-ac9f-a5bd2c435b04",
   "metadata": {},
   "outputs": [],
   "source": [
    "import numpy as np\n",
    "from fitness_funs_non_dim import *\n",
    "from group_w_pop_funs import *\n",
    "from pop_dyn_non_dim_one_x import *\n",
    "from scipy.optimize import fsolve\n",
    "import matplotlib.pyplot as plt\n"
   ]
  },
  {
   "cell_type": "markdown",
   "id": "3f420962-5282-4acd-b397-3f0061e6c4d7",
   "metadata": {},
   "source": [
    "# Functions"
   ]
  },
  {
   "cell_type": "code",
   "execution_count": 2,
   "id": "11a6507e-128c-4f95-8936-d2eede60c151",
   "metadata": {},
   "outputs": [
    {
     "name": "stdout",
     "output_type": "stream",
     "text": [
      "Overwriting local_stability_funs.py\n"
     ]
    }
   ],
   "source": [
    "%%writefile local_stability_funs.py\n",
    "import numpy as np\n",
    "from fitness_funs_non_dim import *\n",
    "from group_w_pop_funs import *\n",
    "from scipy.linalg import eigvals\n",
    "\n",
    "def fun_Jac(N1,N2,gvec,**params):\n",
    "    x_max = params['x_max']\n",
    "    xvec = np.arange(1,x_max+1,1)\n",
    "    size = len(gvec)+2\n",
    "\n",
    "\n",
    "    # stuff used for multiple rows that speeds it up\n",
    "    # the gradient of f(x) vs N1, N2 for x = 1, 2, ..., x_max. \n",
    "    # rows correspond to N1, N2. columns to x\n",
    "    \n",
    "    grad_f_1 = fun_grad_func_response(1,xvec,N1,N2,**params)\n",
    "    grad_f_2 = fun_grad_func_response(2,xvec,N1,N2,**params)\n",
    "    \n",
    "    Jac = np.zeros((size,size))\n",
    "    Jac[0,:] = fun_grad_big_prey(N1, N2, gvec, grad_f_1, **params)\n",
    "    Jac[1,:] = fun_grad_small_prey(N1, N2, gvec, grad_f_2, **params)\n",
    "    Jac[2:,:] = fun_Jac_groups_helper(N1, N2, gvec, grad_f_1, grad_f_2, xvec, **params)\n",
    "\n",
    "    return Jac\n",
    "\n",
    "def fun_Jac_groups(N1, N2, gvec, params):\n",
    "    '''\n",
    "    Finds the Jacobian if N1, N2, p are constant\n",
    "    '''\n",
    "    x_max = params['x_max']\n",
    "    xvec = np.arange(1,x_max+1,1)\n",
    "\n",
    "    # the gradients of the functional responses relative to big prey and small prey\n",
    "    grad_f_1 = np.zeros((2,x_max))\n",
    "    grad_f_2 = np.zeros((2,x_max))\n",
    "\n",
    "\n",
    "    # the jacobian has two columns that need to be eliminated because they corrrespond to the gradient of dg/dt wrt N1, N2\n",
    "    Jac_need_to_trim = fun_Jac_groups_helper(N1, N2, gvec, grad_f1, grad_f_2, xvec, **params)\n",
    "\n",
    "    Jac = Jac[:, 2:]\n",
    "    return Jac\n",
    "    \n",
    "    \n",
    "def fun_grad_func_response(i,x, N1,N2, A1, A2, **params):\n",
    "    '''\n",
    "    The gradient of the (scaled) functional response on prey i wrt N1, N2\n",
    "    returns an array with 2 rows (N1, N2) and x_max columns\n",
    "    '''\n",
    "    alpha1 = fun_alpha1(x,**params)\n",
    "    alpha2 = fun_alpha2(x,**params)\n",
    "    H1 = fun_H1(x,**params)\n",
    "    H2 = fun_H2(x,**params)\n",
    "    denom = (1 + alpha1 * H1 * N1 + alpha2 * N2 * H2)**2\n",
    "    if i == 1:\n",
    "        return np.array([ A1 * alpha1*(1 + alpha2 * H2 * N2), \n",
    "                         - A1 * alpha1 * alpha2 * H2 * N1])/denom\n",
    "    elif i == 2:\n",
    "        return np.array([ - A2 * alpha1 * alpha2 * H1 * N2,\n",
    "                         A2 * alpha2 * (1 + alpha1 * H1 * N1)])/denom\n",
    "\n",
    "def fun_grad_big_prey(N1,N2,gvec, grad_f_1, η1, x_max, **params):\n",
    "    '''\n",
    "    return gradient of big prey vs n1, n2, g(1), .. g(x)\n",
    "    '''\n",
    "    \n",
    "    # the sum of  g(x) * [ del g_1/ del N_1, del g_1 / del N_2]\n",
    "    grad_sum_g_y = np.sum(grad_f_1 * gvec,1)\n",
    "    \n",
    "    delU1_N1 = η1 * (1 - 2 * N1) - grad_sum_g_y[0] \n",
    "    delU1_N2 = - grad_sum_g_y[1]\n",
    "\n",
    "    xvec = np.arange(1,x_max+1,1)\n",
    "    f1_vec = fun_response_non_dim(xvec, N1, N2, 1,**params)\n",
    "    delU1_g = - f1_vec\n",
    "\n",
    "    to_return = np.array([delU1_N1, delU1_N2, *delU1_g])\n",
    "\n",
    "    return to_return\n",
    "\n",
    "def fun_grad_small_prey(N1,N2,gvec, grad_f_2, η2,  x_max, **params):\n",
    "    '''\n",
    "    return gradient of small prey vs n1, n2, g(1), .. g(x)\n",
    "    '''\n",
    "\n",
    "    # the sum of g(x) * [ del f_2/ del N_1, del f_2 / del N_2]\n",
    "    grad_sum_g_y = np.sum(grad_f_2 * gvec,1)\n",
    "\n",
    "    delU2_N1 = - grad_sum_g_y[0]\n",
    "    delU2_N2 = η2 * (1 - 2 * N2) - grad_sum_g_y[1]\n",
    "\n",
    "    xvec = np.arange(1,x_max+1,1)\n",
    "    f2_vec = fun_response_non_dim(xvec,N1,N2,2,**params)\n",
    "    delU2_g = - f2_vec\n",
    "\n",
    "    to_return = np.array([delU2_N1, delU2_N2, *delU2_g])\n",
    "\n",
    "    return to_return\n",
    "\n",
    "\n",
    "    \n",
    "def fun_Jac_groups_helper(N1, N2, gvec, grad_f_1, grad_f_2, xvec, x_max, Tx, d,\n",
    "                   η1, η2, **params):\n",
    "    \n",
    "    Jac = np.zeros((len(gvec),len(gvec)+2))\n",
    "\n",
    "    # some of the calculations i'll need ready for the actual partial derivatives \n",
    "    # of the master equation of dg(x)/dt for x = 1,2, ... , x_max\n",
    "\n",
    "    \n",
    "    partial_π = params['β1'] * grad_f_1 + params['β2'] * grad_f_2 # p.d.v. of yield (pi) vs N1, N2 (rows)\n",
    "                            # for x = 1, 2, ... ,x_max (columns)\n",
    "    π_vec = yield_from_prey_non_dim(xvec, N1, N2, **params) # yield from\n",
    "    fitnessvec = π_vec/xvec\n",
    "\n",
    "    # partial derivative of S(1,x) wrt N1, N2 for x = 1, 2, ...,x_max\n",
    "    # form [[dS(1,2)/dN1, dS(1,2)/dN2], ..., [dS(1,x_max)/dN1, dS(1,x_max/dN2]]... so rows correspond to x\n",
    "    partial_S_vec = [fun_partial_S_wrt_prey(N1, N2, x, fitnessvec, π_vec, partial_π, d,**params) \\\n",
    "                                 for x in range(2,x_max+1)]\n",
    "\n",
    "    S_x_1_vec = [best_response_fun_given_fitness(x,1,fitnessvec,d) for x in range(2,x_max+1)]\n",
    "    td = 1 - η1 - η2\n",
    "    def g(x):\n",
    "        return gvec[x-1]\n",
    "    def partial_S(x):\n",
    "        # grad S(1,x) wrt N1, N2\n",
    "        return partial_S_vec[x-2]\n",
    "    def S(x,y=1):\n",
    "        # NEED TO CHECK\n",
    "        if y == 1:\n",
    "            return S_x_1_vec[x-2]\n",
    "        if x == 1:\n",
    "            return 1 - S_x_1_vec[y-2]\n",
    "        #return best_response_fun_given_fitness(x,y,fitnessvec,d) # old way that recalculates each time\n",
    "    def π(x):\n",
    "        return π_vec[x-1]\n",
    "\n",
    "    # first row. splitting into portion from group fission/fusion and pop processes\n",
    "    Q1_Ni_group = (1/Tx) * (2*g(2) * partial_S(2) + \\\n",
    "                       np.sum(np.array([partial_S(x) * ( x * g(x) + g(1) * g(x-1)) \\\n",
    "                               for x in range(2,x_max+1)]),0))\n",
    "    Q1_Ni_pop = g(x_max) * partial_π[:,-1] - g(1) * partial_π[:,0]\n",
    "    Q1_Ni = Q1_Ni_group + Q1_Ni_pop\n",
    "    \n",
    "\n",
    "    Q1_g1 = (-2*g(1)*S(2) - sum([g(x-1)*S(x,1) \\\n",
    "                                       for x in range(3,x_max+1)]))/Tx - π(1) - td\n",
    "    Q1_g2 = (4*S(1,2) - g(1)*S(3,1))/Tx + 2*td\n",
    "    Q1_gx = [(x*S(1,x) - g(1)*S(x+1,1))/Tx for x in range(3,x_max)] #FILL IN\n",
    "    Q1_gxmax = x_max*S(1,x_max)/Tx + π(x_max)\n",
    "    Jac[0,:] = np.array([*Q1_Ni, Q1_g1, Q1_g2, *Q1_gx, Q1_gxmax])\n",
    "    \n",
    "\n",
    "    # second row\n",
    "    Q2_Ni = (1/Tx) * ( - partial_S(2) * (2*g(2) + 0.5*(g(1))**2) \\\n",
    "                            + partial_S(3)*(3*g(3) + g(1)*g(2))) \\\n",
    "                        + g(1)*partial_π[:,0] - g(2)*partial_π[:,1]\n",
    "    Q2_g = np.zeros(len(gvec))\n",
    "    Q2_g[0] = (1/Tx)* (g(1) * S(2,1) - g(2) * S(3,1)) + π(1)# partial wrt g(1)\n",
    "    Q2_g[1] = -(1/Tx) * (2* S(1,2) + g(1)*S(3,1)) - π(2) - 2*td\n",
    "    Q2_g[2] = (3/Tx)*S(1,3) + 3 * td\n",
    "    \n",
    "    Jac[1,:] = np.array([*Q2_Ni, *Q2_g])\n",
    "    \n",
    "\n",
    "    # 3rd through 2nd to last row (for 2 < x < x_max)\n",
    "    \n",
    "    for x in range(3,x_max):\n",
    "        Qx_Ni = (1/Tx) * (partial_S(x+1) *( (x+1)*g(x+1) + g(1)*g(x) ) \\\n",
    "                          - partial_S(x)*(x*g(x) + g(1)*g(x-1)))\\\n",
    "                    + g(x-1)*partial_π[:,x-2] - g(x) * partial_π[:,x-1]\n",
    "        \n",
    "        Qx_g = np.zeros(len(gvec))\n",
    "        \n",
    "        Qx_g[0] = (1/Tx)* (g(x-1)*S(x,1) - g(x)*S(x+1,1)) # wrt g(1)\n",
    "        Qx_g[x-2] = (1/Tx) * g(1)*S(x,1) + π(x-1) # wrt g(x-1)\n",
    "        Qx_g[x-1] = -(1/Tx) * (x*S(1,x) + g(1)*S(x+1,1)) - π(x) - x*td # wrt g(x)\n",
    "        Qx_g[x] = (1/Tx)*(x+1)*S(1,x+1) + (x+1)*td # wrt g(x+1)\n",
    "\n",
    "        Jac[x-1,:] = np.array([*Qx_Ni,*Qx_g])\n",
    "\n",
    "\n",
    "    # last row, g(x_max)\n",
    "    Qxmax_Ni = -(1/Tx)*partial_S(x_max) * (x_max*g(x_max) + g(1)*g(x_max-1)) \\\n",
    "                + g(x_max-1)*partial_π[:,x_max-2] \n",
    "    Qxmax_g = np.zeros(len(gvec))\n",
    "    Qxmax_g[0] = (1/Tx)*g(x_max-1)*S(x_max,1)\n",
    "    Qxmax_g[x_max-2] = (1/Tx)*g(1)*S(x_max,1) + π(x_max-1) # wrt g(x-1)\n",
    "    Qxmax_g[x_max-1] = -(1/Tx)*x_max*S(1,x_max) - x_max*td\n",
    "    Jac[-1,:] = np.array([*Qxmax_Ni, *Qxmax_g])\n",
    "                                           \n",
    "    \n",
    "    return Jac\n",
    "    \n",
    "def fun_partial_S_wrt_prey(N1, N2, x, π_vec, fitnessvec, partial_π,\n",
    "                           d, **params):\n",
    "    '''\n",
    "    partial derivative of S(1,x) wrt N1, N2 for a specified x\n",
    "    array with 2 entries corresponding to N1, N2\n",
    "    '''\n",
    "    \n",
    "    S_1_x = best_response_fun_given_fitness(1,x,fitnessvec,d)\n",
    "    S_x_1 = 1 - S_1_x\n",
    "\n",
    "    partial_π_of_1 = partial_π[:,0] # [ \\partial π(1) / \\partial N_1, \\partial π(1) / \\partial N_2]\n",
    "    partial_π_of_x = partial_π[:,x-1] # [ \\partial π(x) / \\partial N_1, \\partial π(x) / \\partial N_2]\n",
    "    π_of_1 = π_vec[0] # π(1)\n",
    "    π_of_x = π_vec[x-1] # π(x)\n",
    "\n",
    "    partial_S_1_x = d*S_1_x * S_x_1 * ( partial_π_of_1 * 1 / π_vec[0] \\\n",
    "                                   - partial_π_of_x * 1 / π_of_x)\n",
    "    \n",
    "    return partial_S_1_x\n",
    "    \n",
    "\n",
    "        \n",
    "\n",
    "\n",
    "\n",
    "def classify_stability(J):\n",
    "    '''\n",
    "    Compute the eigenvalues of the Jacobian matrix\n",
    "    returns \"Stable (attractive)\", \"Unstable\", \"Marginally stable (needs further analysis)\",\n",
    "    or \"Indeterminate stability (needs further analysis)\"\n",
    "    '''\n",
    "    # Compute the eigenvalues of the Jacobian matrix\n",
    "    eigenvalues = np.linalg.eigvals(J)\n",
    "    \n",
    "    # Check the real parts of the eigenvalues\n",
    "    real_parts = np.real(eigenvalues)\n",
    "    \n",
    "    # Classify the stability based on the real parts of the eigenvalues\n",
    "    if np.all(real_parts < 0):\n",
    "        return \"Stable (attractive)\"\n",
    "    elif np.any(real_parts > 0):\n",
    "        return \"Unstable\"\n",
    "    elif np.all(real_parts <= 0):\n",
    "        return \"Marginally stable (needs further analysis)\"\n",
    "    else:\n",
    "        return \"Indeterminate stability (needs further analysis)\"\n",
    "\n",
    "def classify_equilibrium(equilibrium, params):\n",
    "    '''\n",
    "    equilibrium = [N1, N2, *gvec]\n",
    "    @ returns: stability (string)\n",
    "\n",
    "    Note: stability is one of:\n",
    "    \"Stable (attractive)\", \"Unstable\", \n",
    "    \"Marginally stable (needs further analysis)\",\n",
    "    or \"Indeterminate stability (needs further analysis)\"\n",
    "    '''\n",
    "    [N1,N2,*gvec] = equilibrium\n",
    "    J = fun_Jac(N1,N2,gvec,**params) \n",
    "    if not np.isfinite(J).all():\n",
    "        print(J)\n",
    "        print(equilibrium)\n",
    "        print(params)\n",
    "    stability = classify_stability(J)\n",
    "    \n",
    "    return stability\n",
    "# def fun_jacobian_one_grp(P, N1, N2, x, η1, η2, A1, β1, β2, **params):\n",
    "#     H1 = params['H1']\n",
    "#     H2=params['H2']\n",
    "#     Y1 = fun_Y1(N1,N2,x,**params)\n",
    "#     Y2 = fun_Y2(N1,N2,x,**params)\n",
    "#     α2 = fun_alpha2(x, **params)\n",
    "#     α1 = fun_alpha1(x, **params)\n",
    "#     td = 1 - η1 - η2\n",
    "#     A2 = 1 - A1\n",
    "    \n",
    "#     J = np.zeros((3, 3))\n",
    "\n",
    "#     J[0, 0] = -td + (1/x) * (β1 * Y1 + β2 * Y2)\n",
    "#     J[0, 1] = P / x * β1 * (α1 / (1 + H1 * α1 * N1 + H2 * α2 * N2)**2)\n",
    "#     J[0, 2] = P / x * β2 * (α2 / (1 + H1 * α1 * N1 + H2 * α2 * N2)**2)\n",
    "    \n",
    "    \n",
    "#     J[1, 0] = -A1 * Y1 / x\n",
    "#     J[1, 1] = η1 * (1 - 2 * N1) - P / x * A1 * (α1 / (1 + H1 * α1 * N1 + H2 * α2 * N2)**2)\n",
    "#     J[1, 2] = -P / x * A1 * (α1 * α2 * H2 * N2 / (1 + H1 * α1 * N1 + H2 * α2 * N2)**2)\n",
    "    \n",
    "    \n",
    "#     J[2, 0] = -A2 * Y2 / x\n",
    "#     J[2, 1] = -P / x * A2 * (α2 * α1 * H1 * N1 / (1 + H1 * α1 * N1 + H2 * α2 * N2)**2)\n",
    "#     J[2, 2] = η2 * (1 - 2 * N2) - P / x * A2 * (α2 / (1 + H1 * α1 * N1 + H2 * α2 * N2)**2)\n",
    "    \n",
    "#     return J\n",
    "\n",
    "''' \n",
    "this needs to be fixed: \n",
    "'''\n",
    "def fun_Jac_groups_nopop(N1, N2, gvec, x_max, Tx, d, **params):\n",
    "    '''\n",
    "    Finds the Jacobian for group dynamics with no populatin dynamics\n",
    "    '''\n",
    "    \n",
    "    Jac = np.zeros((len(gvec),len(gvec)+2))\n",
    "    \n",
    "    def g(x):\n",
    "        return gvec[x-1]\n",
    "    def S(x,y=1):\n",
    "        return best_response_fun_given_fitness(x,y,fitnessvec,d)\n",
    "\n",
    "        \n",
    "    # first row    \n",
    "    Q1_g1 = (-2*g(1)*S(2,1) - sum([g(x)*S(x+1,1) \\\n",
    "                                       for x in range(2,x_max)]))/Tx \n",
    "    Q1_g2 = (4*(1-S(2)) - g(1)*S(3))/Tx \n",
    "    Q1_gx = [(x*(1-S(x)) - g(1)*S(x+1))/Tx for x in range(3,x_max)] #FILL IN\n",
    "    Q1_gxmax = x_max*(1 - S(x_max))/Tx \n",
    "    Jac[0,:] = np.array([Q1_g1, Q1_g2, *Q1_gx, Q1_gxmax])\n",
    "\n",
    "    # second row\n",
    "    Q2_g = np.zeros(len(gvec))\n",
    "    Q2_g[0] = (1/Tx)* (g(1) * S(2) - g(2) * S(3)) # partial wrt g(1)\n",
    "    Q2_g[1] = -(1/Tx) * (2* (1 - S(2)) + g(1)*S(3)) \n",
    "    Q2_g[2] = (3/Tx)*(1 - S(3)) \n",
    "    \n",
    "    Jac[1,:] = Q2_g\n",
    "\n",
    "    # 3rd through 2nd to last row (for 2 < x < x_max)\n",
    "    \n",
    "    for x in range(3,x_max):\n",
    "        \n",
    "        Qx_g = np.zeros(len(gvec))\n",
    "        \n",
    "        Qx_g[0] = (1/Tx)* (g(x-1)*S(x) - g(x)*S(x+1)) # wrt g(1)\n",
    "        Qx_g[x-2] = (1/Tx) * g(1)*S(x) # wrt g(x-1)\n",
    "        Qx_g[x-1] = -(1/Tx) * (x*(1 - S(x)) + g(1)*S(x+1)) # wrt g(x)\n",
    "        Qx_g[x] = (1/Tx)*(x+1)*(1-S(x+1)) # wrt g(x+1)\n",
    "\n",
    "        Jac[x-1,:] = Qx_g\n",
    "\n",
    "\n",
    "\n",
    "    Qxmax_g = np.zeros(len(gvec))\n",
    "    Qxmax_g[0] = (1/Tx)*g(x_max-1)*S(x_max,1)\n",
    "    Qxmax_g[x_max-2] = (1/Tx)*g(1)*S(x_max,1)  # wrt g(x-1)\n",
    "    Qxmax_g[x_max-1] = -(1/Tx)*x_max*S(1,x_max) \n",
    "    Jac[-1,:] = Qxmax_g\n",
    "                                           \n",
    "    \n",
    "    return Jac"
   ]
  },
  {
   "cell_type": "markdown",
   "id": "b4adfb70-e648-41fd-9fc2-cab4c4ae2f01",
   "metadata": {},
   "source": [
    "# Check"
   ]
  },
  {
   "cell_type": "code",
   "execution_count": 1,
   "id": "39d8e7e4-2337-4ecc-86fd-20961141064b",
   "metadata": {},
   "outputs": [],
   "source": [
    "from group_w_pop_funs import bounded_ivp\n",
    "from bif_diagram_funs import update_params, get_perturbations\n",
    "from equilibria_funs import iterate_to_eq"
   ]
  },
  {
   "cell_type": "code",
   "execution_count": 16,
   "id": "5c92619d-e138-40e0-98e8-66ca0fde3204",
   "metadata": {},
   "outputs": [],
   "source": [
    "H = 1\n",
    "x_max = 5\n",
    "params_base = dict(η1 = 0.2, η2 = 0.5, A = 0.5, β1 = 8, β2 = 1, H1=H, H2=H, \n",
    "                  α1_of_1=0.05, α2_of_1=0.95, \n",
    "                  s1=2, s2=2, α2_fun_type = 'constant',\n",
    "                  x_max = x_max, d = 10,\n",
    "                 Tx = .01, pop_process = True)\n",
    "params = update_params(\"scale\", 12, params_base)\n",
    "\n",
    "initialstate = [0.7, 0.7, 1,1,1,1e-4,1e-4]\n",
    "equilibrium, success, timederivatives = iterate_to_eq(\n",
    "    np.array(initialstate), t_f=1100, params=params\n",
    ")\n",
    "equilibrium_nomean = np.array(equilibrium)[:-1]\n",
    "perturbations = get_perturbations(equilibrium_nomean, 5, .01)"
   ]
  },
  {
   "cell_type": "code",
   "execution_count": 4,
   "id": "6606c7c3-a3f3-465f-baf8-e4052bcf4a44",
   "metadata": {},
   "outputs": [
    {
     "ename": "NameError",
     "evalue": "name 'equilibrium' is not defined",
     "output_type": "error",
     "traceback": [
      "\u001b[0;31m---------------------------------------------------------------------------\u001b[0m",
      "\u001b[0;31mNameError\u001b[0m                                 Traceback (most recent call last)",
      "Cell \u001b[0;32mIn[4], line 1\u001b[0m\n\u001b[0;32m----> 1\u001b[0m \u001b[43mequilibrium\u001b[49m\n",
      "\u001b[0;31mNameError\u001b[0m: name 'equilibrium' is not defined"
     ]
    }
   ],
   "source": [
    "equilibrium"
   ]
  },
  {
   "cell_type": "code",
   "execution_count": 19,
   "id": "cc9c0e13-4892-42be-8266-112b7928890d",
   "metadata": {},
   "outputs": [
    {
     "name": "stdout",
     "output_type": "stream",
     "text": [
      "[0. 0. 0. 0. 0. 0. 0. 0.]\n",
      "True\n",
      "[0. 0. 0. 0. 0. 0. 0. 0.]\n",
      "True\n",
      "[0. 0. 0. 0. 0. 0. 0. 0.]\n",
      "True\n",
      "[0. 0. 0. 0. 0. 0. 0. 0.]\n",
      "True\n",
      "[0. 0. 0. 0. 0. 0. 0. 0.]\n",
      "True\n"
     ]
    }
   ],
   "source": [
    "for item in perturbations:\n",
    "    curr, success, timederivatives = iterate_to_eq(\n",
    "        np.array(initialstate), t_f=1100, params=params\n",
    "    )\n",
    "    print(np.abs(curr - equilibrium))\n",
    "    print(success)\n",
    "    "
   ]
  },
  {
   "cell_type": "code",
   "execution_count": 21,
   "id": "9f8c3af4-4561-4c1a-9a3b-19b743d4d9ff",
   "metadata": {},
   "outputs": [
    {
     "data": {
      "text/plain": [
       "'Stable (attractive)'"
      ]
     },
     "execution_count": 21,
     "metadata": {},
     "output_type": "execute_result"
    }
   ],
   "source": [
    "[N1,N2,*gvec] = curr[:-1]\n",
    "jac = fun_Jac(N1,N2,gvec,**params)\n",
    "classify_stability(jac)"
   ]
  },
  {
   "cell_type": "code",
   "execution_count": null,
   "id": "74c00dcc-1953-4feb-b26e-dde365d08549",
   "metadata": {},
   "outputs": [],
   "source": [
    "# since iterated to this, it should be stable"
   ]
  },
  {
   "cell_type": "code",
   "execution_count": 4,
   "id": "5f0f5012-f23a-4f21-b309-81d62185ca59",
   "metadata": {},
   "outputs": [],
   "source": [
    "H=1\n",
    "x_max = 4\n",
    "params_base = dict(η1 = 0.2, η2 = 0.4, A = 0.5, β1 = 8, β2 = 1, \n",
    "                   H1=H, H2=H, \n",
    "                  α1_of_1=0.05, α2_of_1=0.95, \n",
    "                  s1=2, s2=2, α2_fun_type = 'constant',\n",
    "                  x_max = x_max, d = 10,\n",
    "                 Tx = .01, r = 0, γ = 0, pop_process = True)\n"
   ]
  },
  {
   "cell_type": "markdown",
   "id": "08744272-8820-442d-804a-1aef51ec3132",
   "metadata": {},
   "source": [
    "# One group Size"
   ]
  },
  {
   "cell_type": "code",
   "execution_count": 11,
   "id": "0a379013-42f9-4967-b3d9-47b58bfce4f2",
   "metadata": {},
   "outputs": [
    {
     "name": "stdout",
     "output_type": "stream",
     "text": [
      "Equilibrium: P=1.190, N1=0.818, N2=-0.000\n",
      "Jacobian at equilibrium:\n",
      "[[-3.00523560e-01  3.19999998e-01  3.79999999e-02]\n",
      " [ 1.73851696e-21 -1.47272728e-01  1.89951575e-19]\n",
      " [-4.97382199e-02 -1.55454545e-02  3.81000000e-01]]\n",
      "Eigenvalues of the Jacobian:\n",
      "[-0.29773891+0.j  0.37821535+0.j -0.14727273+0.j]\n",
      "The equilibrium is not locally stable.\n"
     ]
    },
    {
     "data": {
      "text/plain": [
       "'Unstable'"
      ]
     },
     "execution_count": 11,
     "metadata": {},
     "output_type": "execute_result"
    }
   ],
   "source": [
    "initial_guess = [1.0, 0.5, 0.5]\n",
    "x=9\n",
    "params=params_base.copy()\n",
    "equilibrium = fsolve(full_system_one_grp, initial_guess, args=(x,params))\n",
    "P_eq, N1_eq, N2_eq = equilibrium\n",
    "print(f'Equilibrium: P={P_eq:.3f}, N1={N1_eq:.3f}, N2={N2_eq:.3f}')\n",
    "J_eq = fun_jacobian_one_grp(P_eq, N1_eq, N2_eq, x, **params)\n",
    "print('Jacobian at equilibrium:')\n",
    "print(J_eq)\n",
    "\n",
    "# Calculate the eigenvalues of the Jacobian\n",
    "eigenvalues = eigvals(J_eq)\n",
    "print('Eigenvalues of the Jacobian:')\n",
    "print(eigenvalues)\n",
    "\n",
    "# Evaluate local stability\n",
    "if np.all(np.real(eigenvalues) < 0):\n",
    "    print('The equilibrium is locally stable.')\n",
    "else:\n",
    "    print('The equilibrium is not locally stable.')\n",
    "\n",
    "classify_stability(J_eq)"
   ]
  },
  {
   "cell_type": "markdown",
   "id": "732b2315-ac24-452c-b540-9fa9b2721789",
   "metadata": {},
   "source": [
    "# Multiple Group Sizes"
   ]
  },
  {
   "cell_type": "code",
   "execution_count": 30,
   "id": "a5b72c47-f9d0-481e-9d29-67b2685d51fb",
   "metadata": {},
   "outputs": [
    {
     "data": {
      "text/plain": [
       "'Stable (attractive)'"
      ]
     },
     "execution_count": 30,
     "metadata": {},
     "output_type": "execute_result"
    }
   ],
   "source": [
    "x_max = 4\n",
    "N1 = 1; N2 = 1; xvec = np.arange(1,x_max+1,1)\n",
    "params = params_base.copy()\n",
    "gvec = np.array([1, 1,0,0])\n",
    "J = fun_Jac(N1,N2,gvec,**params)\n",
    "evals = np.linalg.eigvals(fun_Jac(N1,N2,gvec,**params))\n",
    "classify_stability(J)"
   ]
  },
  {
   "cell_type": "code",
   "execution_count": 12,
   "id": "395c0563-3e7b-486d-a13f-6a0a36c212c8",
   "metadata": {},
   "outputs": [],
   "source": []
  },
  {
   "cell_type": "code",
   "execution_count": 20,
   "id": "6eaa5f07-a090-475e-95b4-398510e961ca",
   "metadata": {},
   "outputs": [
    {
     "data": {
      "text/plain": [
       "[np.float64(-0.1145408163265306),\n",
       " np.float64(-0.4313775510204081),\n",
       " np.float64(-188.93907936065182),\n",
       " np.float64(-53.54715764750079),\n",
       " np.float64(98.72703291242868),\n",
       " np.float64(0.0)]"
      ]
     },
     "execution_count": 20,
     "metadata": {},
     "output_type": "execute_result"
    }
   ],
   "source": [
    "initialstate = [1,1, *gvec];\n",
    "full_model(1,initialstate,True,params.copy())"
   ]
  },
  {
   "cell_type": "code",
   "execution_count": 37,
   "id": "2e9efc21-3591-4fc5-b3e3-1628bbd61d0f",
   "metadata": {},
   "outputs": [
    {
     "data": {
      "text/plain": [
       "(4, 179)"
      ]
     },
     "execution_count": 37,
     "metadata": {},
     "output_type": "execute_result"
    }
   ],
   "source": [
    "gvec_out.shape"
   ]
  },
  {
   "cell_type": "code",
   "execution_count": 52,
   "id": "2b8b0ffb-56a4-4eaa-89a3-d61b8ce66bf9",
   "metadata": {},
   "outputs": [
    {
     "data": {
      "text/plain": [
       "[<matplotlib.lines.Line2D at 0x12e89de20>]"
      ]
     },
     "execution_count": 52,
     "metadata": {},
     "output_type": "execute_result"
    },
    {
     "data": {
      "image/png": "[encoded data removed]",
      "text/plain": [
       "<Figure size 640x480 with 1 Axes>"
      ]
     },
     "metadata": {},
     "output_type": "display_data"
    }
   ],
   "source": [
    "from scipy.integrate import odeint, solve_ivp\n",
    "H=0\n",
    "x_max = 4\n",
    "params_base = dict(η1 = 0.3, η2 = 0.6, A = 1, β1 = 3, β2 = 1, \n",
    "                   H1=H, H2=H, \n",
    "                  α1_of_1=0.05, α2_of_1=0.95, \n",
    "                  s1=2, s2=2, α2_fun_type = 'constant',\n",
    "                  x_max = x_max, d = 10,\n",
    "                 Tx = .01, r = 0, γ = 0, pop_process = True)\n",
    "\n",
    "initialstate = np.array([1,1, *gvec]);\n",
    "t_f=3000  \n",
    "out2 = solve_ivp(full_model, [0, t_f], initialstate, method=\"LSODA\",\n",
    "                args=(True,params_base.copy()))\n",
    "T = out2.t\n",
    "N1 = out2.y[0]\n",
    "N2 = out2.y[1]\n",
    "gvec_out = out2.y[2:]\n",
    "plt.plot(N1,N2)"
   ]
  },
  {
   "cell_type": "code",
   "execution_count": 55,
   "id": "e4c3eab7-bc96-4ff6-a290-86f7810c9392",
   "metadata": {},
   "outputs": [
    {
     "data": {
      "text/plain": [
       "'Stable (attractive)'"
      ]
     },
     "execution_count": 55,
     "metadata": {},
     "output_type": "execute_result"
    }
   ],
   "source": [
    "N1_f = N1[-1]\n",
    "N2_f = N2[-1]\n",
    "g_f = gvec_out[:,-1]\n",
    "J = fun_Jac(N1_f,N2_f,g_f,**params_base.copy())\n",
    "evals = np.linalg.eigvals(J)\n",
    "classify_stability(J)"
   ]
  },
  {
   "cell_type": "code",
   "execution_count": 42,
   "id": "d005e0ea-9436-4ec3-ba37-f00b0878ab00",
   "metadata": {},
   "outputs": [
    {
     "data": {
      "text/plain": [
       "array([-1.11617136e+02+0.j        , -3.37343234e+01+0.j        ,\n",
       "       -1.64998820e+01+0.j        , -2.83775411e-01+0.j        ,\n",
       "       -5.04755175e-02+0.09983833j, -5.04755175e-02-0.09983833j])"
      ]
     },
     "execution_count": 42,
     "metadata": {},
     "output_type": "execute_result"
    }
   ],
   "source": [
    "evals"
   ]
  },
  {
   "cell_type": "code",
   "execution_count": 52,
   "id": "46300794-37eb-4dad-a899-c06359d5821b",
   "metadata": {},
   "outputs": [
    {
     "data": {
      "text/plain": [
       "array([2.46477677e+02, 2.46477677e+02, 1.03384471e+02, 1.49719703e-01,\n",
       "       1.49719703e-01, 6.60341699e-01])"
      ]
     },
     "execution_count": 52,
     "metadata": {},
     "output_type": "execute_result"
    }
   ],
   "source": [
    "np.abs(evals)"
   ]
  },
  {
   "cell_type": "code",
   "execution_count": 119,
   "id": "88d2461b-1a27-4ecf-9565-60a8edf804ef",
   "metadata": {},
   "outputs": [
    {
     "data": {
      "text/plain": [
       "np.float64(0.5)"
      ]
     },
     "execution_count": 119,
     "metadata": {},
     "output_type": "execute_result"
    }
   ],
   "source": [
    "π_vec = yield_from_prey_non_dim(xvec, N1, N2, **params)\n",
    "fitnessvec = π_vec/xvec\n",
    "d=params['d']\n",
    "best_response_fun_given_fitness(3,1,fitnessvec,d)"
   ]
  },
  {
   "cell_type": "code",
   "execution_count": 118,
   "id": "dda72b43-8617-4008-bd68-6edd054c9ee2",
   "metadata": {},
   "outputs": [
    {
     "data": {
      "text/plain": [
       "np.float64(0.9771682883079603)"
      ]
     },
     "execution_count": 118,
     "metadata": {},
     "output_type": "execute_result"
    }
   ],
   "source": [
    "W3 = fitnessvec[2]\n",
    "W1 = fitnessvec[0]\n",
    "\n",
    "W3**d/(W1**d + W3**d)"
   ]
  },
  {
   "cell_type": "code",
   "execution_count": null,
   "id": "003fdefb-6c8f-4267-9d47-e341fb936725",
   "metadata": {},
   "outputs": [],
   "source": []
  },
  {
   "cell_type": "code",
   "execution_count": 82,
   "id": "e185622e-451d-4945-b0e9-94fcb99c9571",
   "metadata": {},
   "outputs": [
    {
     "data": {
      "text/plain": [
       "array([[  -2.77509103,    1.42509103, -201.75      ,  100.8       ,\n",
       "          50.        ,  208.92790055],\n",
       "       [   1.58754552,   -0.23754552,  101.35      , -205.75      ,\n",
       "         151.2       ,    0.        ],\n",
       "       [   0.        ,    0.        ,    0.        ,    0.        ,\n",
       "           0.        ,    0.        ],\n",
       "       [   0.        ,    0.        ,    0.        ,    0.        ,\n",
       "         108.55      ,  -10.52790055]])"
      ]
     },
     "execution_count": 82,
     "metadata": {},
     "output_type": "execute_result"
    }
   ],
   "source": [
    "def best_response_fun_given_fitness(x,y,fitnessvec, d):\n",
    "    '''\n",
    "    Compares W(x) to W(y) to \"decide\" on group size y or x\n",
    "    @inputs\n",
    "    x - potentially new group size\n",
    "    y - current grp size\n",
    "    fitnessvec - vector of fitnesses fro x = 1, 2, ..., xmax\n",
    "    d - steepness, or sensitivity, of best response function\n",
    "    params - dictionary of params used by the rest of the model \n",
    "    @returns:\n",
    "    float between 0 and 1\n",
    "    '''\n",
    "    W_of_x = fitnessvec[x-1]\n",
    "    W_of_y = fitnessvec[y-1]\n",
    "    W_min = min(W_of_x, W_of_y)\n",
    "    W_max = max(W_of_x, W_of_y)\n",
    "    if W_max > 0:\n",
    "        numerator = (W_of_x/W_max)**d\n",
    "    else:\n",
    "        return 0\n",
    "    denominator = 1 + (W_min/W_max)**d # this adjustment helps avoid dividing by zero from numpy rounding\n",
    "    return numerator/denominator"
   ]
  },
  {
   "cell_type": "code",
   "execution_count": 120,
   "id": "31289a91-ea67-4d24-bdef-345be77b6580",
   "metadata": {},
   "outputs": [],
   "source": [
    "x=3; y = 1\n",
    "W_of_x = fitnessvec[x-1]\n",
    "W_of_y = fitnessvec[y-1]\n",
    "W_min = min(W_of_x, W_of_y)\n",
    "W_max = max(W_of_x, W_of_y)"
   ]
  },
  {
   "cell_type": "code",
   "execution_count": 131,
   "id": "8d92d160-b526-447b-871e-f0e6070cbfdb",
   "metadata": {},
   "outputs": [
    {
     "name": "stdout",
     "output_type": "stream",
     "text": [
      "1.0\n"
     ]
    }
   ],
   "source": [
    "if W_max > 0:\n",
    "    numerator = (W_of_x/W_max)**d\n",
    "    print(numerator)\n"
   ]
  },
  {
   "cell_type": "code",
   "execution_count": 133,
   "id": "520e5135-b988-444f-9a17-6ee66e024908",
   "metadata": {},
   "outputs": [
    {
     "data": {
      "text/plain": [
       "np.float64(0.9827586206896551)"
      ]
     },
     "execution_count": 133,
     "metadata": {},
     "output_type": "execute_result"
    }
   ],
   "source": [
    "W3"
   ]
  },
  {
   "cell_type": "code",
   "execution_count": 27,
   "id": "4dcd9b83-b63f-4a95-b034-ecc8ffcf20d7",
   "metadata": {},
   "outputs": [
    {
     "data": {
      "text/plain": [
       "array([0.4, 4. , 7.6])"
      ]
     },
     "execution_count": 27,
     "metadata": {},
     "output_type": "execute_result"
    }
   ],
   "source": [
    "π_vec = yield_from_prey_non_dim(xvec, N1, N2, **params)\n",
    "fitnessvec = π_vec/xvec\n",
    "S_1_x = best_response_fun_given_fitness(1,x,fitnessvec,d)\n",
    "S_x_1 = 1 - S_1_x\n",
    "partial_π[0]"
   ]
  },
  {
   "cell_type": "code",
   "execution_count": 29,
   "id": "6ad8a102-c0d8-4af1-aa31-2f37c3922b32",
   "metadata": {},
   "outputs": [],
   "source": [
    "    \n",
    "def fun_partial_S_wrt_prey(N1, N2, x, partial_π,\n",
    "                           d, **params):\n",
    "    '''\n",
    "\n",
    "    array with 2 entries corresponding to N1, N2\n",
    "    '''\n",
    "\n",
    "    xvec = np.arange(1, params['x_max']+1,1)\n",
    "    π_vec = yield_from_prey_non_dim(xvec, N1, N2, **params)\n",
    "    fitnessvec = π_vec/xvec\n",
    "    \n",
    "    \n",
    "    S_1_x = best_response_fun_given_fitness(1,x,fitnessvec,d)\n",
    "    S_x_1 = 1 - S_1_x\n",
    "\n",
    "    partial_S_1_x = d*S_1_x * S_x_1 * ( partial_π[:,0] * 1 / π_vec[0] \\\n",
    "                                   - partial_π[:,x-1] * 1 / π_vec[x-1])\n",
    "    \n",
    "    return partial_S_1_x\n",
    "    \n",
    "\n",
    "\n",
    "\n",
    "\n",
    "\n",
    "def fun_grad_g_1(N1,N2,f,partial_π, partial_S_prey, **params):\n",
    "    '''\n",
    "    The partial of Q1 wrt N1, N2, g(1), ..., g(x_m)\n",
    "    '''\n",
    "    partialQ1_partial_prey = fun_partialQ1_partialNi(N1,N2,f,partial_π, \n",
    "                                                     partial_S_prey, **params)\n",
    "    partialQ1_partial_g = fun_partialQ1_partial_group(N1,N2,f, partial_π, \n",
    "                                                      partial_S_prey,**params)\n",
    "    to_return = [*partialQ1_partial_prey, *partialQ1_partial_g]\n",
    "    return np.array(to_return)\n",
    "    \n",
    "def fun_partialQ1_partialNi(N1,N2,gvec, partial_π,  \n",
    "                            Tx, x_max, **params):\n",
    "    '''\n",
    "    the partial derivative of Q_1 with respect to N1, N2\n",
    "    \n",
    "    '''\n",
    "    \n",
    "    def g(x):\n",
    "        return gvec[x-1]\n",
    "    def partial_S(x):\n",
    "        return 0 # FILL IN\n",
    "        \n",
    "    group_part = 2*g(1) * partial_S(2) + \\\n",
    "                        np.sum([partial_S(x) * (x*g(x) + g(1)*g(x-1)) \\\n",
    "                                for x in range(2,x_max+1)])#FILL IN\n",
    "    pop_part = 0 #FILL IN\n",
    "    to_return = group_part/Tx + pop_part\n",
    "    return np.array([0,0]) + gvec[0]\n",
    "                    \n",
    "def fun_partialQ1_partial_group(N1,N2,gvec, partial_π,  **params):\n",
    "    '''\n",
    "    FILL IN\n",
    "    '''\n",
    "    return np.zeros(len(gvec)) + gvec[0]\n",
    "\n",
    "def fun_grad_g_2(N1,N2,gvec,xvec,**params):\n",
    "    to_return = np.zeros(len(gvec) + 2)\n",
    "    return to_return + gvec[1]\n",
    "\n",
    "def fun_grad_g_mid_x(N1,N2,gvec,xvec,**params):\n",
    "    to_return = np.zeros(len(gvec) + 2)\n",
    "    return to_return + gvec[2]\n",
    "    \n",
    "def fun_grad_g_max_x(N1,N2,gvec,xvec,**params):\n",
    "    to_return = np.zeros(len(gvec) + 2)\n",
    "    return to_return + gvec[2]"
   ]
  },
  {
   "cell_type": "code",
   "execution_count": 75,
   "id": "d9616aad-7dc8-405e-8f32-7b521b319138",
   "metadata": {},
   "outputs": [],
   "source": [
    "H=0\n",
    "x_max = 2\n",
    "params_base = dict(η1 = 0.2, η2 = 0.4, A1 = 0.5, β1 = 8, β2 = 1, \n",
    "                   H1=H, H2=H, \n",
    "                  α1_of_1=0.05, α2_of_1=0.95, \n",
    "                  s1=2, s2=2, α2_fun_type = 'constant',\n",
    "                  x_max = x_max, d = 10,\n",
    "                 Tx = .01, r = 0, γ = 0, pop_process = True)\n"
   ]
  },
  {
   "cell_type": "code",
   "execution_count": 76,
   "id": "6411c9e3-9e85-49eb-8300-8bd692536f10",
   "metadata": {},
   "outputs": [
    {
     "data": {
      "text/plain": [
       "array([[-0.225, -0.   , -0.025, -0.25 ],\n",
       "       [-0.   , -0.875, -0.475, -0.475],\n",
       "       [ 1.   ,  1.   ,  1.   ,  1.   ],\n",
       "       [ 0.   ,  0.   ,  0.   ,  0.   ]])"
      ]
     },
     "execution_count": 76,
     "metadata": {},
     "output_type": "execute_result"
    }
   ],
   "source": [
    "params = params_base.copy()\n",
    "xvec = np.arange(1,x_max+1,1); N1 =1; N2=1;\n",
    "f = np.array([1,0])\n",
    "fun_Jac(N1,N2,gvec,**params)"
   ]
  },
  {
   "cell_type": "code",
   "execution_count": 67,
   "id": "1b3a008c-9740-49bf-acbc-b1d2ab0db872",
   "metadata": {},
   "outputs": [
    {
     "ename": "TypeError",
     "evalue": "fun_grad_func_response() missing 2 required positional arguments: 'H1' and 'H2'",
     "output_type": "error",
     "traceback": [
      "\u001b[0;31m---------------------------------------------------------------------------\u001b[0m",
      "\u001b[0;31mTypeError\u001b[0m                                 Traceback (most recent call last)",
      "Cell \u001b[0;32mIn[67], line 1\u001b[0m\n\u001b[0;32m----> 1\u001b[0m \u001b[43mfun_Jac\u001b[49m\u001b[43m(\u001b[49m\u001b[38;5;241;43m0.5\u001b[39;49m\u001b[43m,\u001b[49m\u001b[38;5;241;43m0.4\u001b[39;49m\u001b[43m,\u001b[49m\u001b[43m[\u001b[49m\u001b[38;5;241;43m0.5\u001b[39;49m\u001b[43m,\u001b[49m\u001b[38;5;241;43m0.2\u001b[39;49m\u001b[43m,\u001b[49m\u001b[38;5;241;43m1\u001b[39;49m\u001b[43m]\u001b[49m\u001b[43m,\u001b[49m\u001b[38;5;241;43m3\u001b[39;49m\u001b[43m,\u001b[49m\u001b[38;5;241;43m*\u001b[39;49m\u001b[38;5;241;43m*\u001b[39;49m\u001b[38;5;28;43mdict\u001b[39;49m\u001b[43m(\u001b[49m\u001b[43mη1\u001b[49m\u001b[43m \u001b[49m\u001b[38;5;241;43m=\u001b[39;49m\u001b[43m \u001b[49m\u001b[38;5;241;43m.1\u001b[39;49m\u001b[43m,\u001b[49m\u001b[43m \u001b[49m\u001b[43mη2\u001b[49m\u001b[43m \u001b[49m\u001b[38;5;241;43m=\u001b[39;49m\u001b[43m \u001b[49m\u001b[38;5;241;43m.3\u001b[39;49m\u001b[43m,\u001b[49m\u001b[43m \u001b[49m\u001b[43mA1\u001b[49m\u001b[43m \u001b[49m\u001b[38;5;241;43m=\u001b[39;49m\u001b[43m \u001b[49m\u001b[38;5;241;43m0.5\u001b[39;49m\u001b[43m)\u001b[49m\u001b[43m)\u001b[49m\n",
      "Cell \u001b[0;32mIn[64], line 5\u001b[0m, in \u001b[0;36mfun_Jac\u001b[0;34m(N1, N2, F, x_max, **params)\u001b[0m\n\u001b[1;32m      3\u001b[0m size \u001b[38;5;241m=\u001b[39m \u001b[38;5;28mlen\u001b[39m(F)\u001b[38;5;241m+\u001b[39m\u001b[38;5;241m2\u001b[39m\n\u001b[1;32m      4\u001b[0m Jac \u001b[38;5;241m=\u001b[39m np\u001b[38;5;241m.\u001b[39mzeros((size,size))\n\u001b[0;32m----> 5\u001b[0m Jac[\u001b[38;5;241m0\u001b[39m,:] \u001b[38;5;241m=\u001b[39m \u001b[43mfun_grad_big_prey\u001b[49m\u001b[43m(\u001b[49m\u001b[43mN1\u001b[49m\u001b[43m,\u001b[49m\u001b[43mN2\u001b[49m\u001b[43m,\u001b[49m\u001b[43mF\u001b[49m\u001b[43m,\u001b[49m\u001b[43mxvec\u001b[49m\u001b[43m,\u001b[49m\u001b[38;5;241;43m*\u001b[39;49m\u001b[38;5;241;43m*\u001b[39;49m\u001b[43mparams\u001b[49m\u001b[43m)\u001b[49m\n\u001b[1;32m      6\u001b[0m Jac[\u001b[38;5;241m1\u001b[39m,:] \u001b[38;5;241m=\u001b[39m fun_grad_small_prey(N1,N2,F,xvec,\u001b[38;5;241m*\u001b[39m\u001b[38;5;241m*\u001b[39mparams)\n\u001b[1;32m      7\u001b[0m \u001b[38;5;28;01mfor\u001b[39;00m i \u001b[38;5;129;01min\u001b[39;00m \u001b[38;5;28mrange\u001b[39m(\u001b[38;5;241m0\u001b[39m,\u001b[38;5;28mlen\u001b[39m(F)):\n",
      "Cell \u001b[0;32mIn[64], line 24\u001b[0m, in \u001b[0;36mfun_grad_big_prey\u001b[0;34m(N1, N2, F, xvec, η1, A1, **params)\u001b[0m\n\u001b[1;32m     19\u001b[0m \u001b[38;5;250m\u001b[39m\u001b[38;5;124;03m'''\u001b[39;00m\n\u001b[1;32m     20\u001b[0m \u001b[38;5;124;03mreturn gradient of big prey vs n1, n2, F(1), .. F(x)\u001b[39;00m\n\u001b[1;32m     21\u001b[0m \u001b[38;5;124;03m'''\u001b[39;00m\n\u001b[1;32m     23\u001b[0m \u001b[38;5;66;03m# [delY_1/delN_1, del Y_1 / del N_2]\u001b[39;00m\n\u001b[0;32m---> 24\u001b[0m grad_Y_1 \u001b[38;5;241m=\u001b[39m \u001b[43mfun_grad_func_response\u001b[49m\u001b[43m(\u001b[49m\u001b[38;5;241;43m1\u001b[39;49m\u001b[43m,\u001b[49m\u001b[43mxvec\u001b[49m\u001b[43m,\u001b[49m\u001b[43mN1\u001b[49m\u001b[43m,\u001b[49m\u001b[43mN2\u001b[49m\u001b[43m,\u001b[49m\u001b[38;5;241;43m*\u001b[39;49m\u001b[38;5;241;43m*\u001b[39;49m\u001b[43mparams\u001b[49m\u001b[43m)\u001b[49m\n\u001b[1;32m     26\u001b[0m \u001b[38;5;66;03m# the sum of A_1 * F(x) * [ del Y_1/ del N_1, del Y_1 / del N_2]\u001b[39;00m\n\u001b[1;32m     27\u001b[0m grad_sum_F_y \u001b[38;5;241m=\u001b[39m A1 \u001b[38;5;241m*\u001b[39m np\u001b[38;5;241m.\u001b[39msum(grad_Y_1 \u001b[38;5;241m*\u001b[39m F,\u001b[38;5;241m1\u001b[39m)\n",
      "\u001b[0;31mTypeError\u001b[0m: fun_grad_func_response() missing 2 required positional arguments: 'H1' and 'H2'"
     ]
    }
   ],
   "source": [
    "fun_Jac(0.5,0.4,[0.5,0.2,1],3,**dict(η1 = .1, η2 = .3, A1 = 0.5))"
   ]
  },
  {
   "cell_type": "code",
   "execution_count": null,
   "id": "c69d4f05-052d-4ff5-b6a2-1cf016d4edb5",
   "metadata": {},
   "outputs": [],
   "source": []
  }
 ],
 "metadata": {
  "kernelspec": {
   "display_name": "Python 3 (ipykernel)",
   "language": "python",
   "name": "python3"
  },
  "language_info": {
   "codemirror_mode": {
    "name": "ipython",
    "version": 3
   },
   "file_extension": ".py",
   "mimetype": "text/x-python",
   "name": "python",
   "nbconvert_exporter": "python",
   "pygments_lexer": "ipython3",
   "version": "3.13.1"
  }
 },
 "nbformat": 4,
 "nbformat_minor": 5
}
