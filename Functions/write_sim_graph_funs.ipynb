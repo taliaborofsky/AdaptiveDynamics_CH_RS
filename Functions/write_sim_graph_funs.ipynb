{
 "cells": [
  {
   "cell_type": "code",
   "execution_count": 1,
   "id": "e95da4c5-8b2d-4443-939c-e0d861d24d3e",
   "metadata": {},
   "outputs": [],
   "source": [
    "#%%writefile sim_graph_funs.py\n",
    "import numpy as np\n",
    "import matplotlib.pyplot as plt\n",
    "from fitness_funs_non_dim import *\n",
    "from group_w_pop_funs import *\n",
    "from scipy.optimize import fsolve\n",
    "\n",
    "colors = ['k','r','b','cyan', 'magenta','orange',\n",
    "         'gray', 'green']\n",
    "markers = [\"o\",\"\",\"v\", \"\"]\n",
    "\n",
    "def format_ax(ax,xlab,ylab, xlim = None, ylim=None,\n",
    "              fs_labs = 20, fs_legend = 16, if_legend = False):\n",
    "    ax.set_xlabel(xlab, fontsize = fs_labs)\n",
    "    ax.set_ylabel(ylab, fontsize = fs_labs)\n",
    "    if xlim != None:\n",
    "        ax.set_xlim(xlim)\n",
    "    if ylim != None:\n",
    "        ax.set_ylim(ylim)\n",
    "    for s in ['top', 'right']:\n",
    "        ax.spines[s].set_visible(False)\n",
    "    if if_legend:\n",
    "        ax.legend(fontsize = fs_legend)\n",
    "        \n",
    "def get_results(out,x_max):\n",
    "    '''\n",
    "    gets results from output of simulation\n",
    "    out: dictionary that's output of solve_ivp\n",
    "    x_max: max group size\n",
    "\n",
    "    @returns:\n",
    "    T, N1, N2, P, mean_x\n",
    "    '''\n",
    "    P, N1, N2 = out2.y[0:3]\n",
    "    F_of_x_vec = out2.y[3:]\n",
    "    mean_x = mean_group_size_membership(F_of_x_vec.T, x_max, P)\n",
    "    T = out2.t\n",
    "    return T, N1, N2, P, F_of_x_vec, mean_x\n",
    "def add_arrow(line, start_ind = None,  direction='right', size=15, color=None):\n",
    "    \"\"\"\n",
    "    add an arrow to a line.\n",
    "    Edited from https://stackoverflow.com/questions/34017866/arrow-on-a-line-plot\n",
    "\n",
    "    line:       Line2D object\n",
    "    start_ind:   index of start of the arrow\n",
    "    direction:  'left' or 'right'\n",
    "    size:       size of the arrow in fontsize points\n",
    "    color:      if None, line color is taken.\n",
    "    \"\"\"\n",
    "    #position=None,\n",
    "    \n",
    "    if color is None:\n",
    "        color = line.get_color()\n",
    "\n",
    "    xdata = line.get_xdata()\n",
    "    ydata = line.get_ydata()\n",
    "\n",
    "    #if position is None:\n",
    "    #    position = xdata.mean()\n",
    "    # find closest index\n",
    "    if start_ind == None:\n",
    "        position = xdata.mean()\n",
    "        start_ind = np.argmin(np.absolute(xdata - position))\n",
    "    if direction == 'right':\n",
    "        end_ind = start_ind + 1\n",
    "    else:\n",
    "        end_ind = start_ind - 1\n",
    "\n",
    "    line.axes.annotate('',\n",
    "        xytext=(xdata[start_ind], ydata[start_ind]),\n",
    "        xy=(xdata[end_ind], ydata[end_ind]),\n",
    "        arrowprops=dict(arrowstyle=\"->\", color=color),\n",
    "        size=size\n",
    "    )\n",
    "    \n",
    "Plab = r'$P$, Scaled Pred. Pop Size'\n",
    "N1lab = r'$N_1$, Scaled Big Prey Pop Size'\n",
    "N2lab = r'$N_2$, Scaled Small Prey Pop Size'\n",
    "Tlab = r'$T$, Scaled time'\n",
    "mean_x_lab = \"Mean Group Size\\n Membership\"\n",
    "\n",
    "def plot_all(T,N1,N2,P,mean_x, xlim = [-10, 600]):\n",
    "    fig, ax = plt.subplots(1,1)\n",
    "    ax.plot(T,N2,'k', label = r'$N_2$')\n",
    "    ax.plot(T,N1,'r', label = r'$N_1$')\n",
    "    ax.plot(T,P,'b', label = r'$P$')\n",
    "    if isinstance(mean_x, np.ndarray):\n",
    "        ax.plot(T, mean_x, 'magenta', label = r'$\\bar{x}$')\n",
    "    format_ax(ax, xlab = Tlab,ylab = '',if_legend = True,\n",
    "         xlim = xlim,fs_labs = 18)\n",
    "    return fig, ax\n",
    "def plot_x_vs_y(x,y,xlab,ylab,arrow_inds):\n",
    "    fig, ax = plt.subplots(1,1)\n",
    "    l = ax.plot(x,y,'k')\n",
    "    for ind in arrow_inds:\n",
    "        add_arrow(l[0], start_ind = ind)\n",
    "        format_ax(ax, xlab = xlab, ylab = ylab, fs_labs = 18)\n",
    "    return fig, ax\n",
    "    \n",
    "def plot_portion_x(ax, out, x_max, xlim = [-1,500]):\n",
    "    '''\n",
    "    plots time vs x*F(x)\n",
    "    @inputs\n",
    "    ax is the axis that is already made\n",
    "    out is the output of solve_ivp\n",
    "\n",
    "    @ returns: fig, ax\n",
    "    '''\n",
    "    T = out.t\n",
    "    print(T[-1])\n",
    "    F_of_x_vec = out.y[3:]\n",
    "    P = out.y[0]\n",
    "    # find F_of_x that are big enough\n",
    "    xvec = np.arange(1,x_max+1,1)\n",
    "    xF = xvec*F_of_x_vec.T\n",
    "    portion_x = (xF.T/P).T\n",
    "    xlist = []\n",
    "    xflist = []\n",
    "    for x in range(1,11):\n",
    "        portion_x_curr = portion_x[:,x-1]\n",
    "        if max(portion_x_curr)>.1:\n",
    "            xlist.append(x)\n",
    "            xflist.append(portion_x_curr)\n",
    "            \n",
    "    labels = [f'x={x}' for x in xlist]\n",
    "    for i, portion_x_curr in enumerate(xflist):\n",
    "        ax.plot(T, portion_x_curr, label = labels[i], c = colors[i])\n",
    "        \n",
    "    format_ax(ax,Tlab,r'$xF(x)/P$', xlim = xlim, ylim=None,\n",
    "              fs_labs = 20, fs_legend = 16, if_legend = True)\n",
    "    return fig, ax\n",
    "\n",
    "def print_param_caption(ξ, Tx, η1, η2, A1, β1, β2, H1, H2, α1_of_1, α2_of_1, \n",
    "                        s1, s2, α2_fun_type,**params):\n",
    "    caption = 'The parameters are '\n",
    "    caption += f'$\\\\xi = {ξ}, \\\\eta_1 = {η1}, \\\\eta_2 = {η2}, '\n",
    "    caption += f'A_1 = {A1}, \\\\beta_1 = {β1}, \\\\beta_2 = {β2}, '\n",
    "    caption += f'H_1 = {H1}, H_2 = {H2}, T_x = {Tx}, ' \n",
    "    if α2_fun_type == 'constant':\n",
    "        caption += f'\\\\alpha_1(1) = {α1_of_1}, s_1 ={s1}$, '\n",
    "        caption += f'and $\\\\alpha_2(x) = {α2_of_1}$ is constant.'\n",
    "    else:\n",
    "        caption += f'\\\\alpha_1(1) = {α1_of_1}, \\\\alpha_2(1) = {α2_of_1}, '\n",
    "        caption += f's_1 = {s1}$, and $s_2 = {s2}$' \n",
    "    \n",
    "    print(caption)\n",
    "\n",
    "def get_equilibrium(params, N1_0 = 0.5, N2_0 = 0.4, P_0 = 5, F_of_x_vec = None):\n",
    "    '''\n",
    "    finds the equilibrium using Fsolve\n",
    "    if not given F_of_x_vec, then just has everyone initially solitary\n",
    "    \n",
    "    @returns:\n",
    "    N1_eq, N2_eq, F_eq, P_eq, mean_x_eq\n",
    "    '''\n",
    "    x_max = params['x_max']\n",
    "    if ~isinstance(F_of_x_vec, np.ndarray):\n",
    "        F_of_x_vec = np.zeros(x_max)\n",
    "        F_of_x_vec[0] = P_0\n",
    "    x0 = [N1_0, N2_0, *F_of_x_vec]\n",
    "    out, infodict, ier, mesg = fsolve(func = nullclines_no_P, x0 = x0, \n",
    "                                  args = (params), full_output = 1)\n",
    "    F_eq = out[2:]\n",
    "    P_eq = np.sum(np.arange(1,x_max+1,1)*F_eq); \n",
    "    N1_eq = out[0]\n",
    "    N2_eq = out[1]\n",
    "    mean_x_eq = mean_group_size_membership(F_eq,x_max,P_eq)\n",
    "\n",
    "    if np.any( np.round(np.array([N1_eq, N2_eq, *F_eq, P_eq, mean_x_eq]),8) <0):\n",
    "        return np.nan, np.nan, np.nan, np.nan, np.nan\n",
    "    else:\n",
    "        return N1_eq, N2_eq, F_eq, P_eq, mean_x_eq\n",
    "    "
   ]
  },
  {
   "cell_type": "code",
   "execution_count": 2,
   "id": "df56898a-a09c-419d-84e0-5d4a9f2887aa",
   "metadata": {},
   "outputs": [
    {
     "data": {
      "text/plain": [
       "True"
      ]
     },
     "execution_count": 2,
     "metadata": {},
     "output_type": "execute_result"
    }
   ],
   "source": [
    "np.any(np.array([-1,0,0])<0)"
   ]
  },
  {
   "cell_type": "code",
   "execution_count": 3,
   "id": "3477a06a-5935-4479-a01b-42bd8d3d816e",
   "metadata": {},
   "outputs": [],
   "source": [
    "H = 0\n",
    "x_max=10\n",
    "params_base = dict(η1 = 0.25, η2 = 0.25, A1 = 0.5, β1 = 1, β2 = 1, \n",
    "                   H1=H, H2=H, \n",
    "                  α1_of_1=0.05, α2_of_1=0.95, \n",
    "                  s1=2, s2=2, α2_fun_type = 'constant',\n",
    "                  x_max = x_max, ξ = 2, d = 10,\n",
    "                 Tx = .01, r = 0, γ = 0, pop_process = True)"
   ]
  },
  {
   "cell_type": "code",
   "execution_count": 4,
   "id": "1041a993-cc9e-45bb-be63-8cd44b33e2b7",
   "metadata": {},
   "outputs": [],
   "source": [
    "H=0\n",
    "x_max = 10\n",
    "params_base = dict(η1 = 0.2, η2 = 0.4, A1 = 0.5, β1 = 8, β2 = 1, \n",
    "                   H1=H, H2=H, \n",
    "                  α1_of_1=0.05, α2_of_1=0.95, \n",
    "                  s1=2, s2=2, α2_fun_type = 'constant',\n",
    "                  x_max = x_max, ξ = 2, d = 10,\n",
    "                 Tx = .01, r = 0, γ = 0, pop_process = True)"
   ]
  },
  {
   "cell_type": "code",
   "execution_count": 5,
   "id": "ca0b3bda-0519-42e1-ba8c-a45a2e0f6479",
   "metadata": {},
   "outputs": [],
   "source": [
    "initialstate = np.array([0.5, 0.5, 3, *np.zeros(9)])"
   ]
  },
  {
   "cell_type": "code",
   "execution_count": 6,
   "id": "29b270d6-d56b-4b35-a5f0-68b9a527b04d",
   "metadata": {},
   "outputs": [
    {
     "data": {
      "text/plain": [
       "[0.024999999999999994,\n",
       " -1.2249999999999999,\n",
       " -903.2249999999999,\n",
       " 452.025,\n",
       " 0.0,\n",
       " 0.0,\n",
       " 0.0,\n",
       " 0.0,\n",
       " 0.0,\n",
       " 0.0,\n",
       " 0.0,\n",
       " 0.0]"
      ]
     },
     "execution_count": 6,
     "metadata": {},
     "output_type": "execute_result"
    }
   ],
   "source": [
    "nullclines_no_P(initialstate, params_base)"
   ]
  },
  {
   "cell_type": "code",
   "execution_count": 7,
   "id": "012f6990-63bc-47a6-bc31-44ce63c0fb0b",
   "metadata": {},
   "outputs": [],
   "source": [
    "β1vec = np.arange(1,10,0.1)\n",
    "Pvec = np.zeros(len(β1vec))\n",
    "meanxvec = np.zeros(len(β1vec))\n",
    "\n",
    "\n",
    "for i, β1 in enumerate(β1vec):\n",
    "    params = params_base.copy()\n",
    "    params['β1'] = β1\n",
    "    N1_eq, N2_eq, F_eq, P_eq, mean_x_eq = get_equilibrium(params)\n",
    "    Pvec[i] = P_eq\n",
    "    "
   ]
  },
  {
   "cell_type": "code",
   "execution_count": 8,
   "id": "8b9321d2-a907-4c85-89b9-78bd836ad288",
   "metadata": {},
   "outputs": [
    {
     "data": {
      "text/plain": [
       "array([1. , 1.1, 1.2, 1.3, 1.4, 1.5, 1.6, 1.7, 1.8, 1.9, 2. , 2.1, 2.2,\n",
       "       2.3, 2.4, 2.5, 2.6, 2.7, 2.8, 2.9, 3. , 3.1, 3.2, 3.3, 3.4, 3.5,\n",
       "       3.6, 3.7, 3.8, 3.9, 4. , 4.1, 4.2, 4.3, 4.4, 4.5, 4.6, 4.7, 4.8,\n",
       "       4.9, 5. , 5.1, 5.2, 5.3, 5.4, 5.5, 5.6, 5.7, 5.8, 5.9, 6. , 6.1,\n",
       "       6.2, 6.3, 6.4, 6.5, 6.6, 6.7, 6.8, 6.9, 7. , 7.1, 7.2, 7.3, 7.4,\n",
       "       7.5, 7.6, 7.7, 7.8, 7.9, 8. , 8.1, 8.2, 8.3, 8.4, 8.5, 8.6, 8.7,\n",
       "       8.8, 8.9, 9. , 9.1, 9.2, 9.3, 9.4, 9.5, 9.6, 9.7, 9.8, 9.9])"
      ]
     },
     "execution_count": 8,
     "metadata": {},
     "output_type": "execute_result"
    }
   ],
   "source": [
    "β1vec"
   ]
  },
  {
   "cell_type": "code",
   "execution_count": 9,
   "id": "be761cba-8d4b-4d4e-b662-79bcbafa7dbb",
   "metadata": {},
   "outputs": [
    {
     "data": {
      "text/plain": [
       "array([ 6.21056131e-01,  6.51674652e-01,  6.83760181e-01,  7.18442904e-01,\n",
       "        7.54183900e-01,  7.89484451e-01,  8.23369904e-01,  8.55327001e-01,\n",
       "        8.85156922e-01,  9.12847079e-01,             nan,             nan,\n",
       "                   nan,             nan,             nan,             nan,\n",
       "                   nan,             nan,             nan,             nan,\n",
       "                   nan,             nan,             nan, -1.49660269e-12,\n",
       "                   nan,             nan,             nan,             nan,\n",
       "                   nan,             nan,             nan,             nan,\n",
       "                   nan,             nan,             nan,             nan,\n",
       "                   nan,             nan,             nan,             nan,\n",
       "                   nan,             nan,             nan,             nan,\n",
       "                   nan,             nan,             nan,             nan,\n",
       "                   nan,             nan,             nan,             nan,\n",
       "                   nan,             nan,             nan,             nan,\n",
       "                   nan,             nan,             nan,             nan,\n",
       "                   nan,             nan,             nan,             nan,\n",
       "                   nan,             nan,             nan,             nan,\n",
       "                   nan,             nan,             nan,             nan,\n",
       "                   nan,             nan,             nan,             nan,\n",
       "                   nan,             nan,             nan,             nan,\n",
       "                   nan,             nan,             nan,             nan,\n",
       "                   nan,             nan,             nan,             nan,\n",
       "                   nan,             nan])"
      ]
     },
     "execution_count": 9,
     "metadata": {},
     "output_type": "execute_result"
    }
   ],
   "source": [
    "Pvec"
   ]
  },
  {
   "cell_type": "code",
   "execution_count": 10,
   "id": "edf3b857-d294-428a-a268-983afd32a2cc",
   "metadata": {},
   "outputs": [
    {
     "data": {
      "text/plain": [
       "[<matplotlib.lines.Line2D at 0x120489670>]"
      ]
     },
     "execution_count": 10,
     "metadata": {},
     "output_type": "execute_result"
    },
    {
     "data": {
      "image/png": "[encoded data removed]",
      "text/plain": [
       "<Figure size 640x480 with 1 Axes>"
      ]
     },
     "metadata": {},
     "output_type": "display_data"
    }
   ],
   "source": [
    "plt.plot(β1vec, Pvec)"
   ]
  },
  {
   "cell_type": "code",
   "execution_count": 17,
   "id": "b9db193b-147a-4a70-b073-47016fa65c50",
   "metadata": {},
   "outputs": [],
   "source": [
    "index = 5\n",
    "params = params_base.copy()\n",
    "params['β1'] = β1vec[index]\n",
    "N1_eq, N2_eq, F_eq, P_eq, mean_x_eq = get_equilibrium(params)"
   ]
  },
  {
   "cell_type": "code",
   "execution_count": 18,
   "id": "0bae6baf-b0de-4dc1-9d7e-da71e4b561b6",
   "metadata": {},
   "outputs": [
    {
     "data": {
      "text/plain": [
       "0.6640154536770038"
      ]
     },
     "execution_count": 18,
     "metadata": {},
     "output_type": "execute_result"
    }
   ],
   "source": [
    "N1_eq"
   ]
  },
  {
   "cell_type": "code",
   "execution_count": 19,
   "id": "c20a3821-60af-4d45-9aae-14a3b166ed9e",
   "metadata": {},
   "outputs": [],
   "source": [
    "from scipy.integrate import solve_ivp\n",
    "\n",
    "t_f=2000  \n",
    "initialstate = np.array([3, 0.5, 0.5, 3, *np.zeros(9)])\n",
    "out2 = solve_ivp(full_model, [0, t_f], initialstate, method=\"LSODA\",\n",
    "                args=(True,params))"
   ]
  },
  {
   "cell_type": "code",
   "execution_count": 20,
   "id": "ebeddb83-ad58-476d-92da-0c8c2df38d1f",
   "metadata": {},
   "outputs": [],
   "source": [
    "T,N1,N2,P,Fxvec, mean_x = get_results(out2, 10)"
   ]
  },
  {
   "cell_type": "code",
   "execution_count": 21,
   "id": "bba5430c-0b86-4111-a490-2326e401778b",
   "metadata": {},
   "outputs": [
    {
     "data": {
      "text/plain": [
       "(array([ 4.19799282e-05, -5.95186606e-11, -6.55303394e-11, -7.95778374e-12,\n",
       "        -2.24320752e-13, -8.53093574e-14,  4.23135648e-05, -4.24518872e-05,\n",
       "         1.42257767e-07, -2.29817123e-09]),\n",
       " 0)"
      ]
     },
     "execution_count": 21,
     "metadata": {},
     "output_type": "execute_result"
    }
   ],
   "source": [
    "check_at_equilibrium(Fxvec[:,-1], P[-1], N1[-1], N2[-1],**params)"
   ]
  },
  {
   "cell_type": "code",
   "execution_count": 22,
   "id": "ca01d426-2346-4ce4-9958-2004cfce6dee",
   "metadata": {},
   "outputs": [
    {
     "data": {
      "text/plain": [
       "(<Figure size 640x480 with 1 Axes>, <Axes: xlabel='$T$, Scaled time'>)"
      ]
     },
     "execution_count": 22,
     "metadata": {},
     "output_type": "execute_result"
    },
    {
     "data": {
      "image/png": "[encoded data removed]",
      "text/plain": [
       "<Figure size 640x480 with 1 Axes>"
      ]
     },
     "metadata": {},
     "output_type": "display_data"
    }
   ],
   "source": [
    "plot_all(T,N1,N2,P,mean_x)"
   ]
  },
  {
   "cell_type": "code",
   "execution_count": 31,
   "id": "146fc822-366f-48ac-819f-f9194f98aae1",
   "metadata": {},
   "outputs": [
    {
     "ename": "NameError",
     "evalue": "name 'eps' is not defined",
     "output_type": "error",
     "traceback": [
      "\u001b[0;31m---------------------------------------------------------------------------\u001b[0m",
      "\u001b[0;31mNameError\u001b[0m                                 Traceback (most recent call last)",
      "Cell \u001b[0;32mIn[31], line 1\u001b[0m\n\u001b[0;32m----> 1\u001b[0m \u001b[43meps\u001b[49m\n",
      "\u001b[0;31mNameError\u001b[0m: name 'eps' is not defined"
     ]
    }
   ],
   "source": [
    "eps"
   ]
  },
  {
   "cell_type": "code",
   "execution_count": 26,
   "id": "c27de90c-7f2e-4f5d-a47e-2257af2b4f22",
   "metadata": {},
   "outputs": [
    {
     "data": {
      "text/plain": [
       "-2.3859557107819285e-08"
      ]
     },
     "execution_count": 26,
     "metadata": {},
     "output_type": "execute_result"
    }
   ],
   "source": [
    "N1_eq - N1[-1]"
   ]
  },
  {
   "cell_type": "code",
   "execution_count": 28,
   "id": "98dca04f-7e42-422a-9899-65aa7fdd07dc",
   "metadata": {},
   "outputs": [
    {
     "data": {
      "text/plain": [
       "-1.7151951026139756e-08"
      ]
     },
     "execution_count": 28,
     "metadata": {},
     "output_type": "execute_result"
    }
   ],
   "source": [
    "N2_eq - N2[-1]"
   ]
  },
  {
   "cell_type": "code",
   "execution_count": 30,
   "id": "d90f8aae-d473-4075-8d42-ff7135f42e10",
   "metadata": {},
   "outputs": [
    {
     "data": {
      "text/plain": [
       "-8.39294164967086e-06"
      ]
     },
     "execution_count": 30,
     "metadata": {},
     "output_type": "execute_result"
    }
   ],
   "source": [
    "mean_x_eq -mean_x[-1]"
   ]
  },
  {
   "cell_type": "code",
   "execution_count": 69,
   "id": "3ba08113-7996-423e-90d7-30d41ebc4c47",
   "metadata": {},
   "outputs": [
    {
     "data": {
      "text/plain": [
       "(nan, nan, nan, nan, nan)"
      ]
     },
     "execution_count": 69,
     "metadata": {},
     "output_type": "execute_result"
    }
   ],
   "source": [
    "get_equilibrium(params, N1_0 = N1[-1], N2_0 = N2[-1], P_0 = P[-1], \n",
    "                F_of_x_vec = np.round(Fxvec[:,-1],8))"
   ]
  },
  {
   "cell_type": "code",
   "execution_count": 71,
   "id": "94b40fd1-eb6d-4cc4-a65f-0835af2ae0cb",
   "metadata": {},
   "outputs": [
    {
     "name": "stdout",
     "output_type": "stream",
     "text": [
      "-0.11925967040687932\n"
     ]
    }
   ],
   "source": [
    "N1_eq, N2_eq, F_eq, P_eq, mean_x_eq = get_equilibrium(params)"
   ]
  },
  {
   "cell_type": "code",
   "execution_count": null,
   "id": "e62c26e6-af47-4668-b213-55ddc604874b",
   "metadata": {},
   "outputs": [],
   "source": []
  }
 ],
 "metadata": {
  "kernelspec": {
   "display_name": "Python 3 (ipykernel)",
   "language": "python",
   "name": "python3"
  },
  "language_info": {
   "codemirror_mode": {
    "name": "ipython",
    "version": 3
   },
   "file_extension": ".py",
   "mimetype": "text/x-python",
   "name": "python",
   "nbconvert_exporter": "python",
   "pygments_lexer": "ipython3",
   "version": "3.9.6"
  }
 },
 "nbformat": 4,
 "nbformat_minor": 5
}
