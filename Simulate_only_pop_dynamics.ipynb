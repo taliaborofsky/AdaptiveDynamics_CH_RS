{
 "cells": [
  {
   "cell_type": "code",
   "execution_count": 25,
   "id": "793bb4f7",
   "metadata": {},
   "outputs": [],
   "source": [
    "import numpy as np\n",
    "import matplotlib.pyplot as plt\n",
    "from scipy.integrate import odeint\n",
    "final_fig_path = \"../Figures/\""
   ]
  },
  {
   "cell_type": "code",
   "execution_count": 35,
   "id": "1885df48",
   "metadata": {},
   "outputs": [
    {
     "name": "stdout",
     "output_type": "stream",
     "text": [
      "[[], [9, 5, 13], [], [7, 18], [14], [11], [16, 15], [6], [4, 19], [1], [2], [17], [], [12], [], [], [3], [], [10], [8]]\n"
     ]
    }
   ],
   "source": [
    "from random import choice\n",
    "\n",
    "def random_groups(popsize):\n",
    "    # this code is adjusted from \n",
    "    # https://stackoverflow.com/questions/74833840/randomly-partition-a-list-into-n-sublists-python\n",
    "    # the answer by trincot\n",
    "    # and is adjuted with my own comments\n",
    "    \n",
    "    lst = list(range(1,popsize))\n",
    "    output = [[] for _ in range(popsize)] # set up n empty lists\n",
    "    while lst:\n",
    "        lst.remove(e := choice(lst)) # choose a random item from the original list\n",
    "        choice(output).append(e) # add this item to one of the randomly chosen partitions\n",
    "    \n",
    "    groupsizes = np.array([len(grp) for grp in output])\n",
    "    f_of_x_vec = [sum(groupsizes==i) for i in range(1,20+1)]\n",
    "    return f_of_x_vec\n",
    "\n"
   ]
  },
  {
   "cell_type": "code",
   "execution_count": null,
   "id": "bf17d3f2",
   "metadata": {},
   "outputs": [],
   "source": [
    "# to have a random partition of the groups: https://stackoverflow.com/questions/74833840/randomly-partition-a-list-into-n-sublists-python\n",
    "# could start with list [1:p], partition this, count the number of groups of each length, use this as your f(x) to start with"
   ]
  }
 ],
 "metadata": {
  "kernelspec": {
   "display_name": "Python 3 (ipykernel)",
   "language": "python",
   "name": "python3"
  },
  "language_info": {
   "codemirror_mode": {
    "name": "ipython",
    "version": 3
   },
   "file_extension": ".py",
   "mimetype": "text/x-python",
   "name": "python",
   "nbconvert_exporter": "python",
   "pygments_lexer": "ipython3",
   "version": "3.12.2"
  }
 },
 "nbformat": 4,
 "nbformat_minor": 5
}
