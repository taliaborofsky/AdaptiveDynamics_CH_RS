{
 "cells": [
  {
   "cell_type": "markdown",
   "id": "265380b6-59f2-420e-8326-ef6b472410a4",
   "metadata": {},
   "source": [
    "# Mangel and Clark Predictions"
   ]
  },
  {
   "cell_type": "markdown",
   "id": "8434f3df-094f-40cb-809d-9151fac7322f",
   "metadata": {},
   "source": [
    "Find the group size x at which W(x) = W(1). Mangel and Clark predict this as the equilibrium group size"
   ]
  },
  {
   "cell_type": "markdown",
   "id": "8ffda79a-7d71-4aa9-8e17-e6e779f3d1a9",
   "metadata": {},
   "source": [
    "## Load Packages and Global Variables"
   ]
  },
  {
   "cell_type": "code",
   "execution_count": 9,
   "id": "18932834-92fb-44f5-899c-2b7d0b52ba4c",
   "metadata": {},
   "outputs": [],
   "source": [
    "import numpy as np\n",
    "import matplotlib.pyplot as plt\n",
    "from scipy.integrate import odeint\n",
    "final_fig_path = \"../CH_Manuscript/Figures/\"\n",
    "import sys\n",
    "sys.path.insert(1, 'Functions')\n",
    "from fitness_funs_non_dim import *\n",
    "from sim_graph_funs import *"
   ]
  },
  {
   "cell_type": "code",
   "execution_count": 10,
   "id": "f9c29ddc-ad88-417e-934b-7ac681bf2542",
   "metadata": {},
   "outputs": [],
   "source": [
    "colors_x = ['k', 'b', 'r', 'm']"
   ]
  },
  {
   "cell_type": "code",
   "execution_count": null,
   "id": "d04936cf-9971-406e-9f31-d12eb76cdc02",
   "metadata": {},
   "outputs": [],
   "source": []
  },
  {
   "cell_type": "markdown",
   "id": "909ddb4c-7ca1-4619-9662-9e15c108dbf1",
   "metadata": {},
   "source": [
    "## Test Mangel and Clark"
   ]
  },
  {
   "cell_type": "code",
   "execution_count": 16,
   "id": "973423e6-2604-4dc7-afdb-5823ca42bf75",
   "metadata": {},
   "outputs": [],
   "source": [
    "\n",
    "def find_mangel_clark(N1, N2, x_max, **params):\n",
    "    # mangel and clark predicted that groups should grow until W(x^*) = W(1)\n",
    "    # don't need A\n",
    "\n",
    "    # simplest way... iterate and stop when reach x s.t. W(x) < W(1), then return x - 1\n",
    "    W_of_1 = per_capita_fitness_from_prey_non_dim(1, N1, N2, **params)\n",
    "    for x in range(2,x_max+1):\n",
    "        W_of_x = per_capita_fitness_from_prey_non_dim(x, N1, N2, **params)\n",
    "        if W_of_x < W_of_1:\n",
    "            return x - 1\n",
    "    return x # if reach x_max\n",
    "\n",
    "    "
   ]
  },
  {
   "cell_type": "code",
   "execution_count": 17,
   "id": "5724623b-0986-436e-baa3-d4e58a633e2c",
   "metadata": {},
   "outputs": [],
   "source": [
    "H2 = 2\n",
    "β1 = 5\n",
    "H1 = H2 * β1\n",
    "α2_fun_type = 'sigmoid'\n",
    "params_base = dict(β1=β1, β2=1, H1=H1, H2=H2, A=0.5,\n",
    "               α1_of_1=0.05, α2_of_1=0.95, \n",
    "               s1=2, s2=2, \n",
    "               α2_fun_type=α2_fun_type)"
   ]
  },
  {
   "cell_type": "code",
   "execution_count": 18,
   "id": "54dc219a-d1b6-407b-adda-767eec3c455d",
   "metadata": {},
   "outputs": [
    {
     "data": {
      "text/plain": [
       "4"
      ]
     },
     "execution_count": 18,
     "metadata": {},
     "output_type": "execute_result"
    }
   ],
   "source": [
    "find_mangel_clark(1,1,10,**params_base.copy())"
   ]
  },
  {
   "cell_type": "code",
   "execution_count": 19,
   "id": "04abe2e5-5d89-415a-9575-2057617830d0",
   "metadata": {},
   "outputs": [
    {
     "data": {
      "text/plain": [
       "array([0.17647059, 0.1875    , 0.19047619, 0.1784585 , 0.16666019,\n",
       "       0.15624964, 0.1470588 , 0.13888889, 0.13157895, 0.125     ])"
      ]
     },
     "execution_count": 19,
     "metadata": {},
     "output_type": "execute_result"
    }
   ],
   "source": [
    "per_capita_fitness_from_prey_non_dim(np.arange(1,11,1), 1,1, **params_base.copy())"
   ]
  },
  {
   "cell_type": "code",
   "execution_count": null,
   "id": "d85df77c-418b-429e-8235-de5b52559c8c",
   "metadata": {},
   "outputs": [],
   "source": []
  }
 ],
 "metadata": {
  "kernelspec": {
   "display_name": "Python 3 (ipykernel)",
   "language": "python",
   "name": "python3"
  },
  "language_info": {
   "codemirror_mode": {
    "name": "ipython",
    "version": 3
   },
   "file_extension": ".py",
   "mimetype": "text/x-python",
   "name": "python",
   "nbconvert_exporter": "python",
   "pygments_lexer": "ipython3",
   "version": "3.13.1"
  }
 },
 "nbformat": 4,
 "nbformat_minor": 5
}
