{
 "cells": [
  {
   "cell_type": "markdown",
   "id": "6ecff7bb",
   "metadata": {},
   "source": [
    "# Simulate group size\n",
    "\n",
    "Here we simulate the distribution of group sizes f(x)"
   ]
  },
  {
   "cell_type": "code",
   "execution_count": 1,
   "id": "df3904f2",
   "metadata": {},
   "outputs": [],
   "source": [
    "import numpy as np\n",
    "import scipy as sp\n",
    "import matplotlib.pyplot as plt\n",
    "from scipy.integrate import odeint\n",
    "final_fig_path = \"../Figures/\""
   ]
  },
  {
   "cell_type": "code",
   "execution_count": 44,
   "id": "5fb1dfc3",
   "metadata": {},
   "outputs": [
    {
     "data": {
      "text/plain": [
       "[1, 1]"
      ]
     },
     "execution_count": 44,
     "metadata": {},
     "output_type": "execute_result"
    }
   ],
   "source": [
    "f_of_x_vec.copy()"
   ]
  },
  {
   "cell_type": "code",
   "execution_count": 80,
   "id": "4bfe3867",
   "metadata": {},
   "outputs": [],
   "source": [
    "'''\n",
    "calls fun_dfdt for the different x's\n",
    "params is a dictionary of the parameters\n",
    "'''\n",
    "def group_formation_model(f_of_x_vec,x,p,M1,M2,params):\n",
    "    x_max = params[\"x_max\"]\n",
    "    dfdt = f_of_x_vec.copy() # making vector of same size, what's in it doesn't matter\n",
    "    for x in range(2,x_max+1):\n",
    "        dfdt[x-2] = fun_dfdt(f_of_x_vec, x, p, M1, M2, **params)\n",
    "    return dfdt\n",
    "\n",
    "'''\n",
    "fun_dfdt: This calculates the change in the distribution f(x) wrt time for x >= 2\n",
    "\n",
    "\n",
    "f(x) is the number of groups of size x\n",
    "f_of_x_vec is a vector of f(x) for x = 2, .., x_max.\n",
    "\n",
    "τx df/dt = -xf(x)ϕ(x) - f(1) f(x) ψ(x) - f(x) D(x) \n",
    "            + f(x+1)ϕ(x+1) + sum_{y=x+1}^{x_max} f(y) D(y)\n",
    "            \n",
    "TO-DO: What to do if x = x_max?\n",
    "'''\n",
    "def fun_dfdt(f_of_x_vec, x, p, M1, M2,  τx, δ, x_max, **params):\n",
    "\n",
    "    # get f(x), f(1), and f(x+1)\n",
    "    \n",
    "    def f(y):\n",
    "        # it gets confusing to index f_of_x_vec[0] for f(1), so use this\n",
    "        if y == 1:\n",
    "            return p - sum([z*f(z) for z in range(2,x_max+1)]) # this is recursively designed\n",
    "        if y >= 2 and y <= x_max:\n",
    "            print(f_of_x_vec)\n",
    "            return f_of_x_vec[y-2]\n",
    "        else:\n",
    "            return 0\n",
    "    def D_tot(y):\n",
    "        return fun_1_death(y, τx, δ, **params)\n",
    "    def D(z1,z2):\n",
    "        # probability group of size z2 shrinks to group of size z1 for z1 \\leq x_max  \n",
    "        return fun_death_y_to_x(z1,z2, τx, δ, x_max, **params) if z2 <= x_max else 0\n",
    "    def ϕ(y):\n",
    "        # probability individual leaves group of size y for y <= x_max\n",
    "        return fun_leave_group(y, M1, M2, x_max, **params) if y<= x_max else 0\n",
    "    def ψ(y):\n",
    "        return fun_join_group(y, M1, M2, x_max, **params) if y < x_max else 0\n",
    "    \n",
    "        \n",
    "    individual_leaves = x*f(x) * ϕ(x)\n",
    "    grows_to_larger_group = f(1)*f(x) * ψ(x)\n",
    "    death_in_group = f(x) * D_tot(x)\n",
    "    join_smaller_grp = f(1)*f(x-1)*ψ(x-1)\n",
    "    larger_grp_shrinks = (x+1)*f(x+1)*ϕ(x+1)\n",
    "    death_in_larger_grp = sum([f(y)*D(x,y) for y in range(x+1,x_max+1)])\n",
    "        \n",
    "    #dfdt_times_taux = x*f_of_x*fun_leave_group(x) - \n",
    "    \n",
    "    \n",
    "    return 1/τx * (-individual_leaves - grows_to_larger_group - death_in_group  \n",
    "                  + join_smaller_grp + larger_grp_shrinks + death_in_larger_grp)\n",
    "'''\n",
    "The probability an individual leaves a group of size x.\n",
    "This is ϕ(x) in the text\n",
    "FILL IN\n",
    "'''\n",
    "def fun_leave_group(x, M1, M2, x_max, **params):\n",
    "    return best_response_fun(1,x,M1,M2,**params)\n",
    "\n",
    "'''\n",
    "The probability an individual joins a group of size x.\n",
    "This is ψ(x) in the text\n",
    "FILL IN\n",
    "'''\n",
    "def fun_join_group(x, M1, M2, x_max, **params):\n",
    "    return best_response_fun(x,1,M1,M2,**params)\n",
    "'''\n",
    "Compares W(x) to W(y) to \"decide\" on group size y or x\n",
    "'''\n",
    "def best_response_fun(x,y,M1,M2, d, **params):\n",
    "    W_of_x = fun_fitness(x,M1,M2, **params)\n",
    "    W_of_y = fun_fitness(y, M1, M2, **params)\n",
    "    return W_of_x**d/(W_of_x**d + W_of_y**d)\n",
    "\n",
    "def nchoosek(n,k):\n",
    "    return sp.special.factorial(n)/(sp.special.factorial(k)*sp.special.factorial(n-k))\n",
    "\n",
    "'''\n",
    "The probability a group of size y shrinks to a group of size x because y - x individuals die, \n",
    "# works for for x < y, y <= x_max\n",
    "'''\n",
    "def fun_death_y_to_x(x, y, τx, δ, x_max, **params):\n",
    "    \n",
    "    return nchoosek(y,y-x) * (δ*τx)**(y-x)*(1-δ*τx)**x\n",
    "\n",
    "def fun_1_death(x, τx, δ, **params):\n",
    "    return 1 - (1 - δ*τx)**x\n",
    "\n",
    "\n",
    "'''\n",
    "this is the fitness of being in a group\n",
    "for now we have a sigmoidal function of x multiplied by 1/x, \n",
    "indicating profits of being a group but then sharing\n",
    "'''\n",
    "def fun_fitness(x, M1, M2,b1, b2, r, γ,**params):\n",
    "    wgroup = b1*fun_response(x,M1,M2,1,**params) + b2*fun_response(x,M1,M2,1,**params)\n",
    "    if x > 1:\n",
    "        repro_exchange = (1-γ)*(1-r) + r*x\n",
    "        return 1/x*(wgroup) * repro_exchange\n",
    "    else:\n",
    "        return wgroup\n",
    "    \n",
    "def fun_response(x,M1,M2,index,a1,a2,h1,h2,**params):\n",
    "    α1 = fun_attack_rate(x,1,**params)\n",
    "    α2 = fun_attack_rate(x,2,**params)\n",
    "    if index == 1:\n",
    "        numerator = a1*α1*M1\n",
    "    elif index == 2:\n",
    "        numerator = a2*α2*M2\n",
    "    denominator = 1 + a1*α1*h1*M1 + a2*α2*h2*M2\n",
    "    return numerator/denominator\n",
    "\n",
    "def fun_attack_rate(x, index, θ1, θ2, s1, s2, **params):\n",
    "    if index == 1:\n",
    "        return 1/(1 + np.exp(- θ1 * (x - s1)))\n",
    "    elif index == 2:\n",
    "        return 1/(1 + np.exp(- θ2 * (x - s2)))\n",
    "    "
   ]
  },
  {
   "cell_type": "code",
   "execution_count": 37,
   "id": "5f188234",
   "metadata": {},
   "outputs": [
    {
     "data": {
      "text/plain": [
       "{'c': 1,\n",
       " 'b1': 1,\n",
       " 'b2': 0.5,\n",
       " 'a1': 1,\n",
       " 'a2': 1,\n",
       " 'h1': 1,\n",
       " 'h2': 1,\n",
       " 'θ1': 2,\n",
       " 'θ2': -2,\n",
       " 's1': 2,\n",
       " 's2': 2,\n",
       " 'δ': 0,\n",
       " 'τx': 0.01,\n",
       " 'r': 0.2,\n",
       " 'γ': 0}"
      ]
     },
     "execution_count": 37,
     "metadata": {},
     "output_type": "execute_result"
    }
   ],
   "source": [
    "dict(c=1,**params)"
   ]
  },
  {
   "cell_type": "code",
   "execution_count": 50,
   "id": "3020bd3e",
   "metadata": {},
   "outputs": [],
   "source": [
    "    def f(y):\n",
    "        # it gets confusing to index f_of_x_vec[0] for f(1), so use this\n",
    "        if y == 1:\n",
    "            return p - sum([z*f(z) for z in range(2,x_max+1)]) # this is recursively designed\n",
    "        if y >= 2 and y <= x_max:\n",
    "            return f_of_x_vec[y-2]\n",
    "        else:\n",
    "            return 0"
   ]
  },
  {
   "cell_type": "code",
   "execution_count": 56,
   "id": "21c3e92c",
   "metadata": {},
   "outputs": [
    {
     "data": {
      "text/plain": [
       "10"
      ]
     },
     "execution_count": 56,
     "metadata": {},
     "output_type": "execute_result"
    }
   ],
   "source": [
    "p"
   ]
  },
  {
   "cell_type": "code",
   "execution_count": 55,
   "id": "b58a20c4",
   "metadata": {},
   "outputs": [
    {
     "data": {
      "text/plain": [
       "5"
      ]
     },
     "execution_count": 55,
     "metadata": {},
     "output_type": "execute_result"
    }
   ],
   "source": [
    "f_of_x_vec\n",
    "\n",
    "f(1)"
   ]
  },
  {
   "cell_type": "code",
   "execution_count": 81,
   "id": "10819834",
   "metadata": {},
   "outputs": [
    {
     "data": {
      "text/plain": [
       "0.4895852068395087"
      ]
     },
     "execution_count": 81,
     "metadata": {},
     "output_type": "execute_result"
    }
   ],
   "source": [
    "x0 = 2\n",
    "params = dict(b1=1,b2=0.5,a1 = 1, a2 = 1, h1 = 1,h2 = 1, θ1 = 2, θ2 = -2, s1 = x0, s2 = x0,\n",
    "             δ=0, τx=0.01, r=0.2,γ=0, x_max=3, d = 1)\n",
    "fun_fitness(5,10,11,**params)"
   ]
  },
  {
   "cell_type": "code",
   "execution_count": 72,
   "id": "4a6eb4dc",
   "metadata": {},
   "outputs": [
    {
     "data": {
      "text/plain": [
       "3"
      ]
     },
     "execution_count": 72,
     "metadata": {},
     "output_type": "execute_result"
    }
   ],
   "source": [
    "params[\"x_max\"]"
   ]
  },
  {
   "cell_type": "code",
   "execution_count": 73,
   "id": "0d64995d",
   "metadata": {},
   "outputs": [],
   "source": [
    "p = 10\n",
    "x = 2\n",
    "M1 = 10; M2 = 10\n",
    "f_of_x_vec = [1,1]\n"
   ]
  },
  {
   "cell_type": "code",
   "execution_count": 74,
   "id": "d72677b2",
   "metadata": {},
   "outputs": [
    {
     "data": {
      "text/plain": [
       "10"
      ]
     },
     "execution_count": 74,
     "metadata": {},
     "output_type": "execute_result"
    }
   ],
   "source": [
    "p"
   ]
  },
  {
   "cell_type": "code",
   "execution_count": 82,
   "id": "bac99a44",
   "metadata": {},
   "outputs": [
    {
     "name": "stdout",
     "output_type": "stream",
     "text": [
      "[1, 1]\n",
      "[1, 1]\n",
      "[1, 1]\n",
      "5\n",
      "[1, 1]\n",
      "[1, 1]\n",
      "[1, 1]\n",
      "[1, 1]\n",
      "[1, 1]\n",
      "[1, 1]\n",
      "[1, 1]\n",
      "[1, 1]\n",
      "[1, 1]\n",
      "[1, 1]\n"
     ]
    },
    {
     "data": {
      "text/plain": [
       "902.7494537524975"
      ]
     },
     "execution_count": 82,
     "metadata": {},
     "output_type": "execute_result"
    }
   ],
   "source": [
    "fun_dfdt(f_of_x_vec, 2, p, M1, M2, **params)"
   ]
  },
  {
   "cell_type": "code",
   "execution_count": null,
   "id": "9993e8e9",
   "metadata": {},
   "outputs": [],
   "source": [
    "x_max = 3\n",
    "f_of_x_vec = [0,0]"
   ]
  },
  {
   "cell_type": "code",
   "execution_count": null,
   "id": "65b98540",
   "metadata": {},
   "outputs": [],
   "source": [
    "out = odeint(fun_dfdt,f_of_x_vec,t,args=(x, p, M1, M2, params))"
   ]
  }
 ],
 "metadata": {
  "kernelspec": {
   "display_name": "Python 3 (ipykernel)",
   "language": "python",
   "name": "python3"
  },
  "language_info": {
   "codemirror_mode": {
    "name": "ipython",
    "version": 3
   },
   "file_extension": ".py",
   "mimetype": "text/x-python",
   "name": "python",
   "nbconvert_exporter": "python",
   "pygments_lexer": "ipython3",
   "version": "3.9.13"
  }
 },
 "nbformat": 4,
 "nbformat_minor": 5
}
