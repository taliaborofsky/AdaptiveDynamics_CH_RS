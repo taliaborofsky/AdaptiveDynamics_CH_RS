{
 "cells": [
  {
   "cell_type": "markdown",
   "id": "6ecff7bb",
   "metadata": {},
   "source": [
    "# Simulate group size\n",
    "\n",
    "Here we simulate the distribution of group sizes f(x)"
   ]
  },
  {
   "cell_type": "code",
   "execution_count": 1,
   "id": "df3904f2",
   "metadata": {},
   "outputs": [],
   "source": [
    "import numpy as np\n",
    "import scipy as sp\n",
    "import matplotlib.pyplot as plt\n",
    "from scipy.integrate import odeint\n",
    "final_fig_path = \"../Figures/\""
   ]
  },
  {
   "cell_type": "code",
   "execution_count": 44,
   "id": "0c76ff0f",
   "metadata": {},
   "outputs": [
    {
     "data": {
      "text/plain": [
       "[1, 1]"
      ]
     },
     "execution_count": 44,
     "metadata": {},
     "output_type": "execute_result"
    }
   ],
   "source": [
    "f_of_x_vec.copy()"
   ]
  },
  {
   "cell_type": "code",
   "execution_count": 264,
   "id": "4bfe3867",
   "metadata": {},
   "outputs": [],
   "source": [
    "'''\n",
    "calls fun_dfdt for the different x's\n",
    "params is a dictionary of the parameters\n",
    "'''\n",
    "def group_formation_model(f_of_x_vec,t,p,M1,M2,params):\n",
    "    x_max = params[\"x_max\"]\n",
    "    dfdt = f_of_x_vec.copy() # making vector of same size, what's in it doesn't matter\n",
    "    for x in range(2,x_max+1):\n",
    "        dfdt[x-2] = fun_dfdt(f_of_x_vec, x, p, M1, M2, **params)\n",
    "    return dfdt\n",
    "\n",
    "'''\n",
    "fun_dfdt: This calculates the change in the distribution f(x) wrt time for x >= 2\n",
    "\n",
    "\n",
    "f(x) is the number of groups of size x\n",
    "f_of_x_vec is a vector of f(x) for x = 2, .., x_max.\n",
    "\n",
    "τx df/dt = -xf(x)ϕ(x) - f(1) f(x) ψ(x) - f(x) D(x) \n",
    "            + f(x+1)ϕ(x+1) + sum_{y=x+1}^{x_max} f(y) D(y)\n",
    "            \n",
    "TO-DO: What to do if x = x_max?\n",
    "'''\n",
    "def fun_dfdt(f_of_x_vec, x, p, M1, M2,  τx, δ, x_max, **params):\n",
    "\n",
    "    # get f(x), f(1), and f(x+1)\n",
    "    \n",
    "    def f(y):\n",
    "        if y == 1:\n",
    "            return p - sum([z*f(z) for z in range(2,x_max+1)]) # this is recursively designed\n",
    "        if y >= 2 and y <= x_max:\n",
    "            return f_of_x_vec[y-2]\n",
    "        else:\n",
    "            return 0\n",
    "        #return(fun_f_of_x(y,x_max,**params))\n",
    "\n",
    "    def D_tot(y):\n",
    "        return fun_1_death(y, τx, δ, **params)\n",
    "    def D(z1,z2):\n",
    "        # probability group of size z2 shrinks to group of size z1 for z1 \\leq x_max  \n",
    "        return fun_death_y_to_x(z1,z2, τx, δ, x_max, **params) if z2 <= x_max else 0\n",
    "    def ϕ(y):\n",
    "        # probability individual leaves group of size y for y <= x_max\n",
    "        return fun_leave_group(y, M1, M2, x_max, **params) if y<= x_max else 0\n",
    "    def ψ(y):\n",
    "        return fun_join_group(y, M1, M2, x_max, **params) if y < x_max else 0\n",
    "    \n",
    "        \n",
    "    individual_leaves = x*f(x) * ϕ(x)\n",
    "    grows_to_larger_group = f(1)*f(x) * ψ(x)\n",
    "    death_in_group = f(x) * D_tot(x)\n",
    "    join_smaller_grp = f(1)*f(x-1)*ψ(x-1)\n",
    "    larger_grp_shrinks = (x+1)*f(x+1)*ϕ(x+1)\n",
    "    death_in_larger_grp = sum([f(y)*D(x,y) for y in range(x+1,x_max+1)])\n",
    "        \n",
    "    #dfdt_times_taux = x*f_of_x*fun_leave_group(x) - \n",
    "    \n",
    "    \n",
    "    return 1/τx * (-individual_leaves - grows_to_larger_group - death_in_group  \n",
    "                  + join_smaller_grp + larger_grp_shrinks + death_in_larger_grp)\n",
    "\n",
    "'''\n",
    "\n",
    "'''\n",
    "def fun_f_of_x(y, f_of_x_vec, p, x_max,**params):\n",
    "    if y == 1:\n",
    "            return p - sum([z*f_of_x_vec[z-2] \\\n",
    "                            for z in range(2,x_max+1)]) \n",
    "    if y >= 2 and y <= x_max:\n",
    "        return f_of_x_vec[y-2]\n",
    "    else:\n",
    "        return 0\n",
    "    \n",
    "'''\n",
    "The probability an individual leaves a group of size x.\n",
    "This is ϕ(x) in the text\n",
    "FILL IN\n",
    "'''\n",
    "def fun_leave_group(x, M1, M2, x_max, **params):\n",
    "    return best_response_fun(1,x,M1,M2,**params)\n",
    "\n",
    "'''\n",
    "The probability an individual joins a group of size x.\n",
    "This is ψ(x) in the text\n",
    "FILL IN\n",
    "'''\n",
    "def fun_join_group(x, M1, M2, x_max, **params):\n",
    "    # deciding between being alone or being in a group of size x + 1\n",
    "    return best_response_fun(x+1,1,M1,M2,**params)\n",
    "'''\n",
    "Compares W(x) to W(y) to \"decide\" on group size y or x\n",
    "'''\n",
    "def best_response_fun(x,y,M1,M2, d, **params):\n",
    "    W_of_x = fun_fitness(x,M1,M2, **params)\n",
    "    W_of_y = fun_fitness(y, M1, M2, **params)\n",
    "    return W_of_x**d/(W_of_x**d + W_of_y**d)\n",
    "\n",
    "def nchoosek(n,k):\n",
    "    return sp.special.factorial(n)/(sp.special.factorial(k)*sp.special.factorial(n-k))\n",
    "\n",
    "'''\n",
    "The probability a group of size y shrinks to a group of size x because y - x individuals die, \n",
    "# works for for x < y, y <= x_max\n",
    "'''\n",
    "def fun_death_y_to_x(x, y, τx, δ, x_max, **params):\n",
    "    \n",
    "    return nchoosek(y,y-x) * (δ*τx)**(y-x)*(1-δ*τx)**x\n",
    "\n",
    "def fun_1_death(x, τx, δ, **params):\n",
    "    return 1 - (1 - δ*τx)**x\n",
    "\n",
    "\n",
    "'''\n",
    "this is the fitness of being in a group\n",
    "for now we have a sigmoidal function of x multiplied by 1/x, \n",
    "indicating profits of being a group but then sharing\n",
    "'''\n",
    "def fun_fitness(x, M1, M2,b1, b2, r, γ,**params):\n",
    "    wgroup = b1*fun_response(x,M1,M2,1,**params) + b2*fun_response(x,M1,M2,1,**params)\n",
    "    if x > 1:\n",
    "        repro_exchange = (1-γ)*(1-r) + r*x\n",
    "        return 1/x*(wgroup) * repro_exchange\n",
    "    else:\n",
    "        return wgroup\n",
    "    \n",
    "def fun_response(x,M1,M2,index,a1,a2,h1,h2,**params):\n",
    "    α1 = fun_attack_rate(x,1,**params)\n",
    "    α2 = fun_attack_rate(x,2,**params)\n",
    "    if index == 1:\n",
    "        numerator = a1*α1*M1\n",
    "    elif index == 2:\n",
    "        numerator = a2*α2*M2\n",
    "    denominator = 1 + a1*α1*h1*M1 + a2*α2*h2*M2\n",
    "    return numerator/denominator\n",
    "\n",
    "def fun_attack_rate(x, index, θ1, θ2, s1, s2, **params):\n",
    "    if index == 1:\n",
    "        return 1/(1 + np.exp(- θ1 * (x - s1)))\n",
    "    elif index == 2:\n",
    "        return 1/(1 + np.exp(- θ2 * (x - s2)))\n",
    "    \n",
    "def fun_num_groups(f_of_x_vec,p,x_max):\n",
    "    total = 0\n",
    "    for x in range(1,x_max+1):\n",
    "        total += fun_f_of_x(x, f_of_x_vec, p, x_max,**dict())\n",
    "    return total\n",
    "\n",
    "'''\n",
    "average group size any individual is in\n",
    "this is not the same as the average group size\n",
    "'''\n",
    "def mean_group_size_membership(f_of_x_vec,p,x_max):\n",
    "    total = sum([x**2*fun_f_of_x(x,f_of_x_vec,p,x_max,**dict()) \\\n",
    "                 for x in range(1,x_max+1)])\n",
    "    \n",
    "    return total/p\n",
    "def mean_group_size_membership_not_solitary(f_of_x_vec,p,x_max):\n",
    "    total = sum([x**2*fun_f_of_x(x,f_of_x_vec,p,x_max,**dict()) \\\n",
    "                 for x in range(2,x_max+1)])\n",
    "    \n",
    "    return total/p\n",
    "def mean_group_size(f_of_x_vec,p,x_max):\n",
    "    total = 0\n",
    "    num_grps = 0\n",
    "    for x in range(1,x_max+1):\n",
    "        f_of_x = fun_f_of_x(x, f_of_x_vec, p, x_max,**dict())\n",
    "        total += x * f_of_x\n",
    "        num_grps += f_of_x\n",
    "    return total/num_grps\n",
    "        "
   ]
  },
  {
   "cell_type": "code",
   "execution_count": 267,
   "id": "da7b7f67",
   "metadata": {},
   "outputs": [
    {
     "data": {
      "text/plain": [
       "2"
      ]
     },
     "execution_count": 267,
     "metadata": {},
     "output_type": "execute_result"
    }
   ],
   "source": [
    "x0"
   ]
  },
  {
   "cell_type": "code",
   "execution_count": 278,
   "id": "0d64995d",
   "metadata": {},
   "outputs": [],
   "source": []
  },
  {
   "cell_type": "code",
   "execution_count": 280,
   "id": "dd3b4d97",
   "metadata": {},
   "outputs": [],
   "source": [
    "f_of_1 = fun_f_of_x(1, out[-1], p, **params)\n",
    "f_of_1\n",
    "full_f_vec = [f_of_1, *out[-1]]"
   ]
  },
  {
   "cell_type": "code",
   "execution_count": 315,
   "id": "01318826",
   "metadata": {},
   "outputs": [
    {
     "name": "stdout",
     "output_type": "stream",
     "text": [
      "k\n",
      "r\n",
      "b\n"
     ]
    },
    {
     "data": {
      "text/plain": [
       "<matplotlib.legend.Legend at 0x1600f0d90>"
      ]
     },
     "execution_count": 315,
     "metadata": {},
     "output_type": "execute_result"
    },
    {
     "data": {
      "image/png": "[encoded data removed]",
      "text/plain": [
       "<Figure size 360x360 with 1 Axes>"
      ]
     },
     "metadata": {
      "needs_background": "light"
     },
     "output_type": "display_data"
    }
   ],
   "source": [
    "p = 20\n",
    "M1 = 10; M2 = 10\n",
    "f_of_x_vec = np.zeros(9)\n",
    "params = dict(b1=1,b2=0.5,a1 = 1, a2 = 1, h1 = 2,h2 = 1, θ1 = 2, θ2 = -2, s1 = 2, s2 = 2,\n",
    "             δ=0, τx=0.01, r=0.5,γ=0, x_max=10, d = 2)\n",
    "\n",
    "\n",
    "t = np.arange(0,2,0.02)\n",
    "colors = ['k', 'r', 'b']\n",
    "fig,ax  = plt.subplots(1,1,figsize = (5,5))\n",
    "final_f_of_x = [0,0,0]\n",
    "for i,s in enumerate([1,2,3]):\n",
    "    params[\"s1\"]=s\n",
    "    params[\"s2\"]=s\n",
    "    out = odeint(group_formation_model,f_of_x_vec,t,args=(p, M1, M2, params))\n",
    "    final_f_of_x[i] = out[-1]\n",
    "    f_of_1 = fun_f_of_x(1, out[-1], p, **params)\n",
    "    full_f_vec = [f_of_1, *out[-1]]\n",
    "    print(colors[i])\n",
    "    ax.plot(np.arange(1,11,1),full_f_vec,colors[i], label = 's=%d'%s)\n",
    "ax.set_xlim([0,10])\n",
    "ax.set_xlabel(r'Group Size $x$', fontsize = 20)\n",
    "ax.set_ylabel(r'Num. groups of size $x$, $f(x)$', fontsize = 20)\n",
    "ax.legend(fontsize = 20)\n"
   ]
  },
  {
   "cell_type": "code",
   "execution_count": 318,
   "id": "19e22fc8",
   "metadata": {},
   "outputs": [
    {
     "data": {
      "text/plain": [
       "[2.9131287344876884, 4.8401746153073315, 6.420080288748994]"
      ]
     },
     "execution_count": 318,
     "metadata": {},
     "output_type": "execute_result"
    }
   ],
   "source": [
    "[mean_group_size_membership_not_solitary(f_vec,p=20,x_max=10) for f_vec in final_f_of_x]"
   ]
  },
  {
   "cell_type": "code",
   "execution_count": 323,
   "id": "a9652168",
   "metadata": {},
   "outputs": [],
   "source": [
    "label = r'$\\theta_2=$'+'%d'"
   ]
  },
  {
   "cell_type": "code",
   "execution_count": 325,
   "id": "988cba91",
   "metadata": {},
   "outputs": [
    {
     "data": {
      "text/plain": [
       "'$\\\\theta_2=$0'"
      ]
     },
     "execution_count": 325,
     "metadata": {},
     "output_type": "execute_result"
    }
   ],
   "source": [
    "label %θ2"
   ]
  },
  {
   "cell_type": "code",
   "execution_count": 340,
   "id": "b6387d7a",
   "metadata": {},
   "outputs": [],
   "source": [
    "''' \n",
    "changing a parameter value, but not x_max!!\n",
    "len(param_vec must be 3)\n",
    "example of linelabel: r'$\\theta_2=$'+'%d'\n",
    "param_key may be multiple keys, (the parameter version for big prey and small prey) \n",
    "    if they are being set to the same param value\n",
    "'''\n",
    "def plot_f_of_x(p, M1, M2,param_vec, param_key, linelabel, params, tsteps = 200, t_f = 2):\n",
    "\n",
    "    x_max = params[\"x_max\"]\n",
    "    f_of_x_vec = np.zeros(x_max - 1)\n",
    "    t = np.linspace(0,t_f,tsteps)\n",
    "    colors = ['k','r','b']\n",
    "    fig,ax = plt.subplots(1,1,figsize = (5,5))\n",
    "    final_f_of_x = [0,0,0]\n",
    "    for i, param in enumerate(param_vec):\n",
    "        for pkey in param_key:\n",
    "            params[pkey] = param\n",
    "        out = odeint(group_formation_model,f_of_x_vec,t,args=(p, M1, M2, params))\n",
    "        final_f_of_x[i] = out[-1]\n",
    "        f_of_1 = fun_f_of_x(1, out[-1], p, **params)\n",
    "        full_f_vec = [f_of_1, *out[-1]]\n",
    "        ax.plot(np.arange(1,11,1),full_f_vec,colors[i], label = linelabel %param)\n",
    "    ax.set_xlim([0,x_max])\n",
    "    ax.set_xlabel(r'Group Size $x$', fontsize = 20)\n",
    "    ax.set_ylabel(r'Num. groups of size $x$, $f(x)$', fontsize = 20)\n",
    "    ax.legend(fontsize = 20)\n",
    "    \n",
    "    return fig, ax, [mean_group_size_membership_not_solitary(f_vec,p,x_max) for f_vec in final_f_of_x]"
   ]
  },
  {
   "cell_type": "code",
   "execution_count": 332,
   "id": "3ea5c3b8",
   "metadata": {},
   "outputs": [
    {
     "data": {
      "text/plain": [
       "(<Figure size 360x360 with 1 Axes>,\n",
       " <AxesSubplot:xlabel='Group Size $x$', ylabel='Num. groups of size $x$, $f(x)$'>,\n",
       " [4.915125055922976, 4.72467015385182, 3.7580612991354334])"
      ]
     },
     "execution_count": 332,
     "metadata": {},
     "output_type": "execute_result"
    },
    {
     "data": {
      "image/png": "[encoded data removed]",
      "text/plain": [
       "<Figure size 360x360 with 1 Axes>"
      ]
     },
     "metadata": {
      "needs_background": "light"
     },
     "output_type": "display_data"
    }
   ],
   "source": [
    "p = 20\n",
    "M1 = 10; M2 = 10\n",
    "params = dict(b1=1,b2=0.5,a1 = 1, a2 = 1, h1 = 2,h2 = 1, θ1 = 2, θ2 = -2, s1 = 2, s2 = 2,\n",
    "             δ=0, τx=0.01, r=0.5,γ=0.5, x_max=10, d = 2)\n",
    "\n",
    "\n",
    "\n",
    "\n",
    "\n",
    "param_vec = [-2,-1,0]\n",
    "param_key = \"θ2\"\n",
    "linelabel = r'$\\theta_2=$'+'%d'\n",
    "\n",
    "plot_f_of_x(p, M1, M2,param_vec, param_key, linelabel, params, tsteps = 200, t_f = 2)"
   ]
  },
  {
   "cell_type": "code",
   "execution_count": 341,
   "id": "f8b27b5b",
   "metadata": {},
   "outputs": [
    {
     "data": {
      "text/plain": [
       "(<Figure size 360x360 with 1 Axes>,\n",
       " <AxesSubplot:xlabel='Group Size $x$', ylabel='Num. groups of size $x$, $f(x)$'>,\n",
       " [2.820899276983032, 4.915125055922976, 6.788381284843988])"
      ]
     },
     "execution_count": 341,
     "metadata": {},
     "output_type": "execute_result"
    },
    {
     "data": {
      "image/png": "[encoded data removed]",
      "text/plain": [
       "<Figure size 360x360 with 1 Axes>"
      ]
     },
     "metadata": {
      "needs_background": "light"
     },
     "output_type": "display_data"
    }
   ],
   "source": [
    "p = 20\n",
    "M1 = 10; M2 = 10\n",
    "params = dict(b1=1,b2=0.5,a1 = 1, a2 = 1, h1 = 2,h2 = 1, θ1 = 2, θ2 = -2, s1 = 2, s2 = 2,\n",
    "             δ=0, τx=0.01, r=0.5,γ=0.5, x_max=10, d = 2)\n",
    "\n",
    "param_vec = [1,2,3]\n",
    "param_key = [\"s1\", \"s2\"]\n",
    "linelabel = r'$s=$'+'%d'\n",
    "\n",
    "plot_f_of_x(p, M1, M2,param_vec, param_key, linelabel, params, tsteps = 200, t_f = 2)"
   ]
  },
  {
   "cell_type": "code",
   "execution_count": 343,
   "id": "64e9d176",
   "metadata": {},
   "outputs": [],
   "source": [
    "def mean_grp_membership_versus_param(p, M1, M2,param_vec, param_key, params, tsteps = 200, t_f = 2):\n",
    "\n",
    "    x_max = params[\"x_max\"]\n",
    "    f_of_x_vec = np.zeros(x_max - 1)\n",
    "    t = np.linspace(0,t_f,tsteps)\n",
    "    final_f_of_x = [0,0,0]\n",
    "    for i, param in enumerate(param_vec):\n",
    "        for pkey in param_key:\n",
    "            params[pkey] = param\n",
    "        out = odeint(group_formation_model,f_of_x_vec,t,args=(p, M1, M2, params))\n",
    "        final_f_of_x[i] = out[-1]\n",
    "\n",
    "\n",
    "    \n",
    "    return np.array([mean_group_size_membership_not_solitary(f_vec,p,x_max) for f_vec in final_f_of_x])"
   ]
  },
  {
   "cell_type": "code",
   "execution_count": null,
   "id": "436f5f97",
   "metadata": {},
   "outputs": [],
   "source": [
    "p = 20; M1 = 10; M2 = 10\n",
    "params = dict(b1=1,b2=0.5,a1 = 1, a2 = 1, h1 = 2,h2 = 1, θ1 = 2, θ2 = -2, s1 = 2, s2 = 2,\n",
    "             δ=0, τx=0.01, r=0.5,γ=0.5, x_max=10, d = 2)\n",
    "\n",
    "param_key = \"θ2\""
   ]
  }
 ],
 "metadata": {
  "kernelspec": {
   "display_name": "Python 3 (ipykernel)",
   "language": "python",
   "name": "python3"
  },
  "language_info": {
   "codemirror_mode": {
    "name": "ipython",
    "version": 3
   },
   "file_extension": ".py",
   "mimetype": "text/x-python",
   "name": "python",
   "nbconvert_exporter": "python",
   "pygments_lexer": "ipython3",
   "version": "3.9.13"
  }
 },
 "nbformat": 4,
 "nbformat_minor": 5
}
