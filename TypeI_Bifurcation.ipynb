{
 "cells": [
  {
   "cell_type": "code",
   "execution_count": 1,
   "id": "2a95853d-5086-43f4-b158-1a4167565dd6",
   "metadata": {},
   "outputs": [],
   "source": [
    "import numpy as np\n",
    "import matplotlib.pyplot as plt\n",
    "final_fig_path = \"../CH_Manuscript/Figures/\"\n",
    "import sys\n",
    "sys.path.insert(1, 'Functions')\n",
    "from fitness_funs_non_dim import *\n",
    "from group_w_pop_funs import *\n",
    "from local_stability_funs import *\n",
    "from scipy.integrate import solve_ivp\n",
    "from sim_graph_funs import *\n",
    "figureops = dict(bbox_inches = 'tight', dpi = 600)\n",
    "colors_x = ['k', 'b', 'r', 'm']"
   ]
  },
  {
   "cell_type": "code",
   "execution_count": 2,
   "id": "866e9b52-4dd1-4a98-8560-e24e8f2ce89b",
   "metadata": {},
   "outputs": [],
   "source": [
    "β1vec = np.arange(1,10,0.2)\n",
    "\n",
    "def search_equilibria(**params):\n",
    "    '''\n",
    "    search for equilibria\n",
    "    '''\n",
    "    \n",
    "    num_initial = 20\n",
    "    inital_points = get_initial_points(num_initial,**params)\n",
    "\n",
    "    x_max = params['x_max']\n",
    "    return 1\n",
    "\n",
    "def get_initial_points(num_initial, A, η1, η2,  x_max, H1, H2,**params):\n",
    "    α2_1 = params['α2_of_1']\n",
    "    α1_xm = fun_alpha1(x_max, **params)\n",
    "    gx_upper = np.min([\n",
    "        η1 * (1 + α1_xm * H1) / α1_xm, \n",
    "        η2 * (1 + α2_1 * H2) / α2_1\n",
    "    ]) / (A * x_max)\n",
    "    # Generate random values for N1, N2, and g(x) for each initial point\n",
    "    np.random.seed(42)\n",
    "    \n",
    "    # N1 and N2 are between 0 and 1\n",
    "    N1_values = np.random.uniform(0, 1, num_initial)  # Shape: (num_initial,)\n",
    "    N2_values = np.random.uniform(0, 1, num_initial)  # Shape: (num_initial,)\n",
    "    # g(x) is between 0 and gx_upper for each x = 1, 2, ..., x_max\n",
    "    g_values = np.random.uniform(0, gx_upper, (num_initial, x_max))  # Shape: (num_initial, x_max)\n",
    "    # Combine N1, N2, and g(x) into a single array\n",
    "    initial_points = np.hstack((N1_values[:, np.newaxis],  # Add N1 as the first column\n",
    "                                N2_values[:, np.newaxis],  # Add N2 as the second column\n",
    "                                g_values))  # Add g(x) as the remaining columns\n",
    "    # Store the values in the initial_points matrix\n",
    "    initial_points[i, 0] = N1  # First column is N1\n",
    "    initial_points[i, 1] = N2  # Second column is N2\n",
    "    initial_points[i, 2:] = g_values  # Remaining columns are g(1), g(2), ..., g(x_max)\n",
    "    \n",
    "    return inital_points\n",
    "\n",
    "    # initiate N1\n",
    "   "
   ]
  },
  {
   "cell_type": "code",
   "execution_count": 9,
   "id": "cf93507a-6a0d-4549-b49f-d12c4224b6f4",
   "metadata": {},
   "outputs": [],
   "source": [
    "num_initial = 10\n",
    "N1_values = np.random.uniform(0, 1, num_initial)  # Shape: (num_initial,)\n",
    "N2_values = np.random.uniform(0, 1, num_initial)\n",
    "gx_upper = 1\n",
    "x_max = 10\n",
    "g_values = np.random.uniform(0, gx_upper, (num_initial, x_max))  # Shape: (num_initial, x_max)"
   ]
  },
  {
   "cell_type": "code",
   "execution_count": 10,
   "id": "81d612ec-00c8-419d-873d-9c1c0d769dbb",
   "metadata": {},
   "outputs": [],
   "source": [
    "    initial_points = np.hstack((N1_values[:, np.newaxis],  # Add N1 as the first column\n",
    "                                N2_values[:, np.newaxis],  # Add N2 as the second column\n",
    "                                g_values))  # Add g(x) as the remaining columns"
   ]
  },
  {
   "cell_type": "code",
   "execution_count": 11,
   "id": "f16a8408-dc91-4da2-a475-733a57181410",
   "metadata": {},
   "outputs": [
    {
     "data": {
      "text/plain": [
       "array([[0.13905348, 0.21776426, 0.35743241, 0.73112181, 0.09310816,\n",
       "        0.91665313, 0.67230756, 0.58768687, 0.82399927, 0.92592306,\n",
       "        0.07768965, 0.80916492],\n",
       "       [0.20915766, 0.72154784, 0.62207297, 0.72000205, 0.27523373,\n",
       "        0.89166355, 0.28426668, 0.60508741, 0.16185789, 0.41695741,\n",
       "        0.96802312, 0.95572721],\n",
       "       [0.85654959, 0.70113651, 0.78012045, 0.15433558, 0.24615789,\n",
       "        0.37761587, 0.16797109, 0.89256428, 0.44547212, 0.47712326,\n",
       "        0.4772136 , 0.73275584],\n",
       "       [0.07982733, 0.99576069, 0.45167531, 0.33123952, 0.26241432,\n",
       "        0.66279162, 0.7964743 , 0.75376503, 0.4411495 , 0.39260659,\n",
       "        0.53556179, 0.55528228],\n",
       "       [0.92461733, 0.69157874, 0.54024889, 0.28460124, 0.33659654,\n",
       "        0.26055372, 0.21582682, 0.95136346, 0.39077334, 0.15288086,\n",
       "        0.19544718, 0.5693397 ],\n",
       "       [0.28949342, 0.4684703 , 0.51326529, 0.6429784 , 0.16886581,\n",
       "        0.77524987, 0.59885346, 0.93398947, 0.39037957, 0.35340756,\n",
       "        0.77266901, 0.86744114],\n",
       "       [0.84008118, 0.05001409, 0.35481403, 0.4163788 , 0.79889303,\n",
       "        0.71592582, 0.47680464, 0.62872693, 0.97293376, 0.11038202,\n",
       "        0.10478205, 0.50593493],\n",
       "       [0.06344609, 0.57666241, 0.12885025, 0.44334141, 0.35375607,\n",
       "        0.35906086, 0.50301936, 0.54946303, 0.70638136, 0.60061363,\n",
       "        0.61969044, 0.23027755],\n",
       "       [0.12643184, 0.85576424, 0.64167259, 0.16454951, 0.48154785,\n",
       "        0.35771726, 0.36987456, 0.35780518, 0.28031551, 0.73457203,\n",
       "        0.5664753 , 0.24093678],\n",
       "       [0.96036338, 0.66900977, 0.93760193, 0.50532219, 0.75843926,\n",
       "        0.57888601, 0.75237291, 0.09562629, 0.65060544, 0.37469256,\n",
       "        0.41185771, 0.37531354]])"
      ]
     },
     "execution_count": 11,
     "metadata": {},
     "output_type": "execute_result"
    }
   ],
   "source": [
    "initial_points"
   ]
  },
  {
   "cell_type": "code",
   "execution_count": 8,
   "id": "952bfd51-37a2-4be9-970a-41087c3f0219",
   "metadata": {},
   "outputs": [],
   "source": []
  },
  {
   "cell_type": "code",
   "execution_count": null,
   "id": "49cf87b1-a34e-478a-b1d4-abe74c60cd42",
   "metadata": {},
   "outputs": [],
   "source": []
  }
 ],
 "metadata": {
  "kernelspec": {
   "display_name": "Python 3 (ipykernel)",
   "language": "python",
   "name": "python3"
  },
  "language_info": {
   "codemirror_mode": {
    "name": "ipython",
    "version": 3
   },
   "file_extension": ".py",
   "mimetype": "text/x-python",
   "name": "python",
   "nbconvert_exporter": "python",
   "pygments_lexer": "ipython3",
   "version": "3.9.6"
  }
 },
 "nbformat": 4,
 "nbformat_minor": 5
}
